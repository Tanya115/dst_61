{
 "cells": [
  {
   "cell_type": "code",
   "execution_count": 1,
   "metadata": {
    "ExecuteTime": {
     "end_time": "2022-04-21T23:44:27.447157Z",
     "start_time": "2022-04-21T23:44:27.437500Z"
    }
   },
   "outputs": [],
   "source": [
    "import pandas as pd\n",
    "import seaborn as sns\n",
    "import numpy as np\n",
    "import matplotlib.pyplot as plt\n",
    "import plotly\n",
    "import re\n",
    "import json\n",
    "\n",
    "import warnings\n",
    "warnings.filterwarnings(\"ignore\")\n",
    "\n",
    "pd.set_option('display.max_columns', 500)"
   ]
  },
  {
   "cell_type": "markdown",
   "metadata": {},
   "source": [
    "# Данные"
   ]
  },
  {
   "cell_type": "code",
   "execution_count": 2,
   "metadata": {
    "ExecuteTime": {
     "end_time": "2022-04-21T23:44:31.196574Z",
     "start_time": "2022-04-21T23:44:27.452274Z"
    }
   },
   "outputs": [],
   "source": [
    "df = pd.read_csv('data.csv')"
   ]
  },
  {
   "cell_type": "code",
   "execution_count": 3,
   "metadata": {
    "ExecuteTime": {
     "end_time": "2022-04-21T23:44:31.214074Z",
     "start_time": "2022-04-21T23:44:31.197368Z"
    }
   },
   "outputs": [
    {
     "data": {
      "text/html": [
       "<div>\n",
       "<style scoped>\n",
       "    .dataframe tbody tr th:only-of-type {\n",
       "        vertical-align: middle;\n",
       "    }\n",
       "\n",
       "    .dataframe tbody tr th {\n",
       "        vertical-align: top;\n",
       "    }\n",
       "\n",
       "    .dataframe thead th {\n",
       "        text-align: right;\n",
       "    }\n",
       "</style>\n",
       "<table border=\"1\" class=\"dataframe\">\n",
       "  <thead>\n",
       "    <tr style=\"text-align: right;\">\n",
       "      <th></th>\n",
       "      <th>status</th>\n",
       "      <th>private pool</th>\n",
       "      <th>propertyType</th>\n",
       "      <th>street</th>\n",
       "      <th>baths</th>\n",
       "      <th>homeFacts</th>\n",
       "      <th>fireplace</th>\n",
       "      <th>city</th>\n",
       "      <th>schools</th>\n",
       "      <th>sqft</th>\n",
       "      <th>zipcode</th>\n",
       "      <th>beds</th>\n",
       "      <th>state</th>\n",
       "      <th>stories</th>\n",
       "      <th>mls-id</th>\n",
       "      <th>PrivatePool</th>\n",
       "      <th>MlsId</th>\n",
       "      <th>target</th>\n",
       "    </tr>\n",
       "  </thead>\n",
       "  <tbody>\n",
       "    <tr>\n",
       "      <th>354596</th>\n",
       "      <td>For sale</td>\n",
       "      <td>NaN</td>\n",
       "      <td>Condo</td>\n",
       "      <td>817 3rd Ave N UNIT 309</td>\n",
       "      <td>2</td>\n",
       "      <td>{'atAGlanceFacts': [{'factValue': '2008', 'fac...</td>\n",
       "      <td>NaN</td>\n",
       "      <td>Nashville</td>\n",
       "      <td>[{'rating': ['1/10', '2/10', '3/10'], 'data': ...</td>\n",
       "      <td>1,010</td>\n",
       "      <td>37201</td>\n",
       "      <td>2</td>\n",
       "      <td>TN</td>\n",
       "      <td>1.0</td>\n",
       "      <td>NaN</td>\n",
       "      <td>NaN</td>\n",
       "      <td>2096442</td>\n",
       "      <td>$367,500</td>\n",
       "    </tr>\n",
       "    <tr>\n",
       "      <th>305406</th>\n",
       "      <td>Active</td>\n",
       "      <td>NaN</td>\n",
       "      <td>Single Family Home</td>\n",
       "      <td>8426 Terrace Valley Circle</td>\n",
       "      <td>3</td>\n",
       "      <td>{'atAGlanceFacts': [{'factValue': '', 'factLab...</td>\n",
       "      <td>NaN</td>\n",
       "      <td>Richmond</td>\n",
       "      <td>[{'rating': ['8', '7', '5', '6', '9', '4', 'NR...</td>\n",
       "      <td>2,729</td>\n",
       "      <td>77407</td>\n",
       "      <td>4.0</td>\n",
       "      <td>TX</td>\n",
       "      <td>NaN</td>\n",
       "      <td>NaN</td>\n",
       "      <td>NaN</td>\n",
       "      <td>161733538</td>\n",
       "      <td>$369,990</td>\n",
       "    </tr>\n",
       "    <tr>\n",
       "      <th>55984</th>\n",
       "      <td>for sale</td>\n",
       "      <td>NaN</td>\n",
       "      <td>single-family home</td>\n",
       "      <td>6719 Brompton Rd</td>\n",
       "      <td>2 Baths</td>\n",
       "      <td>{'atAGlanceFacts': [{'factValue': '1940', 'fac...</td>\n",
       "      <td>yes</td>\n",
       "      <td>Houston</td>\n",
       "      <td>[{'rating': ['6/10', '7/10', '10/10'], 'data':...</td>\n",
       "      <td>2,269 sqft</td>\n",
       "      <td>77005</td>\n",
       "      <td>3 Beds</td>\n",
       "      <td>TX</td>\n",
       "      <td>2.0</td>\n",
       "      <td>NaN</td>\n",
       "      <td>NaN</td>\n",
       "      <td>42218067</td>\n",
       "      <td>$859,000</td>\n",
       "    </tr>\n",
       "  </tbody>\n",
       "</table>\n",
       "</div>"
      ],
      "text/plain": [
       "          status private pool        propertyType                      street  \\\n",
       "354596  For sale          NaN               Condo      817 3rd Ave N UNIT 309   \n",
       "305406    Active          NaN  Single Family Home  8426 Terrace Valley Circle   \n",
       "55984   for sale          NaN  single-family home            6719 Brompton Rd   \n",
       "\n",
       "          baths                                          homeFacts fireplace  \\\n",
       "354596        2  {'atAGlanceFacts': [{'factValue': '2008', 'fac...       NaN   \n",
       "305406        3  {'atAGlanceFacts': [{'factValue': '', 'factLab...       NaN   \n",
       "55984   2 Baths  {'atAGlanceFacts': [{'factValue': '1940', 'fac...       yes   \n",
       "\n",
       "             city                                            schools  \\\n",
       "354596  Nashville  [{'rating': ['1/10', '2/10', '3/10'], 'data': ...   \n",
       "305406   Richmond  [{'rating': ['8', '7', '5', '6', '9', '4', 'NR...   \n",
       "55984     Houston  [{'rating': ['6/10', '7/10', '10/10'], 'data':...   \n",
       "\n",
       "              sqft zipcode    beds state stories mls-id PrivatePool  \\\n",
       "354596       1,010   37201       2    TN     1.0    NaN         NaN   \n",
       "305406       2,729   77407     4.0    TX     NaN    NaN         NaN   \n",
       "55984   2,269 sqft   77005  3 Beds    TX     2.0    NaN         NaN   \n",
       "\n",
       "            MlsId    target  \n",
       "354596    2096442  $367,500  \n",
       "305406  161733538  $369,990  \n",
       "55984    42218067  $859,000  "
      ]
     },
     "execution_count": 3,
     "metadata": {},
     "output_type": "execute_result"
    }
   ],
   "source": [
    "df.sample(3)"
   ]
  },
  {
   "cell_type": "code",
   "execution_count": 4,
   "metadata": {
    "ExecuteTime": {
     "end_time": "2022-04-21T23:44:31.448384Z",
     "start_time": "2022-04-21T23:44:31.216234Z"
    }
   },
   "outputs": [
    {
     "name": "stdout",
     "output_type": "stream",
     "text": [
      "<class 'pandas.core.frame.DataFrame'>\n",
      "RangeIndex: 377185 entries, 0 to 377184\n",
      "Data columns (total 18 columns):\n",
      " #   Column        Non-Null Count   Dtype \n",
      "---  ------        --------------   ----- \n",
      " 0   status        337267 non-null  object\n",
      " 1   private pool  4181 non-null    object\n",
      " 2   propertyType  342452 non-null  object\n",
      " 3   street        377183 non-null  object\n",
      " 4   baths         270847 non-null  object\n",
      " 5   homeFacts     377185 non-null  object\n",
      " 6   fireplace     103115 non-null  object\n",
      " 7   city          377151 non-null  object\n",
      " 8   schools       377185 non-null  object\n",
      " 9   sqft          336608 non-null  object\n",
      " 10  zipcode       377185 non-null  object\n",
      " 11  beds          285903 non-null  object\n",
      " 12  state         377185 non-null  object\n",
      " 13  stories       226470 non-null  object\n",
      " 14  mls-id        24942 non-null   object\n",
      " 15  PrivatePool   40311 non-null   object\n",
      " 16  MlsId         310305 non-null  object\n",
      " 17  target        374704 non-null  object\n",
      "dtypes: object(18)\n",
      "memory usage: 51.8+ MB\n"
     ]
    }
   ],
   "source": [
    "df.info()"
   ]
  },
  {
   "cell_type": "code",
   "execution_count": 5,
   "metadata": {
    "ExecuteTime": {
     "end_time": "2022-04-21T23:44:32.631530Z",
     "start_time": "2022-04-21T23:44:31.449383Z"
    }
   },
   "outputs": [
    {
     "data": {
      "text/html": [
       "<div>\n",
       "<style scoped>\n",
       "    .dataframe tbody tr th:only-of-type {\n",
       "        vertical-align: middle;\n",
       "    }\n",
       "\n",
       "    .dataframe tbody tr th {\n",
       "        vertical-align: top;\n",
       "    }\n",
       "\n",
       "    .dataframe thead th {\n",
       "        text-align: right;\n",
       "    }\n",
       "</style>\n",
       "<table border=\"1\" class=\"dataframe\">\n",
       "  <thead>\n",
       "    <tr style=\"text-align: right;\">\n",
       "      <th></th>\n",
       "      <th>status</th>\n",
       "      <th>private pool</th>\n",
       "      <th>propertyType</th>\n",
       "      <th>street</th>\n",
       "      <th>baths</th>\n",
       "      <th>homeFacts</th>\n",
       "      <th>fireplace</th>\n",
       "      <th>city</th>\n",
       "      <th>schools</th>\n",
       "      <th>sqft</th>\n",
       "      <th>zipcode</th>\n",
       "      <th>beds</th>\n",
       "      <th>state</th>\n",
       "      <th>stories</th>\n",
       "      <th>mls-id</th>\n",
       "      <th>PrivatePool</th>\n",
       "      <th>MlsId</th>\n",
       "      <th>target</th>\n",
       "    </tr>\n",
       "  </thead>\n",
       "  <tbody>\n",
       "    <tr>\n",
       "      <th>count</th>\n",
       "      <td>337267</td>\n",
       "      <td>4181</td>\n",
       "      <td>342452</td>\n",
       "      <td>377183</td>\n",
       "      <td>270847</td>\n",
       "      <td>377185</td>\n",
       "      <td>103115</td>\n",
       "      <td>377151</td>\n",
       "      <td>377185</td>\n",
       "      <td>336608</td>\n",
       "      <td>377185</td>\n",
       "      <td>285903</td>\n",
       "      <td>377185</td>\n",
       "      <td>226470</td>\n",
       "      <td>24942</td>\n",
       "      <td>40311</td>\n",
       "      <td>310305</td>\n",
       "      <td>374704</td>\n",
       "    </tr>\n",
       "    <tr>\n",
       "      <th>unique</th>\n",
       "      <td>159</td>\n",
       "      <td>1</td>\n",
       "      <td>1280</td>\n",
       "      <td>337076</td>\n",
       "      <td>229</td>\n",
       "      <td>321009</td>\n",
       "      <td>1653</td>\n",
       "      <td>2026</td>\n",
       "      <td>297365</td>\n",
       "      <td>25405</td>\n",
       "      <td>4549</td>\n",
       "      <td>1184</td>\n",
       "      <td>39</td>\n",
       "      <td>348</td>\n",
       "      <td>24907</td>\n",
       "      <td>2</td>\n",
       "      <td>232944</td>\n",
       "      <td>43939</td>\n",
       "    </tr>\n",
       "    <tr>\n",
       "      <th>top</th>\n",
       "      <td>for sale</td>\n",
       "      <td>Yes</td>\n",
       "      <td>single-family home</td>\n",
       "      <td>Address Not Disclosed</td>\n",
       "      <td>2 Baths</td>\n",
       "      <td>{'atAGlanceFacts': [{'factValue': '', 'factLab...</td>\n",
       "      <td>yes</td>\n",
       "      <td>Houston</td>\n",
       "      <td>[{'rating': [], 'data': {'Distance': [], 'Grad...</td>\n",
       "      <td>0</td>\n",
       "      <td>32137</td>\n",
       "      <td>3 Beds</td>\n",
       "      <td>FL</td>\n",
       "      <td>1.0</td>\n",
       "      <td>No</td>\n",
       "      <td>yes</td>\n",
       "      <td>NO MLS</td>\n",
       "      <td>$225,000</td>\n",
       "    </tr>\n",
       "    <tr>\n",
       "      <th>freq</th>\n",
       "      <td>156104</td>\n",
       "      <td>4181</td>\n",
       "      <td>92206</td>\n",
       "      <td>672</td>\n",
       "      <td>52466</td>\n",
       "      <td>7174</td>\n",
       "      <td>50356</td>\n",
       "      <td>24442</td>\n",
       "      <td>4204</td>\n",
       "      <td>11854</td>\n",
       "      <td>2141</td>\n",
       "      <td>53459</td>\n",
       "      <td>115449</td>\n",
       "      <td>67454</td>\n",
       "      <td>3</td>\n",
       "      <td>28793</td>\n",
       "      <td>24</td>\n",
       "      <td>1462</td>\n",
       "    </tr>\n",
       "  </tbody>\n",
       "</table>\n",
       "</div>"
      ],
      "text/plain": [
       "          status private pool        propertyType                 street  \\\n",
       "count     337267         4181              342452                 377183   \n",
       "unique       159            1                1280                 337076   \n",
       "top     for sale          Yes  single-family home  Address Not Disclosed   \n",
       "freq      156104         4181               92206                    672   \n",
       "\n",
       "          baths                                          homeFacts fireplace  \\\n",
       "count    270847                                             377185    103115   \n",
       "unique      229                                             321009      1653   \n",
       "top     2 Baths  {'atAGlanceFacts': [{'factValue': '', 'factLab...       yes   \n",
       "freq      52466                                               7174     50356   \n",
       "\n",
       "           city                                            schools    sqft  \\\n",
       "count    377151                                             377185  336608   \n",
       "unique     2026                                             297365   25405   \n",
       "top     Houston  [{'rating': [], 'data': {'Distance': [], 'Grad...       0   \n",
       "freq      24442                                               4204   11854   \n",
       "\n",
       "       zipcode    beds   state stories mls-id PrivatePool   MlsId    target  \n",
       "count   377185  285903  377185  226470  24942       40311  310305    374704  \n",
       "unique    4549    1184      39     348  24907           2  232944     43939  \n",
       "top      32137  3 Beds      FL     1.0    No          yes  NO MLS  $225,000  \n",
       "freq      2141   53459  115449   67454      3       28793      24      1462  "
      ]
     },
     "execution_count": 5,
     "metadata": {},
     "output_type": "execute_result"
    }
   ],
   "source": [
    "df.describe()"
   ]
  },
  {
   "cell_type": "markdown",
   "metadata": {},
   "source": [
    "Как видим, у нас очень много мусора в данных: пропуски, строковые значения в численных столбцах и пр. Рассмотрим каждый столбец по отдельности и поймем что с ним делать."
   ]
  },
  {
   "cell_type": "markdown",
   "metadata": {},
   "source": [
    "# Посмотрим отдельно на каждую колонку"
   ]
  },
  {
   "cell_type": "code",
   "execution_count": 6,
   "metadata": {
    "ExecuteTime": {
     "end_time": "2022-04-21T23:44:32.634482Z",
     "start_time": "2022-04-21T23:44:32.632457Z"
    }
   },
   "outputs": [],
   "source": [
    "def show_col_info(colname):\n",
    "    print(f'Колонка - {colname}')\n",
    "    print('Кол-во пропусков:', df[colname].isna().sum())\n",
    "    print('Кол-во уникальных значений:', df[colname].nunique())"
   ]
  },
  {
   "cell_type": "markdown",
   "metadata": {},
   "source": [
    "## Колонка \"target\"\n",
    "\n",
    "В первую очередь посмотрим на наш таргет сразу выбросим то, что нерелевантно."
   ]
  },
  {
   "cell_type": "markdown",
   "metadata": {},
   "source": [
    "Сразу удалим те записи, в которых у нас отсутвует target"
   ]
  },
  {
   "cell_type": "code",
   "execution_count": 7,
   "metadata": {
    "ExecuteTime": {
     "end_time": "2022-04-21T23:44:32.699242Z",
     "start_time": "2022-04-21T23:44:32.635190Z"
    }
   },
   "outputs": [],
   "source": [
    "df = df[df['target'].notna()]"
   ]
  },
  {
   "cell_type": "markdown",
   "metadata": {},
   "source": [
    "Почистим сами значения"
   ]
  },
  {
   "cell_type": "code",
   "execution_count": 8,
   "metadata": {
    "ExecuteTime": {
     "end_time": "2022-04-21T23:44:32.962709Z",
     "start_time": "2022-04-21T23:44:32.700133Z"
    }
   },
   "outputs": [],
   "source": [
    "df['target'] = df['target'].str.replace('$', '')\n",
    "df['target'] = df['target'].str.replace(',', '')\n",
    "df['target'] = df['target'].str.replace('+', '')"
   ]
  },
  {
   "cell_type": "code",
   "execution_count": 9,
   "metadata": {
    "ExecuteTime": {
     "end_time": "2022-04-21T23:44:32.965912Z",
     "start_time": "2022-04-21T23:44:32.963808Z"
    }
   },
   "outputs": [],
   "source": [
    "def clear_target(x):\n",
    "    try:\n",
    "        return int(x)\n",
    "    except:\n",
    "        return 'DATA PROBLEM'"
   ]
  },
  {
   "cell_type": "code",
   "execution_count": 10,
   "metadata": {
    "ExecuteTime": {
     "end_time": "2022-04-21T23:44:33.055825Z",
     "start_time": "2022-04-21T23:44:32.968801Z"
    }
   },
   "outputs": [],
   "source": [
    "df['target_cleared'] = [clear_target(x) for x in df['target']]"
   ]
  },
  {
   "cell_type": "code",
   "execution_count": 11,
   "metadata": {
    "ExecuteTime": {
     "end_time": "2022-04-21T23:44:33.128828Z",
     "start_time": "2022-04-21T23:44:33.056706Z"
    }
   },
   "outputs": [
    {
     "data": {
      "text/html": [
       "<div>\n",
       "<style scoped>\n",
       "    .dataframe tbody tr th:only-of-type {\n",
       "        vertical-align: middle;\n",
       "    }\n",
       "\n",
       "    .dataframe tbody tr th {\n",
       "        vertical-align: top;\n",
       "    }\n",
       "\n",
       "    .dataframe thead th {\n",
       "        text-align: right;\n",
       "    }\n",
       "</style>\n",
       "<table border=\"1\" class=\"dataframe\">\n",
       "  <thead>\n",
       "    <tr style=\"text-align: right;\">\n",
       "      <th></th>\n",
       "      <th>target</th>\n",
       "    </tr>\n",
       "  </thead>\n",
       "  <tbody>\n",
       "    <tr>\n",
       "      <th>187616</th>\n",
       "      <td>950/mo</td>\n",
       "    </tr>\n",
       "    <tr>\n",
       "      <th>249902</th>\n",
       "      <td>2300/mo</td>\n",
       "    </tr>\n",
       "    <tr>\n",
       "      <th>118278</th>\n",
       "      <td>1350/mo</td>\n",
       "    </tr>\n",
       "    <tr>\n",
       "      <th>109643</th>\n",
       "      <td>4795/mo</td>\n",
       "    </tr>\n",
       "    <tr>\n",
       "      <th>292918</th>\n",
       "      <td>2300/mo</td>\n",
       "    </tr>\n",
       "  </tbody>\n",
       "</table>\n",
       "</div>"
      ],
      "text/plain": [
       "         target\n",
       "187616   950/mo\n",
       "249902  2300/mo\n",
       "118278  1350/mo\n",
       "109643  4795/mo\n",
       "292918  2300/mo"
      ]
     },
     "execution_count": 11,
     "metadata": {},
     "output_type": "execute_result"
    }
   ],
   "source": [
    "df[df['target_cleared'] == 'DATA PROBLEM'][['target']].sample(5)"
   ]
  },
  {
   "cell_type": "markdown",
   "metadata": {},
   "source": [
    "Как видим, остались только \"помесячные\" - их мы удалим."
   ]
  },
  {
   "cell_type": "code",
   "execution_count": 12,
   "metadata": {
    "ExecuteTime": {
     "end_time": "2022-04-21T23:44:33.240212Z",
     "start_time": "2022-04-21T23:44:33.129703Z"
    }
   },
   "outputs": [],
   "source": [
    "df = df[df['target_cleared'] != 'DATA PROBLEM']\n",
    "df['target'] = df['target_cleared'] \n",
    "df = df.drop(columns='target_cleared')"
   ]
  },
  {
   "cell_type": "code",
   "execution_count": 13,
   "metadata": {
    "ExecuteTime": {
     "end_time": "2022-04-21T23:44:33.285270Z",
     "start_time": "2022-04-21T23:44:33.241372Z"
    }
   },
   "outputs": [],
   "source": [
    "df['target'] = df['target'].astype(int)"
   ]
  },
  {
   "cell_type": "code",
   "execution_count": 14,
   "metadata": {
    "ExecuteTime": {
     "end_time": "2022-04-21T23:44:33.301497Z",
     "start_time": "2022-04-21T23:44:33.286525Z"
    }
   },
   "outputs": [
    {
     "data": {
      "text/html": [
       "<div>\n",
       "<style scoped>\n",
       "    .dataframe tbody tr th:only-of-type {\n",
       "        vertical-align: middle;\n",
       "    }\n",
       "\n",
       "    .dataframe tbody tr th {\n",
       "        vertical-align: top;\n",
       "    }\n",
       "\n",
       "    .dataframe thead th {\n",
       "        text-align: right;\n",
       "    }\n",
       "</style>\n",
       "<table border=\"1\" class=\"dataframe\">\n",
       "  <thead>\n",
       "    <tr style=\"text-align: right;\">\n",
       "      <th></th>\n",
       "      <th>target</th>\n",
       "    </tr>\n",
       "  </thead>\n",
       "  <tbody>\n",
       "    <tr>\n",
       "      <th>count</th>\n",
       "      <td>3.743060e+05</td>\n",
       "    </tr>\n",
       "    <tr>\n",
       "      <th>mean</th>\n",
       "      <td>6.454072e+05</td>\n",
       "    </tr>\n",
       "    <tr>\n",
       "      <th>std</th>\n",
       "      <td>1.842196e+06</td>\n",
       "    </tr>\n",
       "    <tr>\n",
       "      <th>min</th>\n",
       "      <td>1.000000e+00</td>\n",
       "    </tr>\n",
       "    <tr>\n",
       "      <th>25%</th>\n",
       "      <td>1.877965e+05</td>\n",
       "    </tr>\n",
       "    <tr>\n",
       "      <th>50%</th>\n",
       "      <td>3.200000e+05</td>\n",
       "    </tr>\n",
       "    <tr>\n",
       "      <th>75%</th>\n",
       "      <td>5.845000e+05</td>\n",
       "    </tr>\n",
       "    <tr>\n",
       "      <th>max</th>\n",
       "      <td>1.950000e+08</td>\n",
       "    </tr>\n",
       "  </tbody>\n",
       "</table>\n",
       "</div>"
      ],
      "text/plain": [
       "             target\n",
       "count  3.743060e+05\n",
       "mean   6.454072e+05\n",
       "std    1.842196e+06\n",
       "min    1.000000e+00\n",
       "25%    1.877965e+05\n",
       "50%    3.200000e+05\n",
       "75%    5.845000e+05\n",
       "max    1.950000e+08"
      ]
     },
     "execution_count": 14,
     "metadata": {},
     "output_type": "execute_result"
    }
   ],
   "source": [
    "df[['target']].describe()"
   ]
  },
  {
   "cell_type": "markdown",
   "metadata": {},
   "source": [
    "Удалим некорректные значения (как например цена в $1).\n",
    "\n",
    "Удалим все, что меньше 15 тысяч $\n",
    "\n",
    "А также все, что больше 1м $"
   ]
  },
  {
   "cell_type": "code",
   "execution_count": 15,
   "metadata": {
    "ExecuteTime": {
     "end_time": "2022-04-21T23:44:33.390582Z",
     "start_time": "2022-04-21T23:44:33.302392Z"
    }
   },
   "outputs": [],
   "source": [
    "df = df[df['target'] > 15000]\n",
    "df = df[df['target'] < 1000000]"
   ]
  },
  {
   "cell_type": "code",
   "execution_count": 16,
   "metadata": {
    "ExecuteTime": {
     "end_time": "2022-04-21T23:44:33.404383Z",
     "start_time": "2022-04-21T23:44:33.391494Z"
    }
   },
   "outputs": [
    {
     "data": {
      "text/html": [
       "<div>\n",
       "<style scoped>\n",
       "    .dataframe tbody tr th:only-of-type {\n",
       "        vertical-align: middle;\n",
       "    }\n",
       "\n",
       "    .dataframe tbody tr th {\n",
       "        vertical-align: top;\n",
       "    }\n",
       "\n",
       "    .dataframe thead th {\n",
       "        text-align: right;\n",
       "    }\n",
       "</style>\n",
       "<table border=\"1\" class=\"dataframe\">\n",
       "  <thead>\n",
       "    <tr style=\"text-align: right;\">\n",
       "      <th></th>\n",
       "      <th>target</th>\n",
       "    </tr>\n",
       "  </thead>\n",
       "  <tbody>\n",
       "    <tr>\n",
       "      <th>count</th>\n",
       "      <td>321710.000000</td>\n",
       "    </tr>\n",
       "    <tr>\n",
       "      <th>mean</th>\n",
       "      <td>342848.825635</td>\n",
       "    </tr>\n",
       "    <tr>\n",
       "      <th>std</th>\n",
       "      <td>223724.653446</td>\n",
       "    </tr>\n",
       "    <tr>\n",
       "      <th>min</th>\n",
       "      <td>15199.000000</td>\n",
       "    </tr>\n",
       "    <tr>\n",
       "      <th>25%</th>\n",
       "      <td>179900.000000</td>\n",
       "    </tr>\n",
       "    <tr>\n",
       "      <th>50%</th>\n",
       "      <td>292990.000000</td>\n",
       "    </tr>\n",
       "    <tr>\n",
       "      <th>75%</th>\n",
       "      <td>459900.000000</td>\n",
       "    </tr>\n",
       "    <tr>\n",
       "      <th>max</th>\n",
       "      <td>999999.000000</td>\n",
       "    </tr>\n",
       "  </tbody>\n",
       "</table>\n",
       "</div>"
      ],
      "text/plain": [
       "              target\n",
       "count  321710.000000\n",
       "mean   342848.825635\n",
       "std    223724.653446\n",
       "min     15199.000000\n",
       "25%    179900.000000\n",
       "50%    292990.000000\n",
       "75%    459900.000000\n",
       "max    999999.000000"
      ]
     },
     "execution_count": 16,
     "metadata": {},
     "output_type": "execute_result"
    }
   ],
   "source": [
    "df[['target']].describe()"
   ]
  },
  {
   "cell_type": "code",
   "execution_count": 17,
   "metadata": {
    "ExecuteTime": {
     "end_time": "2022-04-21T23:44:33.507730Z",
     "start_time": "2022-04-21T23:44:33.405154Z"
    }
   },
   "outputs": [
    {
     "data": {
      "text/plain": [
       "<AxesSubplot:>"
      ]
     },
     "execution_count": 17,
     "metadata": {},
     "output_type": "execute_result"
    },
    {
     "data": {
      "image/png": "[encoded data removed]",
      "text/plain": [
       "<Figure size 432x288 with 1 Axes>"
      ]
     },
     "metadata": {
      "needs_background": "light"
     },
     "output_type": "display_data"
    }
   ],
   "source": [
    "df['target'].hist()"
   ]
  },
  {
   "cell_type": "markdown",
   "metadata": {},
   "source": [
    "Совсем другое дело!"
   ]
  },
  {
   "cell_type": "markdown",
   "metadata": {},
   "source": [
    "## Колонка \"status\""
   ]
  },
  {
   "cell_type": "code",
   "execution_count": 18,
   "metadata": {
    "ExecuteTime": {
     "end_time": "2022-04-21T23:44:33.529874Z",
     "start_time": "2022-04-21T23:44:33.508872Z"
    }
   },
   "outputs": [
    {
     "data": {
      "text/plain": [
       "for sale                  134151\n",
       "Active                     88197\n",
       "For sale                   37757\n",
       "New construction            4625\n",
       "foreclosure                 4568\n",
       "                           ...  \n",
       "Lease/Purchase                 1\n",
       "Coming soon: Nov 11.           1\n",
       "Coming soon: Dec 15.           1\n",
       "Coming soon: Dec 12.           1\n",
       "Under Contract W/ Bckp         1\n",
       "Name: status, Length: 150, dtype: int64"
      ]
     },
     "execution_count": 18,
     "metadata": {},
     "output_type": "execute_result"
    }
   ],
   "source": [
    "df['status'].value_counts()"
   ]
  },
  {
   "cell_type": "code",
   "execution_count": 19,
   "metadata": {
    "ExecuteTime": {
     "end_time": "2022-04-21T23:44:33.601931Z",
     "start_time": "2022-04-21T23:44:33.530815Z"
    }
   },
   "outputs": [],
   "source": [
    "df['status'] = df['status'].str.upper()"
   ]
  },
  {
   "cell_type": "code",
   "execution_count": 20,
   "metadata": {
    "ExecuteTime": {
     "end_time": "2022-04-21T23:44:33.648919Z",
     "start_time": "2022-04-21T23:44:33.602801Z"
    }
   },
   "outputs": [
    {
     "name": "stdout",
     "output_type": "stream",
     "text": [
      "Колонка - status\n",
      "Кол-во пропусков: 34736\n",
      "Кол-во уникальных значений: 143\n"
     ]
    }
   ],
   "source": [
    "show_col_info('status')"
   ]
  },
  {
   "cell_type": "code",
   "execution_count": 21,
   "metadata": {
    "ExecuteTime": {
     "end_time": "2022-04-21T23:44:33.675283Z",
     "start_time": "2022-04-21T23:44:33.649850Z"
    }
   },
   "outputs": [
    {
     "data": {
      "text/plain": [
       "FOR SALE                     171910\n",
       "ACTIVE                        88197\n",
       "NaN                           34736\n",
       "FORECLOSURE                    4877\n",
       "NEW CONSTRUCTION               4625\n",
       "PENDING                        4368\n",
       "PRE-FORECLOSURE                1968\n",
       "P                              1283\n",
       "PRE-FORECLOSURE / AUCTION      1262\n",
       "UNDER CONTRACT SHOW            1116\n",
       "UNDER CONTRACT   SHOWING        743\n",
       " / AUCTION                      720\n",
       "UNDER CONTRACT                  663\n",
       "NEW                             594\n",
       "CONTINGENT                      572\n",
       "ACTIVE UNDER CONTRACT           514\n",
       "PRICE CHANGE                    496\n",
       "AUCTION                         481\n",
       "A ACTIVE                        422\n",
       "FORECLOSED                      283\n",
       "Name: status, dtype: int64"
      ]
     },
     "execution_count": 21,
     "metadata": {},
     "output_type": "execute_result"
    }
   ],
   "source": [
    "df['status'].value_counts(dropna=False)[:20]"
   ]
  },
  {
   "cell_type": "code",
   "execution_count": 22,
   "metadata": {
    "ExecuteTime": {
     "end_time": "2022-04-21T23:44:33.680455Z",
     "start_time": "2022-04-21T23:44:33.676281Z"
    }
   },
   "outputs": [],
   "source": [
    "def clear_status(s):\n",
    "    try:\n",
    "        if 'AUCTION' in s: \n",
    "            return 'AUCTION'\n",
    "        elif 'COMIN' in s or 'DILIGE' in s: \n",
    "            return 'COMING'\n",
    "        elif 'RENT' in s: \n",
    "            return 'RENT'\n",
    "        elif 'LEASE' in s: \n",
    "            return 'RENT'\n",
    "        elif 'PURCH' in s: \n",
    "            return 'RENT'\n",
    "        elif 'PEND' in s: \n",
    "            return 'PENDING'\n",
    "        elif 'FOREC' in s: \n",
    "            return 'FORECLOSURE'\n",
    "        elif 'NEW' in s: \n",
    "            return 'NEW'\n",
    "        elif 'CONTRACT' in s: \n",
    "            return 'CONTRACT'\n",
    "        elif 'CONTINGE' in s: \n",
    "            return 'CONTINGENT'\n",
    "        elif 'SOLD' in s or 'CLOSED' in s or 'ACCEPT' in s: \n",
    "            return 'SOLD'\n",
    "        elif 'ACTIV' in s: \n",
    "            return 'ACTIVE'\n",
    "        elif 'FOR SALE' in s: \n",
    "            return 'FOR SALE'\n",
    "        elif 'BACKUP' in s: \n",
    "            return 'CONTRACT'\n",
    "        elif 'BACK' in s or 'EXTEND' in s: \n",
    "            return 'ACTIVE'\n",
    "        elif 'CONTINUE' in s: \n",
    "            return 'ACTIVE'\n",
    "        elif s == 'C' or  s == 'CT': \n",
    "            return 'CONTRACT'\n",
    "        elif s == 'P': \n",
    "            return 'PENDING'\n",
    "        elif s == 'PS' or s == 'PF' or s == 'PI': \n",
    "            return 'PENDING'\n",
    "        else: \n",
    "            return s\n",
    "    except:\n",
    "        return \"NO_DATA\""
   ]
  },
  {
   "cell_type": "code",
   "execution_count": 23,
   "metadata": {
    "ExecuteTime": {
     "end_time": "2022-04-21T23:44:33.861420Z",
     "start_time": "2022-04-21T23:44:33.681696Z"
    }
   },
   "outputs": [],
   "source": [
    "df['status'] = [clear_status(x) for x in df['status']]"
   ]
  },
  {
   "cell_type": "code",
   "execution_count": 24,
   "metadata": {
    "ExecuteTime": {
     "end_time": "2022-04-21T23:44:33.878856Z",
     "start_time": "2022-04-21T23:44:33.862410Z"
    }
   },
   "outputs": [
    {
     "data": {
      "text/plain": [
       "FOR SALE        171910\n",
       "ACTIVE           88858\n",
       "NO_DATA          34736\n",
       "FORECLOSURE       7130\n",
       "PENDING           6215\n",
       "NEW               5219\n",
       "CONTRACT          3486\n",
       "AUCTION           2501\n",
       "CONTINGENT        1011\n",
       "PRICE CHANGE       496\n",
       "COMING             125\n",
       "RENT                12\n",
       "SOLD                11\n",
       "Name: status, dtype: int64"
      ]
     },
     "execution_count": 24,
     "metadata": {},
     "output_type": "execute_result"
    }
   ],
   "source": [
    "df['status'].value_counts()"
   ]
  },
  {
   "cell_type": "code",
   "execution_count": null,
   "metadata": {},
   "outputs": [],
   "source": []
  },
  {
   "cell_type": "markdown",
   "metadata": {},
   "source": [
    "## Колонки \"private pool\" и \"PrivatePool\""
   ]
  },
  {
   "cell_type": "code",
   "execution_count": 25,
   "metadata": {
    "ExecuteTime": {
     "end_time": "2022-04-21T23:44:33.908026Z",
     "start_time": "2022-04-21T23:44:33.879651Z"
    }
   },
   "outputs": [
    {
     "name": "stdout",
     "output_type": "stream",
     "text": [
      "Колонка - private pool\n",
      "Кол-во пропусков: 318200\n",
      "Кол-во уникальных значений: 1\n"
     ]
    },
    {
     "data": {
      "text/plain": [
       "NaN    318200\n",
       "Yes      3510\n",
       "Name: private pool, dtype: int64"
      ]
     },
     "execution_count": 25,
     "metadata": {},
     "output_type": "execute_result"
    }
   ],
   "source": [
    "show_col_info('private pool')\n",
    "df['private pool'].value_counts(dropna=False)"
   ]
  },
  {
   "cell_type": "code",
   "execution_count": 26,
   "metadata": {
    "ExecuteTime": {
     "end_time": "2022-04-21T23:44:33.939210Z",
     "start_time": "2022-04-21T23:44:33.909098Z"
    }
   },
   "outputs": [
    {
     "name": "stdout",
     "output_type": "stream",
     "text": [
      "Колонка - PrivatePool\n",
      "Кол-во пропусков: 291329\n",
      "Кол-во уникальных значений: 2\n"
     ]
    },
    {
     "data": {
      "text/plain": [
       "NaN    291329\n",
       "yes     22243\n",
       "Yes      8138\n",
       "Name: PrivatePool, dtype: int64"
      ]
     },
     "execution_count": 26,
     "metadata": {},
     "output_type": "execute_result"
    }
   ],
   "source": [
    "show_col_info('PrivatePool')\n",
    "df['PrivatePool'].value_counts(dropna=False)"
   ]
  },
  {
   "cell_type": "code",
   "execution_count": 27,
   "metadata": {
    "ExecuteTime": {
     "end_time": "2022-04-21T23:44:33.974006Z",
     "start_time": "2022-04-21T23:44:33.940023Z"
    },
    "scrolled": false
   },
   "outputs": [
    {
     "data": {
      "text/html": [
       "<div>\n",
       "<style scoped>\n",
       "    .dataframe tbody tr th:only-of-type {\n",
       "        vertical-align: middle;\n",
       "    }\n",
       "\n",
       "    .dataframe tbody tr th {\n",
       "        vertical-align: top;\n",
       "    }\n",
       "\n",
       "    .dataframe thead th {\n",
       "        text-align: right;\n",
       "    }\n",
       "</style>\n",
       "<table border=\"1\" class=\"dataframe\">\n",
       "  <thead>\n",
       "    <tr style=\"text-align: right;\">\n",
       "      <th></th>\n",
       "      <th>private pool</th>\n",
       "      <th>PrivatePool</th>\n",
       "    </tr>\n",
       "  </thead>\n",
       "  <tbody>\n",
       "    <tr>\n",
       "      <th>122538</th>\n",
       "      <td>NaN</td>\n",
       "      <td>yes</td>\n",
       "    </tr>\n",
       "    <tr>\n",
       "      <th>155502</th>\n",
       "      <td>Yes</td>\n",
       "      <td>NaN</td>\n",
       "    </tr>\n",
       "    <tr>\n",
       "      <th>163307</th>\n",
       "      <td>NaN</td>\n",
       "      <td>yes</td>\n",
       "    </tr>\n",
       "    <tr>\n",
       "      <th>352788</th>\n",
       "      <td>NaN</td>\n",
       "      <td>yes</td>\n",
       "    </tr>\n",
       "    <tr>\n",
       "      <th>172975</th>\n",
       "      <td>NaN</td>\n",
       "      <td>yes</td>\n",
       "    </tr>\n",
       "  </tbody>\n",
       "</table>\n",
       "</div>"
      ],
      "text/plain": [
       "       private pool PrivatePool\n",
       "122538          NaN         yes\n",
       "155502          Yes         NaN\n",
       "163307          NaN         yes\n",
       "352788          NaN         yes\n",
       "172975          NaN         yes"
      ]
     },
     "execution_count": 27,
     "metadata": {},
     "output_type": "execute_result"
    }
   ],
   "source": [
    "df.loc[(df['private pool'] == 'Yes') | (df['PrivatePool'] == 'yes') | (df['PrivatePool'] == 'Yes'),\n",
    "      ['private pool', 'PrivatePool']].sample(5)"
   ]
  },
  {
   "cell_type": "markdown",
   "metadata": {},
   "source": [
    "Как видим, колонки значат одно и то же, при этом значения не пересекаются.\n",
    "\n",
    "Оставим один столбец `PrivatePool`, вставим недостающие \"yes\" из столбца `private pool`. Заменим все yes на 1, а пропуски на 0."
   ]
  },
  {
   "cell_type": "code",
   "execution_count": 28,
   "metadata": {
    "ExecuteTime": {
     "end_time": "2022-04-21T23:44:33.992462Z",
     "start_time": "2022-04-21T23:44:33.979685Z"
    }
   },
   "outputs": [],
   "source": [
    "df.loc[df['private pool'] == 'Yes', 'PrivatePool'] = 'Yes'"
   ]
  },
  {
   "cell_type": "code",
   "execution_count": 29,
   "metadata": {
    "ExecuteTime": {
     "end_time": "2022-04-21T23:44:34.037879Z",
     "start_time": "2022-04-21T23:44:33.993435Z"
    }
   },
   "outputs": [],
   "source": [
    "df['PrivatePool'] = df['PrivatePool'].map({'Yes' : 1,\n",
    "                                           'yes' : 1})\n",
    "df['PrivatePool'] = df['PrivatePool'].fillna(0)"
   ]
  },
  {
   "cell_type": "code",
   "execution_count": 30,
   "metadata": {
    "ExecuteTime": {
     "end_time": "2022-04-21T23:44:34.074300Z",
     "start_time": "2022-04-21T23:44:34.038671Z"
    }
   },
   "outputs": [],
   "source": [
    "df = df.drop(columns='private pool')"
   ]
  },
  {
   "cell_type": "code",
   "execution_count": 31,
   "metadata": {
    "ExecuteTime": {
     "end_time": "2022-04-21T23:44:34.080846Z",
     "start_time": "2022-04-21T23:44:34.075218Z"
    }
   },
   "outputs": [
    {
     "data": {
      "text/plain": [
       "0.0    287819\n",
       "1.0     33891\n",
       "Name: PrivatePool, dtype: int64"
      ]
     },
     "execution_count": 31,
     "metadata": {},
     "output_type": "execute_result"
    }
   ],
   "source": [
    "df['PrivatePool'].value_counts()"
   ]
  },
  {
   "cell_type": "markdown",
   "metadata": {},
   "source": [
    "## Колонка \"propertyType\""
   ]
  },
  {
   "cell_type": "code",
   "execution_count": 32,
   "metadata": {
    "ExecuteTime": {
     "end_time": "2022-04-21T23:44:34.132185Z",
     "start_time": "2022-04-21T23:44:34.082004Z"
    }
   },
   "outputs": [
    {
     "name": "stdout",
     "output_type": "stream",
     "text": [
      "Колонка - propertyType\n",
      "Кол-во пропусков: 26975\n",
      "Кол-во уникальных значений: 1110\n"
     ]
    },
    {
     "data": {
      "text/plain": [
       "single-family home                80727\n",
       "Single Family                     54556\n",
       "Single Family Home                29119\n",
       "NaN                               26975\n",
       "condo                             21564\n",
       "                                  ...  \n",
       "Farmhouse, Historic Vintage           1\n",
       "Traditional, Colonial, Federal        1\n",
       "Georgian, Colonial                    1\n",
       "Co-op, Traditional                    1\n",
       "Old World, Ranch                      1\n",
       "Name: propertyType, Length: 1111, dtype: int64"
      ]
     },
     "execution_count": 32,
     "metadata": {},
     "output_type": "execute_result"
    }
   ],
   "source": [
    "show_col_info('propertyType')\n",
    "df['propertyType'].value_counts(dropna=False)"
   ]
  },
  {
   "cell_type": "markdown",
   "metadata": {},
   "source": [
    "Как видим, здесь очень много уникальных значений, многие из которых очень похожи между собой."
   ]
  },
  {
   "cell_type": "code",
   "execution_count": 33,
   "metadata": {
    "ExecuteTime": {
     "end_time": "2022-04-21T23:44:34.206789Z",
     "start_time": "2022-04-21T23:44:34.133068Z"
    }
   },
   "outputs": [],
   "source": [
    "df['propertyType'] = df['propertyType'].str.upper()"
   ]
  },
  {
   "cell_type": "code",
   "execution_count": 34,
   "metadata": {
    "ExecuteTime": {
     "end_time": "2022-04-21T23:44:34.213933Z",
     "start_time": "2022-04-21T23:44:34.207678Z"
    }
   },
   "outputs": [],
   "source": [
    "def parse_property_type(s):\n",
    "    try:\n",
    "        if 'SINGLE' in s or 'TRADITIONAL' in s: \n",
    "            return 'SINGLE'\n",
    "        if 'FLAT' in s: \n",
    "            return 'FLAT'\n",
    "        if 'TOWNH' in s or 'CONDO' in s or 'CLUSTER' in s: \n",
    "            return 'TOWNHOUSE'\n",
    "        if 'COOP' in s or 'CO-OP' in s: \n",
    "            return 'COOP'\n",
    "        if 'LAND' in s: \n",
    "            return 'LAND'\n",
    "        if 'MULTI' in s: \n",
    "            return 'MULTI'\n",
    "        if 'CONTEMPO' in s: \n",
    "            return 'CONTEMPORARY'\n",
    "        if 'MOBI' in s or 'CARRI' in s: \n",
    "            return 'MOBILE'\n",
    "        if 'TWO STOR' in s or '2 STOR' in s: \n",
    "            return 'TWO-STORY'\n",
    "        if 'ONE STOR' in s or '1 STOR' in s: \n",
    "            return 'ONE-STORY'\n",
    "        if 'STOR' in s in s: \n",
    "            return 'MULTY-STORY'\n",
    "        if 'DETA' in s or 'DETA' in s: \n",
    "            return 'DETACHED'\n",
    "        if 'RISE' in s or 'UNIT' in s or 'HIGH' in s: \n",
    "            return 'FLAT'\n",
    "        if 'PENT' in s: \n",
    "            return 'PENTHOUSE'\n",
    "        if 'RAN' in s: \n",
    "            return 'RANCH'\n",
    "        if 'GARD' in s: \n",
    "            return 'GARDEN HOME'\n",
    "        if 'CUST' in s or 'MANUF' in s or 'CRAFT' in s: \n",
    "            return 'CUSTOM'\n",
    "        if 'ATTA' in s or 'PLEX' in s: \n",
    "            return 'ATTACHED'\n",
    "        if 'FARM' in s: \n",
    "            return 'FARM'\n",
    "        if 'LEVEL' in s: \n",
    "            return 'SPLIT-LEVEL'\n",
    "        if 'OTHER' in s: \n",
    "            return 'OTHER'\n",
    "        if 'COLO' in s: \n",
    "            return 'COLONIAL'\n",
    "        if 'WARE' in s or 'COM' in s: \n",
    "            return 'COMMERCICAL'\n",
    "        if 'COTT' in s or 'RESID' in s or 'COURT' in s: \n",
    "            return 'COTTAGE'\n",
    "        if 'BOAT' in s: \n",
    "            return 'BOATHOUSE'\n",
    "        if 'BUNGAL' in s:\n",
    "            return 'BUNGALOW'\n",
    "        if s == 'nan' or s == '': \n",
    "            return 'NO DATA'\n",
    "        else:\n",
    "            return 'OTHER'\n",
    "\n",
    "    except:\n",
    "         return 'NO DATA'"
   ]
  },
  {
   "cell_type": "code",
   "execution_count": 35,
   "metadata": {
    "ExecuteTime": {
     "end_time": "2022-04-21T23:44:34.316888Z",
     "start_time": "2022-04-21T23:44:34.215395Z"
    }
   },
   "outputs": [],
   "source": [
    "df['propertyType_parsed'] = [parse_property_type(x) for x in df['propertyType']]"
   ]
  },
  {
   "cell_type": "code",
   "execution_count": 36,
   "metadata": {
    "ExecuteTime": {
     "end_time": "2022-04-21T23:44:34.334234Z",
     "start_time": "2022-04-21T23:44:34.317875Z"
    }
   },
   "outputs": [
    {
     "data": {
      "text/plain": [
       "SINGLE          174848\n",
       "TOWNHOUSE        60954\n",
       "NO DATA          26975\n",
       "LAND             23983\n",
       "MULTI             8661\n",
       "ONE-STORY         3620\n",
       "MOBILE            3394\n",
       "COOP              3209\n",
       "RANCH             3129\n",
       "OTHER             3037\n",
       "CONTEMPORARY      2984\n",
       "TWO-STORY         1906\n",
       "FLAT              1635\n",
       "COLONIAL          1092\n",
       "BUNGALOW           510\n",
       "CUSTOM             390\n",
       "GARDEN HOME        333\n",
       "SPLIT-LEVEL        295\n",
       "MULTY-STORY        205\n",
       "COTTAGE            183\n",
       "ATTACHED           125\n",
       "DETACHED           108\n",
       "FARM                73\n",
       "PENTHOUSE           45\n",
       "COMMERCICAL         13\n",
       "BOATHOUSE            3\n",
       "Name: propertyType_parsed, dtype: int64"
      ]
     },
     "execution_count": 36,
     "metadata": {},
     "output_type": "execute_result"
    }
   ],
   "source": [
    "df['propertyType_parsed'].value_counts()"
   ]
  },
  {
   "cell_type": "code",
   "execution_count": 37,
   "metadata": {
    "ExecuteTime": {
     "end_time": "2022-04-21T23:44:34.436021Z",
     "start_time": "2022-04-21T23:44:34.335160Z"
    }
   },
   "outputs": [],
   "source": [
    "df['propertyType'] = df['propertyType_parsed']\n",
    "df = df.drop(columns='propertyType_parsed')"
   ]
  },
  {
   "cell_type": "markdown",
   "metadata": {},
   "source": [
    "## Колонка \"street\""
   ]
  },
  {
   "cell_type": "code",
   "execution_count": 38,
   "metadata": {
    "ExecuteTime": {
     "end_time": "2022-04-21T23:44:34.601380Z",
     "start_time": "2022-04-21T23:44:34.437112Z"
    }
   },
   "outputs": [
    {
     "name": "stdout",
     "output_type": "stream",
     "text": [
      "Колонка - street\n",
      "Кол-во пропусков: 1\n",
      "Кол-во уникальных значений: 287376\n"
     ]
    },
    {
     "data": {
      "text/plain": [
       "Address Not Disclosed    605\n",
       "Undisclosed Address      441\n",
       "(undisclosed Address)    343\n",
       "Address Not Available    162\n",
       "Unknown Address           70\n",
       "                        ... \n",
       "1511 Bridge St             1\n",
       "3861 N Himalaya Rd #1      1\n",
       "MLS #: DEGI3873635         1\n",
       "19901 Naumann Rd           1\n",
       "NaN                        1\n",
       "Name: street, Length: 287377, dtype: int64"
      ]
     },
     "execution_count": 38,
     "metadata": {},
     "output_type": "execute_result"
    }
   ],
   "source": [
    "show_col_info('street')\n",
    "df['street'].value_counts(dropna=False)"
   ]
  },
  {
   "cell_type": "markdown",
   "metadata": {},
   "source": [
    "Огромное количество уникальных значений (это логично). Давайте вычленим из каждого адреса тип улицы (улица, бульвар и тп.)"
   ]
  },
  {
   "cell_type": "code",
   "execution_count": 39,
   "metadata": {
    "ExecuteTime": {
     "end_time": "2022-04-21T23:44:34.606092Z",
     "start_time": "2022-04-21T23:44:34.602575Z"
    }
   },
   "outputs": [],
   "source": [
    "def parse_street(s):\n",
    "    s = str(s)\n",
    "    if 'ADDRESS' in s: \n",
    "        return 'NO_ADDRESS'\n",
    "    elif 'BLVD' in s or 'BOULEVARD' in s: \n",
    "        return 'BOULEVARD'\n",
    "    elif 'WAY' in s: \n",
    "        return 'HWAY'\n",
    "    elif 'CIR' in s: \n",
    "        return 'CIRCLE'\n",
    "    elif 'CT' in s or 'COURT' in s: \n",
    "        return 'COURT'\n",
    "    elif 'DR' in s or 'DRIVE' in s: \n",
    "        return 'DRIVE'\n",
    "    elif 'RD' in s or 'ROAD' in s: \n",
    "        return 'ROAD'\n",
    "    elif 'AVE' in s: \n",
    "        return 'AVENUE'\n",
    "    elif 'ST' in s or 'STREET' in s: \n",
    "        return 'STREET'\n",
    "    elif 'PL' in s: \n",
    "        return 'PLACE'\n",
    "    elif 'LANE' in s: \n",
    "        return 'LANE'\n",
    "    elif 'TR' in s or 'TRL' in s or 'TRAIL' in s: \n",
    "        return 'TRAIL'\n",
    "    elif 'PARK' in s: \n",
    "        return 'PARK'\n",
    "    else: \n",
    "        return 'OTHER'"
   ]
  },
  {
   "cell_type": "code",
   "execution_count": 40,
   "metadata": {
    "ExecuteTime": {
     "end_time": "2022-04-21T23:44:34.680449Z",
     "start_time": "2022-04-21T23:44:34.607191Z"
    }
   },
   "outputs": [],
   "source": [
    "df['street'] = df['street'].str.upper()"
   ]
  },
  {
   "cell_type": "code",
   "execution_count": 41,
   "metadata": {
    "ExecuteTime": {
     "end_time": "2022-04-21T23:44:34.920763Z",
     "start_time": "2022-04-21T23:44:34.681353Z"
    }
   },
   "outputs": [],
   "source": [
    "df['street'] = [parse_street(x) for x in df['street']]"
   ]
  },
  {
   "cell_type": "code",
   "execution_count": 42,
   "metadata": {
    "ExecuteTime": {
     "end_time": "2022-04-21T23:44:34.938486Z",
     "start_time": "2022-04-21T23:44:34.921957Z"
    },
    "scrolled": true
   },
   "outputs": [
    {
     "data": {
      "text/plain": [
       "STREET        71449\n",
       "DRIVE         57732\n",
       "AVENUE        50348\n",
       "ROAD          37169\n",
       "OTHER         36661\n",
       "COURT         18129\n",
       "PLACE         13688\n",
       "HWAY          11091\n",
       "BOULEVARD     10986\n",
       "CIRCLE         7966\n",
       "TRAIL          3890\n",
       "NO_ADDRESS     1627\n",
       "PARK            650\n",
       "LANE            324\n",
       "Name: street, dtype: int64"
      ]
     },
     "execution_count": 42,
     "metadata": {},
     "output_type": "execute_result"
    }
   ],
   "source": [
    "df['street'].value_counts()"
   ]
  },
  {
   "cell_type": "markdown",
   "metadata": {},
   "source": [
    "Создадим признак наличия адреса"
   ]
  },
  {
   "cell_type": "code",
   "execution_count": 43,
   "metadata": {
    "ExecuteTime": {
     "end_time": "2022-04-21T23:44:34.959803Z",
     "start_time": "2022-04-21T23:44:34.939469Z"
    }
   },
   "outputs": [],
   "source": [
    "df['has_adress'] = 0\n",
    "df.loc[df['street'] != 'NO_ADDRESS',\n",
    "       'has_adress'] = 1"
   ]
  },
  {
   "cell_type": "markdown",
   "metadata": {},
   "source": [
    "## Колонка \"baths\""
   ]
  },
  {
   "cell_type": "code",
   "execution_count": 44,
   "metadata": {
    "ExecuteTime": {
     "end_time": "2022-04-21T23:44:35.005316Z",
     "start_time": "2022-04-21T23:44:34.960739Z"
    }
   },
   "outputs": [
    {
     "name": "stdout",
     "output_type": "stream",
     "text": [
      "Колонка - baths\n",
      "Кол-во пропусков: 87455\n",
      "Кол-во уникальных значений: 154\n"
     ]
    },
    {
     "data": {
      "text/plain": [
       "NaN              87455\n",
       "2 Baths          49313\n",
       "3 Baths          31778\n",
       "2                19790\n",
       "2.0              15736\n",
       "                 ...  \n",
       "1 / 1 / 1 / 1        1\n",
       "9.5                  1\n",
       "1-0 / 1-0 / 1        1\n",
       "3.2 Baths            1\n",
       "19 Baths             1\n",
       "Name: baths, Length: 155, dtype: int64"
      ]
     },
     "execution_count": 44,
     "metadata": {},
     "output_type": "execute_result"
    }
   ],
   "source": [
    "show_col_info('baths')\n",
    "df['baths'].value_counts(dropna=False)"
   ]
  },
  {
   "cell_type": "markdown",
   "metadata": {},
   "source": [
    "В Американской системе наличие ванной комнаты обозначается следующим образом: если 1 - это значит, что это полноценная ванная комната с душем, туалетом, ванной, раковиной и пр. Если 0.5 или 0.75 - значит чего-то не хватает. \n",
    "\n",
    "Давайте использовать просто кол-во ванных комнат без каких-либо придумок. Если данных нет, то будем "
   ]
  },
  {
   "cell_type": "code",
   "execution_count": 45,
   "metadata": {
    "ExecuteTime": {
     "end_time": "2022-04-21T23:44:35.008709Z",
     "start_time": "2022-04-21T23:44:35.006228Z"
    }
   },
   "outputs": [],
   "source": [
    "def clear_baths(x):\n",
    "    try:\n",
    "        x = str(x)\n",
    "        number = re.sub(r'[^0-9.,]', r'', x)\n",
    "        number = float(number.replace(',', '.'))\n",
    "        return np.ceil(number)\n",
    "    except:\n",
    "        if '-' in x or '~' in x:\n",
    "            return 0.0\n",
    "        else:\n",
    "            return np.NaN"
   ]
  },
  {
   "cell_type": "code",
   "execution_count": 46,
   "metadata": {
    "ExecuteTime": {
     "end_time": "2022-04-21T23:44:35.700033Z",
     "start_time": "2022-04-21T23:44:35.009906Z"
    }
   },
   "outputs": [],
   "source": [
    "df['baths_cleared'] = [clear_baths(x) for x in df['baths']]"
   ]
  },
  {
   "cell_type": "code",
   "execution_count": 47,
   "metadata": {
    "ExecuteTime": {
     "end_time": "2022-04-21T23:44:35.717283Z",
     "start_time": "2022-04-21T23:44:35.700828Z"
    }
   },
   "outputs": [
    {
     "data": {
      "text/html": [
       "<div>\n",
       "<style scoped>\n",
       "    .dataframe tbody tr th:only-of-type {\n",
       "        vertical-align: middle;\n",
       "    }\n",
       "\n",
       "    .dataframe tbody tr th {\n",
       "        vertical-align: top;\n",
       "    }\n",
       "\n",
       "    .dataframe thead th {\n",
       "        text-align: right;\n",
       "    }\n",
       "</style>\n",
       "<table border=\"1\" class=\"dataframe\">\n",
       "  <thead>\n",
       "    <tr style=\"text-align: right;\">\n",
       "      <th></th>\n",
       "      <th>propertyType</th>\n",
       "      <th>baths</th>\n",
       "      <th>baths_cleared</th>\n",
       "    </tr>\n",
       "  </thead>\n",
       "  <tbody>\n",
       "    <tr>\n",
       "      <th>370575</th>\n",
       "      <td>ONE-STORY</td>\n",
       "      <td>NaN</td>\n",
       "      <td>NaN</td>\n",
       "    </tr>\n",
       "    <tr>\n",
       "      <th>283290</th>\n",
       "      <td>NO DATA</td>\n",
       "      <td>NaN</td>\n",
       "      <td>NaN</td>\n",
       "    </tr>\n",
       "    <tr>\n",
       "      <th>160632</th>\n",
       "      <td>CONTEMPORARY</td>\n",
       "      <td>NaN</td>\n",
       "      <td>NaN</td>\n",
       "    </tr>\n",
       "    <tr>\n",
       "      <th>219459</th>\n",
       "      <td>SINGLE</td>\n",
       "      <td>1.5</td>\n",
       "      <td>2.0</td>\n",
       "    </tr>\n",
       "    <tr>\n",
       "      <th>322976</th>\n",
       "      <td>MULTI</td>\n",
       "      <td>2</td>\n",
       "      <td>2.0</td>\n",
       "    </tr>\n",
       "    <tr>\n",
       "      <th>140669</th>\n",
       "      <td>ONE-STORY</td>\n",
       "      <td>NaN</td>\n",
       "      <td>NaN</td>\n",
       "    </tr>\n",
       "    <tr>\n",
       "      <th>261015</th>\n",
       "      <td>SINGLE</td>\n",
       "      <td>2 Baths</td>\n",
       "      <td>2.0</td>\n",
       "    </tr>\n",
       "    <tr>\n",
       "      <th>287825</th>\n",
       "      <td>NO DATA</td>\n",
       "      <td>NaN</td>\n",
       "      <td>NaN</td>\n",
       "    </tr>\n",
       "  </tbody>\n",
       "</table>\n",
       "</div>"
      ],
      "text/plain": [
       "        propertyType    baths  baths_cleared\n",
       "370575     ONE-STORY      NaN            NaN\n",
       "283290       NO DATA      NaN            NaN\n",
       "160632  CONTEMPORARY      NaN            NaN\n",
       "219459        SINGLE      1.5            2.0\n",
       "322976         MULTI        2            2.0\n",
       "140669     ONE-STORY      NaN            NaN\n",
       "261015        SINGLE  2 Baths            2.0\n",
       "287825       NO DATA      NaN            NaN"
      ]
     },
     "execution_count": 47,
     "metadata": {},
     "output_type": "execute_result"
    }
   ],
   "source": [
    "df[['propertyType', 'baths', 'baths_cleared']].sample(8)"
   ]
  },
  {
   "cell_type": "code",
   "execution_count": 48,
   "metadata": {
    "ExecuteTime": {
     "end_time": "2022-04-21T23:44:35.726048Z",
     "start_time": "2022-04-21T23:44:35.718268Z"
    }
   },
   "outputs": [
    {
     "data": {
      "text/plain": [
       "2.0        105193\n",
       "NaN         87639\n",
       "3.0         75698\n",
       "4.0         25383\n",
       "1.0         16830\n",
       "5.0          5631\n",
       "0.0          3159\n",
       "6.0          1269\n",
       "7.0           367\n",
       "750.0         213\n",
       "8.0           156\n",
       "9.0            37\n",
       "12.0           31\n",
       "10.0           29\n",
       "11.0           26\n",
       "13.0           14\n",
       "16.0            7\n",
       "20.0            6\n",
       "14.0            4\n",
       "22.0            3\n",
       "30.0            2\n",
       "15.0            2\n",
       "18.0            2\n",
       "60.0            1\n",
       "17.0            1\n",
       "1111.0          1\n",
       "28.0            1\n",
       "25.0            1\n",
       "19.0            1\n",
       "241.0           1\n",
       "10101.0         1\n",
       "24.0            1\n",
       "Name: baths_cleared, dtype: int64"
      ]
     },
     "execution_count": 48,
     "metadata": {},
     "output_type": "execute_result"
    }
   ],
   "source": [
    "df['baths_cleared'].value_counts(dropna=False)"
   ]
  },
  {
   "cell_type": "markdown",
   "metadata": {},
   "source": [
    "Как видим, у нас все еще остались некоторые странные значения. Давайте посмотрим на них."
   ]
  },
  {
   "cell_type": "code",
   "execution_count": 49,
   "metadata": {
    "ExecuteTime": {
     "end_time": "2022-04-21T23:44:35.734698Z",
     "start_time": "2022-04-21T23:44:35.727227Z"
    }
   },
   "outputs": [
    {
     "data": {
      "text/html": [
       "<div>\n",
       "<style scoped>\n",
       "    .dataframe tbody tr th:only-of-type {\n",
       "        vertical-align: middle;\n",
       "    }\n",
       "\n",
       "    .dataframe tbody tr th {\n",
       "        vertical-align: top;\n",
       "    }\n",
       "\n",
       "    .dataframe thead th {\n",
       "        text-align: right;\n",
       "    }\n",
       "</style>\n",
       "<table border=\"1\" class=\"dataframe\">\n",
       "  <thead>\n",
       "    <tr style=\"text-align: right;\">\n",
       "      <th></th>\n",
       "      <th>propertyType</th>\n",
       "      <th>baths</th>\n",
       "      <th>baths_cleared</th>\n",
       "      <th>target</th>\n",
       "    </tr>\n",
       "  </thead>\n",
       "  <tbody>\n",
       "    <tr>\n",
       "      <th>11118</th>\n",
       "      <td>SINGLE</td>\n",
       "      <td>Bathrooms: 241</td>\n",
       "      <td>241.0</td>\n",
       "      <td>449000</td>\n",
       "    </tr>\n",
       "    <tr>\n",
       "      <th>24724</th>\n",
       "      <td>MULTI</td>\n",
       "      <td>1-0 / 1-0 / 1</td>\n",
       "      <td>10101.0</td>\n",
       "      <td>775000</td>\n",
       "    </tr>\n",
       "    <tr>\n",
       "      <th>110097</th>\n",
       "      <td>MULTI</td>\n",
       "      <td>1 / 1 / 1 / 1</td>\n",
       "      <td>1111.0</td>\n",
       "      <td>985000</td>\n",
       "    </tr>\n",
       "    <tr>\n",
       "      <th>332908</th>\n",
       "      <td>MULTI</td>\n",
       "      <td>28 Baths</td>\n",
       "      <td>28.0</td>\n",
       "      <td>175000</td>\n",
       "    </tr>\n",
       "  </tbody>\n",
       "</table>\n",
       "</div>"
      ],
      "text/plain": [
       "       propertyType           baths  baths_cleared  target\n",
       "11118        SINGLE  Bathrooms: 241          241.0  449000\n",
       "24724         MULTI   1-0 / 1-0 / 1        10101.0  775000\n",
       "110097        MULTI   1 / 1 / 1 / 1         1111.0  985000\n",
       "332908        MULTI        28 Baths           28.0  175000"
      ]
     },
     "execution_count": 49,
     "metadata": {},
     "output_type": "execute_result"
    }
   ],
   "source": [
    "df.loc[(df['baths_cleared'] == 1111.0) | \\\n",
    "       (df['baths_cleared'] == 10101.0) | \\\n",
    "       (df['baths_cleared'] == 28.0) | \\\n",
    "       (df['baths_cleared'] == 241.0), \n",
    "       ['propertyType', 'baths', 'baths_cleared', 'target']]"
   ]
  },
  {
   "cell_type": "markdown",
   "metadata": {},
   "source": [
    "Давайте заменим все, что больше 99 квантиля - 99 квантилем."
   ]
  },
  {
   "cell_type": "code",
   "execution_count": 50,
   "metadata": {
    "ExecuteTime": {
     "end_time": "2022-04-21T23:44:35.741967Z",
     "start_time": "2022-04-21T23:44:35.735620Z"
    }
   },
   "outputs": [
    {
     "data": {
      "text/plain": [
       "5.0"
      ]
     },
     "execution_count": 50,
     "metadata": {},
     "output_type": "execute_result"
    }
   ],
   "source": [
    "df['baths_cleared'].quantile(0.99)"
   ]
  },
  {
   "cell_type": "code",
   "execution_count": 51,
   "metadata": {
    "ExecuteTime": {
     "end_time": "2022-04-21T23:44:35.746206Z",
     "start_time": "2022-04-21T23:44:35.743163Z"
    }
   },
   "outputs": [],
   "source": [
    "df.loc[df['baths_cleared'] > 5, 'baths_cleared'] = 5"
   ]
  },
  {
   "cell_type": "code",
   "execution_count": 52,
   "metadata": {
    "ExecuteTime": {
     "end_time": "2022-04-21T23:44:35.753824Z",
     "start_time": "2022-04-21T23:44:35.747128Z"
    }
   },
   "outputs": [
    {
     "data": {
      "text/plain": [
       "2.0    105193\n",
       "NaN     87639\n",
       "3.0     75698\n",
       "4.0     25383\n",
       "1.0     16830\n",
       "5.0      7808\n",
       "0.0      3159\n",
       "Name: baths_cleared, dtype: int64"
      ]
     },
     "execution_count": 52,
     "metadata": {},
     "output_type": "execute_result"
    }
   ],
   "source": [
    "df['baths_cleared'].value_counts(dropna=False)"
   ]
  },
  {
   "cell_type": "markdown",
   "metadata": {},
   "source": [
    "Что делать с пропусками?"
   ]
  },
  {
   "cell_type": "code",
   "execution_count": 53,
   "metadata": {
    "ExecuteTime": {
     "end_time": "2022-04-21T23:44:35.777136Z",
     "start_time": "2022-04-21T23:44:35.754681Z"
    }
   },
   "outputs": [
    {
     "data": {
      "text/html": [
       "<div>\n",
       "<style scoped>\n",
       "    .dataframe tbody tr th:only-of-type {\n",
       "        vertical-align: middle;\n",
       "    }\n",
       "\n",
       "    .dataframe tbody tr th {\n",
       "        vertical-align: top;\n",
       "    }\n",
       "\n",
       "    .dataframe thead th {\n",
       "        text-align: right;\n",
       "    }\n",
       "</style>\n",
       "<table border=\"1\" class=\"dataframe\">\n",
       "  <thead>\n",
       "    <tr style=\"text-align: right;\">\n",
       "      <th></th>\n",
       "      <th>propertyType</th>\n",
       "      <th>baths</th>\n",
       "      <th>baths_cleared</th>\n",
       "      <th>target</th>\n",
       "    </tr>\n",
       "  </thead>\n",
       "  <tbody>\n",
       "    <tr>\n",
       "      <th>192287</th>\n",
       "      <td>NO DATA</td>\n",
       "      <td>NaN</td>\n",
       "      <td>NaN</td>\n",
       "      <td>189900</td>\n",
       "    </tr>\n",
       "    <tr>\n",
       "      <th>237600</th>\n",
       "      <td>ONE-STORY</td>\n",
       "      <td>NaN</td>\n",
       "      <td>NaN</td>\n",
       "      <td>205000</td>\n",
       "    </tr>\n",
       "    <tr>\n",
       "      <th>52715</th>\n",
       "      <td>SINGLE</td>\n",
       "      <td>NaN</td>\n",
       "      <td>NaN</td>\n",
       "      <td>219000</td>\n",
       "    </tr>\n",
       "    <tr>\n",
       "      <th>61625</th>\n",
       "      <td>NO DATA</td>\n",
       "      <td>NaN</td>\n",
       "      <td>NaN</td>\n",
       "      <td>359900</td>\n",
       "    </tr>\n",
       "    <tr>\n",
       "      <th>192542</th>\n",
       "      <td>COOP</td>\n",
       "      <td>NaN</td>\n",
       "      <td>NaN</td>\n",
       "      <td>165000</td>\n",
       "    </tr>\n",
       "    <tr>\n",
       "      <th>97170</th>\n",
       "      <td>NO DATA</td>\n",
       "      <td>NaN</td>\n",
       "      <td>NaN</td>\n",
       "      <td>98000</td>\n",
       "    </tr>\n",
       "    <tr>\n",
       "      <th>323918</th>\n",
       "      <td>TOWNHOUSE</td>\n",
       "      <td>NaN</td>\n",
       "      <td>NaN</td>\n",
       "      <td>99900</td>\n",
       "    </tr>\n",
       "  </tbody>\n",
       "</table>\n",
       "</div>"
      ],
      "text/plain": [
       "       propertyType baths  baths_cleared  target\n",
       "192287      NO DATA   NaN            NaN  189900\n",
       "237600    ONE-STORY   NaN            NaN  205000\n",
       "52715        SINGLE   NaN            NaN  219000\n",
       "61625       NO DATA   NaN            NaN  359900\n",
       "192542         COOP   NaN            NaN  165000\n",
       "97170       NO DATA   NaN            NaN   98000\n",
       "323918    TOWNHOUSE   NaN            NaN   99900"
      ]
     },
     "execution_count": 53,
     "metadata": {},
     "output_type": "execute_result"
    }
   ],
   "source": [
    "df.loc[df['baths_cleared'].isna(), \n",
    "       ['propertyType', 'baths', 'baths_cleared', 'target']].sample(7)"
   ]
  },
  {
   "cell_type": "markdown",
   "metadata": {},
   "source": [
    "Точно - не понятно. Видим, что нет данных как в дорогих домах (в которых точно есть ванные), так и в дешевых."
   ]
  },
  {
   "cell_type": "code",
   "execution_count": 54,
   "metadata": {
    "ExecuteTime": {
     "end_time": "2022-04-21T23:44:35.781718Z",
     "start_time": "2022-04-21T23:44:35.778212Z"
    }
   },
   "outputs": [
    {
     "data": {
      "text/plain": [
       "2.5414596425870783"
      ]
     },
     "execution_count": 54,
     "metadata": {},
     "output_type": "execute_result"
    }
   ],
   "source": [
    "df['baths_cleared'].mean()"
   ]
  },
  {
   "cell_type": "code",
   "execution_count": 55,
   "metadata": {
    "ExecuteTime": {
     "end_time": "2022-04-21T23:44:35.785908Z",
     "start_time": "2022-04-21T23:44:35.782843Z"
    }
   },
   "outputs": [
    {
     "data": {
      "text/plain": [
       "342848.82563488855"
      ]
     },
     "execution_count": 55,
     "metadata": {},
     "output_type": "execute_result"
    }
   ],
   "source": [
    "df['target'].mean()"
   ]
  },
  {
   "cell_type": "markdown",
   "metadata": {},
   "source": [
    "Давайте сделаем так - если цена больше, чем средняя, то поставим кол-во ванных 3. Если меньше - то 2."
   ]
  },
  {
   "cell_type": "code",
   "execution_count": 56,
   "metadata": {
    "ExecuteTime": {
     "end_time": "2022-04-21T23:44:35.794376Z",
     "start_time": "2022-04-21T23:44:35.786941Z"
    }
   },
   "outputs": [],
   "source": [
    "df.loc[(df['target'] > df['target'].mean()) & (df['baths_cleared'].isna()),\n",
    "       'baths_cleared'] = 3\n",
    "\n",
    "df.loc[(df['target'] < df['target'].mean()) & (df['baths_cleared'].isna()),\n",
    "       'baths_cleared'] = 2"
   ]
  },
  {
   "cell_type": "code",
   "execution_count": 57,
   "metadata": {
    "ExecuteTime": {
     "end_time": "2022-04-21T23:44:35.801532Z",
     "start_time": "2022-04-21T23:44:35.795399Z"
    }
   },
   "outputs": [
    {
     "data": {
      "text/plain": [
       "2.0    165486\n",
       "3.0    103044\n",
       "4.0     25383\n",
       "1.0     16830\n",
       "5.0      7808\n",
       "0.0      3159\n",
       "Name: baths_cleared, dtype: int64"
      ]
     },
     "execution_count": 57,
     "metadata": {},
     "output_type": "execute_result"
    }
   ],
   "source": [
    "df['baths_cleared'].value_counts(dropna=False)"
   ]
  },
  {
   "cell_type": "markdown",
   "metadata": {},
   "source": [
    "Отлично. Идем дальше."
   ]
  },
  {
   "cell_type": "code",
   "execution_count": 58,
   "metadata": {
    "ExecuteTime": {
     "end_time": "2022-04-21T23:44:35.857476Z",
     "start_time": "2022-04-21T23:44:35.802431Z"
    }
   },
   "outputs": [],
   "source": [
    "df['baths'] = df['baths_cleared']\n",
    "df = df.drop(columns='baths_cleared')"
   ]
  },
  {
   "cell_type": "markdown",
   "metadata": {},
   "source": [
    "## Колонка \"homeFacts\""
   ]
  },
  {
   "cell_type": "code",
   "execution_count": 59,
   "metadata": {
    "ExecuteTime": {
     "end_time": "2022-04-21T23:44:36.418249Z",
     "start_time": "2022-04-21T23:44:35.858314Z"
    }
   },
   "outputs": [
    {
     "name": "stdout",
     "output_type": "stream",
     "text": [
      "Колонка - homeFacts\n",
      "Кол-во пропусков: 0\n",
      "Кол-во уникальных значений: 277602\n"
     ]
    },
    {
     "data": {
      "text/plain": [
       "{'atAGlanceFacts': [{'factValue': '', 'factLabel': 'Year built'}, {'factValue': '', 'factLabel': 'Remodeled year'}, {'factValue': '', 'factLabel': 'Heating'}, {'factValue': '', 'factLabel': 'Cooling'}, {'factValue': '', 'factLabel': 'Parking'}, {'factValue': '—', 'factLabel': 'lotsize'}, {'factValue': None, 'factLabel': 'Price/sqft'}]}               3912\n",
       "{'atAGlanceFacts': [{'factValue': None, 'factLabel': 'Year built'}, {'factValue': None, 'factLabel': 'Remodeled year'}, {'factValue': None, 'factLabel': 'Heating'}, {'factValue': None, 'factLabel': 'Cooling'}, {'factValue': None, 'factLabel': 'Parking'}, {'factValue': None, 'factLabel': 'lotsize'}, {'factValue': None, 'factLabel': 'Price/sqft'}]}    3079\n",
       "{'atAGlanceFacts': [{'factValue': '', 'factLabel': 'Year built'}, {'factValue': '', 'factLabel': 'Remodeled year'}, {'factValue': '', 'factLabel': 'Heating'}, {'factValue': '', 'factLabel': 'Cooling'}, {'factValue': '', 'factLabel': 'Parking'}, {'factValue': '', 'factLabel': 'lotsize'}, {'factValue': None, 'factLabel': 'Price/sqft'}]}                 458\n",
       "{'atAGlanceFacts': [{'factValue': '', 'factLabel': 'Year built'}, {'factValue': '', 'factLabel': 'Remodeled year'}, {'factValue': '', 'factLabel': 'Heating'}, {'factValue': '', 'factLabel': 'Cooling'}, {'factValue': '', 'factLabel': 'Parking'}, {'factValue': '10018 sqft', 'factLabel': 'lotsize'}, {'factValue': None, 'factLabel': 'Price/sqft'}]}       273\n",
       "{'atAGlanceFacts': [{'factValue': '', 'factLabel': 'Year built'}, {'factValue': '', 'factLabel': 'Remodeled year'}, {'factValue': '', 'factLabel': 'Heating'}, {'factValue': '', 'factLabel': 'Cooling'}, {'factValue': '', 'factLabel': 'Parking'}, {'factValue': '0.23', 'factLabel': 'lotsize'}, {'factValue': None, 'factLabel': 'Price/sqft'}]}             172\n",
       "Name: homeFacts, dtype: int64"
      ]
     },
     "execution_count": 59,
     "metadata": {},
     "output_type": "execute_result"
    }
   ],
   "source": [
    "show_col_info('homeFacts')\n",
    "df['homeFacts'].value_counts(dropna=False)[:5]"
   ]
  },
  {
   "cell_type": "markdown",
   "metadata": {},
   "source": [
    "Переделаем из всех этих словарей новые колонки для каждого дома."
   ]
  },
  {
   "cell_type": "code",
   "execution_count": 60,
   "metadata": {
    "ExecuteTime": {
     "end_time": "2022-04-21T23:44:36.421990Z",
     "start_time": "2022-04-21T23:44:36.419318Z"
    }
   },
   "outputs": [],
   "source": [
    "def clear_home_facts(x):\n",
    "    x = x.replace(\"''\", '0')\n",
    "    x = x.replace(\"'\", \"\")\n",
    "    x = x.replace(\"None\", '0')\n",
    "    x = x.replace(\"No Data\", '0')\n",
    "    x = x.replace(\"No Info\", '0')\n",
    "    x = x.replace(\"/sqft\", '')\n",
    "    x = x.replace(\"$\", '')\n",
    "    return x"
   ]
  },
  {
   "cell_type": "code",
   "execution_count": 61,
   "metadata": {
    "ExecuteTime": {
     "end_time": "2022-04-21T23:44:36.427804Z",
     "start_time": "2022-04-21T23:44:36.422995Z"
    }
   },
   "outputs": [],
   "source": [
    "def parse_home_facts(s):\n",
    "    try:\n",
    "        res = []\n",
    "        s = s.split(\"{'atAGlanceFacts': [{'factValue': \")[1]\n",
    "        s = s.split(\", 'factLabel': 'Year built'}, {'factValue': \")\n",
    "        s[0] = clear_home_facts(s[0])\n",
    "        res.append(s[0])\n",
    "        \n",
    "        s = s[1].split(\", 'factLabel': 'Remodeled year'}, {'factValue': \")\n",
    "        s[0] = clear_home_facts(s[0])\n",
    "        res.append(s[0])\n",
    "        \n",
    "        s = s[1].split(\", 'factLabel': 'Heating'}, {'factValue': \")\n",
    "        res.append(s[0])\n",
    "        \n",
    "        s = s[1].split(\", 'factLabel': 'Cooling'}, {'factValue': \")\n",
    "        res.append(s[0])\n",
    "        \n",
    "        s = s[1].split(\", 'factLabel': 'Parking'}, {'factValue': \")\n",
    "        s[0] = clear_home_facts(s[0])\n",
    "        res.append(s[0])\n",
    "        \n",
    "        s = s[1].split(\", 'factLabel': 'lotsize'}, {'factValue': \")\n",
    "        res.append(s[0])\n",
    "        \n",
    "        s = s[1].split(\", 'factLabel': 'Price/sqft'}]}\")\n",
    "        s[0] = clear_home_facts(s[0])\n",
    "        res.append(s[0])\n",
    "        \n",
    "        return int(res[0]), int(res[1]), res[2], res[3], res[4], res[5], res[6]\n",
    "    \n",
    "    except:\n",
    "        return s"
   ]
  },
  {
   "cell_type": "code",
   "execution_count": 62,
   "metadata": {
    "ExecuteTime": {
     "end_time": "2022-04-21T23:44:38.246667Z",
     "start_time": "2022-04-21T23:44:36.428858Z"
    }
   },
   "outputs": [],
   "source": [
    "homeFacts = df['homeFacts'].map(parse_home_facts)"
   ]
  },
  {
   "cell_type": "code",
   "execution_count": 63,
   "metadata": {
    "ExecuteTime": {
     "end_time": "2022-04-21T23:44:38.430033Z",
     "start_time": "2022-04-21T23:44:38.247651Z"
    },
    "scrolled": true
   },
   "outputs": [],
   "source": [
    "new_columns = ['hf_built_year', 'hf_remodeled_year' , 'hf_heating', \n",
    "               'hf_cooling', 'hf_parking', 'hf_lotsize' , 'hf_price_sqft' ]\n",
    "hf_data = pd.DataFrame.from_records(homeFacts, columns = new_columns)"
   ]
  },
  {
   "cell_type": "code",
   "execution_count": 64,
   "metadata": {
    "ExecuteTime": {
     "end_time": "2022-04-21T23:44:38.444013Z",
     "start_time": "2022-04-21T23:44:38.430950Z"
    }
   },
   "outputs": [
    {
     "data": {
      "text/html": [
       "<div>\n",
       "<style scoped>\n",
       "    .dataframe tbody tr th:only-of-type {\n",
       "        vertical-align: middle;\n",
       "    }\n",
       "\n",
       "    .dataframe tbody tr th {\n",
       "        vertical-align: top;\n",
       "    }\n",
       "\n",
       "    .dataframe thead th {\n",
       "        text-align: right;\n",
       "    }\n",
       "</style>\n",
       "<table border=\"1\" class=\"dataframe\">\n",
       "  <thead>\n",
       "    <tr style=\"text-align: right;\">\n",
       "      <th></th>\n",
       "      <th>hf_built_year</th>\n",
       "      <th>hf_remodeled_year</th>\n",
       "      <th>hf_heating</th>\n",
       "      <th>hf_cooling</th>\n",
       "      <th>hf_parking</th>\n",
       "      <th>hf_lotsize</th>\n",
       "      <th>hf_price_sqft</th>\n",
       "    </tr>\n",
       "  </thead>\n",
       "  <tbody>\n",
       "    <tr>\n",
       "      <th>130313</th>\n",
       "      <td>1947</td>\n",
       "      <td>0</td>\n",
       "      <td>'Electric'</td>\n",
       "      <td>'Central'</td>\n",
       "      <td>2 spaces</td>\n",
       "      <td>None</td>\n",
       "      <td>86</td>\n",
       "    </tr>\n",
       "    <tr>\n",
       "      <th>313017</th>\n",
       "      <td>2016</td>\n",
       "      <td>0</td>\n",
       "      <td>'Electric'</td>\n",
       "      <td>'Central'</td>\n",
       "      <td>Attached Garage</td>\n",
       "      <td>'3,419 sqft lot'</td>\n",
       "      <td>181</td>\n",
       "    </tr>\n",
       "    <tr>\n",
       "      <th>198257</th>\n",
       "      <td>0</td>\n",
       "      <td>0</td>\n",
       "      <td>''</td>\n",
       "      <td>''</td>\n",
       "      <td>0</td>\n",
       "      <td>''</td>\n",
       "      <td>131</td>\n",
       "    </tr>\n",
       "    <tr>\n",
       "      <th>80564</th>\n",
       "      <td>1938</td>\n",
       "      <td>1938</td>\n",
       "      <td>'Central Electric'</td>\n",
       "      <td>'Central Gas'</td>\n",
       "      <td>0</td>\n",
       "      <td>'5,327 Sq. Ft.'</td>\n",
       "      <td>472 / Sq. Ft.</td>\n",
       "    </tr>\n",
       "    <tr>\n",
       "      <th>265241</th>\n",
       "      <td>0</td>\n",
       "      <td>0</td>\n",
       "      <td>''</td>\n",
       "      <td>''</td>\n",
       "      <td>0</td>\n",
       "      <td>'—'</td>\n",
       "      <td>424 / Sq. Ft.</td>\n",
       "    </tr>\n",
       "  </tbody>\n",
       "</table>\n",
       "</div>"
      ],
      "text/plain": [
       "        hf_built_year  hf_remodeled_year          hf_heating     hf_cooling  \\\n",
       "130313           1947                  0          'Electric'      'Central'   \n",
       "313017           2016                  0          'Electric'      'Central'   \n",
       "198257              0                  0                  ''             ''   \n",
       "80564            1938               1938  'Central Electric'  'Central Gas'   \n",
       "265241              0                  0                  ''             ''   \n",
       "\n",
       "             hf_parking        hf_lotsize  hf_price_sqft  \n",
       "130313         2 spaces              None             86  \n",
       "313017  Attached Garage  '3,419 sqft lot'            181  \n",
       "198257                0                ''            131  \n",
       "80564                 0   '5,327 Sq. Ft.'  472 / Sq. Ft.  \n",
       "265241                0               '—'  424 / Sq. Ft.  "
      ]
     },
     "execution_count": 64,
     "metadata": {},
     "output_type": "execute_result"
    }
   ],
   "source": [
    "hf_data.sample(5)"
   ]
  },
  {
   "cell_type": "markdown",
   "metadata": {},
   "source": [
    "### Колонка \"hf_built_year\""
   ]
  },
  {
   "cell_type": "code",
   "execution_count": 65,
   "metadata": {
    "ExecuteTime": {
     "end_time": "2022-04-21T23:44:38.451022Z",
     "start_time": "2022-04-21T23:44:38.445233Z"
    }
   },
   "outputs": [
    {
     "data": {
      "text/plain": [
       "0       49403\n",
       "2019    28162\n",
       "2006     7176\n",
       "2005     6657\n",
       "2007     6205\n",
       "        ...  \n",
       "1857        1\n",
       "1829        1\n",
       "1855        1\n",
       "1845        1\n",
       "1790        1\n",
       "Name: hf_built_year, Length: 218, dtype: int64"
      ]
     },
     "execution_count": 65,
     "metadata": {},
     "output_type": "execute_result"
    }
   ],
   "source": [
    "hf_data['hf_built_year'].value_counts(dropna=False)"
   ]
  },
  {
   "cell_type": "code",
   "execution_count": 66,
   "metadata": {
    "ExecuteTime": {
     "end_time": "2022-04-21T23:44:38.465277Z",
     "start_time": "2022-04-21T23:44:38.451934Z"
    }
   },
   "outputs": [
    {
     "data": {
      "text/html": [
       "<div>\n",
       "<style scoped>\n",
       "    .dataframe tbody tr th:only-of-type {\n",
       "        vertical-align: middle;\n",
       "    }\n",
       "\n",
       "    .dataframe tbody tr th {\n",
       "        vertical-align: top;\n",
       "    }\n",
       "\n",
       "    .dataframe thead th {\n",
       "        text-align: right;\n",
       "    }\n",
       "</style>\n",
       "<table border=\"1\" class=\"dataframe\">\n",
       "  <thead>\n",
       "    <tr style=\"text-align: right;\">\n",
       "      <th></th>\n",
       "      <th>hf_built_year</th>\n",
       "    </tr>\n",
       "  </thead>\n",
       "  <tbody>\n",
       "    <tr>\n",
       "      <th>count</th>\n",
       "      <td>3.217100e+05</td>\n",
       "    </tr>\n",
       "    <tr>\n",
       "      <th>mean</th>\n",
       "      <td>3.483014e+06</td>\n",
       "    </tr>\n",
       "    <tr>\n",
       "      <th>std</th>\n",
       "      <td>1.396249e+09</td>\n",
       "    </tr>\n",
       "    <tr>\n",
       "      <th>min</th>\n",
       "      <td>0.000000e+00</td>\n",
       "    </tr>\n",
       "    <tr>\n",
       "      <th>25%</th>\n",
       "      <td>1.935000e+03</td>\n",
       "    </tr>\n",
       "    <tr>\n",
       "      <th>50%</th>\n",
       "      <td>1.976000e+03</td>\n",
       "    </tr>\n",
       "    <tr>\n",
       "      <th>75%</th>\n",
       "      <td>2.005000e+03</td>\n",
       "    </tr>\n",
       "    <tr>\n",
       "      <th>max</th>\n",
       "      <td>5.599906e+11</td>\n",
       "    </tr>\n",
       "  </tbody>\n",
       "</table>\n",
       "</div>"
      ],
      "text/plain": [
       "       hf_built_year\n",
       "count   3.217100e+05\n",
       "mean    3.483014e+06\n",
       "std     1.396249e+09\n",
       "min     0.000000e+00\n",
       "25%     1.935000e+03\n",
       "50%     1.976000e+03\n",
       "75%     2.005000e+03\n",
       "max     5.599906e+11"
      ]
     },
     "execution_count": 66,
     "metadata": {},
     "output_type": "execute_result"
    }
   ],
   "source": [
    "hf_data[['hf_built_year']].describe()"
   ]
  },
  {
   "cell_type": "code",
   "execution_count": 67,
   "metadata": {
    "ExecuteTime": {
     "end_time": "2022-04-21T23:44:38.470586Z",
     "start_time": "2022-04-21T23:44:38.466608Z"
    }
   },
   "outputs": [
    {
     "data": {
      "text/plain": [
       "2019.0"
      ]
     },
     "execution_count": 67,
     "metadata": {},
     "output_type": "execute_result"
    }
   ],
   "source": [
    "hf_data['hf_built_year'].quantile(0.95)"
   ]
  },
  {
   "cell_type": "code",
   "execution_count": 68,
   "metadata": {
    "ExecuteTime": {
     "end_time": "2022-04-21T23:44:38.478527Z",
     "start_time": "2022-04-21T23:44:38.471566Z"
    }
   },
   "outputs": [
    {
     "data": {
      "text/plain": [
       "0               49403\n",
       "2019            28162\n",
       "2018             5399\n",
       "2017             4317\n",
       "2016             4195\n",
       "2020             2087\n",
       "2021               45\n",
       "1799                3\n",
       "1795                2\n",
       "559990649990        2\n",
       "2025                2\n",
       "1057                1\n",
       "1788                1\n",
       "1019                1\n",
       "1750                1\n",
       "1208                1\n",
       "1735                1\n",
       "1796                1\n",
       "1700                1\n",
       "1                   1\n",
       "1790                1\n",
       "Name: hf_built_year, dtype: int64"
      ]
     },
     "execution_count": 68,
     "metadata": {},
     "output_type": "execute_result"
    }
   ],
   "source": [
    "hf_data.loc[(hf_data.hf_built_year < 1800) | (hf_data.hf_built_year > 2015),\n",
    "           'hf_built_year'].value_counts(dropna=False)"
   ]
  },
  {
   "cell_type": "code",
   "execution_count": 69,
   "metadata": {
    "ExecuteTime": {
     "end_time": "2022-04-21T23:44:38.483663Z",
     "start_time": "2022-04-21T23:44:38.479682Z"
    }
   },
   "outputs": [],
   "source": [
    "hf_data.loc[(hf_data.hf_built_year < 1800), 'hf_built_year'] = 0"
   ]
  },
  {
   "cell_type": "code",
   "execution_count": 70,
   "metadata": {
    "ExecuteTime": {
     "end_time": "2022-04-21T23:44:38.489601Z",
     "start_time": "2022-04-21T23:44:38.484555Z"
    }
   },
   "outputs": [
    {
     "data": {
      "text/plain": [
       "2019            28162\n",
       "2018             5399\n",
       "2017             4317\n",
       "2016             4195\n",
       "2020             2087\n",
       "2021               45\n",
       "2025                2\n",
       "559990649990        2\n",
       "Name: hf_built_year, dtype: int64"
      ]
     },
     "execution_count": 70,
     "metadata": {},
     "output_type": "execute_result"
    }
   ],
   "source": [
    "hf_data.loc[(hf_data.hf_built_year > 2015),\n",
    "           'hf_built_year'].value_counts(dropna=False)"
   ]
  },
  {
   "cell_type": "code",
   "execution_count": 71,
   "metadata": {
    "ExecuteTime": {
     "end_time": "2022-04-21T23:44:38.493675Z",
     "start_time": "2022-04-21T23:44:38.490410Z"
    }
   },
   "outputs": [],
   "source": [
    "hf_data.hf_built_year.replace(559990649990, 0, inplace=True)\n",
    "hf_data.hf_built_year.replace(2025, 2021, inplace=True)"
   ]
  },
  {
   "cell_type": "code",
   "execution_count": 72,
   "metadata": {
    "ExecuteTime": {
     "end_time": "2022-04-21T23:44:38.573419Z",
     "start_time": "2022-04-21T23:44:38.494601Z"
    }
   },
   "outputs": [],
   "source": [
    "df['built_year'] = list(hf_data['hf_built_year'])"
   ]
  },
  {
   "cell_type": "markdown",
   "metadata": {},
   "source": [
    "Давайте заменим пропуски на медианное значение."
   ]
  },
  {
   "cell_type": "code",
   "execution_count": 73,
   "metadata": {
    "ExecuteTime": {
     "end_time": "2022-04-21T23:44:38.582287Z",
     "start_time": "2022-04-21T23:44:38.574474Z"
    },
    "scrolled": true
   },
   "outputs": [],
   "source": [
    "mean_built_year = df.loc[df['built_year'] != 0, 'built_year'].median()"
   ]
  },
  {
   "cell_type": "code",
   "execution_count": 74,
   "metadata": {
    "ExecuteTime": {
     "end_time": "2022-04-21T23:44:38.587322Z",
     "start_time": "2022-04-21T23:44:38.583291Z"
    }
   },
   "outputs": [],
   "source": [
    "df.loc[df['built_year'] == 0, 'built_year'] = mean_built_year"
   ]
  },
  {
   "cell_type": "markdown",
   "metadata": {},
   "source": [
    "### Колонка \"hf_remodeled_year\""
   ]
  },
  {
   "cell_type": "code",
   "execution_count": 75,
   "metadata": {
    "ExecuteTime": {
     "end_time": "2022-04-21T23:44:38.593692Z",
     "start_time": "2022-04-21T23:44:38.588289Z"
    }
   },
   "outputs": [
    {
     "data": {
      "text/plain": [
       "0       191513\n",
       "2006      4935\n",
       "2005      4174\n",
       "2007      3728\n",
       "2008      3098\n",
       "         ...  \n",
       "1897         1\n",
       "1862         1\n",
       "1853         1\n",
       "1846         1\n",
       "1800         1\n",
       "Name: hf_remodeled_year, Length: 146, dtype: int64"
      ]
     },
     "execution_count": 75,
     "metadata": {},
     "output_type": "execute_result"
    }
   ],
   "source": [
    "hf_data['hf_remodeled_year'].value_counts(dropna=False)"
   ]
  },
  {
   "cell_type": "code",
   "execution_count": 76,
   "metadata": {
    "ExecuteTime": {
     "end_time": "2022-04-21T23:44:38.606739Z",
     "start_time": "2022-04-21T23:44:38.594671Z"
    }
   },
   "outputs": [
    {
     "data": {
      "text/html": [
       "<div>\n",
       "<style scoped>\n",
       "    .dataframe tbody tr th:only-of-type {\n",
       "        vertical-align: middle;\n",
       "    }\n",
       "\n",
       "    .dataframe tbody tr th {\n",
       "        vertical-align: top;\n",
       "    }\n",
       "\n",
       "    .dataframe thead th {\n",
       "        text-align: right;\n",
       "    }\n",
       "</style>\n",
       "<table border=\"1\" class=\"dataframe\">\n",
       "  <thead>\n",
       "    <tr style=\"text-align: right;\">\n",
       "      <th></th>\n",
       "      <th>hf_remodeled_year</th>\n",
       "    </tr>\n",
       "  </thead>\n",
       "  <tbody>\n",
       "    <tr>\n",
       "      <th>count</th>\n",
       "      <td>321710.000000</td>\n",
       "    </tr>\n",
       "    <tr>\n",
       "      <th>mean</th>\n",
       "      <td>802.550521</td>\n",
       "    </tr>\n",
       "    <tr>\n",
       "      <th>std</th>\n",
       "      <td>973.472384</td>\n",
       "    </tr>\n",
       "    <tr>\n",
       "      <th>min</th>\n",
       "      <td>0.000000</td>\n",
       "    </tr>\n",
       "    <tr>\n",
       "      <th>25%</th>\n",
       "      <td>0.000000</td>\n",
       "    </tr>\n",
       "    <tr>\n",
       "      <th>50%</th>\n",
       "      <td>0.000000</td>\n",
       "    </tr>\n",
       "    <tr>\n",
       "      <th>75%</th>\n",
       "      <td>1978.000000</td>\n",
       "    </tr>\n",
       "    <tr>\n",
       "      <th>max</th>\n",
       "      <td>2021.000000</td>\n",
       "    </tr>\n",
       "  </tbody>\n",
       "</table>\n",
       "</div>"
      ],
      "text/plain": [
       "       hf_remodeled_year\n",
       "count      321710.000000\n",
       "mean          802.550521\n",
       "std           973.472384\n",
       "min             0.000000\n",
       "25%             0.000000\n",
       "50%             0.000000\n",
       "75%          1978.000000\n",
       "max          2021.000000"
      ]
     },
     "execution_count": 76,
     "metadata": {},
     "output_type": "execute_result"
    }
   ],
   "source": [
    "hf_data[['hf_remodeled_year']].describe()"
   ]
  },
  {
   "cell_type": "markdown",
   "metadata": {},
   "source": [
    "Посмотрим на значения, где `hf_remodeled_year` был меньше, чем `hf_built_year` (такое физически не возможно)"
   ]
  },
  {
   "cell_type": "code",
   "execution_count": 77,
   "metadata": {
    "ExecuteTime": {
     "end_time": "2022-04-21T23:44:38.615424Z",
     "start_time": "2022-04-21T23:44:38.608336Z"
    }
   },
   "outputs": [
    {
     "data": {
      "text/html": [
       "<div>\n",
       "<style scoped>\n",
       "    .dataframe tbody tr th:only-of-type {\n",
       "        vertical-align: middle;\n",
       "    }\n",
       "\n",
       "    .dataframe tbody tr th {\n",
       "        vertical-align: top;\n",
       "    }\n",
       "\n",
       "    .dataframe thead th {\n",
       "        text-align: right;\n",
       "    }\n",
       "</style>\n",
       "<table border=\"1\" class=\"dataframe\">\n",
       "  <thead>\n",
       "    <tr style=\"text-align: right;\">\n",
       "      <th></th>\n",
       "      <th>hf_built_year</th>\n",
       "      <th>hf_remodeled_year</th>\n",
       "      <th>hf_heating</th>\n",
       "      <th>hf_cooling</th>\n",
       "      <th>hf_parking</th>\n",
       "      <th>hf_lotsize</th>\n",
       "      <th>hf_price_sqft</th>\n",
       "    </tr>\n",
       "  </thead>\n",
       "  <tbody>\n",
       "    <tr>\n",
       "      <th>86483</th>\n",
       "      <td>2005</td>\n",
       "      <td>2000</td>\n",
       "      <td>'No Data'</td>\n",
       "      <td>'No Data'</td>\n",
       "      <td>0</td>\n",
       "      <td>'2 acres'</td>\n",
       "      <td>0</td>\n",
       "    </tr>\n",
       "    <tr>\n",
       "      <th>99823</th>\n",
       "      <td>1940</td>\n",
       "      <td>1925</td>\n",
       "      <td>'Gas'</td>\n",
       "      <td>''</td>\n",
       "      <td>Attached Garage</td>\n",
       "      <td>'2500 sqft'</td>\n",
       "      <td>375</td>\n",
       "    </tr>\n",
       "    <tr>\n",
       "      <th>242256</th>\n",
       "      <td>2017</td>\n",
       "      <td>2016</td>\n",
       "      <td>'Central Electric'</td>\n",
       "      <td>'Central Gas'</td>\n",
       "      <td>0</td>\n",
       "      <td>'0.32 Acres'</td>\n",
       "      <td>216 / Sq. Ft.</td>\n",
       "    </tr>\n",
       "    <tr>\n",
       "      <th>112984</th>\n",
       "      <td>2019</td>\n",
       "      <td>2018</td>\n",
       "      <td>'Forced Air'</td>\n",
       "      <td>'Central'</td>\n",
       "      <td>Off Street</td>\n",
       "      <td>'3118 sqft'</td>\n",
       "      <td>334</td>\n",
       "    </tr>\n",
       "    <tr>\n",
       "      <th>306785</th>\n",
       "      <td>2019</td>\n",
       "      <td>2013</td>\n",
       "      <td>'Other'</td>\n",
       "      <td>'Central'</td>\n",
       "      <td>Attached Garage</td>\n",
       "      <td>'0.33 acres'</td>\n",
       "      <td>133</td>\n",
       "    </tr>\n",
       "    <tr>\n",
       "      <th>262341</th>\n",
       "      <td>2011</td>\n",
       "      <td>1947</td>\n",
       "      <td>'Forced air'</td>\n",
       "      <td>'Central'</td>\n",
       "      <td>0</td>\n",
       "      <td>'2.2 acres'</td>\n",
       "      <td>0</td>\n",
       "    </tr>\n",
       "    <tr>\n",
       "      <th>239224</th>\n",
       "      <td>2007</td>\n",
       "      <td>1980</td>\n",
       "      <td>'Forced air'</td>\n",
       "      <td>'Central'</td>\n",
       "      <td>2 spaces</td>\n",
       "      <td>'6,751 sqft'</td>\n",
       "      <td>170</td>\n",
       "    </tr>\n",
       "    <tr>\n",
       "      <th>254629</th>\n",
       "      <td>2018</td>\n",
       "      <td>1961</td>\n",
       "      <td>'Heat pump'</td>\n",
       "      <td>''</td>\n",
       "      <td>0</td>\n",
       "      <td>'7,135 sqft lot'</td>\n",
       "      <td>106</td>\n",
       "    </tr>\n",
       "    <tr>\n",
       "      <th>145124</th>\n",
       "      <td>1967</td>\n",
       "      <td>1925</td>\n",
       "      <td>'Forced Air'</td>\n",
       "      <td>'Central'</td>\n",
       "      <td>Attached Garage</td>\n",
       "      <td>'0.53 acres'</td>\n",
       "      <td>176</td>\n",
       "    </tr>\n",
       "    <tr>\n",
       "      <th>96255</th>\n",
       "      <td>2017</td>\n",
       "      <td>1957</td>\n",
       "      <td>'Other'</td>\n",
       "      <td>'Central'</td>\n",
       "      <td>Attached Garage</td>\n",
       "      <td>'9,152 sqft'</td>\n",
       "      <td>209</td>\n",
       "    </tr>\n",
       "  </tbody>\n",
       "</table>\n",
       "</div>"
      ],
      "text/plain": [
       "        hf_built_year  hf_remodeled_year          hf_heating     hf_cooling  \\\n",
       "86483            2005               2000           'No Data'      'No Data'   \n",
       "99823            1940               1925               'Gas'             ''   \n",
       "242256           2017               2016  'Central Electric'  'Central Gas'   \n",
       "112984           2019               2018        'Forced Air'      'Central'   \n",
       "306785           2019               2013             'Other'      'Central'   \n",
       "262341           2011               1947        'Forced air'      'Central'   \n",
       "239224           2007               1980        'Forced air'      'Central'   \n",
       "254629           2018               1961         'Heat pump'             ''   \n",
       "145124           1967               1925        'Forced Air'      'Central'   \n",
       "96255            2017               1957             'Other'      'Central'   \n",
       "\n",
       "             hf_parking        hf_lotsize  hf_price_sqft  \n",
       "86483                 0         '2 acres'              0  \n",
       "99823   Attached Garage       '2500 sqft'            375  \n",
       "242256                0      '0.32 Acres'  216 / Sq. Ft.  \n",
       "112984       Off Street       '3118 sqft'            334  \n",
       "306785  Attached Garage      '0.33 acres'            133  \n",
       "262341                0       '2.2 acres'              0  \n",
       "239224         2 spaces      '6,751 sqft'            170  \n",
       "254629                0  '7,135 sqft lot'            106  \n",
       "145124  Attached Garage      '0.53 acres'            176  \n",
       "96255   Attached Garage      '9,152 sqft'            209  "
      ]
     },
     "execution_count": 77,
     "metadata": {},
     "output_type": "execute_result"
    }
   ],
   "source": [
    "hf_data[(hf_data['hf_built_year'] > hf_data['hf_remodeled_year']) & \\\n",
    "        (hf_data['hf_remodeled_year'] != 0)].sample(10)"
   ]
  },
  {
   "cell_type": "markdown",
   "metadata": {},
   "source": [
    "Поставим таким домам значение 0 - значит, что не ремоделировался"
   ]
  },
  {
   "cell_type": "code",
   "execution_count": 78,
   "metadata": {
    "ExecuteTime": {
     "end_time": "2022-04-21T23:44:38.619438Z",
     "start_time": "2022-04-21T23:44:38.616371Z"
    }
   },
   "outputs": [],
   "source": [
    "hf_data.loc[(hf_data['hf_built_year'] > hf_data['hf_remodeled_year']) & (hf_data['hf_remodeled_year'] != 0),\n",
    "            'hf_remodeled_year'] = 0"
   ]
  },
  {
   "cell_type": "markdown",
   "metadata": {},
   "source": [
    "Создадим фичу \"было ремоделирование\""
   ]
  },
  {
   "cell_type": "code",
   "execution_count": 79,
   "metadata": {
    "ExecuteTime": {
     "end_time": "2022-04-21T23:44:38.714418Z",
     "start_time": "2022-04-21T23:44:38.620293Z"
    }
   },
   "outputs": [],
   "source": [
    "df['was_remodeled'] = list((hf_data['hf_remodeled_year'] == 0).map({True : 0,\n",
    "                                                                     False : 1}))"
   ]
  },
  {
   "cell_type": "code",
   "execution_count": 80,
   "metadata": {
    "ExecuteTime": {
     "end_time": "2022-04-21T23:44:38.791834Z",
     "start_time": "2022-04-21T23:44:38.715481Z"
    }
   },
   "outputs": [],
   "source": [
    "df['remodel_year'] = list(hf_data['hf_remodeled_year'])"
   ]
  },
  {
   "cell_type": "markdown",
   "metadata": {},
   "source": [
    "Создадим фичу \"возраст дома\""
   ]
  },
  {
   "cell_type": "code",
   "execution_count": 81,
   "metadata": {
    "ExecuteTime": {
     "end_time": "2022-04-21T23:44:38.795913Z",
     "start_time": "2022-04-21T23:44:38.792885Z"
    }
   },
   "outputs": [],
   "source": [
    "df['house_age'] = 2022-df['built_year']"
   ]
  },
  {
   "cell_type": "markdown",
   "metadata": {},
   "source": [
    "Также фича \"лет с последней реконструкции\"\n",
    "\n",
    "Если не было реконструкции, то поставим -1"
   ]
  },
  {
   "cell_type": "code",
   "execution_count": 82,
   "metadata": {
    "ExecuteTime": {
     "end_time": "2022-04-21T23:44:38.812635Z",
     "start_time": "2022-04-21T23:44:38.807448Z"
    }
   },
   "outputs": [],
   "source": [
    "df['last_remodeled'] = 2021 - df['remodel_year']\n",
    "\n",
    "df.loc[df['last_remodeled'] == 2021, 'last_remodeled'] = -1"
   ]
  },
  {
   "cell_type": "markdown",
   "metadata": {},
   "source": [
    "### Колонка \"hf_heating\""
   ]
  },
  {
   "cell_type": "code",
   "execution_count": 83,
   "metadata": {
    "ExecuteTime": {
     "end_time": "2022-04-21T23:44:38.852515Z",
     "start_time": "2022-04-21T23:44:38.813536Z"
    }
   },
   "outputs": [
    {
     "data": {
      "text/plain": [
       "''                                                               84243\n",
       "'Forced Air'                                                     72319\n",
       "'Forced air'                                                     44728\n",
       "'Other'                                                          25785\n",
       "'Electric'                                                        8460\n",
       "                                                                 ...  \n",
       "', Electric Hot Air, Heat Pump - Heat, Natural Gas'                  1\n",
       "'Baseboard, Heat pump, Other'                                        1\n",
       "'Garage-Hybrid Electric Heat Pump'                                   1\n",
       "'Baseboard, Gas Heater - Vented, Hot Water'                          1\n",
       "'Alternative Heat Stove, Forced Air, Hot Air, Stove - Pellet'        1\n",
       "Name: hf_heating, Length: 1752, dtype: int64"
      ]
     },
     "execution_count": 83,
     "metadata": {},
     "output_type": "execute_result"
    }
   ],
   "source": [
    "hf_data['hf_heating'].value_counts()"
   ]
  },
  {
   "cell_type": "code",
   "execution_count": 84,
   "metadata": {
    "ExecuteTime": {
     "end_time": "2022-04-21T23:44:39.061122Z",
     "start_time": "2022-04-21T23:44:38.853469Z"
    }
   },
   "outputs": [
    {
     "data": {
      "text/plain": [
       "forced air                     117047\n",
       "                                84243\n",
       "other                           25785\n",
       "electric                         8465\n",
       "gas                              8358\n",
       "heat pump                        8075\n",
       "no data                          7118\n",
       "central electric                 6739\n",
       "central air                      6524\n",
       "central                          5793\n",
       "central, electric                4111\n",
       "baseboard                        3422\n",
       "none                             3141\n",
       "electric heat                    3019\n",
       "wall                             3002\n",
       "heating system                   2406\n",
       "forced air, heat pump            1536\n",
       "natural gas heat                 1326\n",
       "central air, ceiling fan(s)      1176\n",
       "radiant                          1166\n",
       "Name: hf_heating, dtype: int64"
      ]
     },
     "execution_count": 84,
     "metadata": {},
     "output_type": "execute_result"
    }
   ],
   "source": [
    "hf_data['hf_heating'].str.replace(\"'\", \"\").str.lower().value_counts()[:20]"
   ]
  },
  {
   "cell_type": "code",
   "execution_count": 85,
   "metadata": {
    "ExecuteTime": {
     "end_time": "2022-04-21T23:44:39.069835Z",
     "start_time": "2022-04-21T23:44:39.062285Z"
    }
   },
   "outputs": [],
   "source": [
    "def clear_heat(s):\n",
    "    if len(s) == 0 or s == '' or s ==\"''\" or s == ' ' or 'NO DATA' in s: \n",
    "        return 'NO_DATA'\n",
    "    if 'AIR' in s or 'HEAT PUMP' in s: \n",
    "        return 'AIR'\n",
    "    if 'GAS' in s or 'PROPANE' in s: \n",
    "        return 'GAS'\n",
    "    if 'ELECTRIC' in s: \n",
    "        return 'ELECTRIC'\n",
    "    if 'NONE' in s or 'NO' in s: \n",
    "        return 'NONE'\n",
    "    if 'CENTRAL' in s: \n",
    "        return 'CENTRAL'\n",
    "    else: \n",
    "        return 'OTHER'"
   ]
  },
  {
   "cell_type": "code",
   "execution_count": 86,
   "metadata": {
    "ExecuteTime": {
     "end_time": "2022-04-21T23:44:39.224971Z",
     "start_time": "2022-04-21T23:44:39.070927Z"
    }
   },
   "outputs": [],
   "source": [
    "hf_data['hf_heating'] = hf_data['hf_heating'].str.replace(\"'\", \"\").str.upper()"
   ]
  },
  {
   "cell_type": "code",
   "execution_count": 87,
   "metadata": {
    "ExecuteTime": {
     "end_time": "2022-04-21T23:44:39.329377Z",
     "start_time": "2022-04-21T23:44:39.226025Z"
    }
   },
   "outputs": [],
   "source": [
    "hf_data['hf_heating'] = [clear_heat(x) for x in hf_data['hf_heating']]"
   ]
  },
  {
   "cell_type": "code",
   "execution_count": 88,
   "metadata": {
    "ExecuteTime": {
     "end_time": "2022-04-21T23:44:39.345771Z",
     "start_time": "2022-04-21T23:44:39.330377Z"
    }
   },
   "outputs": [
    {
     "data": {
      "text/plain": [
       "AIR         143709\n",
       "NO_DATA      91361\n",
       "OTHER        38850\n",
       "ELECTRIC     23956\n",
       "GAS          13408\n",
       "CENTRAL       7183\n",
       "NONE          3243\n",
       "Name: hf_heating, dtype: int64"
      ]
     },
     "execution_count": 88,
     "metadata": {},
     "output_type": "execute_result"
    }
   ],
   "source": [
    "hf_data['hf_heating'].value_counts()"
   ]
  },
  {
   "cell_type": "code",
   "execution_count": 89,
   "metadata": {
    "ExecuteTime": {
     "end_time": "2022-04-21T23:44:39.371769Z",
     "start_time": "2022-04-21T23:44:39.346979Z"
    }
   },
   "outputs": [],
   "source": [
    "df['heating'] = list(hf_data['hf_heating'])"
   ]
  },
  {
   "cell_type": "markdown",
   "metadata": {},
   "source": [
    "### Колонка \"hf_cooling\""
   ]
  },
  {
   "cell_type": "code",
   "execution_count": 90,
   "metadata": {
    "ExecuteTime": {
     "end_time": "2022-04-21T23:44:39.563845Z",
     "start_time": "2022-04-21T23:44:39.372590Z"
    }
   },
   "outputs": [],
   "source": [
    "hf_data['hf_cooling'] = hf_data['hf_cooling'].str.replace(\"'\", \"\").str.upper()"
   ]
  },
  {
   "cell_type": "code",
   "execution_count": 91,
   "metadata": {
    "ExecuteTime": {
     "end_time": "2022-04-21T23:44:39.590554Z",
     "start_time": "2022-04-21T23:44:39.564796Z"
    }
   },
   "outputs": [
    {
     "data": {
      "text/plain": [
       "CENTRAL                                            137723\n",
       "                                                    96673\n",
       "CENTRAL AIR                                         13715\n",
       "NONE                                                 9713\n",
       "NO DATA                                              8965\n",
       "HAS COOLING                                          8095\n",
       "CENTRAL ELECTRIC                                     5931\n",
       "WALL                                                 3644\n",
       "CENTRAL GAS                                          3317\n",
       "CENTRAL HEATING                                      2738\n",
       "COOLING SYSTEM                                       2399\n",
       "OTHER                                                1537\n",
       "CENTRAL A/C (ELECTRIC), CENTRAL HEAT (GAS)           1509\n",
       "CENTRAL A/C                                          1428\n",
       "CENTRAL A/C (ELECTRIC), CENTRAL HEAT (ELECTRIC)      1382\n",
       "CENTRAL, ELECTRIC                                    1053\n",
       "REFRIGERATION                                        1044\n",
       "EVAPORATIVE                                           967\n",
       "ELECTRIC                                              872\n",
       "REFRIGERATION, CEILING FAN(S)                         782\n",
       "Name: hf_cooling, dtype: int64"
      ]
     },
     "execution_count": 91,
     "metadata": {},
     "output_type": "execute_result"
    }
   ],
   "source": [
    "hf_data['hf_cooling'].value_counts()[:20]"
   ]
  },
  {
   "cell_type": "code",
   "execution_count": 92,
   "metadata": {
    "ExecuteTime": {
     "end_time": "2022-04-21T23:44:39.594238Z",
     "start_time": "2022-04-21T23:44:39.591860Z"
    }
   },
   "outputs": [],
   "source": [
    "def clear_cooling(s):\n",
    "    if len(s) == 0 or s == '' or s ==\"''\" or s == ' ' or 'NO DATA' in s: \n",
    "        return 'NO_DATA'\n",
    "    if 'CENTRAL' in s: \n",
    "        return 'CENTRAL'\n",
    "    if 'NONE' in s or 'NO' in s: \n",
    "        return 'NONE'\n",
    "    else: \n",
    "        return 'OTHER'"
   ]
  },
  {
   "cell_type": "code",
   "execution_count": 93,
   "metadata": {
    "ExecuteTime": {
     "end_time": "2022-04-21T23:44:39.688633Z",
     "start_time": "2022-04-21T23:44:39.595080Z"
    }
   },
   "outputs": [],
   "source": [
    "hf_data['hf_cooling'] = [clear_cooling(x) for x in hf_data['hf_cooling']]"
   ]
  },
  {
   "cell_type": "code",
   "execution_count": 94,
   "metadata": {
    "ExecuteTime": {
     "end_time": "2022-04-21T23:44:39.705471Z",
     "start_time": "2022-04-21T23:44:39.689555Z"
    }
   },
   "outputs": [
    {
     "data": {
      "text/plain": [
       "CENTRAL    179467\n",
       "NO_DATA    105638\n",
       "OTHER       26654\n",
       "NONE         9951\n",
       "Name: hf_cooling, dtype: int64"
      ]
     },
     "execution_count": 94,
     "metadata": {},
     "output_type": "execute_result"
    }
   ],
   "source": [
    "hf_data['hf_cooling'].value_counts()"
   ]
  },
  {
   "cell_type": "code",
   "execution_count": 95,
   "metadata": {
    "ExecuteTime": {
     "end_time": "2022-04-21T23:44:39.732067Z",
     "start_time": "2022-04-21T23:44:39.706478Z"
    }
   },
   "outputs": [],
   "source": [
    "df['cooling'] = list(hf_data['hf_cooling'])"
   ]
  },
  {
   "cell_type": "markdown",
   "metadata": {},
   "source": [
    "### Колонка \"hf_parking\""
   ]
  },
  {
   "cell_type": "code",
   "execution_count": 96,
   "metadata": {
    "ExecuteTime": {
     "end_time": "2022-04-21T23:44:39.767587Z",
     "start_time": "2022-04-21T23:44:39.733043Z"
    }
   },
   "outputs": [
    {
     "data": {
      "text/plain": [
       "0                                   161697\n",
       "Attached Garage                      60149\n",
       "2 spaces                             25275\n",
       "1 space                              13153\n",
       "Detached Garage                      11623\n",
       "Carport                               7156\n",
       "3 spaces                              3677\n",
       "Off Street                            3181\n",
       "Carport, Attached Garage              2633\n",
       "1                                     2627\n",
       "2                                     2321\n",
       "4 spaces                              2136\n",
       "Off street                            1410\n",
       "On Street                             1075\n",
       "Attached Garage, Detached Garage      1029\n",
       "Attached Garage, Carport               863\n",
       "Parking Desc                           776\n",
       "Driveway                               668\n",
       "Detached Garage, Attached Garage       562\n",
       "6 spaces                               485\n",
       "Name: hf_parking, dtype: int64"
      ]
     },
     "execution_count": 96,
     "metadata": {},
     "output_type": "execute_result"
    }
   ],
   "source": [
    "hf_data['hf_parking'].value_counts()[:20]"
   ]
  },
  {
   "cell_type": "code",
   "execution_count": 97,
   "metadata": {
    "ExecuteTime": {
     "end_time": "2022-04-21T23:44:39.771678Z",
     "start_time": "2022-04-21T23:44:39.768376Z"
    }
   },
   "outputs": [],
   "source": [
    "def clear_parking(s):\n",
    "    if '1' in s or \"ONE\" in s or 'SING' in s: \n",
    "        return 'ONE'\n",
    "    elif '2' in s or \"TWO\" in s or \"DOUB\" in s: \n",
    "        return 'TWO'\n",
    "    elif '3' in s: \n",
    "        return 'THREE'\n",
    "    elif 'ATTACHED' in s: \n",
    "        return 'ATTACHED'\n",
    "    elif 'DETACHED' in s: \n",
    "        return 'DETACHED'\n",
    "    elif 'OFF' in s: \n",
    "        return 'OFF_STREET'\n",
    "    elif 'ON' in s: \n",
    "        return 'ON_STREET'\n",
    "    elif 'CAR' in s: \n",
    "        return 'CARPORT'\n",
    "    elif '4' in s or '5' in s or '6' in s or '7' in s or '8' in s or '9' in s: \n",
    "        return 'FOUR_OR_MORE'\n",
    "    elif 'NONE' in s or 'NO' in s or s == '0': \n",
    "        return 'NONE'\n",
    "    else: \n",
    "        return 'OTHER'"
   ]
  },
  {
   "cell_type": "code",
   "execution_count": 98,
   "metadata": {
    "ExecuteTime": {
     "end_time": "2022-04-21T23:44:39.951080Z",
     "start_time": "2022-04-21T23:44:39.772502Z"
    }
   },
   "outputs": [],
   "source": [
    "hf_data['hf_parking'] = [clear_parking(x) for x in hf_data['hf_parking']]"
   ]
  },
  {
   "cell_type": "code",
   "execution_count": 99,
   "metadata": {
    "ExecuteTime": {
     "end_time": "2022-04-21T23:44:39.968463Z",
     "start_time": "2022-04-21T23:44:39.952146Z"
    }
   },
   "outputs": [
    {
     "data": {
      "text/plain": [
       "NONE            161697\n",
       "OTHER           103803\n",
       "TWO              30134\n",
       "ONE              16684\n",
       "THREE             4385\n",
       "FOUR_OR_MORE      4192\n",
       "ON_STREET          815\n",
       "Name: hf_parking, dtype: int64"
      ]
     },
     "execution_count": 99,
     "metadata": {},
     "output_type": "execute_result"
    }
   ],
   "source": [
    "hf_data['hf_parking'].value_counts()"
   ]
  },
  {
   "cell_type": "code",
   "execution_count": 100,
   "metadata": {
    "ExecuteTime": {
     "end_time": "2022-04-21T23:44:39.995698Z",
     "start_time": "2022-04-21T23:44:39.969556Z"
    }
   },
   "outputs": [],
   "source": [
    "df['parking'] = list(hf_data['hf_parking'])"
   ]
  },
  {
   "cell_type": "markdown",
   "metadata": {},
   "source": [
    "### Колонка \"hf_lotsize\"\n",
    "\n",
    "У нас уже есть колонка с данными о площади, но вдруг это какая-то другая площадь. Давайте ее тоже возьмем."
   ]
  },
  {
   "cell_type": "code",
   "execution_count": 101,
   "metadata": {
    "ExecuteTime": {
     "end_time": "2022-04-21T23:44:40.058346Z",
     "start_time": "2022-04-21T23:44:39.996791Z"
    }
   },
   "outputs": [
    {
     "data": {
      "text/plain": [
       "''               27827\n",
       "None             24849\n",
       "'—'              19965\n",
       "'No Data'         4973\n",
       "'-- sqft lot'     3543\n",
       "'0.26 acres'      2069\n",
       "'0.28 acres'      1777\n",
       "'0.25 acres'      1772\n",
       "'0.27 acres'      1696\n",
       "'0.29 acres'      1557\n",
       "'6,098 sqft'      1435\n",
       "'0.34 acres'      1343\n",
       "'7,405 sqft'      1291\n",
       "'6,534 sqft'      1232\n",
       "'0.3 acres'       1210\n",
       "'0.31 acres'      1122\n",
       "'10,000 sqft'     1108\n",
       "'5,227 sqft'      1048\n",
       "'0.32 acres'      1044\n",
       "'4,356 sqft'      1012\n",
       "Name: hf_lotsize, dtype: int64"
      ]
     },
     "execution_count": 101,
     "metadata": {},
     "output_type": "execute_result"
    }
   ],
   "source": [
    "hf_data['hf_lotsize'].value_counts(dropna=False)[:20]"
   ]
  },
  {
   "cell_type": "markdown",
   "metadata": {},
   "source": [
    "Все таки этот столбец будет очень проблемотичен, тк есть данные в квадратных футах, есть в акрах, есть пропуски. К тому же, он будет сильно коррелировать со столбцом sqft в основном датасете."
   ]
  },
  {
   "cell_type": "markdown",
   "metadata": {},
   "source": [
    "### Колонка \"hf_price_sqft\""
   ]
  },
  {
   "cell_type": "code",
   "execution_count": 102,
   "metadata": {
    "ExecuteTime": {
     "end_time": "2022-04-21T23:44:40.105255Z",
     "start_time": "2022-04-21T23:44:40.059219Z"
    }
   },
   "outputs": [
    {
     "data": {
      "text/plain": [
       "0                   49235\n",
       "122                  1436\n",
       "121                  1436\n",
       "123                  1433\n",
       "127                  1427\n",
       "                    ...  \n",
       "1,210                   1\n",
       "129900 / Sq. Ft.        1\n",
       "1,766                   1\n",
       "640 / Sq. Ft.           1\n",
       "1343 / Sq. Ft.          1\n",
       "Name: hf_price_sqft, Length: 2463, dtype: int64"
      ]
     },
     "execution_count": 102,
     "metadata": {},
     "output_type": "execute_result"
    }
   ],
   "source": [
    "hf_data['hf_price_sqft'].value_counts(dropna=False)"
   ]
  },
  {
   "cell_type": "code",
   "execution_count": 103,
   "metadata": {
    "ExecuteTime": {
     "end_time": "2022-04-21T23:44:40.413631Z",
     "start_time": "2022-04-21T23:44:40.106407Z"
    }
   },
   "outputs": [],
   "source": [
    "hf_data['hf_price_sqft'] = [re.sub(r'[^0-9.,]', r'', x).replace('..', '.') for x in hf_data['hf_price_sqft']]"
   ]
  },
  {
   "cell_type": "code",
   "execution_count": 104,
   "metadata": {
    "ExecuteTime": {
     "end_time": "2022-04-21T23:44:40.548441Z",
     "start_time": "2022-04-21T23:44:40.414424Z"
    }
   },
   "outputs": [],
   "source": [
    "hf_data['hf_price_sqft'] = hf_data['hf_price_sqft'].str.replace(',', '.').astype(float)"
   ]
  },
  {
   "cell_type": "code",
   "execution_count": 105,
   "metadata": {
    "ExecuteTime": {
     "end_time": "2022-04-21T23:44:40.556898Z",
     "start_time": "2022-04-21T23:44:40.549378Z"
    }
   },
   "outputs": [
    {
     "data": {
      "text/plain": [
       "0.000       49235\n",
       "125.000      1713\n",
       "121.000      1707\n",
       "128.000      1702\n",
       "123.000      1696\n",
       "            ...  \n",
       "1181.000        1\n",
       "1.466           1\n",
       "1.181           1\n",
       "185.900         1\n",
       "2.143           1\n",
       "Name: hf_price_sqft, Length: 1515, dtype: int64"
      ]
     },
     "execution_count": 105,
     "metadata": {},
     "output_type": "execute_result"
    }
   ],
   "source": [
    "hf_data['hf_price_sqft'].value_counts(dropna=False)"
   ]
  },
  {
   "cell_type": "markdown",
   "metadata": {},
   "source": [
    "Если честно, мне кажется, что этот столбец неправильно использовать, тк цена дома очень сильно зависит от цены на квадратный фут. Давайте лучше не будем его использовать."
   ]
  },
  {
   "cell_type": "code",
   "execution_count": 106,
   "metadata": {
    "ExecuteTime": {
     "end_time": "2022-04-21T23:44:40.643537Z",
     "start_time": "2022-04-21T23:44:40.557790Z"
    }
   },
   "outputs": [],
   "source": [
    "df = df.drop(columns='homeFacts')"
   ]
  },
  {
   "cell_type": "markdown",
   "metadata": {},
   "source": [
    "## Колонка \"fireplace\""
   ]
  },
  {
   "cell_type": "code",
   "execution_count": 107,
   "metadata": {
    "ExecuteTime": {
     "end_time": "2022-04-21T23:44:40.659842Z",
     "start_time": "2022-04-21T23:44:40.644357Z"
    }
   },
   "outputs": [
    {
     "data": {
      "text/html": [
       "<div>\n",
       "<style scoped>\n",
       "    .dataframe tbody tr th:only-of-type {\n",
       "        vertical-align: middle;\n",
       "    }\n",
       "\n",
       "    .dataframe tbody tr th {\n",
       "        vertical-align: top;\n",
       "    }\n",
       "\n",
       "    .dataframe thead th {\n",
       "        text-align: right;\n",
       "    }\n",
       "</style>\n",
       "<table border=\"1\" class=\"dataframe\">\n",
       "  <thead>\n",
       "    <tr style=\"text-align: right;\">\n",
       "      <th></th>\n",
       "      <th>status</th>\n",
       "      <th>propertyType</th>\n",
       "      <th>street</th>\n",
       "      <th>baths</th>\n",
       "      <th>fireplace</th>\n",
       "      <th>city</th>\n",
       "      <th>schools</th>\n",
       "      <th>sqft</th>\n",
       "      <th>zipcode</th>\n",
       "      <th>beds</th>\n",
       "      <th>state</th>\n",
       "      <th>stories</th>\n",
       "      <th>mls-id</th>\n",
       "      <th>PrivatePool</th>\n",
       "      <th>MlsId</th>\n",
       "      <th>target</th>\n",
       "      <th>has_adress</th>\n",
       "      <th>built_year</th>\n",
       "      <th>was_remodeled</th>\n",
       "      <th>remodel_year</th>\n",
       "      <th>house_age</th>\n",
       "      <th>last_remodeled</th>\n",
       "      <th>heating</th>\n",
       "      <th>cooling</th>\n",
       "      <th>parking</th>\n",
       "    </tr>\n",
       "  </thead>\n",
       "  <tbody>\n",
       "    <tr>\n",
       "      <th>226121</th>\n",
       "      <td>FOR SALE</td>\n",
       "      <td>TOWNHOUSE</td>\n",
       "      <td>DRIVE</td>\n",
       "      <td>2.0</td>\n",
       "      <td>NaN</td>\n",
       "      <td>Weston</td>\n",
       "      <td>[{'rating': ['8/10', '9/10', '9/10'], 'data': ...</td>\n",
       "      <td>1,268 sqft</td>\n",
       "      <td>33326</td>\n",
       "      <td>3 Beds</td>\n",
       "      <td>FL</td>\n",
       "      <td>NaN</td>\n",
       "      <td>NaN</td>\n",
       "      <td>0.0</td>\n",
       "      <td>A10726022</td>\n",
       "      <td>259900</td>\n",
       "      <td>1</td>\n",
       "      <td>1984</td>\n",
       "      <td>1</td>\n",
       "      <td>1985</td>\n",
       "      <td>38</td>\n",
       "      <td>36</td>\n",
       "      <td>AIR</td>\n",
       "      <td>CENTRAL</td>\n",
       "      <td>NONE</td>\n",
       "    </tr>\n",
       "    <tr>\n",
       "      <th>222611</th>\n",
       "      <td>NO_DATA</td>\n",
       "      <td>SINGLE</td>\n",
       "      <td>OTHER</td>\n",
       "      <td>3.0</td>\n",
       "      <td>NaN</td>\n",
       "      <td>San Antonio</td>\n",
       "      <td>[{'rating': ['NA', 'NA', '7/10'], 'data': {'Di...</td>\n",
       "      <td>2,614</td>\n",
       "      <td>78245</td>\n",
       "      <td>4</td>\n",
       "      <td>TX</td>\n",
       "      <td>2.0</td>\n",
       "      <td>NaN</td>\n",
       "      <td>0.0</td>\n",
       "      <td>NaN</td>\n",
       "      <td>319990</td>\n",
       "      <td>1</td>\n",
       "      <td>1985</td>\n",
       "      <td>0</td>\n",
       "      <td>0</td>\n",
       "      <td>37</td>\n",
       "      <td>-1</td>\n",
       "      <td>NO_DATA</td>\n",
       "      <td>NO_DATA</td>\n",
       "      <td>TWO</td>\n",
       "    </tr>\n",
       "    <tr>\n",
       "      <th>368375</th>\n",
       "      <td>FOR SALE</td>\n",
       "      <td>TOWNHOUSE</td>\n",
       "      <td>CIRCLE</td>\n",
       "      <td>2.0</td>\n",
       "      <td>NaN</td>\n",
       "      <td>Lauderhill</td>\n",
       "      <td>[{'rating': ['3/10', '3/10', '4/10'], 'data': ...</td>\n",
       "      <td>1,390 sqft</td>\n",
       "      <td>33319</td>\n",
       "      <td>2 Beds</td>\n",
       "      <td>FL</td>\n",
       "      <td>4.0</td>\n",
       "      <td>NaN</td>\n",
       "      <td>0.0</td>\n",
       "      <td>F10126203</td>\n",
       "      <td>115000</td>\n",
       "      <td>1</td>\n",
       "      <td>1973</td>\n",
       "      <td>1</td>\n",
       "      <td>1974</td>\n",
       "      <td>49</td>\n",
       "      <td>47</td>\n",
       "      <td>OTHER</td>\n",
       "      <td>NO_DATA</td>\n",
       "      <td>NONE</td>\n",
       "    </tr>\n",
       "  </tbody>\n",
       "</table>\n",
       "</div>"
      ],
      "text/plain": [
       "          status propertyType  street  baths fireplace         city  \\\n",
       "226121  FOR SALE    TOWNHOUSE   DRIVE    2.0       NaN       Weston   \n",
       "222611   NO_DATA       SINGLE   OTHER    3.0       NaN  San Antonio   \n",
       "368375  FOR SALE    TOWNHOUSE  CIRCLE    2.0       NaN   Lauderhill   \n",
       "\n",
       "                                                  schools        sqft zipcode  \\\n",
       "226121  [{'rating': ['8/10', '9/10', '9/10'], 'data': ...  1,268 sqft   33326   \n",
       "222611  [{'rating': ['NA', 'NA', '7/10'], 'data': {'Di...       2,614   78245   \n",
       "368375  [{'rating': ['3/10', '3/10', '4/10'], 'data': ...  1,390 sqft   33319   \n",
       "\n",
       "          beds state stories mls-id  PrivatePool      MlsId  target  \\\n",
       "226121  3 Beds    FL     NaN    NaN          0.0  A10726022  259900   \n",
       "222611       4    TX     2.0    NaN          0.0        NaN  319990   \n",
       "368375  2 Beds    FL     4.0    NaN          0.0  F10126203  115000   \n",
       "\n",
       "        has_adress  built_year  was_remodeled  remodel_year  house_age  \\\n",
       "226121           1        1984              1          1985         38   \n",
       "222611           1        1985              0             0         37   \n",
       "368375           1        1973              1          1974         49   \n",
       "\n",
       "        last_remodeled  heating  cooling parking  \n",
       "226121              36      AIR  CENTRAL    NONE  \n",
       "222611              -1  NO_DATA  NO_DATA     TWO  \n",
       "368375              47    OTHER  NO_DATA    NONE  "
      ]
     },
     "execution_count": 107,
     "metadata": {},
     "output_type": "execute_result"
    }
   ],
   "source": [
    "df.sample(3)"
   ]
  },
  {
   "cell_type": "code",
   "execution_count": 108,
   "metadata": {
    "ExecuteTime": {
     "end_time": "2022-04-21T23:44:40.675461Z",
     "start_time": "2022-04-21T23:44:40.660976Z"
    }
   },
   "outputs": [
    {
     "data": {
      "text/plain": [
       "NaN               235755\n",
       "yes                41448\n",
       "Yes                17025\n",
       "1                  13291\n",
       "Not Applicable      1981\n",
       "2                   1601\n",
       "Fireplace            683\n",
       "Living Room          380\n",
       "Wood Burning         291\n",
       "Fireplace YN         282\n",
       "1 Fireplace          273\n",
       "No                   270\n",
       "0                    261\n",
       "Gas/Gas Logs         258\n",
       "FAMILYRM             239\n",
       "Name: fireplace, dtype: int64"
      ]
     },
     "execution_count": 108,
     "metadata": {},
     "output_type": "execute_result"
    }
   ],
   "source": [
    "df['fireplace'].value_counts(dropna=False)[:15]"
   ]
  },
  {
   "cell_type": "markdown",
   "metadata": {},
   "source": [
    "Очень много лишних значений. Давайте будем считать, что каминов можем быть 0, 1 или 2."
   ]
  },
  {
   "cell_type": "code",
   "execution_count": 109,
   "metadata": {
    "ExecuteTime": {
     "end_time": "2022-04-21T23:44:40.713924Z",
     "start_time": "2022-04-21T23:44:40.676488Z"
    }
   },
   "outputs": [],
   "source": [
    "df['fireplace'] = df['fireplace'].str.lower()"
   ]
  },
  {
   "cell_type": "code",
   "execution_count": 110,
   "metadata": {
    "ExecuteTime": {
     "end_time": "2022-04-21T23:44:40.731633Z",
     "start_time": "2022-04-21T23:44:40.714914Z"
    }
   },
   "outputs": [
    {
     "data": {
      "text/plain": [
       "NaN                 235755\n",
       "yes                  58473\n",
       "1                    13291\n",
       "not applicable        1981\n",
       "2                     1601\n",
       "fireplace              683\n",
       "living room            380\n",
       "wood burning           291\n",
       "fireplace yn           282\n",
       "1 fireplace            273\n",
       "no                     270\n",
       "0                      261\n",
       "gas/gas logs           258\n",
       "familyrm               239\n",
       "special features       234\n",
       "Name: fireplace, dtype: int64"
      ]
     },
     "execution_count": 110,
     "metadata": {},
     "output_type": "execute_result"
    }
   ],
   "source": [
    "df['fireplace'].value_counts(dropna=False)[:15]"
   ]
  },
  {
   "cell_type": "code",
   "execution_count": 111,
   "metadata": {
    "ExecuteTime": {
     "end_time": "2022-04-21T23:44:40.735465Z",
     "start_time": "2022-04-21T23:44:40.732694Z"
    }
   },
   "outputs": [],
   "source": [
    "def clear_fire(s):\n",
    "    try:\n",
    "        s = str(s)\n",
    "        if s == 'nan':\n",
    "            return 0\n",
    "        if 'yes' in s or '1' in s or 'wood' in s or 'living' in s or 'gas' in s \\\n",
    "                      or 'one' in s or 'electric' in s or 'fireplace' in s or 'family' in s:\n",
    "            return 1\n",
    "        if '2' in s:\n",
    "            return 2\n",
    "        if 'no' in s or 'storage' in s or 'n/k' in s or 'decorative' in s:\n",
    "            return 0\n",
    "        else:\n",
    "            return 1\n",
    "    except:\n",
    "        return 0"
   ]
  },
  {
   "cell_type": "code",
   "execution_count": 112,
   "metadata": {
    "ExecuteTime": {
     "end_time": "2022-04-21T23:44:40.877481Z",
     "start_time": "2022-04-21T23:44:40.736311Z"
    }
   },
   "outputs": [
    {
     "data": {
      "text/plain": [
       "0    238621\n",
       "1     81485\n",
       "2      1604\n",
       "Name: fireplace, dtype: int64"
      ]
     },
     "execution_count": 112,
     "metadata": {},
     "output_type": "execute_result"
    }
   ],
   "source": [
    "df['fireplace'].apply(lambda x: clear_fire(x)).value_counts(dropna=False)[:25]"
   ]
  },
  {
   "cell_type": "code",
   "execution_count": 113,
   "metadata": {
    "ExecuteTime": {
     "end_time": "2022-04-21T23:44:41.031749Z",
     "start_time": "2022-04-21T23:44:40.878568Z"
    }
   },
   "outputs": [],
   "source": [
    "df['fireplace'] = df['fireplace'].apply(lambda x: clear_fire(x))"
   ]
  },
  {
   "cell_type": "markdown",
   "metadata": {},
   "source": [
    "## Колонка \"city\""
   ]
  },
  {
   "cell_type": "code",
   "execution_count": 114,
   "metadata": {
    "ExecuteTime": {
     "end_time": "2022-04-21T23:44:41.159061Z",
     "start_time": "2022-04-21T23:44:41.032634Z"
    }
   },
   "outputs": [
    {
     "name": "stdout",
     "output_type": "stream",
     "text": [
      "Колонка - city\n",
      "Кол-во пропусков: 19\n",
      "Кол-во уникальных значений: 1924\n"
     ]
    },
    {
     "data": {
      "text/plain": [
       "HOUSTON         22026\n",
       "SAN ANTONIO     15127\n",
       "MIAMI           13138\n",
       "JACKSONVILLE     9506\n",
       "DALLAS           7503\n",
       "                ...  \n",
       "TUCKAHOE            1\n",
       "VININGS             1\n",
       "SUWANNEE            1\n",
       "NOBLESVILLE         1\n",
       "WILLIAMSPORT        1\n",
       "Name: city, Length: 1818, dtype: int64"
      ]
     },
     "execution_count": 114,
     "metadata": {},
     "output_type": "execute_result"
    }
   ],
   "source": [
    "show_col_info('city')\n",
    "df['city'].str.upper().value_counts(dropna=False)"
   ]
  },
  {
   "cell_type": "markdown",
   "metadata": {},
   "source": [
    "Всего 19 пропусков. Их можно удалить."
   ]
  },
  {
   "cell_type": "code",
   "execution_count": 115,
   "metadata": {
    "ExecuteTime": {
     "end_time": "2022-04-21T23:44:41.201470Z",
     "start_time": "2022-04-21T23:44:41.160148Z"
    },
    "scrolled": true
   },
   "outputs": [],
   "source": [
    "df = df.dropna(subset=['city'])"
   ]
  },
  {
   "cell_type": "code",
   "execution_count": 116,
   "metadata": {
    "ExecuteTime": {
     "end_time": "2022-04-21T23:44:41.269541Z",
     "start_time": "2022-04-21T23:44:41.202637Z"
    }
   },
   "outputs": [],
   "source": [
    "df['city'] = df['city'].str.upper()"
   ]
  },
  {
   "cell_type": "markdown",
   "metadata": {},
   "source": [
    "## Колонка \"schools\""
   ]
  },
  {
   "cell_type": "code",
   "execution_count": 117,
   "metadata": {
    "ExecuteTime": {
     "end_time": "2022-04-21T23:44:41.301759Z",
     "start_time": "2022-04-21T23:44:41.270602Z"
    }
   },
   "outputs": [],
   "source": [
    "def clear_school(s):\n",
    "    s = s[1:-1]\n",
    "    s = s.replace(\"'\", '\"')\n",
    "    s = s.split(', \"name\"')\n",
    "    s = s[0] + \"}\"\n",
    "    s = s.replace(' None, ', ' \"None\", ')\n",
    "\n",
    "    d = json.loads(s)\n",
    "    dictance = []\n",
    "    grades = []\n",
    "    rating = []\n",
    "    grades = d['data']['Grades']\n",
    "    for i in d['data']['Distance']:\n",
    "        i = float(i.replace('mi', ''))\n",
    "        dictance.append(i)\n",
    "    for i in d['rating']:\n",
    "        if '/'in i:\n",
    "            i = i.split('/')[0]\n",
    "        rating.append(i)\n",
    "\n",
    "    return dictance, grades, rating"
   ]
  },
  {
   "cell_type": "code",
   "execution_count": 118,
   "metadata": {
    "ExecuteTime": {
     "end_time": "2022-04-21T23:44:44.310731Z",
     "start_time": "2022-04-21T23:44:41.302960Z"
    }
   },
   "outputs": [],
   "source": [
    "schools = df['schools'].map(clear_school)"
   ]
  },
  {
   "cell_type": "code",
   "execution_count": 119,
   "metadata": {
    "ExecuteTime": {
     "end_time": "2022-04-21T23:44:44.414938Z",
     "start_time": "2022-04-21T23:44:44.311877Z"
    }
   },
   "outputs": [],
   "source": [
    "school_data = pd.DataFrame.from_records(schools, columns = ['sk_dist', 'sk_grades', 'sk_rating'])"
   ]
  },
  {
   "cell_type": "code",
   "execution_count": 120,
   "metadata": {
    "ExecuteTime": {
     "end_time": "2022-04-21T23:44:44.426472Z",
     "start_time": "2022-04-21T23:44:44.415991Z"
    }
   },
   "outputs": [
    {
     "data": {
      "text/html": [
       "<div>\n",
       "<style scoped>\n",
       "    .dataframe tbody tr th:only-of-type {\n",
       "        vertical-align: middle;\n",
       "    }\n",
       "\n",
       "    .dataframe tbody tr th {\n",
       "        vertical-align: top;\n",
       "    }\n",
       "\n",
       "    .dataframe thead th {\n",
       "        text-align: right;\n",
       "    }\n",
       "</style>\n",
       "<table border=\"1\" class=\"dataframe\">\n",
       "  <thead>\n",
       "    <tr style=\"text-align: right;\">\n",
       "      <th></th>\n",
       "      <th>sk_dist</th>\n",
       "      <th>sk_grades</th>\n",
       "      <th>sk_rating</th>\n",
       "    </tr>\n",
       "  </thead>\n",
       "  <tbody>\n",
       "    <tr>\n",
       "      <th>0</th>\n",
       "      <td>[2.7, 3.6, 5.1, 4.0, 10.5, 12.6, 2.7, 3.1]</td>\n",
       "      <td>[3–5, 6–8, 9–12, PK–2, 6–8, 9–12, PK–5, K–12]</td>\n",
       "      <td>[4, 4, 7, NR, 4, 7, NR, NR]</td>\n",
       "    </tr>\n",
       "    <tr>\n",
       "      <th>1</th>\n",
       "      <td>[1.65, 1.32, 1.01]</td>\n",
       "      <td>[9-12, 3-8, PK-8]</td>\n",
       "      <td>[4, None, 4]</td>\n",
       "    </tr>\n",
       "    <tr>\n",
       "      <th>2</th>\n",
       "      <td>[]</td>\n",
       "      <td>[]</td>\n",
       "      <td>[]</td>\n",
       "    </tr>\n",
       "    <tr>\n",
       "      <th>3</th>\n",
       "      <td>[0.8, 8.3, 4.2, 2.0]</td>\n",
       "      <td>[Preschool to 4, Preschool to 12, 5 to 8, 1 to...</td>\n",
       "      <td>[3, 3, 1, NR]</td>\n",
       "    </tr>\n",
       "    <tr>\n",
       "      <th>4</th>\n",
       "      <td>[0.7, 0.4, 2.2]</td>\n",
       "      <td>[Preschool to 5, 6 to 8, 9 to 12]</td>\n",
       "      <td>[4, 2, 2]</td>\n",
       "    </tr>\n",
       "    <tr>\n",
       "      <th>...</th>\n",
       "      <td>...</td>\n",
       "      <td>...</td>\n",
       "      <td>...</td>\n",
       "    </tr>\n",
       "    <tr>\n",
       "      <th>321686</th>\n",
       "      <td>[0.4, 0.1]</td>\n",
       "      <td>[PK-5, 6-12]</td>\n",
       "      <td>[3, 3]</td>\n",
       "    </tr>\n",
       "    <tr>\n",
       "      <th>321687</th>\n",
       "      <td>[10.61, 1.42, 0.4]</td>\n",
       "      <td>[9-12, 9-12, PK-8]</td>\n",
       "      <td>[1, 5, 7]</td>\n",
       "    </tr>\n",
       "    <tr>\n",
       "      <th>321688</th>\n",
       "      <td>[0.48, 0.73]</td>\n",
       "      <td>[PK-5, 6-8]</td>\n",
       "      <td>[5, 4]</td>\n",
       "    </tr>\n",
       "    <tr>\n",
       "      <th>321689</th>\n",
       "      <td>[1.3, 0.5, 1.9]</td>\n",
       "      <td>[PK-5, 6-8, 9-12]</td>\n",
       "      <td>[NA, NA, NA]</td>\n",
       "    </tr>\n",
       "    <tr>\n",
       "      <th>321690</th>\n",
       "      <td>[0.3, 1.1, 4.1]</td>\n",
       "      <td>[PK-5, 6-8, 9-12]</td>\n",
       "      <td>[5, 4, 3]</td>\n",
       "    </tr>\n",
       "  </tbody>\n",
       "</table>\n",
       "<p>321691 rows × 3 columns</p>\n",
       "</div>"
      ],
      "text/plain": [
       "                                           sk_dist  \\\n",
       "0       [2.7, 3.6, 5.1, 4.0, 10.5, 12.6, 2.7, 3.1]   \n",
       "1                               [1.65, 1.32, 1.01]   \n",
       "2                                               []   \n",
       "3                             [0.8, 8.3, 4.2, 2.0]   \n",
       "4                                  [0.7, 0.4, 2.2]   \n",
       "...                                            ...   \n",
       "321686                                  [0.4, 0.1]   \n",
       "321687                          [10.61, 1.42, 0.4]   \n",
       "321688                                [0.48, 0.73]   \n",
       "321689                             [1.3, 0.5, 1.9]   \n",
       "321690                             [0.3, 1.1, 4.1]   \n",
       "\n",
       "                                                sk_grades  \\\n",
       "0           [3–5, 6–8, 9–12, PK–2, 6–8, 9–12, PK–5, K–12]   \n",
       "1                                       [9-12, 3-8, PK-8]   \n",
       "2                                                      []   \n",
       "3       [Preschool to 4, Preschool to 12, 5 to 8, 1 to...   \n",
       "4                       [Preschool to 5, 6 to 8, 9 to 12]   \n",
       "...                                                   ...   \n",
       "321686                                       [PK-5, 6-12]   \n",
       "321687                                 [9-12, 9-12, PK-8]   \n",
       "321688                                        [PK-5, 6-8]   \n",
       "321689                                  [PK-5, 6-8, 9-12]   \n",
       "321690                                  [PK-5, 6-8, 9-12]   \n",
       "\n",
       "                          sk_rating  \n",
       "0       [4, 4, 7, NR, 4, 7, NR, NR]  \n",
       "1                      [4, None, 4]  \n",
       "2                                []  \n",
       "3                     [3, 3, 1, NR]  \n",
       "4                         [4, 2, 2]  \n",
       "...                             ...  \n",
       "321686                       [3, 3]  \n",
       "321687                    [1, 5, 7]  \n",
       "321688                       [5, 4]  \n",
       "321689                 [NA, NA, NA]  \n",
       "321690                    [5, 4, 3]  \n",
       "\n",
       "[321691 rows x 3 columns]"
      ]
     },
     "execution_count": 120,
     "metadata": {},
     "output_type": "execute_result"
    }
   ],
   "source": [
    "school_data"
   ]
  },
  {
   "cell_type": "markdown",
   "metadata": {},
   "source": [
    "Добавим количество школ"
   ]
  },
  {
   "cell_type": "code",
   "execution_count": 121,
   "metadata": {
    "ExecuteTime": {
     "end_time": "2022-04-21T23:44:44.515902Z",
     "start_time": "2022-04-21T23:44:44.427547Z"
    }
   },
   "outputs": [],
   "source": [
    "school_data['n_schools'] = school_data['sk_dist'].apply(lambda x: len(x))"
   ]
  },
  {
   "cell_type": "markdown",
   "metadata": {},
   "source": [
    "Добавим минимальную и среднюю дистацию до школ"
   ]
  },
  {
   "cell_type": "code",
   "execution_count": 122,
   "metadata": {
    "ExecuteTime": {
     "end_time": "2022-04-21T23:44:44.519459Z",
     "start_time": "2022-04-21T23:44:44.516887Z"
    }
   },
   "outputs": [],
   "source": [
    "def min_dist(x):\n",
    "    try:\n",
    "        return np.min(x)\n",
    "    except:\n",
    "        return 'NoData'\n",
    "    \n",
    "def mean_dist(x):\n",
    "    try:\n",
    "        return np.mean(x)\n",
    "    except:\n",
    "        return 'NoData'"
   ]
  },
  {
   "cell_type": "code",
   "execution_count": 123,
   "metadata": {
    "ExecuteTime": {
     "end_time": "2022-04-21T23:44:47.936898Z",
     "start_time": "2022-04-21T23:44:44.520227Z"
    }
   },
   "outputs": [],
   "source": [
    "school_data['min_dist'] = school_data['sk_dist'].apply(lambda x: min_dist(x))\n",
    "school_data['mean_dist'] = school_data['sk_dist'].apply(lambda x: mean_dist(x))"
   ]
  },
  {
   "cell_type": "markdown",
   "metadata": {},
   "source": [
    "Для тех записей, где нет школ, поставим значение 99"
   ]
  },
  {
   "cell_type": "code",
   "execution_count": 124,
   "metadata": {
    "ExecuteTime": {
     "end_time": "2022-04-21T23:44:47.943559Z",
     "start_time": "2022-04-21T23:44:47.937661Z"
    }
   },
   "outputs": [],
   "source": [
    "school_data.loc[school_data['n_schools'] == 0, 'min_dist'] = 99\n",
    "school_data.loc[school_data['n_schools'] == 0, 'mean_dist'] = 99"
   ]
  },
  {
   "cell_type": "markdown",
   "metadata": {},
   "source": [
    "Найдем минимальный, средний и максимальный рейтинг школ"
   ]
  },
  {
   "cell_type": "code",
   "execution_count": 125,
   "metadata": {
    "ExecuteTime": {
     "end_time": "2022-04-21T23:44:47.949151Z",
     "start_time": "2022-04-21T23:44:47.944499Z"
    }
   },
   "outputs": [],
   "source": [
    "def min_rating(x):\n",
    "    try:\n",
    "        rating = []\n",
    "        for r in x:\n",
    "            if r.isdigit():\n",
    "                rating.append(int(r))\n",
    "        return np.min(rating)\n",
    "    except:\n",
    "        return 'NoData'\n",
    "    \n",
    "def max_rating(x):\n",
    "    try:\n",
    "        rating = []\n",
    "        for r in x:\n",
    "            if r.isdigit():\n",
    "                rating.append(int(r)) \n",
    "        return np.max(rating)\n",
    "    except:\n",
    "        return 'NoData'\n",
    "    \n",
    "def mean_rating(x):\n",
    "    try:\n",
    "        rating = []\n",
    "        for r in x:\n",
    "            if r.isdigit():\n",
    "                rating.append(int(r))\n",
    "        return np.mean(rating)\n",
    "    except:\n",
    "        return 'NoData'"
   ]
  },
  {
   "cell_type": "code",
   "execution_count": 126,
   "metadata": {
    "ExecuteTime": {
     "end_time": "2022-04-21T23:44:53.730526Z",
     "start_time": "2022-04-21T23:44:47.950208Z"
    }
   },
   "outputs": [],
   "source": [
    "school_data['min_rating'] = [min_rating(x) for x in school_data['sk_rating']]\n",
    "school_data['max_rating'] = [max_rating(x) for x in school_data['sk_rating']]\n",
    "school_data['mean_rating'] = [mean_rating(x) for x in school_data['sk_rating']]"
   ]
  },
  {
   "cell_type": "code",
   "execution_count": 127,
   "metadata": {
    "ExecuteTime": {
     "end_time": "2022-04-21T23:44:55.427704Z",
     "start_time": "2022-04-21T23:44:53.731629Z"
    },
    "scrolled": true
   },
   "outputs": [],
   "source": [
    "school_data.loc[school_data['min_rating'] == 'NoData', 'min_rating'] = school_data['mean_rating'].mean()\n",
    "school_data.loc[school_data['max_rating'] == 'NoData', 'max_rating'] = school_data['mean_rating'].mean()\n",
    "school_data.loc[school_data['mean_rating'].isna(), 'mean_rating'] = school_data['mean_rating'].mean()"
   ]
  },
  {
   "cell_type": "code",
   "execution_count": 128,
   "metadata": {
    "ExecuteTime": {
     "end_time": "2022-04-21T23:44:55.440737Z",
     "start_time": "2022-04-21T23:44:55.428605Z"
    }
   },
   "outputs": [
    {
     "data": {
      "text/html": [
       "<div>\n",
       "<style scoped>\n",
       "    .dataframe tbody tr th:only-of-type {\n",
       "        vertical-align: middle;\n",
       "    }\n",
       "\n",
       "    .dataframe tbody tr th {\n",
       "        vertical-align: top;\n",
       "    }\n",
       "\n",
       "    .dataframe thead th {\n",
       "        text-align: right;\n",
       "    }\n",
       "</style>\n",
       "<table border=\"1\" class=\"dataframe\">\n",
       "  <thead>\n",
       "    <tr style=\"text-align: right;\">\n",
       "      <th></th>\n",
       "      <th>sk_dist</th>\n",
       "      <th>sk_grades</th>\n",
       "      <th>sk_rating</th>\n",
       "      <th>n_schools</th>\n",
       "      <th>min_dist</th>\n",
       "      <th>mean_dist</th>\n",
       "      <th>min_rating</th>\n",
       "      <th>max_rating</th>\n",
       "      <th>mean_rating</th>\n",
       "    </tr>\n",
       "  </thead>\n",
       "  <tbody>\n",
       "    <tr>\n",
       "      <th>0</th>\n",
       "      <td>[2.7, 3.6, 5.1, 4.0, 10.5, 12.6, 2.7, 3.1]</td>\n",
       "      <td>[3–5, 6–8, 9–12, PK–2, 6–8, 9–12, PK–5, K–12]</td>\n",
       "      <td>[4, 4, 7, NR, 4, 7, NR, NR]</td>\n",
       "      <td>8</td>\n",
       "      <td>2.7</td>\n",
       "      <td>5.537500</td>\n",
       "      <td>4</td>\n",
       "      <td>7</td>\n",
       "      <td>5.200000</td>\n",
       "    </tr>\n",
       "    <tr>\n",
       "      <th>1</th>\n",
       "      <td>[1.65, 1.32, 1.01]</td>\n",
       "      <td>[9-12, 3-8, PK-8]</td>\n",
       "      <td>[4, None, 4]</td>\n",
       "      <td>3</td>\n",
       "      <td>1.01</td>\n",
       "      <td>1.326667</td>\n",
       "      <td>4</td>\n",
       "      <td>4</td>\n",
       "      <td>4.000000</td>\n",
       "    </tr>\n",
       "    <tr>\n",
       "      <th>2</th>\n",
       "      <td>[]</td>\n",
       "      <td>[]</td>\n",
       "      <td>[]</td>\n",
       "      <td>0</td>\n",
       "      <td>99</td>\n",
       "      <td>99.000000</td>\n",
       "      <td>5.03757</td>\n",
       "      <td>5.03757</td>\n",
       "      <td>5.037572</td>\n",
       "    </tr>\n",
       "    <tr>\n",
       "      <th>3</th>\n",
       "      <td>[0.8, 8.3, 4.2, 2.0]</td>\n",
       "      <td>[Preschool to 4, Preschool to 12, 5 to 8, 1 to...</td>\n",
       "      <td>[3, 3, 1, NR]</td>\n",
       "      <td>4</td>\n",
       "      <td>0.8</td>\n",
       "      <td>3.825000</td>\n",
       "      <td>1</td>\n",
       "      <td>3</td>\n",
       "      <td>2.333333</td>\n",
       "    </tr>\n",
       "    <tr>\n",
       "      <th>4</th>\n",
       "      <td>[0.7, 0.4, 2.2]</td>\n",
       "      <td>[Preschool to 5, 6 to 8, 9 to 12]</td>\n",
       "      <td>[4, 2, 2]</td>\n",
       "      <td>3</td>\n",
       "      <td>0.4</td>\n",
       "      <td>1.100000</td>\n",
       "      <td>2</td>\n",
       "      <td>4</td>\n",
       "      <td>2.666667</td>\n",
       "    </tr>\n",
       "    <tr>\n",
       "      <th>...</th>\n",
       "      <td>...</td>\n",
       "      <td>...</td>\n",
       "      <td>...</td>\n",
       "      <td>...</td>\n",
       "      <td>...</td>\n",
       "      <td>...</td>\n",
       "      <td>...</td>\n",
       "      <td>...</td>\n",
       "      <td>...</td>\n",
       "    </tr>\n",
       "    <tr>\n",
       "      <th>321686</th>\n",
       "      <td>[0.4, 0.1]</td>\n",
       "      <td>[PK-5, 6-12]</td>\n",
       "      <td>[3, 3]</td>\n",
       "      <td>2</td>\n",
       "      <td>0.1</td>\n",
       "      <td>0.250000</td>\n",
       "      <td>3</td>\n",
       "      <td>3</td>\n",
       "      <td>3.000000</td>\n",
       "    </tr>\n",
       "    <tr>\n",
       "      <th>321687</th>\n",
       "      <td>[10.61, 1.42, 0.4]</td>\n",
       "      <td>[9-12, 9-12, PK-8]</td>\n",
       "      <td>[1, 5, 7]</td>\n",
       "      <td>3</td>\n",
       "      <td>0.4</td>\n",
       "      <td>4.143333</td>\n",
       "      <td>1</td>\n",
       "      <td>7</td>\n",
       "      <td>4.333333</td>\n",
       "    </tr>\n",
       "    <tr>\n",
       "      <th>321688</th>\n",
       "      <td>[0.48, 0.73]</td>\n",
       "      <td>[PK-5, 6-8]</td>\n",
       "      <td>[5, 4]</td>\n",
       "      <td>2</td>\n",
       "      <td>0.48</td>\n",
       "      <td>0.605000</td>\n",
       "      <td>4</td>\n",
       "      <td>5</td>\n",
       "      <td>4.500000</td>\n",
       "    </tr>\n",
       "    <tr>\n",
       "      <th>321689</th>\n",
       "      <td>[1.3, 0.5, 1.9]</td>\n",
       "      <td>[PK-5, 6-8, 9-12]</td>\n",
       "      <td>[NA, NA, NA]</td>\n",
       "      <td>3</td>\n",
       "      <td>0.5</td>\n",
       "      <td>1.233333</td>\n",
       "      <td>5.03757</td>\n",
       "      <td>5.03757</td>\n",
       "      <td>5.037572</td>\n",
       "    </tr>\n",
       "    <tr>\n",
       "      <th>321690</th>\n",
       "      <td>[0.3, 1.1, 4.1]</td>\n",
       "      <td>[PK-5, 6-8, 9-12]</td>\n",
       "      <td>[5, 4, 3]</td>\n",
       "      <td>3</td>\n",
       "      <td>0.3</td>\n",
       "      <td>1.833333</td>\n",
       "      <td>3</td>\n",
       "      <td>5</td>\n",
       "      <td>4.000000</td>\n",
       "    </tr>\n",
       "  </tbody>\n",
       "</table>\n",
       "<p>321691 rows × 9 columns</p>\n",
       "</div>"
      ],
      "text/plain": [
       "                                           sk_dist  \\\n",
       "0       [2.7, 3.6, 5.1, 4.0, 10.5, 12.6, 2.7, 3.1]   \n",
       "1                               [1.65, 1.32, 1.01]   \n",
       "2                                               []   \n",
       "3                             [0.8, 8.3, 4.2, 2.0]   \n",
       "4                                  [0.7, 0.4, 2.2]   \n",
       "...                                            ...   \n",
       "321686                                  [0.4, 0.1]   \n",
       "321687                          [10.61, 1.42, 0.4]   \n",
       "321688                                [0.48, 0.73]   \n",
       "321689                             [1.3, 0.5, 1.9]   \n",
       "321690                             [0.3, 1.1, 4.1]   \n",
       "\n",
       "                                                sk_grades  \\\n",
       "0           [3–5, 6–8, 9–12, PK–2, 6–8, 9–12, PK–5, K–12]   \n",
       "1                                       [9-12, 3-8, PK-8]   \n",
       "2                                                      []   \n",
       "3       [Preschool to 4, Preschool to 12, 5 to 8, 1 to...   \n",
       "4                       [Preschool to 5, 6 to 8, 9 to 12]   \n",
       "...                                                   ...   \n",
       "321686                                       [PK-5, 6-12]   \n",
       "321687                                 [9-12, 9-12, PK-8]   \n",
       "321688                                        [PK-5, 6-8]   \n",
       "321689                                  [PK-5, 6-8, 9-12]   \n",
       "321690                                  [PK-5, 6-8, 9-12]   \n",
       "\n",
       "                          sk_rating  n_schools min_dist  mean_dist min_rating  \\\n",
       "0       [4, 4, 7, NR, 4, 7, NR, NR]          8      2.7   5.537500          4   \n",
       "1                      [4, None, 4]          3     1.01   1.326667          4   \n",
       "2                                []          0       99  99.000000    5.03757   \n",
       "3                     [3, 3, 1, NR]          4      0.8   3.825000          1   \n",
       "4                         [4, 2, 2]          3      0.4   1.100000          2   \n",
       "...                             ...        ...      ...        ...        ...   \n",
       "321686                       [3, 3]          2      0.1   0.250000          3   \n",
       "321687                    [1, 5, 7]          3      0.4   4.143333          1   \n",
       "321688                       [5, 4]          2     0.48   0.605000          4   \n",
       "321689                 [NA, NA, NA]          3      0.5   1.233333    5.03757   \n",
       "321690                    [5, 4, 3]          3      0.3   1.833333          3   \n",
       "\n",
       "       max_rating  mean_rating  \n",
       "0               7     5.200000  \n",
       "1               4     4.000000  \n",
       "2         5.03757     5.037572  \n",
       "3               3     2.333333  \n",
       "4               4     2.666667  \n",
       "...           ...          ...  \n",
       "321686          3     3.000000  \n",
       "321687          7     4.333333  \n",
       "321688          5     4.500000  \n",
       "321689    5.03757     5.037572  \n",
       "321690          5     4.000000  \n",
       "\n",
       "[321691 rows x 9 columns]"
      ]
     },
     "execution_count": 128,
     "metadata": {},
     "output_type": "execute_result"
    }
   ],
   "source": [
    "school_data"
   ]
  },
  {
   "cell_type": "markdown",
   "metadata": {},
   "source": [
    "Там где нет школ, поставим нули"
   ]
  },
  {
   "cell_type": "code",
   "execution_count": 129,
   "metadata": {
    "ExecuteTime": {
     "end_time": "2022-04-21T23:44:55.450166Z",
     "start_time": "2022-04-21T23:44:55.441632Z"
    }
   },
   "outputs": [],
   "source": [
    "school_data.loc[school_data['n_schools'] == 0, 'min_rating'] = 0\n",
    "school_data.loc[school_data['n_schools'] == 0, 'max_rating'] = 0\n",
    "school_data.loc[school_data['n_schools'] == 0, 'mean_rating'] = 0"
   ]
  },
  {
   "cell_type": "code",
   "execution_count": 130,
   "metadata": {
    "ExecuteTime": {
     "end_time": "2022-04-21T23:44:55.463553Z",
     "start_time": "2022-04-21T23:44:55.451138Z"
    }
   },
   "outputs": [
    {
     "data": {
      "text/html": [
       "<div>\n",
       "<style scoped>\n",
       "    .dataframe tbody tr th:only-of-type {\n",
       "        vertical-align: middle;\n",
       "    }\n",
       "\n",
       "    .dataframe tbody tr th {\n",
       "        vertical-align: top;\n",
       "    }\n",
       "\n",
       "    .dataframe thead th {\n",
       "        text-align: right;\n",
       "    }\n",
       "</style>\n",
       "<table border=\"1\" class=\"dataframe\">\n",
       "  <thead>\n",
       "    <tr style=\"text-align: right;\">\n",
       "      <th></th>\n",
       "      <th>sk_dist</th>\n",
       "      <th>sk_grades</th>\n",
       "      <th>sk_rating</th>\n",
       "      <th>n_schools</th>\n",
       "      <th>min_dist</th>\n",
       "      <th>mean_dist</th>\n",
       "      <th>min_rating</th>\n",
       "      <th>max_rating</th>\n",
       "      <th>mean_rating</th>\n",
       "    </tr>\n",
       "  </thead>\n",
       "  <tbody>\n",
       "    <tr>\n",
       "      <th>0</th>\n",
       "      <td>[2.7, 3.6, 5.1, 4.0, 10.5, 12.6, 2.7, 3.1]</td>\n",
       "      <td>[3–5, 6–8, 9–12, PK–2, 6–8, 9–12, PK–5, K–12]</td>\n",
       "      <td>[4, 4, 7, NR, 4, 7, NR, NR]</td>\n",
       "      <td>8</td>\n",
       "      <td>2.7</td>\n",
       "      <td>5.537500</td>\n",
       "      <td>4</td>\n",
       "      <td>7</td>\n",
       "      <td>5.200000</td>\n",
       "    </tr>\n",
       "    <tr>\n",
       "      <th>1</th>\n",
       "      <td>[1.65, 1.32, 1.01]</td>\n",
       "      <td>[9-12, 3-8, PK-8]</td>\n",
       "      <td>[4, None, 4]</td>\n",
       "      <td>3</td>\n",
       "      <td>1.01</td>\n",
       "      <td>1.326667</td>\n",
       "      <td>4</td>\n",
       "      <td>4</td>\n",
       "      <td>4.000000</td>\n",
       "    </tr>\n",
       "    <tr>\n",
       "      <th>2</th>\n",
       "      <td>[]</td>\n",
       "      <td>[]</td>\n",
       "      <td>[]</td>\n",
       "      <td>0</td>\n",
       "      <td>99</td>\n",
       "      <td>99.000000</td>\n",
       "      <td>0</td>\n",
       "      <td>0</td>\n",
       "      <td>0.000000</td>\n",
       "    </tr>\n",
       "    <tr>\n",
       "      <th>3</th>\n",
       "      <td>[0.8, 8.3, 4.2, 2.0]</td>\n",
       "      <td>[Preschool to 4, Preschool to 12, 5 to 8, 1 to...</td>\n",
       "      <td>[3, 3, 1, NR]</td>\n",
       "      <td>4</td>\n",
       "      <td>0.8</td>\n",
       "      <td>3.825000</td>\n",
       "      <td>1</td>\n",
       "      <td>3</td>\n",
       "      <td>2.333333</td>\n",
       "    </tr>\n",
       "    <tr>\n",
       "      <th>4</th>\n",
       "      <td>[0.7, 0.4, 2.2]</td>\n",
       "      <td>[Preschool to 5, 6 to 8, 9 to 12]</td>\n",
       "      <td>[4, 2, 2]</td>\n",
       "      <td>3</td>\n",
       "      <td>0.4</td>\n",
       "      <td>1.100000</td>\n",
       "      <td>2</td>\n",
       "      <td>4</td>\n",
       "      <td>2.666667</td>\n",
       "    </tr>\n",
       "    <tr>\n",
       "      <th>...</th>\n",
       "      <td>...</td>\n",
       "      <td>...</td>\n",
       "      <td>...</td>\n",
       "      <td>...</td>\n",
       "      <td>...</td>\n",
       "      <td>...</td>\n",
       "      <td>...</td>\n",
       "      <td>...</td>\n",
       "      <td>...</td>\n",
       "    </tr>\n",
       "    <tr>\n",
       "      <th>321686</th>\n",
       "      <td>[0.4, 0.1]</td>\n",
       "      <td>[PK-5, 6-12]</td>\n",
       "      <td>[3, 3]</td>\n",
       "      <td>2</td>\n",
       "      <td>0.1</td>\n",
       "      <td>0.250000</td>\n",
       "      <td>3</td>\n",
       "      <td>3</td>\n",
       "      <td>3.000000</td>\n",
       "    </tr>\n",
       "    <tr>\n",
       "      <th>321687</th>\n",
       "      <td>[10.61, 1.42, 0.4]</td>\n",
       "      <td>[9-12, 9-12, PK-8]</td>\n",
       "      <td>[1, 5, 7]</td>\n",
       "      <td>3</td>\n",
       "      <td>0.4</td>\n",
       "      <td>4.143333</td>\n",
       "      <td>1</td>\n",
       "      <td>7</td>\n",
       "      <td>4.333333</td>\n",
       "    </tr>\n",
       "    <tr>\n",
       "      <th>321688</th>\n",
       "      <td>[0.48, 0.73]</td>\n",
       "      <td>[PK-5, 6-8]</td>\n",
       "      <td>[5, 4]</td>\n",
       "      <td>2</td>\n",
       "      <td>0.48</td>\n",
       "      <td>0.605000</td>\n",
       "      <td>4</td>\n",
       "      <td>5</td>\n",
       "      <td>4.500000</td>\n",
       "    </tr>\n",
       "    <tr>\n",
       "      <th>321689</th>\n",
       "      <td>[1.3, 0.5, 1.9]</td>\n",
       "      <td>[PK-5, 6-8, 9-12]</td>\n",
       "      <td>[NA, NA, NA]</td>\n",
       "      <td>3</td>\n",
       "      <td>0.5</td>\n",
       "      <td>1.233333</td>\n",
       "      <td>5.03757</td>\n",
       "      <td>5.03757</td>\n",
       "      <td>5.037572</td>\n",
       "    </tr>\n",
       "    <tr>\n",
       "      <th>321690</th>\n",
       "      <td>[0.3, 1.1, 4.1]</td>\n",
       "      <td>[PK-5, 6-8, 9-12]</td>\n",
       "      <td>[5, 4, 3]</td>\n",
       "      <td>3</td>\n",
       "      <td>0.3</td>\n",
       "      <td>1.833333</td>\n",
       "      <td>3</td>\n",
       "      <td>5</td>\n",
       "      <td>4.000000</td>\n",
       "    </tr>\n",
       "  </tbody>\n",
       "</table>\n",
       "<p>321691 rows × 9 columns</p>\n",
       "</div>"
      ],
      "text/plain": [
       "                                           sk_dist  \\\n",
       "0       [2.7, 3.6, 5.1, 4.0, 10.5, 12.6, 2.7, 3.1]   \n",
       "1                               [1.65, 1.32, 1.01]   \n",
       "2                                               []   \n",
       "3                             [0.8, 8.3, 4.2, 2.0]   \n",
       "4                                  [0.7, 0.4, 2.2]   \n",
       "...                                            ...   \n",
       "321686                                  [0.4, 0.1]   \n",
       "321687                          [10.61, 1.42, 0.4]   \n",
       "321688                                [0.48, 0.73]   \n",
       "321689                             [1.3, 0.5, 1.9]   \n",
       "321690                             [0.3, 1.1, 4.1]   \n",
       "\n",
       "                                                sk_grades  \\\n",
       "0           [3–5, 6–8, 9–12, PK–2, 6–8, 9–12, PK–5, K–12]   \n",
       "1                                       [9-12, 3-8, PK-8]   \n",
       "2                                                      []   \n",
       "3       [Preschool to 4, Preschool to 12, 5 to 8, 1 to...   \n",
       "4                       [Preschool to 5, 6 to 8, 9 to 12]   \n",
       "...                                                   ...   \n",
       "321686                                       [PK-5, 6-12]   \n",
       "321687                                 [9-12, 9-12, PK-8]   \n",
       "321688                                        [PK-5, 6-8]   \n",
       "321689                                  [PK-5, 6-8, 9-12]   \n",
       "321690                                  [PK-5, 6-8, 9-12]   \n",
       "\n",
       "                          sk_rating  n_schools min_dist  mean_dist min_rating  \\\n",
       "0       [4, 4, 7, NR, 4, 7, NR, NR]          8      2.7   5.537500          4   \n",
       "1                      [4, None, 4]          3     1.01   1.326667          4   \n",
       "2                                []          0       99  99.000000          0   \n",
       "3                     [3, 3, 1, NR]          4      0.8   3.825000          1   \n",
       "4                         [4, 2, 2]          3      0.4   1.100000          2   \n",
       "...                             ...        ...      ...        ...        ...   \n",
       "321686                       [3, 3]          2      0.1   0.250000          3   \n",
       "321687                    [1, 5, 7]          3      0.4   4.143333          1   \n",
       "321688                       [5, 4]          2     0.48   0.605000          4   \n",
       "321689                 [NA, NA, NA]          3      0.5   1.233333    5.03757   \n",
       "321690                    [5, 4, 3]          3      0.3   1.833333          3   \n",
       "\n",
       "       max_rating  mean_rating  \n",
       "0               7     5.200000  \n",
       "1               4     4.000000  \n",
       "2               0     0.000000  \n",
       "3               3     2.333333  \n",
       "4               4     2.666667  \n",
       "...           ...          ...  \n",
       "321686          3     3.000000  \n",
       "321687          7     4.333333  \n",
       "321688          5     4.500000  \n",
       "321689    5.03757     5.037572  \n",
       "321690          5     4.000000  \n",
       "\n",
       "[321691 rows x 9 columns]"
      ]
     },
     "execution_count": 130,
     "metadata": {},
     "output_type": "execute_result"
    }
   ],
   "source": [
    "school_data"
   ]
  },
  {
   "cell_type": "markdown",
   "metadata": {},
   "source": [
    "Занесем эти данные в основную таблицу"
   ]
  },
  {
   "cell_type": "code",
   "execution_count": 131,
   "metadata": {
    "ExecuteTime": {
     "end_time": "2022-04-21T23:44:55.856059Z",
     "start_time": "2022-04-21T23:44:55.464453Z"
    }
   },
   "outputs": [],
   "source": [
    "df = df.drop(columns='schools')\n",
    "\n",
    "df['n_schools'] = list(school_data['n_schools'])\n",
    "df['min_dist_school'] = list(school_data['min_dist'])\n",
    "df['mean_dist_school'] = list(school_data['mean_dist'])\n",
    "df['min_rating_school'] = list(school_data['min_rating'])\n",
    "df['max_rating_school'] = list(school_data['max_rating'])\n",
    "df['mean_rating_school'] = list(school_data['mean_rating'])"
   ]
  },
  {
   "cell_type": "code",
   "execution_count": 132,
   "metadata": {
    "ExecuteTime": {
     "end_time": "2022-04-21T23:44:55.879495Z",
     "start_time": "2022-04-21T23:44:55.857056Z"
    }
   },
   "outputs": [
    {
     "data": {
      "text/html": [
       "<div>\n",
       "<style scoped>\n",
       "    .dataframe tbody tr th:only-of-type {\n",
       "        vertical-align: middle;\n",
       "    }\n",
       "\n",
       "    .dataframe tbody tr th {\n",
       "        vertical-align: top;\n",
       "    }\n",
       "\n",
       "    .dataframe thead th {\n",
       "        text-align: right;\n",
       "    }\n",
       "</style>\n",
       "<table border=\"1\" class=\"dataframe\">\n",
       "  <thead>\n",
       "    <tr style=\"text-align: right;\">\n",
       "      <th></th>\n",
       "      <th>status</th>\n",
       "      <th>propertyType</th>\n",
       "      <th>street</th>\n",
       "      <th>baths</th>\n",
       "      <th>fireplace</th>\n",
       "      <th>city</th>\n",
       "      <th>sqft</th>\n",
       "      <th>zipcode</th>\n",
       "      <th>beds</th>\n",
       "      <th>state</th>\n",
       "      <th>stories</th>\n",
       "      <th>mls-id</th>\n",
       "      <th>PrivatePool</th>\n",
       "      <th>MlsId</th>\n",
       "      <th>target</th>\n",
       "      <th>has_adress</th>\n",
       "      <th>built_year</th>\n",
       "      <th>was_remodeled</th>\n",
       "      <th>remodel_year</th>\n",
       "      <th>house_age</th>\n",
       "      <th>last_remodeled</th>\n",
       "      <th>heating</th>\n",
       "      <th>cooling</th>\n",
       "      <th>parking</th>\n",
       "      <th>n_schools</th>\n",
       "      <th>min_dist_school</th>\n",
       "      <th>mean_dist_school</th>\n",
       "      <th>min_rating_school</th>\n",
       "      <th>max_rating_school</th>\n",
       "      <th>mean_rating_school</th>\n",
       "    </tr>\n",
       "  </thead>\n",
       "  <tbody>\n",
       "    <tr>\n",
       "      <th>223689</th>\n",
       "      <td>FOR SALE</td>\n",
       "      <td>TOWNHOUSE</td>\n",
       "      <td>ROAD</td>\n",
       "      <td>2.0</td>\n",
       "      <td>0</td>\n",
       "      <td>SUNRISE</td>\n",
       "      <td>1,255 sqft</td>\n",
       "      <td>33322</td>\n",
       "      <td>2 Beds</td>\n",
       "      <td>FL</td>\n",
       "      <td>4.0</td>\n",
       "      <td>NaN</td>\n",
       "      <td>0.0</td>\n",
       "      <td>F10199065</td>\n",
       "      <td>179000</td>\n",
       "      <td>1</td>\n",
       "      <td>1991</td>\n",
       "      <td>1</td>\n",
       "      <td>1992</td>\n",
       "      <td>31</td>\n",
       "      <td>29</td>\n",
       "      <td>AIR</td>\n",
       "      <td>CENTRAL</td>\n",
       "      <td>NONE</td>\n",
       "      <td>3</td>\n",
       "      <td>0.45</td>\n",
       "      <td>1.190000</td>\n",
       "      <td>3.0</td>\n",
       "      <td>7.0</td>\n",
       "      <td>5.333333</td>\n",
       "    </tr>\n",
       "    <tr>\n",
       "      <th>264961</th>\n",
       "      <td>ACTIVE</td>\n",
       "      <td>RANCH</td>\n",
       "      <td>HWAY</td>\n",
       "      <td>2.0</td>\n",
       "      <td>0</td>\n",
       "      <td>JACKSONVILLE</td>\n",
       "      <td>2,544</td>\n",
       "      <td>32211</td>\n",
       "      <td>NaN</td>\n",
       "      <td>FL</td>\n",
       "      <td>NaN</td>\n",
       "      <td>NaN</td>\n",
       "      <td>0.0</td>\n",
       "      <td>1029287</td>\n",
       "      <td>225000</td>\n",
       "      <td>1</td>\n",
       "      <td>1960</td>\n",
       "      <td>1</td>\n",
       "      <td>1980</td>\n",
       "      <td>62</td>\n",
       "      <td>41</td>\n",
       "      <td>NO_DATA</td>\n",
       "      <td>NO_DATA</td>\n",
       "      <td>NONE</td>\n",
       "      <td>3</td>\n",
       "      <td>0.40</td>\n",
       "      <td>1.633333</td>\n",
       "      <td>3.0</td>\n",
       "      <td>4.0</td>\n",
       "      <td>3.666667</td>\n",
       "    </tr>\n",
       "    <tr>\n",
       "      <th>283695</th>\n",
       "      <td>FOR SALE</td>\n",
       "      <td>TOWNHOUSE</td>\n",
       "      <td>STREET</td>\n",
       "      <td>2.0</td>\n",
       "      <td>0</td>\n",
       "      <td>MIAMI</td>\n",
       "      <td>630 sqft</td>\n",
       "      <td>33131</td>\n",
       "      <td>NaN</td>\n",
       "      <td>FL</td>\n",
       "      <td>NaN</td>\n",
       "      <td>NaN</td>\n",
       "      <td>0.0</td>\n",
       "      <td>A10141128</td>\n",
       "      <td>331500</td>\n",
       "      <td>1</td>\n",
       "      <td>2006</td>\n",
       "      <td>1</td>\n",
       "      <td>2006</td>\n",
       "      <td>16</td>\n",
       "      <td>15</td>\n",
       "      <td>AIR</td>\n",
       "      <td>CENTRAL</td>\n",
       "      <td>OTHER</td>\n",
       "      <td>5</td>\n",
       "      <td>0.23</td>\n",
       "      <td>8.444000</td>\n",
       "      <td>2.0</td>\n",
       "      <td>10.0</td>\n",
       "      <td>6.000000</td>\n",
       "    </tr>\n",
       "  </tbody>\n",
       "</table>\n",
       "</div>"
      ],
      "text/plain": [
       "          status propertyType  street  baths  fireplace          city  \\\n",
       "223689  FOR SALE    TOWNHOUSE    ROAD    2.0          0       SUNRISE   \n",
       "264961    ACTIVE        RANCH    HWAY    2.0          0  JACKSONVILLE   \n",
       "283695  FOR SALE    TOWNHOUSE  STREET    2.0          0         MIAMI   \n",
       "\n",
       "              sqft zipcode    beds state stories mls-id  PrivatePool  \\\n",
       "223689  1,255 sqft   33322  2 Beds    FL     4.0    NaN          0.0   \n",
       "264961       2,544   32211     NaN    FL     NaN    NaN          0.0   \n",
       "283695    630 sqft   33131     NaN    FL     NaN    NaN          0.0   \n",
       "\n",
       "            MlsId  target  has_adress  built_year  was_remodeled  \\\n",
       "223689  F10199065  179000           1        1991              1   \n",
       "264961    1029287  225000           1        1960              1   \n",
       "283695  A10141128  331500           1        2006              1   \n",
       "\n",
       "        remodel_year  house_age  last_remodeled  heating  cooling parking  \\\n",
       "223689          1992         31              29      AIR  CENTRAL    NONE   \n",
       "264961          1980         62              41  NO_DATA  NO_DATA    NONE   \n",
       "283695          2006         16              15      AIR  CENTRAL   OTHER   \n",
       "\n",
       "        n_schools  min_dist_school  mean_dist_school  min_rating_school  \\\n",
       "223689          3             0.45          1.190000                3.0   \n",
       "264961          3             0.40          1.633333                3.0   \n",
       "283695          5             0.23          8.444000                2.0   \n",
       "\n",
       "        max_rating_school  mean_rating_school  \n",
       "223689                7.0            5.333333  \n",
       "264961                4.0            3.666667  \n",
       "283695               10.0            6.000000  "
      ]
     },
     "execution_count": 132,
     "metadata": {},
     "output_type": "execute_result"
    }
   ],
   "source": [
    "df.sample(3)"
   ]
  },
  {
   "cell_type": "markdown",
   "metadata": {},
   "source": [
    "## Колонка \"sqft\""
   ]
  },
  {
   "cell_type": "code",
   "execution_count": 133,
   "metadata": {
    "ExecuteTime": {
     "end_time": "2022-04-21T23:44:55.944838Z",
     "start_time": "2022-04-21T23:44:55.880530Z"
    }
   },
   "outputs": [
    {
     "name": "stdout",
     "output_type": "stream",
     "text": [
      "Колонка - sqft\n",
      "Кол-во пропусков: 29803\n",
      "Кол-во уникальных значений: 19202\n"
     ]
    },
    {
     "data": {
      "text/plain": [
       "NaN                                      29803\n",
       "0                                         8614\n",
       "1,200 sqft                                 772\n",
       "1,000 sqft                                 605\n",
       "1,100 sqft                                 532\n",
       "                                         ...  \n",
       "5,042 sqft                                   1\n",
       "3511                                         1\n",
       "35,283 sqft                                  1\n",
       "Total interior livable area: 634 sqft        1\n",
       "Total interior livable area: 567 sqft        1\n",
       "Name: sqft, Length: 19203, dtype: int64"
      ]
     },
     "execution_count": 133,
     "metadata": {},
     "output_type": "execute_result"
    }
   ],
   "source": [
    "show_col_info('sqft')\n",
    "df['sqft'].value_counts(dropna=False)"
   ]
  },
  {
   "cell_type": "markdown",
   "metadata": {},
   "source": [
    "Но в колонке \"beds\" тоже есть часть данных о площади. Добавим ее сюда в те записи, где она отсутствует."
   ]
  },
  {
   "cell_type": "code",
   "execution_count": 134,
   "metadata": {
    "ExecuteTime": {
     "end_time": "2022-04-21T23:44:56.050263Z",
     "start_time": "2022-04-21T23:44:55.945633Z"
    }
   },
   "outputs": [
    {
     "data": {
      "text/plain": [
       "False    246968\n",
       "True       1255\n",
       "Name: beds, dtype: int64"
      ]
     },
     "execution_count": 134,
     "metadata": {},
     "output_type": "execute_result"
    }
   ],
   "source": [
    "df['beds'].str.contains('sqft').value_counts()"
   ]
  },
  {
   "cell_type": "code",
   "execution_count": 135,
   "metadata": {
    "ExecuteTime": {
     "end_time": "2022-04-21T23:44:56.084115Z",
     "start_time": "2022-04-21T23:44:56.051153Z"
    },
    "scrolled": true
   },
   "outputs": [],
   "source": [
    "df_cut = df.loc[df['beds'].notna()]"
   ]
  },
  {
   "cell_type": "code",
   "execution_count": 136,
   "metadata": {
    "ExecuteTime": {
     "end_time": "2022-04-21T23:44:56.100301Z",
     "start_time": "2022-04-21T23:44:56.085188Z"
    }
   },
   "outputs": [
    {
     "data": {
      "text/html": [
       "<div>\n",
       "<style scoped>\n",
       "    .dataframe tbody tr th:only-of-type {\n",
       "        vertical-align: middle;\n",
       "    }\n",
       "\n",
       "    .dataframe tbody tr th {\n",
       "        vertical-align: top;\n",
       "    }\n",
       "\n",
       "    .dataframe thead th {\n",
       "        text-align: right;\n",
       "    }\n",
       "</style>\n",
       "<table border=\"1\" class=\"dataframe\">\n",
       "  <thead>\n",
       "    <tr style=\"text-align: right;\">\n",
       "      <th></th>\n",
       "      <th>status</th>\n",
       "      <th>propertyType</th>\n",
       "      <th>street</th>\n",
       "      <th>baths</th>\n",
       "      <th>fireplace</th>\n",
       "      <th>city</th>\n",
       "      <th>sqft</th>\n",
       "      <th>zipcode</th>\n",
       "      <th>beds</th>\n",
       "      <th>state</th>\n",
       "      <th>stories</th>\n",
       "      <th>mls-id</th>\n",
       "      <th>PrivatePool</th>\n",
       "      <th>MlsId</th>\n",
       "      <th>target</th>\n",
       "      <th>has_adress</th>\n",
       "      <th>built_year</th>\n",
       "      <th>was_remodeled</th>\n",
       "      <th>remodel_year</th>\n",
       "      <th>house_age</th>\n",
       "      <th>last_remodeled</th>\n",
       "      <th>heating</th>\n",
       "      <th>cooling</th>\n",
       "      <th>parking</th>\n",
       "      <th>n_schools</th>\n",
       "      <th>min_dist_school</th>\n",
       "      <th>mean_dist_school</th>\n",
       "      <th>min_rating_school</th>\n",
       "      <th>max_rating_school</th>\n",
       "      <th>mean_rating_school</th>\n",
       "    </tr>\n",
       "  </thead>\n",
       "  <tbody>\n",
       "    <tr>\n",
       "      <th>336605</th>\n",
       "      <td>FOR SALE</td>\n",
       "      <td>SINGLE</td>\n",
       "      <td>AVENUE</td>\n",
       "      <td>4.0</td>\n",
       "      <td>0</td>\n",
       "      <td>SPRING HILL</td>\n",
       "      <td>4,548 sqft</td>\n",
       "      <td>34609</td>\n",
       "      <td>5 Beds</td>\n",
       "      <td>FL</td>\n",
       "      <td>1.0</td>\n",
       "      <td>NaN</td>\n",
       "      <td>1.0</td>\n",
       "      <td>W7816773</td>\n",
       "      <td>599000</td>\n",
       "      <td>1</td>\n",
       "      <td>2007</td>\n",
       "      <td>1</td>\n",
       "      <td>2007</td>\n",
       "      <td>15</td>\n",
       "      <td>14</td>\n",
       "      <td>AIR</td>\n",
       "      <td>CENTRAL</td>\n",
       "      <td>OTHER</td>\n",
       "      <td>3</td>\n",
       "      <td>0.6</td>\n",
       "      <td>2.456667</td>\n",
       "      <td>3.0</td>\n",
       "      <td>6.0</td>\n",
       "      <td>5.0</td>\n",
       "    </tr>\n",
       "  </tbody>\n",
       "</table>\n",
       "</div>"
      ],
      "text/plain": [
       "          status propertyType  street  baths  fireplace         city  \\\n",
       "336605  FOR SALE       SINGLE  AVENUE    4.0          0  SPRING HILL   \n",
       "\n",
       "              sqft zipcode    beds state stories mls-id  PrivatePool  \\\n",
       "336605  4,548 sqft   34609  5 Beds    FL     1.0    NaN          1.0   \n",
       "\n",
       "           MlsId  target  has_adress  built_year  was_remodeled  remodel_year  \\\n",
       "336605  W7816773  599000           1        2007              1          2007   \n",
       "\n",
       "        house_age  last_remodeled heating  cooling parking  n_schools  \\\n",
       "336605         15              14     AIR  CENTRAL   OTHER          3   \n",
       "\n",
       "        min_dist_school  mean_dist_school  min_rating_school  \\\n",
       "336605              0.6          2.456667                3.0   \n",
       "\n",
       "        max_rating_school  mean_rating_school  \n",
       "336605                6.0                 5.0  "
      ]
     },
     "execution_count": 136,
     "metadata": {},
     "output_type": "execute_result"
    }
   ],
   "source": [
    "df_cut.sample()"
   ]
  },
  {
   "cell_type": "code",
   "execution_count": 137,
   "metadata": {
    "ExecuteTime": {
     "end_time": "2022-04-21T23:44:56.183840Z",
     "start_time": "2022-04-21T23:44:56.101329Z"
    }
   },
   "outputs": [
    {
     "data": {
      "text/html": [
       "<div>\n",
       "<style scoped>\n",
       "    .dataframe tbody tr th:only-of-type {\n",
       "        vertical-align: middle;\n",
       "    }\n",
       "\n",
       "    .dataframe tbody tr th {\n",
       "        vertical-align: top;\n",
       "    }\n",
       "\n",
       "    .dataframe thead th {\n",
       "        text-align: right;\n",
       "    }\n",
       "</style>\n",
       "<table border=\"1\" class=\"dataframe\">\n",
       "  <thead>\n",
       "    <tr style=\"text-align: right;\">\n",
       "      <th></th>\n",
       "      <th>sqft</th>\n",
       "      <th>beds</th>\n",
       "    </tr>\n",
       "  </thead>\n",
       "  <tbody>\n",
       "    <tr>\n",
       "      <th>971</th>\n",
       "      <td>NaN</td>\n",
       "      <td>8,637 sqft</td>\n",
       "    </tr>\n",
       "    <tr>\n",
       "      <th>1419</th>\n",
       "      <td>NaN</td>\n",
       "      <td>10,310 sqft</td>\n",
       "    </tr>\n",
       "    <tr>\n",
       "      <th>1467</th>\n",
       "      <td>NaN</td>\n",
       "      <td>6,250 sqft</td>\n",
       "    </tr>\n",
       "    <tr>\n",
       "      <th>1861</th>\n",
       "      <td>NaN</td>\n",
       "      <td>5,000 sqft</td>\n",
       "    </tr>\n",
       "    <tr>\n",
       "      <th>2357</th>\n",
       "      <td>NaN</td>\n",
       "      <td>5,662 sqft</td>\n",
       "    </tr>\n",
       "    <tr>\n",
       "      <th>...</th>\n",
       "      <td>...</td>\n",
       "      <td>...</td>\n",
       "    </tr>\n",
       "    <tr>\n",
       "      <th>376434</th>\n",
       "      <td>NaN</td>\n",
       "      <td>7,405 sqft</td>\n",
       "    </tr>\n",
       "    <tr>\n",
       "      <th>376590</th>\n",
       "      <td>NaN</td>\n",
       "      <td>3,768 sqft</td>\n",
       "    </tr>\n",
       "    <tr>\n",
       "      <th>376753</th>\n",
       "      <td>NaN</td>\n",
       "      <td>9,565 sqft</td>\n",
       "    </tr>\n",
       "    <tr>\n",
       "      <th>377028</th>\n",
       "      <td>NaN</td>\n",
       "      <td>4,922 sqft</td>\n",
       "    </tr>\n",
       "    <tr>\n",
       "      <th>377183</th>\n",
       "      <td>NaN</td>\n",
       "      <td>8,479 sqft</td>\n",
       "    </tr>\n",
       "  </tbody>\n",
       "</table>\n",
       "<p>1255 rows × 2 columns</p>\n",
       "</div>"
      ],
      "text/plain": [
       "       sqft         beds\n",
       "971     NaN   8,637 sqft\n",
       "1419    NaN  10,310 sqft\n",
       "1467    NaN   6,250 sqft\n",
       "1861    NaN   5,000 sqft\n",
       "2357    NaN   5,662 sqft\n",
       "...     ...          ...\n",
       "376434  NaN   7,405 sqft\n",
       "376590  NaN   3,768 sqft\n",
       "376753  NaN   9,565 sqft\n",
       "377028  NaN   4,922 sqft\n",
       "377183  NaN   8,479 sqft\n",
       "\n",
       "[1255 rows x 2 columns]"
      ]
     },
     "execution_count": 137,
     "metadata": {},
     "output_type": "execute_result"
    }
   ],
   "source": [
    "df_cut.loc[df_cut['beds'].str.contains('sqft'), ['sqft', 'beds']]"
   ]
  },
  {
   "cell_type": "code",
   "execution_count": 138,
   "metadata": {
    "ExecuteTime": {
     "end_time": "2022-04-21T23:44:56.317469Z",
     "start_time": "2022-04-21T23:44:56.184920Z"
    }
   },
   "outputs": [],
   "source": [
    "df_cut.loc[df_cut['beds'].str.contains('sqft'), 'sqft'] = df_cut.loc[df_cut['beds'].str.contains('sqft'), 'beds']"
   ]
  },
  {
   "cell_type": "code",
   "execution_count": 139,
   "metadata": {
    "ExecuteTime": {
     "end_time": "2022-04-21T23:44:56.399704Z",
     "start_time": "2022-04-21T23:44:56.318483Z"
    }
   },
   "outputs": [
    {
     "data": {
      "text/html": [
       "<div>\n",
       "<style scoped>\n",
       "    .dataframe tbody tr th:only-of-type {\n",
       "        vertical-align: middle;\n",
       "    }\n",
       "\n",
       "    .dataframe tbody tr th {\n",
       "        vertical-align: top;\n",
       "    }\n",
       "\n",
       "    .dataframe thead th {\n",
       "        text-align: right;\n",
       "    }\n",
       "</style>\n",
       "<table border=\"1\" class=\"dataframe\">\n",
       "  <thead>\n",
       "    <tr style=\"text-align: right;\">\n",
       "      <th></th>\n",
       "      <th>sqft</th>\n",
       "      <th>beds</th>\n",
       "    </tr>\n",
       "  </thead>\n",
       "  <tbody>\n",
       "    <tr>\n",
       "      <th>971</th>\n",
       "      <td>8,637 sqft</td>\n",
       "      <td>8,637 sqft</td>\n",
       "    </tr>\n",
       "    <tr>\n",
       "      <th>1419</th>\n",
       "      <td>10,310 sqft</td>\n",
       "      <td>10,310 sqft</td>\n",
       "    </tr>\n",
       "    <tr>\n",
       "      <th>1467</th>\n",
       "      <td>6,250 sqft</td>\n",
       "      <td>6,250 sqft</td>\n",
       "    </tr>\n",
       "    <tr>\n",
       "      <th>1861</th>\n",
       "      <td>5,000 sqft</td>\n",
       "      <td>5,000 sqft</td>\n",
       "    </tr>\n",
       "    <tr>\n",
       "      <th>2357</th>\n",
       "      <td>5,662 sqft</td>\n",
       "      <td>5,662 sqft</td>\n",
       "    </tr>\n",
       "  </tbody>\n",
       "</table>\n",
       "</div>"
      ],
      "text/plain": [
       "             sqft         beds\n",
       "971    8,637 sqft   8,637 sqft\n",
       "1419  10,310 sqft  10,310 sqft\n",
       "1467   6,250 sqft   6,250 sqft\n",
       "1861   5,000 sqft   5,000 sqft\n",
       "2357   5,662 sqft   5,662 sqft"
      ]
     },
     "execution_count": 139,
     "metadata": {},
     "output_type": "execute_result"
    }
   ],
   "source": [
    "df_cut.loc[df_cut['beds'].str.contains('sqft'), ['sqft', 'beds']].head()"
   ]
  },
  {
   "cell_type": "code",
   "execution_count": 140,
   "metadata": {
    "ExecuteTime": {
     "end_time": "2022-04-21T23:44:56.535397Z",
     "start_time": "2022-04-21T23:44:56.400584Z"
    }
   },
   "outputs": [],
   "source": [
    "df.loc[df_cut.loc[df_cut['beds'].str.contains('sqft')].index, \n",
    "       'sqft'] = df_cut.loc[df_cut['beds'].str.contains('sqft'), 'beds']"
   ]
  },
  {
   "cell_type": "code",
   "execution_count": 141,
   "metadata": {
    "ExecuteTime": {
     "end_time": "2022-04-21T23:44:56.602038Z",
     "start_time": "2022-04-21T23:44:56.536366Z"
    }
   },
   "outputs": [
    {
     "name": "stdout",
     "output_type": "stream",
     "text": [
      "Колонка - sqft\n",
      "Кол-во пропусков: 28560\n",
      "Кол-во уникальных значений: 19510\n"
     ]
    },
    {
     "data": {
      "text/plain": [
       "NaN             28560\n",
       "0                8614\n",
       "1,200 sqft        772\n",
       "1,000 sqft        605\n",
       "1,100 sqft        532\n",
       "                ...  \n",
       "301,851 sqft        1\n",
       "7704                1\n",
       "8,937 sqft          1\n",
       "5776                1\n",
       "65,000 sqft         1\n",
       "Name: sqft, Length: 19511, dtype: int64"
      ]
     },
     "execution_count": 141,
     "metadata": {},
     "output_type": "execute_result"
    }
   ],
   "source": [
    "show_col_info('sqft')\n",
    "df['sqft'].value_counts(dropna=False)"
   ]
  },
  {
   "cell_type": "code",
   "execution_count": 142,
   "metadata": {
    "ExecuteTime": {
     "end_time": "2022-04-21T23:44:56.605256Z",
     "start_time": "2022-04-21T23:44:56.603015Z"
    }
   },
   "outputs": [],
   "source": [
    "def clear_sqft(x):\n",
    "    try:\n",
    "        return int(re.sub(r'\\D+', '', x))\n",
    "    except:\n",
    "        return 0"
   ]
  },
  {
   "cell_type": "code",
   "execution_count": 143,
   "metadata": {
    "ExecuteTime": {
     "end_time": "2022-04-21T23:44:57.039758Z",
     "start_time": "2022-04-21T23:44:56.606422Z"
    }
   },
   "outputs": [],
   "source": [
    "df['sqft_clear'] = [clear_sqft(x) for x in df['sqft']]"
   ]
  },
  {
   "cell_type": "code",
   "execution_count": 144,
   "metadata": {
    "ExecuteTime": {
     "end_time": "2022-04-21T23:44:57.063327Z",
     "start_time": "2022-04-21T23:44:57.040588Z"
    }
   },
   "outputs": [
    {
     "data": {
      "text/html": [
       "<div>\n",
       "<style scoped>\n",
       "    .dataframe tbody tr th:only-of-type {\n",
       "        vertical-align: middle;\n",
       "    }\n",
       "\n",
       "    .dataframe tbody tr th {\n",
       "        vertical-align: top;\n",
       "    }\n",
       "\n",
       "    .dataframe thead th {\n",
       "        text-align: right;\n",
       "    }\n",
       "</style>\n",
       "<table border=\"1\" class=\"dataframe\">\n",
       "  <thead>\n",
       "    <tr style=\"text-align: right;\">\n",
       "      <th></th>\n",
       "      <th>sqft</th>\n",
       "      <th>sqft_clear</th>\n",
       "    </tr>\n",
       "  </thead>\n",
       "  <tbody>\n",
       "    <tr>\n",
       "      <th>102637</th>\n",
       "      <td>3,522 sqft</td>\n",
       "      <td>3522</td>\n",
       "    </tr>\n",
       "    <tr>\n",
       "      <th>334563</th>\n",
       "      <td>Total interior livable area: 1,159 sqft</td>\n",
       "      <td>1159</td>\n",
       "    </tr>\n",
       "    <tr>\n",
       "      <th>131889</th>\n",
       "      <td>2,155 sqft</td>\n",
       "      <td>2155</td>\n",
       "    </tr>\n",
       "    <tr>\n",
       "      <th>6559</th>\n",
       "      <td>815</td>\n",
       "      <td>815</td>\n",
       "    </tr>\n",
       "    <tr>\n",
       "      <th>320435</th>\n",
       "      <td>NaN</td>\n",
       "      <td>0</td>\n",
       "    </tr>\n",
       "    <tr>\n",
       "      <th>246006</th>\n",
       "      <td>0</td>\n",
       "      <td>0</td>\n",
       "    </tr>\n",
       "    <tr>\n",
       "      <th>307017</th>\n",
       "      <td>3,198</td>\n",
       "      <td>3198</td>\n",
       "    </tr>\n",
       "    <tr>\n",
       "      <th>94815</th>\n",
       "      <td>NaN</td>\n",
       "      <td>0</td>\n",
       "    </tr>\n",
       "    <tr>\n",
       "      <th>148394</th>\n",
       "      <td>890</td>\n",
       "      <td>890</td>\n",
       "    </tr>\n",
       "    <tr>\n",
       "      <th>42168</th>\n",
       "      <td>2,563</td>\n",
       "      <td>2563</td>\n",
       "    </tr>\n",
       "    <tr>\n",
       "      <th>366990</th>\n",
       "      <td>1,000 sqft</td>\n",
       "      <td>1000</td>\n",
       "    </tr>\n",
       "    <tr>\n",
       "      <th>183928</th>\n",
       "      <td>3,635 sqft</td>\n",
       "      <td>3635</td>\n",
       "    </tr>\n",
       "    <tr>\n",
       "      <th>315526</th>\n",
       "      <td>NaN</td>\n",
       "      <td>0</td>\n",
       "    </tr>\n",
       "    <tr>\n",
       "      <th>141796</th>\n",
       "      <td>3,317</td>\n",
       "      <td>3317</td>\n",
       "    </tr>\n",
       "    <tr>\n",
       "      <th>332195</th>\n",
       "      <td>5000</td>\n",
       "      <td>5000</td>\n",
       "    </tr>\n",
       "  </tbody>\n",
       "</table>\n",
       "</div>"
      ],
      "text/plain": [
       "                                           sqft  sqft_clear\n",
       "102637                               3,522 sqft        3522\n",
       "334563  Total interior livable area: 1,159 sqft        1159\n",
       "131889                               2,155 sqft        2155\n",
       "6559                                        815         815\n",
       "320435                                      NaN           0\n",
       "246006                                        0           0\n",
       "307017                                    3,198        3198\n",
       "94815                                       NaN           0\n",
       "148394                                      890         890\n",
       "42168                                     2,563        2563\n",
       "366990                               1,000 sqft        1000\n",
       "183928                               3,635 sqft        3635\n",
       "315526                                      NaN           0\n",
       "141796                                    3,317        3317\n",
       "332195                                     5000        5000"
      ]
     },
     "execution_count": 144,
     "metadata": {},
     "output_type": "execute_result"
    }
   ],
   "source": [
    "df[['sqft', 'sqft_clear']].sample(15)"
   ]
  },
  {
   "cell_type": "code",
   "execution_count": 145,
   "metadata": {
    "ExecuteTime": {
     "end_time": "2022-04-21T23:44:57.510679Z",
     "start_time": "2022-04-21T23:44:57.064345Z"
    }
   },
   "outputs": [],
   "source": [
    "df['sqft'] = [clear_sqft(x) for x in df['sqft']]"
   ]
  },
  {
   "cell_type": "code",
   "execution_count": 146,
   "metadata": {
    "ExecuteTime": {
     "end_time": "2022-04-21T23:44:57.549899Z",
     "start_time": "2022-04-21T23:44:57.511694Z"
    }
   },
   "outputs": [],
   "source": [
    "df = df.drop(columns='sqft_clear')"
   ]
  },
  {
   "cell_type": "code",
   "execution_count": 147,
   "metadata": {
    "ExecuteTime": {
     "end_time": "2022-04-21T23:44:57.563315Z",
     "start_time": "2022-04-21T23:44:57.550861Z"
    }
   },
   "outputs": [
    {
     "data": {
      "text/html": [
       "<div>\n",
       "<style scoped>\n",
       "    .dataframe tbody tr th:only-of-type {\n",
       "        vertical-align: middle;\n",
       "    }\n",
       "\n",
       "    .dataframe tbody tr th {\n",
       "        vertical-align: top;\n",
       "    }\n",
       "\n",
       "    .dataframe thead th {\n",
       "        text-align: right;\n",
       "    }\n",
       "</style>\n",
       "<table border=\"1\" class=\"dataframe\">\n",
       "  <thead>\n",
       "    <tr style=\"text-align: right;\">\n",
       "      <th></th>\n",
       "      <th>sqft</th>\n",
       "    </tr>\n",
       "  </thead>\n",
       "  <tbody>\n",
       "    <tr>\n",
       "      <th>count</th>\n",
       "      <td>3.216910e+05</td>\n",
       "    </tr>\n",
       "    <tr>\n",
       "      <th>mean</th>\n",
       "      <td>6.257355e+03</td>\n",
       "    </tr>\n",
       "    <tr>\n",
       "      <th>std</th>\n",
       "      <td>1.618094e+06</td>\n",
       "    </tr>\n",
       "    <tr>\n",
       "      <th>min</th>\n",
       "      <td>0.000000e+00</td>\n",
       "    </tr>\n",
       "    <tr>\n",
       "      <th>25%</th>\n",
       "      <td>1.056000e+03</td>\n",
       "    </tr>\n",
       "    <tr>\n",
       "      <th>50%</th>\n",
       "      <td>1.611000e+03</td>\n",
       "    </tr>\n",
       "    <tr>\n",
       "      <th>75%</th>\n",
       "      <td>2.304000e+03</td>\n",
       "    </tr>\n",
       "    <tr>\n",
       "      <th>max</th>\n",
       "      <td>7.959794e+08</td>\n",
       "    </tr>\n",
       "  </tbody>\n",
       "</table>\n",
       "</div>"
      ],
      "text/plain": [
       "               sqft\n",
       "count  3.216910e+05\n",
       "mean   6.257355e+03\n",
       "std    1.618094e+06\n",
       "min    0.000000e+00\n",
       "25%    1.056000e+03\n",
       "50%    1.611000e+03\n",
       "75%    2.304000e+03\n",
       "max    7.959794e+08"
      ]
     },
     "execution_count": 147,
     "metadata": {},
     "output_type": "execute_result"
    }
   ],
   "source": [
    "df[['sqft']].describe()"
   ]
  },
  {
   "cell_type": "code",
   "execution_count": 148,
   "metadata": {
    "ExecuteTime": {
     "end_time": "2022-04-21T23:44:57.594591Z",
     "start_time": "2022-04-21T23:44:57.564440Z"
    }
   },
   "outputs": [],
   "source": [
    "df = df[df['sqft'] < 7000]"
   ]
  },
  {
   "cell_type": "code",
   "execution_count": 149,
   "metadata": {
    "ExecuteTime": {
     "end_time": "2022-04-21T23:44:57.701906Z",
     "start_time": "2022-04-21T23:44:57.595733Z"
    }
   },
   "outputs": [
    {
     "data": {
      "text/plain": [
       "<AxesSubplot:>"
      ]
     },
     "execution_count": 149,
     "metadata": {},
     "output_type": "execute_result"
    },
    {
     "data": {
      "image/png": "[encoded data removed]",
      "text/plain": [
       "<Figure size 432x288 with 1 Axes>"
      ]
     },
     "metadata": {
      "needs_background": "light"
     },
     "output_type": "display_data"
    }
   ],
   "source": [
    "df['sqft'].hist(bins=25)"
   ]
  },
  {
   "cell_type": "markdown",
   "metadata": {},
   "source": [
    "Заменим очень нулевые значения на среднее."
   ]
  },
  {
   "cell_type": "code",
   "execution_count": 150,
   "metadata": {
    "ExecuteTime": {
     "end_time": "2022-04-21T23:44:57.721555Z",
     "start_time": "2022-04-21T23:44:57.703042Z"
    }
   },
   "outputs": [
    {
     "data": {
      "text/html": [
       "<div>\n",
       "<style scoped>\n",
       "    .dataframe tbody tr th:only-of-type {\n",
       "        vertical-align: middle;\n",
       "    }\n",
       "\n",
       "    .dataframe tbody tr th {\n",
       "        vertical-align: top;\n",
       "    }\n",
       "\n",
       "    .dataframe thead th {\n",
       "        text-align: right;\n",
       "    }\n",
       "</style>\n",
       "<table border=\"1\" class=\"dataframe\">\n",
       "  <thead>\n",
       "    <tr style=\"text-align: right;\">\n",
       "      <th></th>\n",
       "      <th>baths</th>\n",
       "      <th>sqft</th>\n",
       "      <th>target</th>\n",
       "    </tr>\n",
       "  </thead>\n",
       "  <tbody>\n",
       "    <tr>\n",
       "      <th>baths</th>\n",
       "      <td>1.000000</td>\n",
       "      <td>0.593330</td>\n",
       "      <td>0.476135</td>\n",
       "    </tr>\n",
       "    <tr>\n",
       "      <th>sqft</th>\n",
       "      <td>0.593330</td>\n",
       "      <td>1.000000</td>\n",
       "      <td>0.393259</td>\n",
       "    </tr>\n",
       "    <tr>\n",
       "      <th>target</th>\n",
       "      <td>0.476135</td>\n",
       "      <td>0.393259</td>\n",
       "      <td>1.000000</td>\n",
       "    </tr>\n",
       "  </tbody>\n",
       "</table>\n",
       "</div>"
      ],
      "text/plain": [
       "           baths      sqft    target\n",
       "baths   1.000000  0.593330  0.476135\n",
       "sqft    0.593330  1.000000  0.393259\n",
       "target  0.476135  0.393259  1.000000"
      ]
     },
     "execution_count": 150,
     "metadata": {},
     "output_type": "execute_result"
    }
   ],
   "source": [
    "df.loc[df['sqft'] < 15, 'sqft'] = 1920\n",
    "\n",
    "df[['baths', 'sqft', 'target']].corr()"
   ]
  },
  {
   "cell_type": "markdown",
   "metadata": {},
   "source": [
    "Такой столбец будет довольно проблематично использовать напрямую, поэтому давайте заменим этот столбец на категориальный следующим образом:\n",
    "- 1 - маленькая площадь (меньше 0,25 квантиля)\n",
    "- 2 - стандартная (от 0.25 до 0.75)\n",
    "- 3 - большая (больше 0.75)"
   ]
  },
  {
   "cell_type": "code",
   "execution_count": 151,
   "metadata": {
    "ExecuteTime": {
     "end_time": "2022-04-21T23:44:57.744723Z",
     "start_time": "2022-04-21T23:44:57.722611Z"
    }
   },
   "outputs": [],
   "source": [
    "df['sqft_type'] = 0\n",
    "df.loc[df['sqft'] == 0, 'sqft_type'] = 0\n",
    "df.loc[(df['sqft'] < df['sqft'].quantile(0.25)) & (df['sqft'] != 0), 'sqft_type'] = 1\n",
    "df.loc[(df['sqft'] > df['sqft'].quantile(0.25)) & (df['sqft'] < df['sqft'].quantile(0.75)), 'sqft_type'] = 2\n",
    "df.loc[(df['sqft'] > df['sqft'].quantile(0.75)), 'sqft_type'] = 3"
   ]
  },
  {
   "cell_type": "code",
   "execution_count": 152,
   "metadata": {
    "ExecuteTime": {
     "end_time": "2022-04-21T23:44:57.761730Z",
     "start_time": "2022-04-21T23:44:57.745501Z"
    }
   },
   "outputs": [
    {
     "data": {
      "text/html": [
       "<div>\n",
       "<style scoped>\n",
       "    .dataframe tbody tr th:only-of-type {\n",
       "        vertical-align: middle;\n",
       "    }\n",
       "\n",
       "    .dataframe tbody tr th {\n",
       "        vertical-align: top;\n",
       "    }\n",
       "\n",
       "    .dataframe thead th {\n",
       "        text-align: right;\n",
       "    }\n",
       "</style>\n",
       "<table border=\"1\" class=\"dataframe\">\n",
       "  <thead>\n",
       "    <tr style=\"text-align: right;\">\n",
       "      <th></th>\n",
       "      <th>baths</th>\n",
       "      <th>sqft</th>\n",
       "      <th>sqft_type</th>\n",
       "      <th>target</th>\n",
       "    </tr>\n",
       "  </thead>\n",
       "  <tbody>\n",
       "    <tr>\n",
       "      <th>106358</th>\n",
       "      <td>3.0</td>\n",
       "      <td>1377</td>\n",
       "      <td>2</td>\n",
       "      <td>620000</td>\n",
       "    </tr>\n",
       "    <tr>\n",
       "      <th>262884</th>\n",
       "      <td>3.0</td>\n",
       "      <td>1808</td>\n",
       "      <td>2</td>\n",
       "      <td>259000</td>\n",
       "    </tr>\n",
       "    <tr>\n",
       "      <th>250611</th>\n",
       "      <td>3.0</td>\n",
       "      <td>2395</td>\n",
       "      <td>3</td>\n",
       "      <td>731856</td>\n",
       "    </tr>\n",
       "    <tr>\n",
       "      <th>314811</th>\n",
       "      <td>3.0</td>\n",
       "      <td>2862</td>\n",
       "      <td>3</td>\n",
       "      <td>539000</td>\n",
       "    </tr>\n",
       "    <tr>\n",
       "      <th>43227</th>\n",
       "      <td>2.0</td>\n",
       "      <td>1676</td>\n",
       "      <td>2</td>\n",
       "      <td>299900</td>\n",
       "    </tr>\n",
       "    <tr>\n",
       "      <th>243564</th>\n",
       "      <td>3.0</td>\n",
       "      <td>1920</td>\n",
       "      <td>2</td>\n",
       "      <td>799000</td>\n",
       "    </tr>\n",
       "    <tr>\n",
       "      <th>211904</th>\n",
       "      <td>2.0</td>\n",
       "      <td>1157</td>\n",
       "      <td>1</td>\n",
       "      <td>995000</td>\n",
       "    </tr>\n",
       "    <tr>\n",
       "      <th>32670</th>\n",
       "      <td>3.0</td>\n",
       "      <td>2548</td>\n",
       "      <td>3</td>\n",
       "      <td>245000</td>\n",
       "    </tr>\n",
       "  </tbody>\n",
       "</table>\n",
       "</div>"
      ],
      "text/plain": [
       "        baths  sqft  sqft_type  target\n",
       "106358    3.0  1377          2  620000\n",
       "262884    3.0  1808          2  259000\n",
       "250611    3.0  2395          3  731856\n",
       "314811    3.0  2862          3  539000\n",
       "43227     2.0  1676          2  299900\n",
       "243564    3.0  1920          2  799000\n",
       "211904    2.0  1157          1  995000\n",
       "32670     3.0  2548          3  245000"
      ]
     },
     "execution_count": 152,
     "metadata": {},
     "output_type": "execute_result"
    }
   ],
   "source": [
    "df[['baths', 'sqft', 'sqft_type', 'target']].sample(8)"
   ]
  },
  {
   "cell_type": "code",
   "execution_count": 153,
   "metadata": {
    "ExecuteTime": {
     "end_time": "2022-04-21T23:44:57.782045Z",
     "start_time": "2022-04-21T23:44:57.762962Z"
    }
   },
   "outputs": [
    {
     "data": {
      "text/html": [
       "<div>\n",
       "<style scoped>\n",
       "    .dataframe tbody tr th:only-of-type {\n",
       "        vertical-align: middle;\n",
       "    }\n",
       "\n",
       "    .dataframe tbody tr th {\n",
       "        vertical-align: top;\n",
       "    }\n",
       "\n",
       "    .dataframe thead th {\n",
       "        text-align: right;\n",
       "    }\n",
       "</style>\n",
       "<table border=\"1\" class=\"dataframe\">\n",
       "  <thead>\n",
       "    <tr style=\"text-align: right;\">\n",
       "      <th></th>\n",
       "      <th>baths</th>\n",
       "      <th>sqft</th>\n",
       "      <th>sqft_type</th>\n",
       "      <th>target</th>\n",
       "    </tr>\n",
       "  </thead>\n",
       "  <tbody>\n",
       "    <tr>\n",
       "      <th>baths</th>\n",
       "      <td>1.000000</td>\n",
       "      <td>0.593330</td>\n",
       "      <td>0.538191</td>\n",
       "      <td>0.476135</td>\n",
       "    </tr>\n",
       "    <tr>\n",
       "      <th>sqft</th>\n",
       "      <td>0.593330</td>\n",
       "      <td>1.000000</td>\n",
       "      <td>0.849988</td>\n",
       "      <td>0.393259</td>\n",
       "    </tr>\n",
       "    <tr>\n",
       "      <th>sqft_type</th>\n",
       "      <td>0.538191</td>\n",
       "      <td>0.849988</td>\n",
       "      <td>1.000000</td>\n",
       "      <td>0.346845</td>\n",
       "    </tr>\n",
       "    <tr>\n",
       "      <th>target</th>\n",
       "      <td>0.476135</td>\n",
       "      <td>0.393259</td>\n",
       "      <td>0.346845</td>\n",
       "      <td>1.000000</td>\n",
       "    </tr>\n",
       "  </tbody>\n",
       "</table>\n",
       "</div>"
      ],
      "text/plain": [
       "              baths      sqft  sqft_type    target\n",
       "baths      1.000000  0.593330   0.538191  0.476135\n",
       "sqft       0.593330  1.000000   0.849988  0.393259\n",
       "sqft_type  0.538191  0.849988   1.000000  0.346845\n",
       "target     0.476135  0.393259   0.346845  1.000000"
      ]
     },
     "execution_count": 153,
     "metadata": {},
     "output_type": "execute_result"
    }
   ],
   "source": [
    "df[['baths', 'sqft', 'sqft_type', 'target']].corr()"
   ]
  },
  {
   "cell_type": "code",
   "execution_count": 154,
   "metadata": {
    "ExecuteTime": {
     "end_time": "2022-04-21T23:44:57.801975Z",
     "start_time": "2022-04-21T23:44:57.783231Z"
    }
   },
   "outputs": [
    {
     "data": {
      "text/html": [
       "<div>\n",
       "<style scoped>\n",
       "    .dataframe tbody tr th:only-of-type {\n",
       "        vertical-align: middle;\n",
       "    }\n",
       "\n",
       "    .dataframe tbody tr th {\n",
       "        vertical-align: top;\n",
       "    }\n",
       "\n",
       "    .dataframe thead th {\n",
       "        text-align: right;\n",
       "    }\n",
       "</style>\n",
       "<table border=\"1\" class=\"dataframe\">\n",
       "  <thead>\n",
       "    <tr style=\"text-align: right;\">\n",
       "      <th></th>\n",
       "      <th>baths</th>\n",
       "      <th>sqft</th>\n",
       "      <th>sqft_type</th>\n",
       "      <th>target</th>\n",
       "    </tr>\n",
       "  </thead>\n",
       "  <tbody>\n",
       "    <tr>\n",
       "      <th>baths</th>\n",
       "      <td>1.000000</td>\n",
       "      <td>0.593330</td>\n",
       "      <td>0.538191</td>\n",
       "      <td>0.476135</td>\n",
       "    </tr>\n",
       "    <tr>\n",
       "      <th>sqft</th>\n",
       "      <td>0.593330</td>\n",
       "      <td>1.000000</td>\n",
       "      <td>0.849988</td>\n",
       "      <td>0.393259</td>\n",
       "    </tr>\n",
       "    <tr>\n",
       "      <th>sqft_type</th>\n",
       "      <td>0.538191</td>\n",
       "      <td>0.849988</td>\n",
       "      <td>1.000000</td>\n",
       "      <td>0.346845</td>\n",
       "    </tr>\n",
       "    <tr>\n",
       "      <th>target</th>\n",
       "      <td>0.476135</td>\n",
       "      <td>0.393259</td>\n",
       "      <td>0.346845</td>\n",
       "      <td>1.000000</td>\n",
       "    </tr>\n",
       "  </tbody>\n",
       "</table>\n",
       "</div>"
      ],
      "text/plain": [
       "              baths      sqft  sqft_type    target\n",
       "baths      1.000000  0.593330   0.538191  0.476135\n",
       "sqft       0.593330  1.000000   0.849988  0.393259\n",
       "sqft_type  0.538191  0.849988   1.000000  0.346845\n",
       "target     0.476135  0.393259   0.346845  1.000000"
      ]
     },
     "execution_count": 154,
     "metadata": {},
     "output_type": "execute_result"
    }
   ],
   "source": [
    "df[['baths', 'sqft', 'sqft_type', 'target']].corr()"
   ]
  },
  {
   "cell_type": "markdown",
   "metadata": {},
   "source": [
    "Отлично. Корреляция прослеживается. Но давайте оставим и старую фичу на всякий случай. "
   ]
  },
  {
   "cell_type": "markdown",
   "metadata": {},
   "source": [
    "## Колонка \"zipcode\""
   ]
  },
  {
   "cell_type": "markdown",
   "metadata": {},
   "source": [
    "Это айдишники. Эту колонку учитывать не будем."
   ]
  },
  {
   "cell_type": "code",
   "execution_count": 155,
   "metadata": {
    "ExecuteTime": {
     "end_time": "2022-04-21T23:44:57.828464Z",
     "start_time": "2022-04-21T23:44:57.803194Z"
    }
   },
   "outputs": [],
   "source": [
    "df = df.drop(columns='zipcode')"
   ]
  },
  {
   "cell_type": "markdown",
   "metadata": {},
   "source": [
    "## Колонка \"beds\""
   ]
  },
  {
   "cell_type": "code",
   "execution_count": 156,
   "metadata": {
    "ExecuteTime": {
     "end_time": "2022-04-21T23:44:57.874376Z",
     "start_time": "2022-04-21T23:44:57.829611Z"
    }
   },
   "outputs": [
    {
     "name": "stdout",
     "output_type": "stream",
     "text": [
      "Колонка - beds\n",
      "Кол-во пропусков: 72316\n",
      "Кол-во уникальных значений: 736\n"
     ]
    },
    {
     "data": {
      "text/plain": [
       "NaN           72316\n",
       "3 Beds        48509\n",
       "4 Beds        30658\n",
       "3             28671\n",
       "2 Beds        23456\n",
       "              ...  \n",
       "3,354 sqft        1\n",
       "1.36 acres        1\n",
       "8.25 acres        1\n",
       "2.47 acres        1\n",
       "3,009 sqft        1\n",
       "Name: beds, Length: 737, dtype: int64"
      ]
     },
     "execution_count": 156,
     "metadata": {},
     "output_type": "execute_result"
    }
   ],
   "source": [
    "show_col_info('beds')\n",
    "df['beds'].value_counts(dropna=False)"
   ]
  },
  {
   "cell_type": "code",
   "execution_count": 157,
   "metadata": {
    "ExecuteTime": {
     "end_time": "2022-04-21T23:44:57.950133Z",
     "start_time": "2022-04-21T23:44:57.875350Z"
    }
   },
   "outputs": [],
   "source": [
    "df['beds'] = df['beds'].str.upper()"
   ]
  },
  {
   "cell_type": "code",
   "execution_count": 158,
   "metadata": {
    "ExecuteTime": {
     "end_time": "2022-04-21T23:44:58.053538Z",
     "start_time": "2022-04-21T23:44:57.951255Z"
    }
   },
   "outputs": [
    {
     "name": "stdout",
     "output_type": "stream",
     "text": [
      "Колонка - beds\n",
      "Кол-во пропусков: 72316\n",
      "Кол-во уникальных значений: 736\n"
     ]
    },
    {
     "data": {
      "text/plain": [
       "NaN       72316\n",
       "3 BEDS    48509\n",
       "4 BEDS    30658\n",
       "3         28671\n",
       "2 BEDS    23456\n",
       "4         16796\n",
       "2         14841\n",
       "BATHS     13430\n",
       "3 BD      12188\n",
       "3.0        7939\n",
       "5 BEDS     7662\n",
       "4 BD       7566\n",
       "2 BD       4981\n",
       "4.0        4915\n",
       "1          4419\n",
       "5          4079\n",
       "2.0        2381\n",
       "6 BEDS     1983\n",
       "5 BD       1983\n",
       "5.0        1097\n",
       "Name: beds, dtype: int64"
      ]
     },
     "execution_count": 158,
     "metadata": {},
     "output_type": "execute_result"
    }
   ],
   "source": [
    "show_col_info('beds')\n",
    "df['beds'].value_counts(dropna=False)[:20]"
   ]
  },
  {
   "cell_type": "code",
   "execution_count": 159,
   "metadata": {
    "ExecuteTime": {
     "end_time": "2022-04-21T23:44:58.057226Z",
     "start_time": "2022-04-21T23:44:58.054628Z"
    }
   },
   "outputs": [],
   "source": [
    "def clear_beds(x):\n",
    "    try:\n",
    "        if 'SQF' in x or 'ACR' in x:\n",
    "            return 0\n",
    "        else:\n",
    "            number = re.sub(r'[^0-9.,]', r'', x)\n",
    "            number = int(number.replace(',', '.'))\n",
    "            return number\n",
    "            #return int(re.sub(r'\\D+', '', x))\n",
    "    except:\n",
    "        return 0"
   ]
  },
  {
   "cell_type": "code",
   "execution_count": 160,
   "metadata": {
    "ExecuteTime": {
     "end_time": "2022-04-21T23:44:58.501608Z",
     "start_time": "2022-04-21T23:44:58.058094Z"
    },
    "scrolled": false
   },
   "outputs": [
    {
     "data": {
      "text/plain": [
       "0     107576\n",
       "3      89369\n",
       "4      55020\n",
       "2      43278\n",
       "5      13724\n",
       "1       5447\n",
       "6       3205\n",
       "7        715\n",
       "8        505\n",
       "9        204\n",
       "10       108\n",
       "12        53\n",
       "11        38\n",
       "64        35\n",
       "14        11\n",
       "13        10\n",
       "16         8\n",
       "18         5\n",
       "20         2\n",
       "44         1\n",
       "15         1\n",
       "17         1\n",
       "22         1\n",
       "24         1\n",
       "34         1\n",
       "dtype: int64"
      ]
     },
     "execution_count": 160,
     "metadata": {},
     "output_type": "execute_result"
    }
   ],
   "source": [
    "pd.Series([clear_beds(x) for x in df['beds']]).value_counts()"
   ]
  },
  {
   "cell_type": "code",
   "execution_count": 161,
   "metadata": {
    "ExecuteTime": {
     "end_time": "2022-04-21T23:44:58.950173Z",
     "start_time": "2022-04-21T23:44:58.502772Z"
    }
   },
   "outputs": [
    {
     "data": {
      "text/plain": [
       "count    319319.000000\n",
       "mean          2.142037\n",
       "std           1.872651\n",
       "min           0.000000\n",
       "25%           0.000000\n",
       "50%           3.000000\n",
       "75%           3.000000\n",
       "max          64.000000\n",
       "dtype: float64"
      ]
     },
     "execution_count": 161,
     "metadata": {},
     "output_type": "execute_result"
    }
   ],
   "source": [
    "pd.Series([clear_beds(x) for x in df['beds']]).describe()"
   ]
  },
  {
   "cell_type": "code",
   "execution_count": 162,
   "metadata": {
    "ExecuteTime": {
     "end_time": "2022-04-21T23:44:59.392716Z",
     "start_time": "2022-04-21T23:44:58.950927Z"
    }
   },
   "outputs": [],
   "source": [
    "df['beds_cleared'] = [clear_beds(x) for x in df['beds']]"
   ]
  },
  {
   "cell_type": "code",
   "execution_count": 163,
   "metadata": {
    "ExecuteTime": {
     "end_time": "2022-04-21T23:44:59.413494Z",
     "start_time": "2022-04-21T23:44:59.393568Z"
    },
    "scrolled": true
   },
   "outputs": [
    {
     "data": {
      "text/html": [
       "<div>\n",
       "<style scoped>\n",
       "    .dataframe tbody tr th:only-of-type {\n",
       "        vertical-align: middle;\n",
       "    }\n",
       "\n",
       "    .dataframe tbody tr th {\n",
       "        vertical-align: top;\n",
       "    }\n",
       "\n",
       "    .dataframe thead th {\n",
       "        text-align: right;\n",
       "    }\n",
       "</style>\n",
       "<table border=\"1\" class=\"dataframe\">\n",
       "  <thead>\n",
       "    <tr style=\"text-align: right;\">\n",
       "      <th></th>\n",
       "      <th>sqft</th>\n",
       "      <th>beds</th>\n",
       "      <th>beds_cleared</th>\n",
       "      <th>target</th>\n",
       "    </tr>\n",
       "  </thead>\n",
       "  <tbody>\n",
       "    <tr>\n",
       "      <th>360679</th>\n",
       "      <td>1439</td>\n",
       "      <td>4 BEDS</td>\n",
       "      <td>4</td>\n",
       "      <td>824999</td>\n",
       "    </tr>\n",
       "    <tr>\n",
       "      <th>327165</th>\n",
       "      <td>826</td>\n",
       "      <td>3 BEDS</td>\n",
       "      <td>3</td>\n",
       "      <td>83000</td>\n",
       "    </tr>\n",
       "    <tr>\n",
       "      <th>289692</th>\n",
       "      <td>1690</td>\n",
       "      <td>4 BEDS</td>\n",
       "      <td>4</td>\n",
       "      <td>179900</td>\n",
       "    </tr>\n",
       "    <tr>\n",
       "      <th>287627</th>\n",
       "      <td>992</td>\n",
       "      <td>2</td>\n",
       "      <td>2</td>\n",
       "      <td>499900</td>\n",
       "    </tr>\n",
       "    <tr>\n",
       "      <th>191937</th>\n",
       "      <td>810</td>\n",
       "      <td>NaN</td>\n",
       "      <td>0</td>\n",
       "      <td>85000</td>\n",
       "    </tr>\n",
       "    <tr>\n",
       "      <th>324668</th>\n",
       "      <td>3123</td>\n",
       "      <td>4 BEDS</td>\n",
       "      <td>4</td>\n",
       "      <td>799000</td>\n",
       "    </tr>\n",
       "    <tr>\n",
       "      <th>272335</th>\n",
       "      <td>1550</td>\n",
       "      <td>3 BEDS</td>\n",
       "      <td>3</td>\n",
       "      <td>300000</td>\n",
       "    </tr>\n",
       "    <tr>\n",
       "      <th>125589</th>\n",
       "      <td>1352</td>\n",
       "      <td>BATHS</td>\n",
       "      <td>0</td>\n",
       "      <td>194999</td>\n",
       "    </tr>\n",
       "    <tr>\n",
       "      <th>175954</th>\n",
       "      <td>1275</td>\n",
       "      <td>3 BEDS</td>\n",
       "      <td>3</td>\n",
       "      <td>355000</td>\n",
       "    </tr>\n",
       "    <tr>\n",
       "      <th>279897</th>\n",
       "      <td>554</td>\n",
       "      <td>NaN</td>\n",
       "      <td>0</td>\n",
       "      <td>199000</td>\n",
       "    </tr>\n",
       "  </tbody>\n",
       "</table>\n",
       "</div>"
      ],
      "text/plain": [
       "        sqft    beds  beds_cleared  target\n",
       "360679  1439  4 BEDS             4  824999\n",
       "327165   826  3 BEDS             3   83000\n",
       "289692  1690  4 BEDS             4  179900\n",
       "287627   992       2             2  499900\n",
       "191937   810     NaN             0   85000\n",
       "324668  3123  4 BEDS             4  799000\n",
       "272335  1550  3 BEDS             3  300000\n",
       "125589  1352   BATHS             0  194999\n",
       "175954  1275  3 BEDS             3  355000\n",
       "279897   554     NaN             0  199000"
      ]
     },
     "execution_count": 163,
     "metadata": {},
     "output_type": "execute_result"
    }
   ],
   "source": [
    "df[['sqft', 'beds', 'beds_cleared', 'target']].sample(10)"
   ]
  },
  {
   "cell_type": "code",
   "execution_count": 164,
   "metadata": {
    "ExecuteTime": {
     "end_time": "2022-04-21T23:44:59.421434Z",
     "start_time": "2022-04-21T23:44:59.414573Z"
    },
    "scrolled": true
   },
   "outputs": [
    {
     "data": {
      "text/html": [
       "<div>\n",
       "<style scoped>\n",
       "    .dataframe tbody tr th:only-of-type {\n",
       "        vertical-align: middle;\n",
       "    }\n",
       "\n",
       "    .dataframe tbody tr th {\n",
       "        vertical-align: top;\n",
       "    }\n",
       "\n",
       "    .dataframe thead th {\n",
       "        text-align: right;\n",
       "    }\n",
       "</style>\n",
       "<table border=\"1\" class=\"dataframe\">\n",
       "  <thead>\n",
       "    <tr style=\"text-align: right;\">\n",
       "      <th></th>\n",
       "      <th>sqft</th>\n",
       "      <th>beds</th>\n",
       "      <th>beds_cleared</th>\n",
       "      <th>target</th>\n",
       "    </tr>\n",
       "  </thead>\n",
       "  <tbody>\n",
       "    <tr>\n",
       "      <th>6317</th>\n",
       "      <td>1920</td>\n",
       "      <td>64 BEDS</td>\n",
       "      <td>64</td>\n",
       "      <td>250000</td>\n",
       "    </tr>\n",
       "    <tr>\n",
       "      <th>28785</th>\n",
       "      <td>1920</td>\n",
       "      <td>64 BEDS</td>\n",
       "      <td>64</td>\n",
       "      <td>39900</td>\n",
       "    </tr>\n",
       "    <tr>\n",
       "      <th>34168</th>\n",
       "      <td>1920</td>\n",
       "      <td>64 BEDS</td>\n",
       "      <td>64</td>\n",
       "      <td>23500</td>\n",
       "    </tr>\n",
       "    <tr>\n",
       "      <th>34379</th>\n",
       "      <td>1920</td>\n",
       "      <td>64 BEDS</td>\n",
       "      <td>64</td>\n",
       "      <td>25000</td>\n",
       "    </tr>\n",
       "    <tr>\n",
       "      <th>57736</th>\n",
       "      <td>1920</td>\n",
       "      <td>64 BEDS</td>\n",
       "      <td>64</td>\n",
       "      <td>62600</td>\n",
       "    </tr>\n",
       "    <tr>\n",
       "      <th>65444</th>\n",
       "      <td>1920</td>\n",
       "      <td>64 BEDS</td>\n",
       "      <td>64</td>\n",
       "      <td>270000</td>\n",
       "    </tr>\n",
       "    <tr>\n",
       "      <th>66530</th>\n",
       "      <td>1920</td>\n",
       "      <td>64 BEDS</td>\n",
       "      <td>64</td>\n",
       "      <td>16500</td>\n",
       "    </tr>\n",
       "    <tr>\n",
       "      <th>66983</th>\n",
       "      <td>1920</td>\n",
       "      <td>64 BEDS</td>\n",
       "      <td>64</td>\n",
       "      <td>99000</td>\n",
       "    </tr>\n",
       "    <tr>\n",
       "      <th>68201</th>\n",
       "      <td>1920</td>\n",
       "      <td>64 BEDS</td>\n",
       "      <td>64</td>\n",
       "      <td>265000</td>\n",
       "    </tr>\n",
       "    <tr>\n",
       "      <th>82812</th>\n",
       "      <td>1920</td>\n",
       "      <td>64 BEDS</td>\n",
       "      <td>64</td>\n",
       "      <td>125000</td>\n",
       "    </tr>\n",
       "    <tr>\n",
       "      <th>94815</th>\n",
       "      <td>1920</td>\n",
       "      <td>64 BEDS</td>\n",
       "      <td>64</td>\n",
       "      <td>56900</td>\n",
       "    </tr>\n",
       "    <tr>\n",
       "      <th>104666</th>\n",
       "      <td>1920</td>\n",
       "      <td>64 BEDS</td>\n",
       "      <td>64</td>\n",
       "      <td>15900</td>\n",
       "    </tr>\n",
       "    <tr>\n",
       "      <th>106925</th>\n",
       "      <td>1920</td>\n",
       "      <td>64 BEDS</td>\n",
       "      <td>64</td>\n",
       "      <td>70000</td>\n",
       "    </tr>\n",
       "    <tr>\n",
       "      <th>110853</th>\n",
       "      <td>1920</td>\n",
       "      <td>64 BEDS</td>\n",
       "      <td>64</td>\n",
       "      <td>20000</td>\n",
       "    </tr>\n",
       "    <tr>\n",
       "      <th>119681</th>\n",
       "      <td>1920</td>\n",
       "      <td>64 BEDS</td>\n",
       "      <td>64</td>\n",
       "      <td>85000</td>\n",
       "    </tr>\n",
       "    <tr>\n",
       "      <th>120121</th>\n",
       "      <td>1920</td>\n",
       "      <td>64 BEDS</td>\n",
       "      <td>64</td>\n",
       "      <td>24900</td>\n",
       "    </tr>\n",
       "    <tr>\n",
       "      <th>125963</th>\n",
       "      <td>1920</td>\n",
       "      <td>64 BEDS</td>\n",
       "      <td>64</td>\n",
       "      <td>64500</td>\n",
       "    </tr>\n",
       "    <tr>\n",
       "      <th>128100</th>\n",
       "      <td>1920</td>\n",
       "      <td>64 BEDS</td>\n",
       "      <td>64</td>\n",
       "      <td>40000</td>\n",
       "    </tr>\n",
       "    <tr>\n",
       "      <th>149071</th>\n",
       "      <td>1920</td>\n",
       "      <td>64 BEDS</td>\n",
       "      <td>64</td>\n",
       "      <td>17500</td>\n",
       "    </tr>\n",
       "    <tr>\n",
       "      <th>172254</th>\n",
       "      <td>1920</td>\n",
       "      <td>64 BEDS</td>\n",
       "      <td>64</td>\n",
       "      <td>20000</td>\n",
       "    </tr>\n",
       "    <tr>\n",
       "      <th>180130</th>\n",
       "      <td>1920</td>\n",
       "      <td>64 BEDS</td>\n",
       "      <td>64</td>\n",
       "      <td>45000</td>\n",
       "    </tr>\n",
       "    <tr>\n",
       "      <th>184434</th>\n",
       "      <td>1920</td>\n",
       "      <td>64 BEDS</td>\n",
       "      <td>64</td>\n",
       "      <td>24000</td>\n",
       "    </tr>\n",
       "    <tr>\n",
       "      <th>187725</th>\n",
       "      <td>1920</td>\n",
       "      <td>64 BEDS</td>\n",
       "      <td>64</td>\n",
       "      <td>35000</td>\n",
       "    </tr>\n",
       "    <tr>\n",
       "      <th>212727</th>\n",
       "      <td>1920</td>\n",
       "      <td>64 BEDS</td>\n",
       "      <td>64</td>\n",
       "      <td>19900</td>\n",
       "    </tr>\n",
       "    <tr>\n",
       "      <th>229824</th>\n",
       "      <td>1920</td>\n",
       "      <td>64 BEDS</td>\n",
       "      <td>64</td>\n",
       "      <td>79000</td>\n",
       "    </tr>\n",
       "    <tr>\n",
       "      <th>234126</th>\n",
       "      <td>1920</td>\n",
       "      <td>64 BEDS</td>\n",
       "      <td>64</td>\n",
       "      <td>17500</td>\n",
       "    </tr>\n",
       "    <tr>\n",
       "      <th>240594</th>\n",
       "      <td>1920</td>\n",
       "      <td>64 BEDS</td>\n",
       "      <td>64</td>\n",
       "      <td>25500</td>\n",
       "    </tr>\n",
       "    <tr>\n",
       "      <th>244861</th>\n",
       "      <td>1920</td>\n",
       "      <td>64 BEDS</td>\n",
       "      <td>64</td>\n",
       "      <td>89000</td>\n",
       "    </tr>\n",
       "    <tr>\n",
       "      <th>260218</th>\n",
       "      <td>1920</td>\n",
       "      <td>64 BEDS</td>\n",
       "      <td>64</td>\n",
       "      <td>70000</td>\n",
       "    </tr>\n",
       "    <tr>\n",
       "      <th>269003</th>\n",
       "      <td>1920</td>\n",
       "      <td>64 BEDS</td>\n",
       "      <td>64</td>\n",
       "      <td>299000</td>\n",
       "    </tr>\n",
       "    <tr>\n",
       "      <th>321787</th>\n",
       "      <td>1920</td>\n",
       "      <td>64 BEDS</td>\n",
       "      <td>64</td>\n",
       "      <td>97650</td>\n",
       "    </tr>\n",
       "    <tr>\n",
       "      <th>332378</th>\n",
       "      <td>1920</td>\n",
       "      <td>64 BEDS</td>\n",
       "      <td>64</td>\n",
       "      <td>170000</td>\n",
       "    </tr>\n",
       "    <tr>\n",
       "      <th>346389</th>\n",
       "      <td>1920</td>\n",
       "      <td>64 BEDS</td>\n",
       "      <td>64</td>\n",
       "      <td>60000</td>\n",
       "    </tr>\n",
       "    <tr>\n",
       "      <th>353768</th>\n",
       "      <td>1920</td>\n",
       "      <td>64 BEDS</td>\n",
       "      <td>64</td>\n",
       "      <td>69900</td>\n",
       "    </tr>\n",
       "    <tr>\n",
       "      <th>356420</th>\n",
       "      <td>1920</td>\n",
       "      <td>64 BEDS</td>\n",
       "      <td>64</td>\n",
       "      <td>74000</td>\n",
       "    </tr>\n",
       "  </tbody>\n",
       "</table>\n",
       "</div>"
      ],
      "text/plain": [
       "        sqft     beds  beds_cleared  target\n",
       "6317    1920  64 BEDS            64  250000\n",
       "28785   1920  64 BEDS            64   39900\n",
       "34168   1920  64 BEDS            64   23500\n",
       "34379   1920  64 BEDS            64   25000\n",
       "57736   1920  64 BEDS            64   62600\n",
       "65444   1920  64 BEDS            64  270000\n",
       "66530   1920  64 BEDS            64   16500\n",
       "66983   1920  64 BEDS            64   99000\n",
       "68201   1920  64 BEDS            64  265000\n",
       "82812   1920  64 BEDS            64  125000\n",
       "94815   1920  64 BEDS            64   56900\n",
       "104666  1920  64 BEDS            64   15900\n",
       "106925  1920  64 BEDS            64   70000\n",
       "110853  1920  64 BEDS            64   20000\n",
       "119681  1920  64 BEDS            64   85000\n",
       "120121  1920  64 BEDS            64   24900\n",
       "125963  1920  64 BEDS            64   64500\n",
       "128100  1920  64 BEDS            64   40000\n",
       "149071  1920  64 BEDS            64   17500\n",
       "172254  1920  64 BEDS            64   20000\n",
       "180130  1920  64 BEDS            64   45000\n",
       "184434  1920  64 BEDS            64   24000\n",
       "187725  1920  64 BEDS            64   35000\n",
       "212727  1920  64 BEDS            64   19900\n",
       "229824  1920  64 BEDS            64   79000\n",
       "234126  1920  64 BEDS            64   17500\n",
       "240594  1920  64 BEDS            64   25500\n",
       "244861  1920  64 BEDS            64   89000\n",
       "260218  1920  64 BEDS            64   70000\n",
       "269003  1920  64 BEDS            64  299000\n",
       "321787  1920  64 BEDS            64   97650\n",
       "332378  1920  64 BEDS            64  170000\n",
       "346389  1920  64 BEDS            64   60000\n",
       "353768  1920  64 BEDS            64   69900\n",
       "356420  1920  64 BEDS            64   74000"
      ]
     },
     "execution_count": 164,
     "metadata": {},
     "output_type": "execute_result"
    }
   ],
   "source": [
    "df.loc[df['beds_cleared'] == 64, ['sqft', 'beds', 'beds_cleared', 'target']]"
   ]
  },
  {
   "cell_type": "code",
   "execution_count": 165,
   "metadata": {
    "ExecuteTime": {
     "end_time": "2022-04-21T23:44:59.427361Z",
     "start_time": "2022-04-21T23:44:59.422533Z"
    }
   },
   "outputs": [
    {
     "data": {
      "text/plain": [
       "9.0"
      ]
     },
     "execution_count": 165,
     "metadata": {},
     "output_type": "execute_result"
    }
   ],
   "source": [
    "df['beds_cleared'].quantile(0.999)"
   ]
  },
  {
   "cell_type": "code",
   "execution_count": 166,
   "metadata": {
    "ExecuteTime": {
     "end_time": "2022-04-21T23:44:59.432763Z",
     "start_time": "2022-04-21T23:44:59.428201Z"
    }
   },
   "outputs": [
    {
     "data": {
      "text/plain": [
       "False    319151\n",
       "True        168\n",
       "Name: beds_cleared, dtype: int64"
      ]
     },
     "execution_count": 166,
     "metadata": {},
     "output_type": "execute_result"
    }
   ],
   "source": [
    "(df['beds_cleared'] > 10).value_counts()"
   ]
  },
  {
   "cell_type": "code",
   "execution_count": 167,
   "metadata": {
    "ExecuteTime": {
     "end_time": "2022-04-21T23:44:59.466959Z",
     "start_time": "2022-04-21T23:44:59.433598Z"
    }
   },
   "outputs": [],
   "source": [
    "df = df[df['beds_cleared'] < 10]"
   ]
  },
  {
   "cell_type": "code",
   "execution_count": 168,
   "metadata": {
    "ExecuteTime": {
     "end_time": "2022-04-21T23:44:59.549395Z",
     "start_time": "2022-04-21T23:44:59.467850Z"
    }
   },
   "outputs": [
    {
     "data": {
      "text/plain": [
       "<AxesSubplot:>"
      ]
     },
     "execution_count": 168,
     "metadata": {},
     "output_type": "execute_result"
    },
    {
     "data": {
      "image/png": "[encoded data removed]",
      "text/plain": [
       "<Figure size 432x288 with 1 Axes>"
      ]
     },
     "metadata": {
      "needs_background": "light"
     },
     "output_type": "display_data"
    }
   ],
   "source": [
    "df['beds_cleared'].hist(bins=20)"
   ]
  },
  {
   "cell_type": "code",
   "execution_count": 169,
   "metadata": {
    "ExecuteTime": {
     "end_time": "2022-04-21T23:44:59.556708Z",
     "start_time": "2022-04-21T23:44:59.550519Z"
    }
   },
   "outputs": [
    {
     "data": {
      "text/plain": [
       "3.210529302444353"
      ]
     },
     "execution_count": 169,
     "metadata": {},
     "output_type": "execute_result"
    }
   ],
   "source": [
    "df.loc[df['beds_cleared'] != 0, 'beds_cleared'].mean()"
   ]
  },
  {
   "cell_type": "code",
   "execution_count": 170,
   "metadata": {
    "ExecuteTime": {
     "end_time": "2022-04-21T23:44:59.566654Z",
     "start_time": "2022-04-21T23:44:59.557728Z"
    }
   },
   "outputs": [],
   "source": [
    "df['beds_cleared_2'] = df['beds_cleared']\n",
    "df.loc[(df['beds_cleared_2'] == 0) & (df['target'] > df['target'].mean()), 'beds_cleared_2'] = 4\n",
    "df.loc[(df['beds_cleared_2'] == 0) & (df['target'] < df['target'].mean()), 'beds_cleared_2'] = 3"
   ]
  },
  {
   "cell_type": "code",
   "execution_count": 171,
   "metadata": {
    "ExecuteTime": {
     "end_time": "2022-04-21T23:44:59.595814Z",
     "start_time": "2022-04-21T23:44:59.567591Z"
    }
   },
   "outputs": [
    {
     "data": {
      "text/html": [
       "<div>\n",
       "<style scoped>\n",
       "    .dataframe tbody tr th:only-of-type {\n",
       "        vertical-align: middle;\n",
       "    }\n",
       "\n",
       "    .dataframe tbody tr th {\n",
       "        vertical-align: top;\n",
       "    }\n",
       "\n",
       "    .dataframe thead th {\n",
       "        text-align: right;\n",
       "    }\n",
       "</style>\n",
       "<table border=\"1\" class=\"dataframe\">\n",
       "  <thead>\n",
       "    <tr style=\"text-align: right;\">\n",
       "      <th></th>\n",
       "      <th>sqft</th>\n",
       "      <th>sqft_type</th>\n",
       "      <th>beds_cleared</th>\n",
       "      <th>beds_cleared_2</th>\n",
       "      <th>target</th>\n",
       "    </tr>\n",
       "  </thead>\n",
       "  <tbody>\n",
       "    <tr>\n",
       "      <th>sqft</th>\n",
       "      <td>1.000000</td>\n",
       "      <td>0.850744</td>\n",
       "      <td>0.289750</td>\n",
       "      <td>0.551269</td>\n",
       "      <td>0.393048</td>\n",
       "    </tr>\n",
       "    <tr>\n",
       "      <th>sqft_type</th>\n",
       "      <td>0.850744</td>\n",
       "      <td>1.000000</td>\n",
       "      <td>0.292109</td>\n",
       "      <td>0.530297</td>\n",
       "      <td>0.346510</td>\n",
       "    </tr>\n",
       "    <tr>\n",
       "      <th>beds_cleared</th>\n",
       "      <td>0.289750</td>\n",
       "      <td>0.292109</td>\n",
       "      <td>1.000000</td>\n",
       "      <td>0.394807</td>\n",
       "      <td>0.199145</td>\n",
       "    </tr>\n",
       "    <tr>\n",
       "      <th>beds_cleared_2</th>\n",
       "      <td>0.551269</td>\n",
       "      <td>0.530297</td>\n",
       "      <td>0.394807</td>\n",
       "      <td>1.000000</td>\n",
       "      <td>0.317490</td>\n",
       "    </tr>\n",
       "    <tr>\n",
       "      <th>target</th>\n",
       "      <td>0.393048</td>\n",
       "      <td>0.346510</td>\n",
       "      <td>0.199145</td>\n",
       "      <td>0.317490</td>\n",
       "      <td>1.000000</td>\n",
       "    </tr>\n",
       "  </tbody>\n",
       "</table>\n",
       "</div>"
      ],
      "text/plain": [
       "                    sqft  sqft_type  beds_cleared  beds_cleared_2    target\n",
       "sqft            1.000000   0.850744      0.289750        0.551269  0.393048\n",
       "sqft_type       0.850744   1.000000      0.292109        0.530297  0.346510\n",
       "beds_cleared    0.289750   0.292109      1.000000        0.394807  0.199145\n",
       "beds_cleared_2  0.551269   0.530297      0.394807        1.000000  0.317490\n",
       "target          0.393048   0.346510      0.199145        0.317490  1.000000"
      ]
     },
     "execution_count": 171,
     "metadata": {},
     "output_type": "execute_result"
    }
   ],
   "source": [
    "df[['sqft', 'sqft_type', 'beds_cleared', 'beds_cleared_2', 'target']].corr()"
   ]
  },
  {
   "cell_type": "markdown",
   "metadata": {},
   "source": [
    "Давайте сделаем также, как с площадью.\n",
    "\n",
    "- 1 - 1 или 2 комнаты\n",
    "- 2 - 3, 4 команаты\n",
    "- 3 - 5, 6 комнат\n",
    "- 4 7 и больше"
   ]
  },
  {
   "cell_type": "code",
   "execution_count": 172,
   "metadata": {
    "ExecuteTime": {
     "end_time": "2022-04-21T23:44:59.607276Z",
     "start_time": "2022-04-21T23:44:59.596965Z"
    }
   },
   "outputs": [],
   "source": [
    "df['beds_type'] = 1\n",
    "df.loc[(df['beds_cleared_2'] < 3) & (df['beds_cleared_2'] != 0), 'beds_type'] = 1\n",
    "df.loc[(df['beds_cleared_2'] > 2) & (df['beds_cleared_2'] < 5), 'beds_type'] = 2\n",
    "df.loc[(df['beds_cleared_2'] > 4) & (df['beds_cleared_2'] < 7), 'beds_type'] = 3\n",
    "df.loc[(df['beds_cleared_2'] > 7), 'beds_type'] = 4"
   ]
  },
  {
   "cell_type": "code",
   "execution_count": 173,
   "metadata": {
    "ExecuteTime": {
     "end_time": "2022-04-21T23:44:59.642711Z",
     "start_time": "2022-04-21T23:44:59.608353Z"
    }
   },
   "outputs": [
    {
     "data": {
      "text/html": [
       "<div>\n",
       "<style scoped>\n",
       "    .dataframe tbody tr th:only-of-type {\n",
       "        vertical-align: middle;\n",
       "    }\n",
       "\n",
       "    .dataframe tbody tr th {\n",
       "        vertical-align: top;\n",
       "    }\n",
       "\n",
       "    .dataframe thead th {\n",
       "        text-align: right;\n",
       "    }\n",
       "</style>\n",
       "<table border=\"1\" class=\"dataframe\">\n",
       "  <thead>\n",
       "    <tr style=\"text-align: right;\">\n",
       "      <th></th>\n",
       "      <th>sqft</th>\n",
       "      <th>sqft_type</th>\n",
       "      <th>beds_cleared</th>\n",
       "      <th>beds_cleared_2</th>\n",
       "      <th>beds_type</th>\n",
       "      <th>target</th>\n",
       "    </tr>\n",
       "  </thead>\n",
       "  <tbody>\n",
       "    <tr>\n",
       "      <th>sqft</th>\n",
       "      <td>1.000000</td>\n",
       "      <td>0.850744</td>\n",
       "      <td>0.289750</td>\n",
       "      <td>0.551269</td>\n",
       "      <td>0.445679</td>\n",
       "      <td>0.393048</td>\n",
       "    </tr>\n",
       "    <tr>\n",
       "      <th>sqft_type</th>\n",
       "      <td>0.850744</td>\n",
       "      <td>1.000000</td>\n",
       "      <td>0.292109</td>\n",
       "      <td>0.530297</td>\n",
       "      <td>0.444917</td>\n",
       "      <td>0.346510</td>\n",
       "    </tr>\n",
       "    <tr>\n",
       "      <th>beds_cleared</th>\n",
       "      <td>0.289750</td>\n",
       "      <td>0.292109</td>\n",
       "      <td>1.000000</td>\n",
       "      <td>0.394807</td>\n",
       "      <td>0.272688</td>\n",
       "      <td>0.199145</td>\n",
       "    </tr>\n",
       "    <tr>\n",
       "      <th>beds_cleared_2</th>\n",
       "      <td>0.551269</td>\n",
       "      <td>0.530297</td>\n",
       "      <td>0.394807</td>\n",
       "      <td>1.000000</td>\n",
       "      <td>0.804877</td>\n",
       "      <td>0.317490</td>\n",
       "    </tr>\n",
       "    <tr>\n",
       "      <th>beds_type</th>\n",
       "      <td>0.445679</td>\n",
       "      <td>0.444917</td>\n",
       "      <td>0.272688</td>\n",
       "      <td>0.804877</td>\n",
       "      <td>1.000000</td>\n",
       "      <td>0.118977</td>\n",
       "    </tr>\n",
       "    <tr>\n",
       "      <th>target</th>\n",
       "      <td>0.393048</td>\n",
       "      <td>0.346510</td>\n",
       "      <td>0.199145</td>\n",
       "      <td>0.317490</td>\n",
       "      <td>0.118977</td>\n",
       "      <td>1.000000</td>\n",
       "    </tr>\n",
       "  </tbody>\n",
       "</table>\n",
       "</div>"
      ],
      "text/plain": [
       "                    sqft  sqft_type  beds_cleared  beds_cleared_2  beds_type  \\\n",
       "sqft            1.000000   0.850744      0.289750        0.551269   0.445679   \n",
       "sqft_type       0.850744   1.000000      0.292109        0.530297   0.444917   \n",
       "beds_cleared    0.289750   0.292109      1.000000        0.394807   0.272688   \n",
       "beds_cleared_2  0.551269   0.530297      0.394807        1.000000   0.804877   \n",
       "beds_type       0.445679   0.444917      0.272688        0.804877   1.000000   \n",
       "target          0.393048   0.346510      0.199145        0.317490   0.118977   \n",
       "\n",
       "                  target  \n",
       "sqft            0.393048  \n",
       "sqft_type       0.346510  \n",
       "beds_cleared    0.199145  \n",
       "beds_cleared_2  0.317490  \n",
       "beds_type       0.118977  \n",
       "target          1.000000  "
      ]
     },
     "execution_count": 173,
     "metadata": {},
     "output_type": "execute_result"
    }
   ],
   "source": [
    "df[['sqft', 'sqft_type', 'beds_cleared', 'beds_cleared_2', 'beds_type', 'target']].corr()"
   ]
  },
  {
   "cell_type": "code",
   "execution_count": 174,
   "metadata": {
    "ExecuteTime": {
     "end_time": "2022-04-21T23:44:59.688446Z",
     "start_time": "2022-04-21T23:44:59.643823Z"
    }
   },
   "outputs": [],
   "source": [
    "df = df.drop(columns = ['beds_cleared', 'beds'])"
   ]
  },
  {
   "cell_type": "markdown",
   "metadata": {},
   "source": [
    "## Колонка \"state\""
   ]
  },
  {
   "cell_type": "code",
   "execution_count": 175,
   "metadata": {
    "ExecuteTime": {
     "end_time": "2022-04-21T23:44:59.731373Z",
     "start_time": "2022-04-21T23:44:59.689404Z"
    },
    "scrolled": true
   },
   "outputs": [
    {
     "name": "stdout",
     "output_type": "stream",
     "text": [
      "Колонка - state\n",
      "Кол-во пропусков: 0\n",
      "Кол-во уникальных значений: 38\n"
     ]
    },
    {
     "data": {
      "text/plain": [
       "FL    97336\n",
       "TX    76197\n",
       "NC    20125\n",
       "TN    16705\n",
       "CA    15525\n",
       "NY    13797\n",
       "OH    11906\n",
       "WA    11627\n",
       "IL     7879\n",
       "NV     7771\n",
       "GA     5938\n",
       "CO     5796\n",
       "PA     5080\n",
       "MI     3931\n",
       "DC     3595\n",
       "AZ     3297\n",
       "IN     3083\n",
       "OR     2511\n",
       "UT     1175\n",
       "MA     1025\n",
       "MD      914\n",
       "VT      823\n",
       "MO      789\n",
       "VA      680\n",
       "NJ      432\n",
       "WI      409\n",
       "ME      249\n",
       "IA      238\n",
       "KY       86\n",
       "OK       43\n",
       "MS       38\n",
       "SC       28\n",
       "MT        7\n",
       "DE        4\n",
       "AL        1\n",
       "OT        1\n",
       "OS        1\n",
       "Fl        1\n",
       "Name: state, dtype: int64"
      ]
     },
     "execution_count": 175,
     "metadata": {},
     "output_type": "execute_result"
    }
   ],
   "source": [
    "show_col_info('state')\n",
    "df['state'].value_counts(dropna=False)"
   ]
  },
  {
   "cell_type": "code",
   "execution_count": 176,
   "metadata": {
    "ExecuteTime": {
     "end_time": "2022-04-21T23:44:59.761500Z",
     "start_time": "2022-04-21T23:44:59.732660Z"
    }
   },
   "outputs": [],
   "source": [
    "df['state'] = df['state'].astype('category')"
   ]
  },
  {
   "cell_type": "markdown",
   "metadata": {},
   "source": [
    "## Колонка \"stories\""
   ]
  },
  {
   "cell_type": "code",
   "execution_count": 177,
   "metadata": {
    "ExecuteTime": {
     "end_time": "2022-04-21T23:44:59.804723Z",
     "start_time": "2022-04-21T23:44:59.762549Z"
    }
   },
   "outputs": [
    {
     "name": "stdout",
     "output_type": "stream",
     "text": [
      "Колонка - stories\n",
      "Кол-во пропусков: 119832\n",
      "Кол-во уникальных значений: 309\n"
     ]
    },
    {
     "data": {
      "text/plain": [
       "NaN                       119832\n",
       "1.0                        62636\n",
       "2.0                        47659\n",
       "1                          21619\n",
       "2                          15283\n",
       "                           ...  \n",
       "Split Entry (Bi-Level)         1\n",
       "3 Story, Multi Level           1\n",
       "Craftsman                      1\n",
       "32                             1\n",
       "None                           1\n",
       "Name: stories, Length: 310, dtype: int64"
      ]
     },
     "execution_count": 177,
     "metadata": {},
     "output_type": "execute_result"
    }
   ],
   "source": [
    "show_col_info('stories')\n",
    "df['stories'].value_counts(dropna=False)"
   ]
  },
  {
   "cell_type": "code",
   "execution_count": 178,
   "metadata": {
    "ExecuteTime": {
     "end_time": "2022-04-21T23:44:59.867695Z",
     "start_time": "2022-04-21T23:44:59.806014Z"
    }
   },
   "outputs": [],
   "source": [
    "df['stories'] = df['stories'].str.upper()"
   ]
  },
  {
   "cell_type": "code",
   "execution_count": 179,
   "metadata": {
    "ExecuteTime": {
     "end_time": "2022-04-21T23:44:59.871947Z",
     "start_time": "2022-04-21T23:44:59.868682Z"
    }
   },
   "outputs": [],
   "source": [
    "def clear_stories(x):\n",
    "    try:\n",
    "        if isinstance(x, int) or isinstance(x, float):\n",
    "            x = str(x)\n",
    "        if 'ONE' in x:\n",
    "            return 1\n",
    "        if 'TWO' in x or 'TOWNHOUSE' in x:\n",
    "            return 2\n",
    "        if 'THREE' in x:\n",
    "            return 3\n",
    "        \n",
    "        else:\n",
    "            number = re.sub(r'[^0-9.,]', r'', x)\n",
    "            if number[-1] == ',':\n",
    "                number = number[:-1]\n",
    "            number = float(number.replace(',', '.'))\n",
    "            return int(np.ceil(number))\n",
    "    except:\n",
    "        return 0"
   ]
  },
  {
   "cell_type": "code",
   "execution_count": 180,
   "metadata": {
    "ExecuteTime": {
     "end_time": "2022-04-21T23:45:00.501535Z",
     "start_time": "2022-04-21T23:44:59.872739Z"
    }
   },
   "outputs": [],
   "source": [
    "df['stories'] = [clear_stories(x) for x in df['stories']]"
   ]
  },
  {
   "cell_type": "code",
   "execution_count": 181,
   "metadata": {
    "ExecuteTime": {
     "end_time": "2022-04-21T23:45:00.512209Z",
     "start_time": "2022-04-21T23:45:00.502443Z"
    }
   },
   "outputs": [],
   "source": [
    "df.loc[df['stories'] > df['stories'].quantile(0.95), 'stories'] = df['stories'].quantile(0.95)"
   ]
  },
  {
   "cell_type": "markdown",
   "metadata": {},
   "source": [
    "## Колонки \"mls-id\" и \"MlsId\""
   ]
  },
  {
   "cell_type": "markdown",
   "metadata": {},
   "source": [
    "Это айдишники, которые ничего не несут. Их просто дропнем."
   ]
  },
  {
   "cell_type": "code",
   "execution_count": 182,
   "metadata": {
    "ExecuteTime": {
     "end_time": "2022-04-21T23:45:00.537309Z",
     "start_time": "2022-04-21T23:45:00.513129Z"
    }
   },
   "outputs": [],
   "source": [
    "df = df.drop(columns=['mls-id', 'MlsId'])"
   ]
  },
  {
   "cell_type": "code",
   "execution_count": null,
   "metadata": {},
   "outputs": [],
   "source": []
  },
  {
   "cell_type": "markdown",
   "metadata": {},
   "source": [
    "# Результат"
   ]
  },
  {
   "cell_type": "code",
   "execution_count": 188,
   "metadata": {
    "ExecuteTime": {
     "end_time": "2022-04-21T23:45:00.576673Z",
     "start_time": "2022-04-21T23:45:00.538544Z"
    }
   },
   "outputs": [
    {
     "data": {
      "text/html": [
       "<div>\n",
       "<style scoped>\n",
       "    .dataframe tbody tr th:only-of-type {\n",
       "        vertical-align: middle;\n",
       "    }\n",
       "\n",
       "    .dataframe tbody tr th {\n",
       "        vertical-align: top;\n",
       "    }\n",
       "\n",
       "    .dataframe thead th {\n",
       "        text-align: right;\n",
       "    }\n",
       "</style>\n",
       "<table border=\"1\" class=\"dataframe\">\n",
       "  <thead>\n",
       "    <tr style=\"text-align: right;\">\n",
       "      <th></th>\n",
       "      <th>status</th>\n",
       "      <th>propertyType</th>\n",
       "      <th>street</th>\n",
       "      <th>baths</th>\n",
       "      <th>fireplace</th>\n",
       "      <th>city</th>\n",
       "      <th>sqft</th>\n",
       "      <th>state</th>\n",
       "      <th>stories</th>\n",
       "      <th>PrivatePool</th>\n",
       "      <th>target</th>\n",
       "      <th>has_adress</th>\n",
       "      <th>built_year</th>\n",
       "      <th>was_remodeled</th>\n",
       "      <th>remodel_year</th>\n",
       "      <th>house_age</th>\n",
       "      <th>last_remodeled</th>\n",
       "      <th>heating</th>\n",
       "      <th>cooling</th>\n",
       "      <th>parking</th>\n",
       "      <th>n_schools</th>\n",
       "      <th>min_dist_school</th>\n",
       "      <th>mean_dist_school</th>\n",
       "      <th>min_rating_school</th>\n",
       "      <th>max_rating_school</th>\n",
       "      <th>mean_rating_school</th>\n",
       "      <th>sqft_type</th>\n",
       "      <th>beds_cleared_2</th>\n",
       "      <th>beds_type</th>\n",
       "    </tr>\n",
       "  </thead>\n",
       "  <tbody>\n",
       "    <tr>\n",
       "      <th>25753</th>\n",
       "      <td>ACTIVE</td>\n",
       "      <td>NO DATA</td>\n",
       "      <td>CIRCLE</td>\n",
       "      <td>2.0</td>\n",
       "      <td>0</td>\n",
       "      <td>MIAMI</td>\n",
       "      <td>1000</td>\n",
       "      <td>FL</td>\n",
       "      <td>0.0</td>\n",
       "      <td>0.0</td>\n",
       "      <td>284990</td>\n",
       "      <td>1</td>\n",
       "      <td>1986</td>\n",
       "      <td>1</td>\n",
       "      <td>1986</td>\n",
       "      <td>36</td>\n",
       "      <td>35</td>\n",
       "      <td>AIR</td>\n",
       "      <td>OTHER</td>\n",
       "      <td>NONE</td>\n",
       "      <td>5</td>\n",
       "      <td>0.50</td>\n",
       "      <td>5.720000</td>\n",
       "      <td>3.0</td>\n",
       "      <td>10.0</td>\n",
       "      <td>7.250000</td>\n",
       "      <td>1</td>\n",
       "      <td>3</td>\n",
       "      <td>2</td>\n",
       "    </tr>\n",
       "    <tr>\n",
       "      <th>93482</th>\n",
       "      <td>FOR SALE</td>\n",
       "      <td>SINGLE</td>\n",
       "      <td>COURT</td>\n",
       "      <td>2.0</td>\n",
       "      <td>0</td>\n",
       "      <td>LANCASTER</td>\n",
       "      <td>1920</td>\n",
       "      <td>CA</td>\n",
       "      <td>0.0</td>\n",
       "      <td>0.0</td>\n",
       "      <td>324900</td>\n",
       "      <td>1</td>\n",
       "      <td>1990</td>\n",
       "      <td>0</td>\n",
       "      <td>0</td>\n",
       "      <td>32</td>\n",
       "      <td>-1</td>\n",
       "      <td>OTHER</td>\n",
       "      <td>CENTRAL</td>\n",
       "      <td>NONE</td>\n",
       "      <td>3</td>\n",
       "      <td>0.30</td>\n",
       "      <td>0.833333</td>\n",
       "      <td>1.0</td>\n",
       "      <td>3.0</td>\n",
       "      <td>1.666667</td>\n",
       "      <td>2</td>\n",
       "      <td>4</td>\n",
       "      <td>2</td>\n",
       "    </tr>\n",
       "    <tr>\n",
       "      <th>75463</th>\n",
       "      <td>ACTIVE</td>\n",
       "      <td>FLAT</td>\n",
       "      <td>DRIVE</td>\n",
       "      <td>3.0</td>\n",
       "      <td>0</td>\n",
       "      <td>KEY BISCAYNE</td>\n",
       "      <td>1335</td>\n",
       "      <td>FL</td>\n",
       "      <td>0.0</td>\n",
       "      <td>0.0</td>\n",
       "      <td>495000</td>\n",
       "      <td>1</td>\n",
       "      <td>1970</td>\n",
       "      <td>1</td>\n",
       "      <td>1970</td>\n",
       "      <td>52</td>\n",
       "      <td>51</td>\n",
       "      <td>AIR</td>\n",
       "      <td>OTHER</td>\n",
       "      <td>NONE</td>\n",
       "      <td>5</td>\n",
       "      <td>0.70</td>\n",
       "      <td>7.420000</td>\n",
       "      <td>5.0</td>\n",
       "      <td>10.0</td>\n",
       "      <td>7.250000</td>\n",
       "      <td>2</td>\n",
       "      <td>4</td>\n",
       "      <td>2</td>\n",
       "    </tr>\n",
       "    <tr>\n",
       "      <th>323730</th>\n",
       "      <td>FOR SALE</td>\n",
       "      <td>SINGLE</td>\n",
       "      <td>COURT</td>\n",
       "      <td>3.0</td>\n",
       "      <td>1</td>\n",
       "      <td>FORT WORTH</td>\n",
       "      <td>3200</td>\n",
       "      <td>TX</td>\n",
       "      <td>1.0</td>\n",
       "      <td>0.0</td>\n",
       "      <td>449000</td>\n",
       "      <td>1</td>\n",
       "      <td>1951</td>\n",
       "      <td>1</td>\n",
       "      <td>1965</td>\n",
       "      <td>71</td>\n",
       "      <td>56</td>\n",
       "      <td>AIR</td>\n",
       "      <td>CENTRAL</td>\n",
       "      <td>OTHER</td>\n",
       "      <td>3</td>\n",
       "      <td>1.08</td>\n",
       "      <td>1.613333</td>\n",
       "      <td>2.0</td>\n",
       "      <td>6.0</td>\n",
       "      <td>4.000000</td>\n",
       "      <td>3</td>\n",
       "      <td>3</td>\n",
       "      <td>2</td>\n",
       "    </tr>\n",
       "    <tr>\n",
       "      <th>340367</th>\n",
       "      <td>NO_DATA</td>\n",
       "      <td>SINGLE</td>\n",
       "      <td>STREET</td>\n",
       "      <td>3.0</td>\n",
       "      <td>1</td>\n",
       "      <td>PLANTATION</td>\n",
       "      <td>2843</td>\n",
       "      <td>FL</td>\n",
       "      <td>2.0</td>\n",
       "      <td>1.0</td>\n",
       "      <td>799000</td>\n",
       "      <td>1</td>\n",
       "      <td>1978</td>\n",
       "      <td>1</td>\n",
       "      <td>1979</td>\n",
       "      <td>44</td>\n",
       "      <td>42</td>\n",
       "      <td>OTHER</td>\n",
       "      <td>CENTRAL</td>\n",
       "      <td>TWO</td>\n",
       "      <td>3</td>\n",
       "      <td>1.30</td>\n",
       "      <td>3.366667</td>\n",
       "      <td>3.0</td>\n",
       "      <td>8.0</td>\n",
       "      <td>5.000000</td>\n",
       "      <td>3</td>\n",
       "      <td>4</td>\n",
       "      <td>2</td>\n",
       "    </tr>\n",
       "    <tr>\n",
       "      <th>13608</th>\n",
       "      <td>NO_DATA</td>\n",
       "      <td>TOWNHOUSE</td>\n",
       "      <td>DRIVE</td>\n",
       "      <td>3.0</td>\n",
       "      <td>0</td>\n",
       "      <td>AVENTURA</td>\n",
       "      <td>2290</td>\n",
       "      <td>FL</td>\n",
       "      <td>0.0</td>\n",
       "      <td>0.0</td>\n",
       "      <td>699000</td>\n",
       "      <td>1</td>\n",
       "      <td>1983</td>\n",
       "      <td>1</td>\n",
       "      <td>1983</td>\n",
       "      <td>39</td>\n",
       "      <td>38</td>\n",
       "      <td>AIR</td>\n",
       "      <td>CENTRAL</td>\n",
       "      <td>TWO</td>\n",
       "      <td>2</td>\n",
       "      <td>1.60</td>\n",
       "      <td>2.300000</td>\n",
       "      <td>5.0</td>\n",
       "      <td>7.0</td>\n",
       "      <td>6.000000</td>\n",
       "      <td>3</td>\n",
       "      <td>3</td>\n",
       "      <td>2</td>\n",
       "    </tr>\n",
       "    <tr>\n",
       "      <th>99462</th>\n",
       "      <td>FOR SALE</td>\n",
       "      <td>LAND</td>\n",
       "      <td>OTHER</td>\n",
       "      <td>2.0</td>\n",
       "      <td>0</td>\n",
       "      <td>HOUSTON</td>\n",
       "      <td>1920</td>\n",
       "      <td>TX</td>\n",
       "      <td>0.0</td>\n",
       "      <td>0.0</td>\n",
       "      <td>119900</td>\n",
       "      <td>1</td>\n",
       "      <td>1985</td>\n",
       "      <td>0</td>\n",
       "      <td>0</td>\n",
       "      <td>37</td>\n",
       "      <td>-1</td>\n",
       "      <td>NO_DATA</td>\n",
       "      <td>NO_DATA</td>\n",
       "      <td>NONE</td>\n",
       "      <td>3</td>\n",
       "      <td>1.58</td>\n",
       "      <td>3.506667</td>\n",
       "      <td>2.0</td>\n",
       "      <td>3.0</td>\n",
       "      <td>2.333333</td>\n",
       "      <td>2</td>\n",
       "      <td>3</td>\n",
       "      <td>2</td>\n",
       "    </tr>\n",
       "    <tr>\n",
       "      <th>23811</th>\n",
       "      <td>ACTIVE</td>\n",
       "      <td>SINGLE</td>\n",
       "      <td>DRIVE</td>\n",
       "      <td>3.0</td>\n",
       "      <td>1</td>\n",
       "      <td>WOODSTOCK</td>\n",
       "      <td>3485</td>\n",
       "      <td>IL</td>\n",
       "      <td>2.0</td>\n",
       "      <td>0.0</td>\n",
       "      <td>399900</td>\n",
       "      <td>1</td>\n",
       "      <td>1990</td>\n",
       "      <td>0</td>\n",
       "      <td>0</td>\n",
       "      <td>32</td>\n",
       "      <td>-1</td>\n",
       "      <td>NO_DATA</td>\n",
       "      <td>CENTRAL</td>\n",
       "      <td>OTHER</td>\n",
       "      <td>8</td>\n",
       "      <td>1.40</td>\n",
       "      <td>2.437500</td>\n",
       "      <td>4.0</td>\n",
       "      <td>9.0</td>\n",
       "      <td>6.400000</td>\n",
       "      <td>3</td>\n",
       "      <td>4</td>\n",
       "      <td>2</td>\n",
       "    </tr>\n",
       "  </tbody>\n",
       "</table>\n",
       "</div>"
      ],
      "text/plain": [
       "          status propertyType  street  baths  fireplace          city  sqft  \\\n",
       "25753     ACTIVE      NO DATA  CIRCLE    2.0          0         MIAMI  1000   \n",
       "93482   FOR SALE       SINGLE   COURT    2.0          0     LANCASTER  1920   \n",
       "75463     ACTIVE         FLAT   DRIVE    3.0          0  KEY BISCAYNE  1335   \n",
       "323730  FOR SALE       SINGLE   COURT    3.0          1    FORT WORTH  3200   \n",
       "340367   NO_DATA       SINGLE  STREET    3.0          1    PLANTATION  2843   \n",
       "13608    NO_DATA    TOWNHOUSE   DRIVE    3.0          0      AVENTURA  2290   \n",
       "99462   FOR SALE         LAND   OTHER    2.0          0       HOUSTON  1920   \n",
       "23811     ACTIVE       SINGLE   DRIVE    3.0          1     WOODSTOCK  3485   \n",
       "\n",
       "       state  stories  PrivatePool  target  has_adress  built_year  \\\n",
       "25753     FL      0.0          0.0  284990           1        1986   \n",
       "93482     CA      0.0          0.0  324900           1        1990   \n",
       "75463     FL      0.0          0.0  495000           1        1970   \n",
       "323730    TX      1.0          0.0  449000           1        1951   \n",
       "340367    FL      2.0          1.0  799000           1        1978   \n",
       "13608     FL      0.0          0.0  699000           1        1983   \n",
       "99462     TX      0.0          0.0  119900           1        1985   \n",
       "23811     IL      2.0          0.0  399900           1        1990   \n",
       "\n",
       "        was_remodeled  remodel_year  house_age  last_remodeled  heating  \\\n",
       "25753               1          1986         36              35      AIR   \n",
       "93482               0             0         32              -1    OTHER   \n",
       "75463               1          1970         52              51      AIR   \n",
       "323730              1          1965         71              56      AIR   \n",
       "340367              1          1979         44              42    OTHER   \n",
       "13608               1          1983         39              38      AIR   \n",
       "99462               0             0         37              -1  NO_DATA   \n",
       "23811               0             0         32              -1  NO_DATA   \n",
       "\n",
       "        cooling parking  n_schools  min_dist_school  mean_dist_school  \\\n",
       "25753     OTHER    NONE          5             0.50          5.720000   \n",
       "93482   CENTRAL    NONE          3             0.30          0.833333   \n",
       "75463     OTHER    NONE          5             0.70          7.420000   \n",
       "323730  CENTRAL   OTHER          3             1.08          1.613333   \n",
       "340367  CENTRAL     TWO          3             1.30          3.366667   \n",
       "13608   CENTRAL     TWO          2             1.60          2.300000   \n",
       "99462   NO_DATA    NONE          3             1.58          3.506667   \n",
       "23811   CENTRAL   OTHER          8             1.40          2.437500   \n",
       "\n",
       "        min_rating_school  max_rating_school  mean_rating_school  sqft_type  \\\n",
       "25753                 3.0               10.0            7.250000          1   \n",
       "93482                 1.0                3.0            1.666667          2   \n",
       "75463                 5.0               10.0            7.250000          2   \n",
       "323730                2.0                6.0            4.000000          3   \n",
       "340367                3.0                8.0            5.000000          3   \n",
       "13608                 5.0                7.0            6.000000          3   \n",
       "99462                 2.0                3.0            2.333333          2   \n",
       "23811                 4.0                9.0            6.400000          3   \n",
       "\n",
       "        beds_cleared_2  beds_type  \n",
       "25753                3          2  \n",
       "93482                4          2  \n",
       "75463                4          2  \n",
       "323730               3          2  \n",
       "340367               4          2  \n",
       "13608                3          2  \n",
       "99462                3          2  \n",
       "23811                4          2  "
      ]
     },
     "execution_count": 188,
     "metadata": {},
     "output_type": "execute_result"
    }
   ],
   "source": [
    "df.sample(8)"
   ]
  },
  {
   "cell_type": "code",
   "execution_count": 189,
   "metadata": {
    "ExecuteTime": {
     "end_time": "2022-04-21T23:45:00.667578Z",
     "start_time": "2022-04-21T23:45:00.577649Z"
    }
   },
   "outputs": [
    {
     "name": "stdout",
     "output_type": "stream",
     "text": [
      "<class 'pandas.core.frame.DataFrame'>\n",
      "Int64Index: 319043 entries, 0 to 377184\n",
      "Data columns (total 29 columns):\n",
      " #   Column              Non-Null Count   Dtype   \n",
      "---  ------              --------------   -----   \n",
      " 0   status              319043 non-null  object  \n",
      " 1   propertyType        319043 non-null  object  \n",
      " 2   street              319043 non-null  object  \n",
      " 3   baths               319043 non-null  float64 \n",
      " 4   fireplace           319043 non-null  int64   \n",
      " 5   city                319043 non-null  object  \n",
      " 6   sqft                319043 non-null  int64   \n",
      " 7   state               319043 non-null  category\n",
      " 8   stories             319043 non-null  float64 \n",
      " 9   PrivatePool         319043 non-null  float64 \n",
      " 10  target              319043 non-null  int64   \n",
      " 11  has_adress          319043 non-null  int64   \n",
      " 12  built_year          319043 non-null  int64   \n",
      " 13  was_remodeled       319043 non-null  int64   \n",
      " 14  remodel_year        319043 non-null  int64   \n",
      " 15  house_age           319043 non-null  int64   \n",
      " 16  last_remodeled      319043 non-null  int64   \n",
      " 17  heating             319043 non-null  object  \n",
      " 18  cooling             319043 non-null  object  \n",
      " 19  parking             319043 non-null  object  \n",
      " 20  n_schools           319043 non-null  int64   \n",
      " 21  min_dist_school     319043 non-null  float64 \n",
      " 22  mean_dist_school    319043 non-null  float64 \n",
      " 23  min_rating_school   319043 non-null  float64 \n",
      " 24  max_rating_school   319043 non-null  float64 \n",
      " 25  mean_rating_school  319043 non-null  float64 \n",
      " 26  sqft_type           319043 non-null  int64   \n",
      " 27  beds_cleared_2      319043 non-null  int64   \n",
      " 28  beds_type           319043 non-null  int64   \n",
      "dtypes: category(1), float64(8), int64(13), object(7)\n",
      "memory usage: 70.9+ MB\n"
     ]
    }
   ],
   "source": [
    "df.info()"
   ]
  },
  {
   "cell_type": "markdown",
   "metadata": {},
   "source": [
    "Отлично. Все данные почищены. Пропусков нет.\n",
    "\n",
    "В некоторых столбцах пропуски были заменены на \"No Data\". Поймем, как с ними быть в ходе построения моделей.\n",
    "\n",
    "Что было сделано:\n",
    "- Все переменные отчистили от мусора и привели в вид, в котором будем передавать в модель\n",
    "- Создали много новых фичей\n",
    "- Отбросили сильные выбросы, которые бы \"путали\" модель.\n",
    "\n",
    "Сохраним данные и построим модели в отдельном ноутбуке."
   ]
  },
  {
   "cell_type": "code",
   "execution_count": 192,
   "metadata": {
    "ExecuteTime": {
     "end_time": "2022-04-21T23:45:03.087165Z",
     "start_time": "2022-04-21T23:45:00.668571Z"
    }
   },
   "outputs": [],
   "source": [
    "df.to_csv('df_cleared.csv', index=False)"
   ]
  },
  {
   "cell_type": "code",
   "execution_count": null,
   "metadata": {},
   "outputs": [],
   "source": []
  }
 ],
 "metadata": {
  "kernelspec": {
   "display_name": "Python 3",
   "language": "python",
   "name": "python3"
  },
  "language_info": {
   "codemirror_mode": {
    "name": "ipython",
    "version": 3
   },
   "file_extension": ".py",
   "mimetype": "text/x-python",
   "name": "python",
   "nbconvert_exporter": "python",
   "pygments_lexer": "ipython3",
   "version": "3.8.5"
  },
  "toc": {
   "base_numbering": 1,
   "nav_menu": {},
   "number_sections": true,
   "sideBar": true,
   "skip_h1_title": false,
   "title_cell": "Table of Contents",
   "title_sidebar": "Contents",
   "toc_cell": false,
   "toc_position": {
    "height": "calc(100% - 180px)",
    "left": "10px",
    "top": "150px",
    "width": "302.391px"
   },
   "toc_section_display": true,
   "toc_window_display": true
  }
 },
 "nbformat": 4,
 "nbformat_minor": 5
}
