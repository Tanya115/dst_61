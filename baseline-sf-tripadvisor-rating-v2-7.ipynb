{
 "cells": [
  {
   "cell_type": "markdown",
   "metadata": {},
   "source": [
    "![](https://www.pata.org/wp-content/uploads/2014/09/TripAdvisor_Logo-300x119.png)\n",
    "# Predict TripAdvisor Rating\n",
    "## В этом соревновании нам предстоит предсказать рейтинг ресторана в TripAdvisor\n",
    "**По ходу задачи:**\n",
    "* Прокачаем работу с pandas\n",
    "* Научимся работать с Kaggle Notebooks\n",
    "* Поймем как делать предобработку различных данных\n",
    "* Научимся работать с пропущенными данными (Nan)\n",
    "* Познакомимся с различными видами кодирования признаков\n",
    "* Немного попробуем [Feature Engineering](https://ru.wikipedia.org/wiki/Конструирование_признаков) (генерировать новые признаки)\n",
    "* И совсем немного затронем ML\n",
    "* И многое другое...   \n",
    "\n",
    "\n",
    "\n",
    "### И самое важное, все это вы сможете сделать самостоятельно!\n",
    "\n",
    "*Этот Ноутбук являетсся Примером/Шаблоном к этому соревнованию (Baseline) и не служит готовым решением!*   \n",
    "Вы можете использовать его как основу для построения своего решения.\n",
    "\n",
    "> что такое baseline решение, зачем оно нужно и почему предоставлять baseline к соревнованию стало важным стандартом на kaggle и других площадках.   \n",
    "**baseline** создается больше как шаблон, где можно посмотреть как происходит обращение с входящими данными и что нужно получить на выходе. При этом МЛ начинка может быть достаточно простой, просто для примера. Это помогает быстрее приступить к самому МЛ, а не тратить ценное время на чисто инженерные задачи. \n",
    "Также baseline являеться хорошей опорной точкой по метрике. Если твое решение хуже baseline - ты явно делаешь что-то не то и стоит попробовать другой путь) \n",
    "\n",
    "В контексте нашего соревнования baseline идет с небольшими примерами того, что можно делать с данными, и с инструкцией, что делать дальше, чтобы улучшить результат.  Вообще готовым решением это сложно назвать, так как используются всего 2 самых простых признака (а остальные исключаются)."
   ]
  },
  {
   "cell_type": "markdown",
   "metadata": {},
   "source": [
    "# import"
   ]
  },
  {
   "cell_type": "code",
   "execution_count": 1,
   "metadata": {
    "_cell_guid": "b1076dfc-b9ad-4769-8c92-a6c4dae69d19",
    "_uuid": "8f2839f25d086af736a60e9eeb907d3b93b6e0e5",
    "execution": {
     "iopub.execute_input": "2021-07-24T17:40:15.079509Z",
     "iopub.status.busy": "2021-07-24T17:40:15.079152Z",
     "iopub.status.idle": "2021-07-24T17:40:15.110000Z",
     "shell.execute_reply": "2021-07-24T17:40:15.108645Z",
     "shell.execute_reply.started": "2021-07-24T17:40:15.079445Z"
    }
   },
   "outputs": [
    {
     "name": "stdout",
     "output_type": "stream",
     "text": [
      "/kaggle/input/sf-dst-restaurant-rating/sample_submission.csv\n",
      "/kaggle/input/sf-dst-restaurant-rating/main_task.csv\n",
      "/kaggle/input/sf-dst-restaurant-rating/kaggle_task.csv\n"
     ]
    }
   ],
   "source": [
    "# This Python 3 environment comes with many helpful analytics libraries installed\n",
    "# It is defined by the kaggle/python docker image: https://github.com/kaggle/docker-python\n",
    "# For example, here's several helpful packages to load in \n",
    "\n",
    "import numpy as np # linear algebra\n",
    "import pandas as pd # data processing, CSV file I/O (e.g. pd.read_csv)\n",
    "from sklearn.preprocessing import LabelEncoder\n",
    "\n",
    "import matplotlib.pyplot as plt\n",
    "import seaborn as sns \n",
    "%matplotlib inline\n",
    "\n",
    "# Загружаем специальный удобный инструмент для разделения датасета:\n",
    "from sklearn.model_selection import train_test_split\n",
    "\n",
    "# Input data files are available in the \"../input/\" directory.\n",
    "# For example, running this (by clicking run or pressing Shift+Enter) will list all files under the input directory\n",
    "\n",
    "import os\n",
    "for dirname, _, filenames in os.walk('/kaggle/input'):\n",
    "    for filename in filenames:\n",
    "        print(os.path.join(dirname, filename))\n",
    "\n",
    "# Any results you write to the current directory are saved as output."
   ]
  },
  {
   "cell_type": "code",
   "execution_count": 2,
   "metadata": {
    "execution": {
     "iopub.execute_input": "2021-07-24T17:40:15.112356Z",
     "iopub.status.busy": "2021-07-24T17:40:15.111908Z",
     "iopub.status.idle": "2021-07-24T17:40:15.116220Z",
     "shell.execute_reply": "2021-07-24T17:40:15.115400Z",
     "shell.execute_reply.started": "2021-07-24T17:40:15.112301Z"
    }
   },
   "outputs": [],
   "source": [
    "# всегда фиксируйте RANDOM_SEED, чтобы ваши эксперименты были воспроизводимы!\n",
    "RANDOM_SEED = 42"
   ]
  },
  {
   "cell_type": "code",
   "execution_count": 3,
   "metadata": {
    "execution": {
     "iopub.execute_input": "2021-07-24T17:40:15.118081Z",
     "iopub.status.busy": "2021-07-24T17:40:15.117770Z",
     "iopub.status.idle": "2021-07-24T17:40:17.362679Z",
     "shell.execute_reply": "2021-07-24T17:40:17.361495Z",
     "shell.execute_reply.started": "2021-07-24T17:40:15.118030Z"
    }
   },
   "outputs": [],
   "source": [
    "# зафиксируем версию пакетов, чтобы эксперименты были воспроизводимы:\n",
    "!pip freeze > requirements.txt"
   ]
  },
  {
   "cell_type": "markdown",
   "metadata": {},
   "source": [
    "# DATA"
   ]
  },
  {
   "cell_type": "code",
   "execution_count": 4,
   "metadata": {
    "_cell_guid": "79c7e3d0-c299-4dcb-8224-4455121ee9b0",
    "_uuid": "d629ff2d2480ee46fbb7e2d37f6b5fab8052498a",
    "execution": {
     "iopub.execute_input": "2021-07-24T17:40:17.365799Z",
     "iopub.status.busy": "2021-07-24T17:40:17.365518Z",
     "iopub.status.idle": "2021-07-24T17:40:17.611862Z",
     "shell.execute_reply": "2021-07-24T17:40:17.610881Z",
     "shell.execute_reply.started": "2021-07-24T17:40:17.365752Z"
    }
   },
   "outputs": [],
   "source": [
    "DATA_DIR = '/kaggle/input/sf-dst-restaurant-rating/'\n",
    "df_train = pd.read_csv(DATA_DIR+'/main_task.csv')\n",
    "df_test = pd.read_csv(DATA_DIR+'kaggle_task.csv')\n",
    "sample_submission = pd.read_csv(DATA_DIR+'/sample_submission.csv')"
   ]
  },
  {
   "cell_type": "code",
   "execution_count": 5,
   "metadata": {
    "execution": {
     "iopub.execute_input": "2021-07-24T17:40:17.614374Z",
     "iopub.status.busy": "2021-07-24T17:40:17.613971Z",
     "iopub.status.idle": "2021-07-24T17:40:17.640077Z",
     "shell.execute_reply": "2021-07-24T17:40:17.638964Z",
     "shell.execute_reply.started": "2021-07-24T17:40:17.614303Z"
    }
   },
   "outputs": [
    {
     "name": "stdout",
     "output_type": "stream",
     "text": [
      "<class 'pandas.core.frame.DataFrame'>\n",
      "RangeIndex: 40000 entries, 0 to 39999\n",
      "Data columns (total 10 columns):\n",
      "Restaurant_id        40000 non-null object\n",
      "City                 40000 non-null object\n",
      "Cuisine Style        30717 non-null object\n",
      "Ranking              40000 non-null float64\n",
      "Rating               40000 non-null float64\n",
      "Price Range          26114 non-null object\n",
      "Number of Reviews    37457 non-null float64\n",
      "Reviews              40000 non-null object\n",
      "URL_TA               40000 non-null object\n",
      "ID_TA                40000 non-null object\n",
      "dtypes: float64(3), object(7)\n",
      "memory usage: 3.1+ MB\n"
     ]
    }
   ],
   "source": [
    "df_train.info()"
   ]
  },
  {
   "cell_type": "code",
   "execution_count": 6,
   "metadata": {
    "execution": {
     "iopub.execute_input": "2021-07-24T17:40:17.642000Z",
     "iopub.status.busy": "2021-07-24T17:40:17.641624Z",
     "iopub.status.idle": "2021-07-24T17:40:17.659936Z",
     "shell.execute_reply": "2021-07-24T17:40:17.658776Z",
     "shell.execute_reply.started": "2021-07-24T17:40:17.641911Z"
    }
   },
   "outputs": [
    {
     "data": {
      "text/html": [
       "<div>\n",
       "<style scoped>\n",
       "    .dataframe tbody tr th:only-of-type {\n",
       "        vertical-align: middle;\n",
       "    }\n",
       "\n",
       "    .dataframe tbody tr th {\n",
       "        vertical-align: top;\n",
       "    }\n",
       "\n",
       "    .dataframe thead th {\n",
       "        text-align: right;\n",
       "    }\n",
       "</style>\n",
       "<table border=\"1\" class=\"dataframe\">\n",
       "  <thead>\n",
       "    <tr style=\"text-align: right;\">\n",
       "      <th></th>\n",
       "      <th>Restaurant_id</th>\n",
       "      <th>City</th>\n",
       "      <th>Cuisine Style</th>\n",
       "      <th>Ranking</th>\n",
       "      <th>Rating</th>\n",
       "      <th>Price Range</th>\n",
       "      <th>Number of Reviews</th>\n",
       "      <th>Reviews</th>\n",
       "      <th>URL_TA</th>\n",
       "      <th>ID_TA</th>\n",
       "    </tr>\n",
       "  </thead>\n",
       "  <tbody>\n",
       "    <tr>\n",
       "      <th>0</th>\n",
       "      <td>id_5569</td>\n",
       "      <td>Paris</td>\n",
       "      <td>['European', 'French', 'International']</td>\n",
       "      <td>5570.0</td>\n",
       "      <td>3.5</td>\n",
       "      <td>$$ - $$$</td>\n",
       "      <td>194.0</td>\n",
       "      <td>[['Good food at your doorstep', 'A good hotel ...</td>\n",
       "      <td>/Restaurant_Review-g187147-d1912643-Reviews-R_...</td>\n",
       "      <td>d1912643</td>\n",
       "    </tr>\n",
       "    <tr>\n",
       "      <th>1</th>\n",
       "      <td>id_1535</td>\n",
       "      <td>Stockholm</td>\n",
       "      <td>NaN</td>\n",
       "      <td>1537.0</td>\n",
       "      <td>4.0</td>\n",
       "      <td>NaN</td>\n",
       "      <td>10.0</td>\n",
       "      <td>[['Unique cuisine', 'Delicious Nepalese food']...</td>\n",
       "      <td>/Restaurant_Review-g189852-d7992032-Reviews-Bu...</td>\n",
       "      <td>d7992032</td>\n",
       "    </tr>\n",
       "    <tr>\n",
       "      <th>2</th>\n",
       "      <td>id_352</td>\n",
       "      <td>London</td>\n",
       "      <td>['Japanese', 'Sushi', 'Asian', 'Grill', 'Veget...</td>\n",
       "      <td>353.0</td>\n",
       "      <td>4.5</td>\n",
       "      <td>$$$$</td>\n",
       "      <td>688.0</td>\n",
       "      <td>[['Catch up with friends', 'Not exceptional'],...</td>\n",
       "      <td>/Restaurant_Review-g186338-d8632781-Reviews-RO...</td>\n",
       "      <td>d8632781</td>\n",
       "    </tr>\n",
       "    <tr>\n",
       "      <th>3</th>\n",
       "      <td>id_3456</td>\n",
       "      <td>Berlin</td>\n",
       "      <td>NaN</td>\n",
       "      <td>3458.0</td>\n",
       "      <td>5.0</td>\n",
       "      <td>NaN</td>\n",
       "      <td>3.0</td>\n",
       "      <td>[[], []]</td>\n",
       "      <td>/Restaurant_Review-g187323-d1358776-Reviews-Es...</td>\n",
       "      <td>d1358776</td>\n",
       "    </tr>\n",
       "    <tr>\n",
       "      <th>4</th>\n",
       "      <td>id_615</td>\n",
       "      <td>Munich</td>\n",
       "      <td>['German', 'Central European', 'Vegetarian Fri...</td>\n",
       "      <td>621.0</td>\n",
       "      <td>4.0</td>\n",
       "      <td>$$ - $$$</td>\n",
       "      <td>84.0</td>\n",
       "      <td>[['Best place to try a Bavarian food', 'Nice b...</td>\n",
       "      <td>/Restaurant_Review-g187309-d6864963-Reviews-Au...</td>\n",
       "      <td>d6864963</td>\n",
       "    </tr>\n",
       "  </tbody>\n",
       "</table>\n",
       "</div>"
      ],
      "text/plain": [
       "  Restaurant_id       City                                      Cuisine Style  \\\n",
       "0       id_5569      Paris            ['European', 'French', 'International']   \n",
       "1       id_1535  Stockholm                                                NaN   \n",
       "2        id_352     London  ['Japanese', 'Sushi', 'Asian', 'Grill', 'Veget...   \n",
       "3       id_3456     Berlin                                                NaN   \n",
       "4        id_615     Munich  ['German', 'Central European', 'Vegetarian Fri...   \n",
       "\n",
       "   Ranking  Rating Price Range  Number of Reviews  \\\n",
       "0   5570.0     3.5    $$ - $$$              194.0   \n",
       "1   1537.0     4.0         NaN               10.0   \n",
       "2    353.0     4.5        $$$$              688.0   \n",
       "3   3458.0     5.0         NaN                3.0   \n",
       "4    621.0     4.0    $$ - $$$               84.0   \n",
       "\n",
       "                                             Reviews  \\\n",
       "0  [['Good food at your doorstep', 'A good hotel ...   \n",
       "1  [['Unique cuisine', 'Delicious Nepalese food']...   \n",
       "2  [['Catch up with friends', 'Not exceptional'],...   \n",
       "3                                           [[], []]   \n",
       "4  [['Best place to try a Bavarian food', 'Nice b...   \n",
       "\n",
       "                                              URL_TA     ID_TA  \n",
       "0  /Restaurant_Review-g187147-d1912643-Reviews-R_...  d1912643  \n",
       "1  /Restaurant_Review-g189852-d7992032-Reviews-Bu...  d7992032  \n",
       "2  /Restaurant_Review-g186338-d8632781-Reviews-RO...  d8632781  \n",
       "3  /Restaurant_Review-g187323-d1358776-Reviews-Es...  d1358776  \n",
       "4  /Restaurant_Review-g187309-d6864963-Reviews-Au...  d6864963  "
      ]
     },
     "execution_count": 6,
     "metadata": {},
     "output_type": "execute_result"
    }
   ],
   "source": [
    "df_train.head(5)"
   ]
  },
  {
   "cell_type": "code",
   "execution_count": 7,
   "metadata": {
    "execution": {
     "iopub.execute_input": "2021-07-24T17:40:17.661847Z",
     "iopub.status.busy": "2021-07-24T17:40:17.661426Z",
     "iopub.status.idle": "2021-07-24T17:40:17.681439Z",
     "shell.execute_reply": "2021-07-24T17:40:17.680444Z",
     "shell.execute_reply.started": "2021-07-24T17:40:17.661779Z"
    }
   },
   "outputs": [
    {
     "name": "stdout",
     "output_type": "stream",
     "text": [
      "<class 'pandas.core.frame.DataFrame'>\n",
      "RangeIndex: 10000 entries, 0 to 9999\n",
      "Data columns (total 9 columns):\n",
      "Restaurant_id        10000 non-null object\n",
      "City                 10000 non-null object\n",
      "Cuisine Style        7693 non-null object\n",
      "Ranking              10000 non-null float64\n",
      "Price Range          6525 non-null object\n",
      "Number of Reviews    9343 non-null float64\n",
      "Reviews              9998 non-null object\n",
      "URL_TA               10000 non-null object\n",
      "ID_TA                10000 non-null object\n",
      "dtypes: float64(2), object(7)\n",
      "memory usage: 703.2+ KB\n"
     ]
    }
   ],
   "source": [
    "df_test.info()"
   ]
  },
  {
   "cell_type": "code",
   "execution_count": 8,
   "metadata": {
    "execution": {
     "iopub.execute_input": "2021-07-24T17:40:17.682750Z",
     "iopub.status.busy": "2021-07-24T17:40:17.682452Z",
     "iopub.status.idle": "2021-07-24T17:40:17.700583Z",
     "shell.execute_reply": "2021-07-24T17:40:17.699542Z",
     "shell.execute_reply.started": "2021-07-24T17:40:17.682693Z"
    }
   },
   "outputs": [
    {
     "data": {
      "text/html": [
       "<div>\n",
       "<style scoped>\n",
       "    .dataframe tbody tr th:only-of-type {\n",
       "        vertical-align: middle;\n",
       "    }\n",
       "\n",
       "    .dataframe tbody tr th {\n",
       "        vertical-align: top;\n",
       "    }\n",
       "\n",
       "    .dataframe thead th {\n",
       "        text-align: right;\n",
       "    }\n",
       "</style>\n",
       "<table border=\"1\" class=\"dataframe\">\n",
       "  <thead>\n",
       "    <tr style=\"text-align: right;\">\n",
       "      <th></th>\n",
       "      <th>Restaurant_id</th>\n",
       "      <th>City</th>\n",
       "      <th>Cuisine Style</th>\n",
       "      <th>Ranking</th>\n",
       "      <th>Price Range</th>\n",
       "      <th>Number of Reviews</th>\n",
       "      <th>Reviews</th>\n",
       "      <th>URL_TA</th>\n",
       "      <th>ID_TA</th>\n",
       "    </tr>\n",
       "  </thead>\n",
       "  <tbody>\n",
       "    <tr>\n",
       "      <th>0</th>\n",
       "      <td>id_0</td>\n",
       "      <td>Paris</td>\n",
       "      <td>['Bar', 'Pub']</td>\n",
       "      <td>12963.0</td>\n",
       "      <td>$$ - $$$</td>\n",
       "      <td>4.0</td>\n",
       "      <td>[[], []]</td>\n",
       "      <td>/Restaurant_Review-g187147-d10746918-Reviews-L...</td>\n",
       "      <td>d10746918</td>\n",
       "    </tr>\n",
       "    <tr>\n",
       "      <th>1</th>\n",
       "      <td>id_1</td>\n",
       "      <td>Helsinki</td>\n",
       "      <td>['European', 'Scandinavian', 'Gluten Free Opti...</td>\n",
       "      <td>106.0</td>\n",
       "      <td>$$ - $$$</td>\n",
       "      <td>97.0</td>\n",
       "      <td>[['Very good reviews!', 'Fine dining in Hakani...</td>\n",
       "      <td>/Restaurant_Review-g189934-d6674944-Reviews-Ra...</td>\n",
       "      <td>d6674944</td>\n",
       "    </tr>\n",
       "    <tr>\n",
       "      <th>2</th>\n",
       "      <td>id_2</td>\n",
       "      <td>Edinburgh</td>\n",
       "      <td>['Vegetarian Friendly']</td>\n",
       "      <td>810.0</td>\n",
       "      <td>$$ - $$$</td>\n",
       "      <td>28.0</td>\n",
       "      <td>[['Better than the Links', 'Ivy Black'], ['12/...</td>\n",
       "      <td>/Restaurant_Review-g186525-d13129638-Reviews-B...</td>\n",
       "      <td>d13129638</td>\n",
       "    </tr>\n",
       "    <tr>\n",
       "      <th>3</th>\n",
       "      <td>id_3</td>\n",
       "      <td>London</td>\n",
       "      <td>['Italian', 'Mediterranean', 'European', 'Vege...</td>\n",
       "      <td>1669.0</td>\n",
       "      <td>$$$$</td>\n",
       "      <td>202.0</td>\n",
       "      <td>[['Most exquisite', 'Delicious and authentic']...</td>\n",
       "      <td>/Restaurant_Review-g186338-d680417-Reviews-Qui...</td>\n",
       "      <td>d680417</td>\n",
       "    </tr>\n",
       "    <tr>\n",
       "      <th>4</th>\n",
       "      <td>id_4</td>\n",
       "      <td>Bratislava</td>\n",
       "      <td>['Italian', 'Mediterranean', 'European', 'Seaf...</td>\n",
       "      <td>37.0</td>\n",
       "      <td>$$$$</td>\n",
       "      <td>162.0</td>\n",
       "      <td>[['Always the best in bratislava', 'Very good ...</td>\n",
       "      <td>/Restaurant_Review-g274924-d1112354-Reviews-Ma...</td>\n",
       "      <td>d1112354</td>\n",
       "    </tr>\n",
       "  </tbody>\n",
       "</table>\n",
       "</div>"
      ],
      "text/plain": [
       "  Restaurant_id        City  \\\n",
       "0          id_0       Paris   \n",
       "1          id_1    Helsinki   \n",
       "2          id_2   Edinburgh   \n",
       "3          id_3      London   \n",
       "4          id_4  Bratislava   \n",
       "\n",
       "                                       Cuisine Style  Ranking Price Range  \\\n",
       "0                                     ['Bar', 'Pub']  12963.0    $$ - $$$   \n",
       "1  ['European', 'Scandinavian', 'Gluten Free Opti...    106.0    $$ - $$$   \n",
       "2                            ['Vegetarian Friendly']    810.0    $$ - $$$   \n",
       "3  ['Italian', 'Mediterranean', 'European', 'Vege...   1669.0        $$$$   \n",
       "4  ['Italian', 'Mediterranean', 'European', 'Seaf...     37.0        $$$$   \n",
       "\n",
       "   Number of Reviews                                            Reviews  \\\n",
       "0                4.0                                           [[], []]   \n",
       "1               97.0  [['Very good reviews!', 'Fine dining in Hakani...   \n",
       "2               28.0  [['Better than the Links', 'Ivy Black'], ['12/...   \n",
       "3              202.0  [['Most exquisite', 'Delicious and authentic']...   \n",
       "4              162.0  [['Always the best in bratislava', 'Very good ...   \n",
       "\n",
       "                                              URL_TA      ID_TA  \n",
       "0  /Restaurant_Review-g187147-d10746918-Reviews-L...  d10746918  \n",
       "1  /Restaurant_Review-g189934-d6674944-Reviews-Ra...   d6674944  \n",
       "2  /Restaurant_Review-g186525-d13129638-Reviews-B...  d13129638  \n",
       "3  /Restaurant_Review-g186338-d680417-Reviews-Qui...    d680417  \n",
       "4  /Restaurant_Review-g274924-d1112354-Reviews-Ma...   d1112354  "
      ]
     },
     "execution_count": 8,
     "metadata": {},
     "output_type": "execute_result"
    }
   ],
   "source": [
    "df_test.head(5)"
   ]
  },
  {
   "cell_type": "code",
   "execution_count": 9,
   "metadata": {
    "execution": {
     "iopub.execute_input": "2021-07-24T17:40:17.702408Z",
     "iopub.status.busy": "2021-07-24T17:40:17.702048Z",
     "iopub.status.idle": "2021-07-24T17:40:17.714838Z",
     "shell.execute_reply": "2021-07-24T17:40:17.713648Z",
     "shell.execute_reply.started": "2021-07-24T17:40:17.702343Z"
    }
   },
   "outputs": [
    {
     "data": {
      "text/html": [
       "<div>\n",
       "<style scoped>\n",
       "    .dataframe tbody tr th:only-of-type {\n",
       "        vertical-align: middle;\n",
       "    }\n",
       "\n",
       "    .dataframe tbody tr th {\n",
       "        vertical-align: top;\n",
       "    }\n",
       "\n",
       "    .dataframe thead th {\n",
       "        text-align: right;\n",
       "    }\n",
       "</style>\n",
       "<table border=\"1\" class=\"dataframe\">\n",
       "  <thead>\n",
       "    <tr style=\"text-align: right;\">\n",
       "      <th></th>\n",
       "      <th>Restaurant_id</th>\n",
       "      <th>Rating</th>\n",
       "    </tr>\n",
       "  </thead>\n",
       "  <tbody>\n",
       "    <tr>\n",
       "      <th>0</th>\n",
       "      <td>id_0</td>\n",
       "      <td>2.0</td>\n",
       "    </tr>\n",
       "    <tr>\n",
       "      <th>1</th>\n",
       "      <td>id_1</td>\n",
       "      <td>2.5</td>\n",
       "    </tr>\n",
       "    <tr>\n",
       "      <th>2</th>\n",
       "      <td>id_2</td>\n",
       "      <td>4.0</td>\n",
       "    </tr>\n",
       "    <tr>\n",
       "      <th>3</th>\n",
       "      <td>id_3</td>\n",
       "      <td>1.0</td>\n",
       "    </tr>\n",
       "    <tr>\n",
       "      <th>4</th>\n",
       "      <td>id_4</td>\n",
       "      <td>4.0</td>\n",
       "    </tr>\n",
       "  </tbody>\n",
       "</table>\n",
       "</div>"
      ],
      "text/plain": [
       "  Restaurant_id  Rating\n",
       "0          id_0     2.0\n",
       "1          id_1     2.5\n",
       "2          id_2     4.0\n",
       "3          id_3     1.0\n",
       "4          id_4     4.0"
      ]
     },
     "execution_count": 9,
     "metadata": {},
     "output_type": "execute_result"
    }
   ],
   "source": [
    "sample_submission.head(5)"
   ]
  },
  {
   "cell_type": "code",
   "execution_count": 10,
   "metadata": {
    "execution": {
     "iopub.execute_input": "2021-07-24T17:40:17.716758Z",
     "iopub.status.busy": "2021-07-24T17:40:17.716318Z",
     "iopub.status.idle": "2021-07-24T17:40:17.726589Z",
     "shell.execute_reply": "2021-07-24T17:40:17.725594Z",
     "shell.execute_reply.started": "2021-07-24T17:40:17.716547Z"
    }
   },
   "outputs": [
    {
     "name": "stdout",
     "output_type": "stream",
     "text": [
      "<class 'pandas.core.frame.DataFrame'>\n",
      "RangeIndex: 10000 entries, 0 to 9999\n",
      "Data columns (total 2 columns):\n",
      "Restaurant_id    10000 non-null object\n",
      "Rating           10000 non-null float64\n",
      "dtypes: float64(1), object(1)\n",
      "memory usage: 156.4+ KB\n"
     ]
    }
   ],
   "source": [
    "sample_submission.info()"
   ]
  },
  {
   "cell_type": "code",
   "execution_count": 11,
   "metadata": {
    "execution": {
     "iopub.execute_input": "2021-07-24T17:40:17.729394Z",
     "iopub.status.busy": "2021-07-24T17:40:17.728768Z",
     "iopub.status.idle": "2021-07-24T17:40:17.778065Z",
     "shell.execute_reply": "2021-07-24T17:40:17.777050Z",
     "shell.execute_reply.started": "2021-07-24T17:40:17.729300Z"
    }
   },
   "outputs": [],
   "source": [
    "# ВАЖНО! для корректной обработки признаков объединяем трейн и тест в один датасет\n",
    "df_train['sample'] = 1 # помечаем где у нас трейн\n",
    "df_test['sample'] = 0 # помечаем где у нас тест\n",
    "df_test['Rating'] = 0 # в тесте у нас нет значения Rating, мы его должны предсказать, по этому пока просто заполняем нулями\n",
    "\n",
    "data = df_test.append(df_train, sort=False).reset_index(drop=True) # объединяем"
   ]
  },
  {
   "cell_type": "code",
   "execution_count": 12,
   "metadata": {
    "execution": {
     "iopub.execute_input": "2021-07-24T17:40:17.779521Z",
     "iopub.status.busy": "2021-07-24T17:40:17.779257Z",
     "iopub.status.idle": "2021-07-24T17:40:17.807506Z",
     "shell.execute_reply": "2021-07-24T17:40:17.806312Z",
     "shell.execute_reply.started": "2021-07-24T17:40:17.779478Z"
    }
   },
   "outputs": [
    {
     "name": "stdout",
     "output_type": "stream",
     "text": [
      "<class 'pandas.core.frame.DataFrame'>\n",
      "RangeIndex: 50000 entries, 0 to 49999\n",
      "Data columns (total 11 columns):\n",
      "Restaurant_id        50000 non-null object\n",
      "City                 50000 non-null object\n",
      "Cuisine Style        38410 non-null object\n",
      "Ranking              50000 non-null float64\n",
      "Price Range          32639 non-null object\n",
      "Number of Reviews    46800 non-null float64\n",
      "Reviews              49998 non-null object\n",
      "URL_TA               50000 non-null object\n",
      "ID_TA                50000 non-null object\n",
      "sample               50000 non-null int64\n",
      "Rating               50000 non-null float64\n",
      "dtypes: float64(3), int64(1), object(7)\n",
      "memory usage: 4.2+ MB\n"
     ]
    }
   ],
   "source": [
    "data.info()"
   ]
  },
  {
   "cell_type": "markdown",
   "metadata": {},
   "source": [
    "Подробнее по признакам:\n",
    "* City: Город \n",
    "* Cuisine Style: Кухня\n",
    "* Ranking: Ранг ресторана относительно других ресторанов в этом городе\n",
    "* Price Range: Цены в ресторане в 3 категориях\n",
    "* Number of Reviews: Количество отзывов\n",
    "* Reviews: 2 последних отзыва и даты этих отзывов\n",
    "* URL_TA: страница ресторана на 'www.tripadvisor.com' \n",
    "* ID_TA: ID ресторана в TripAdvisor\n",
    "* Rating: Рейтинг ресторана"
   ]
  },
  {
   "cell_type": "code",
   "execution_count": 13,
   "metadata": {
    "execution": {
     "iopub.execute_input": "2021-07-24T17:40:17.809193Z",
     "iopub.status.busy": "2021-07-24T17:40:17.808947Z",
     "iopub.status.idle": "2021-07-24T17:40:17.827216Z",
     "shell.execute_reply": "2021-07-24T17:40:17.825783Z",
     "shell.execute_reply.started": "2021-07-24T17:40:17.809150Z"
    }
   },
   "outputs": [
    {
     "data": {
      "text/html": [
       "<div>\n",
       "<style scoped>\n",
       "    .dataframe tbody tr th:only-of-type {\n",
       "        vertical-align: middle;\n",
       "    }\n",
       "\n",
       "    .dataframe tbody tr th {\n",
       "        vertical-align: top;\n",
       "    }\n",
       "\n",
       "    .dataframe thead th {\n",
       "        text-align: right;\n",
       "    }\n",
       "</style>\n",
       "<table border=\"1\" class=\"dataframe\">\n",
       "  <thead>\n",
       "    <tr style=\"text-align: right;\">\n",
       "      <th></th>\n",
       "      <th>Restaurant_id</th>\n",
       "      <th>City</th>\n",
       "      <th>Cuisine Style</th>\n",
       "      <th>Ranking</th>\n",
       "      <th>Price Range</th>\n",
       "      <th>Number of Reviews</th>\n",
       "      <th>Reviews</th>\n",
       "      <th>URL_TA</th>\n",
       "      <th>ID_TA</th>\n",
       "      <th>sample</th>\n",
       "      <th>Rating</th>\n",
       "    </tr>\n",
       "  </thead>\n",
       "  <tbody>\n",
       "    <tr>\n",
       "      <th>36114</th>\n",
       "      <td>id_5300</td>\n",
       "      <td>Rome</td>\n",
       "      <td>NaN</td>\n",
       "      <td>5302.0</td>\n",
       "      <td>NaN</td>\n",
       "      <td>16.0</td>\n",
       "      <td>[['Raccomandato - Enjoy the real roman street....</td>\n",
       "      <td>/Restaurant_Review-g187791-d5815728-Reviews-Il...</td>\n",
       "      <td>d5815728</td>\n",
       "      <td>1</td>\n",
       "      <td>4.5</td>\n",
       "    </tr>\n",
       "    <tr>\n",
       "      <th>43205</th>\n",
       "      <td>id_12349</td>\n",
       "      <td>Paris</td>\n",
       "      <td>['Japanese', 'Sushi']</td>\n",
       "      <td>12351.0</td>\n",
       "      <td>$</td>\n",
       "      <td>10.0</td>\n",
       "      <td>[['Awful restaurant for foreigner customer'], ...</td>\n",
       "      <td>/Restaurant_Review-g187147-d5249985-Reviews-Os...</td>\n",
       "      <td>d5249985</td>\n",
       "      <td>1</td>\n",
       "      <td>3.5</td>\n",
       "    </tr>\n",
       "    <tr>\n",
       "      <th>31471</th>\n",
       "      <td>id_934</td>\n",
       "      <td>London</td>\n",
       "      <td>['Mediterranean', 'Spanish', 'European', 'Vege...</td>\n",
       "      <td>936.0</td>\n",
       "      <td>$$ - $$$</td>\n",
       "      <td>206.0</td>\n",
       "      <td>[['What a great find', 'Another great place in...</td>\n",
       "      <td>/Restaurant_Review-g186338-d8320074-Reviews-Th...</td>\n",
       "      <td>d8320074</td>\n",
       "      <td>1</td>\n",
       "      <td>4.5</td>\n",
       "    </tr>\n",
       "    <tr>\n",
       "      <th>8062</th>\n",
       "      <td>id_8062</td>\n",
       "      <td>London</td>\n",
       "      <td>['International', 'European']</td>\n",
       "      <td>7269.0</td>\n",
       "      <td>$$ - $$$</td>\n",
       "      <td>54.0</td>\n",
       "      <td>[['Can do better....needs to!', 'Light Christm...</td>\n",
       "      <td>/Restaurant_Review-g186338-d6378870-Reviews-Po...</td>\n",
       "      <td>d6378870</td>\n",
       "      <td>0</td>\n",
       "      <td>0.0</td>\n",
       "    </tr>\n",
       "    <tr>\n",
       "      <th>40612</th>\n",
       "      <td>id_1976</td>\n",
       "      <td>Warsaw</td>\n",
       "      <td>['Italian']</td>\n",
       "      <td>1978.0</td>\n",
       "      <td>NaN</td>\n",
       "      <td>8.0</td>\n",
       "      <td>[['Pasta Experience', 'Changes'], ['11/21/2012...</td>\n",
       "      <td>/Restaurant_Review-g274856-d1947227-Reviews-Ru...</td>\n",
       "      <td>d1947227</td>\n",
       "      <td>1</td>\n",
       "      <td>3.0</td>\n",
       "    </tr>\n",
       "  </tbody>\n",
       "</table>\n",
       "</div>"
      ],
      "text/plain": [
       "      Restaurant_id    City  \\\n",
       "36114       id_5300    Rome   \n",
       "43205      id_12349   Paris   \n",
       "31471        id_934  London   \n",
       "8062        id_8062  London   \n",
       "40612       id_1976  Warsaw   \n",
       "\n",
       "                                           Cuisine Style  Ranking Price Range  \\\n",
       "36114                                                NaN   5302.0         NaN   \n",
       "43205                              ['Japanese', 'Sushi']  12351.0           $   \n",
       "31471  ['Mediterranean', 'Spanish', 'European', 'Vege...    936.0    $$ - $$$   \n",
       "8062                       ['International', 'European']   7269.0    $$ - $$$   \n",
       "40612                                        ['Italian']   1978.0         NaN   \n",
       "\n",
       "       Number of Reviews                                            Reviews  \\\n",
       "36114               16.0  [['Raccomandato - Enjoy the real roman street....   \n",
       "43205               10.0  [['Awful restaurant for foreigner customer'], ...   \n",
       "31471              206.0  [['What a great find', 'Another great place in...   \n",
       "8062                54.0  [['Can do better....needs to!', 'Light Christm...   \n",
       "40612                8.0  [['Pasta Experience', 'Changes'], ['11/21/2012...   \n",
       "\n",
       "                                                  URL_TA     ID_TA  sample  \\\n",
       "36114  /Restaurant_Review-g187791-d5815728-Reviews-Il...  d5815728       1   \n",
       "43205  /Restaurant_Review-g187147-d5249985-Reviews-Os...  d5249985       1   \n",
       "31471  /Restaurant_Review-g186338-d8320074-Reviews-Th...  d8320074       1   \n",
       "8062   /Restaurant_Review-g186338-d6378870-Reviews-Po...  d6378870       0   \n",
       "40612  /Restaurant_Review-g274856-d1947227-Reviews-Ru...  d1947227       1   \n",
       "\n",
       "       Rating  \n",
       "36114     4.5  \n",
       "43205     3.5  \n",
       "31471     4.5  \n",
       "8062      0.0  \n",
       "40612     3.0  "
      ]
     },
     "execution_count": 13,
     "metadata": {},
     "output_type": "execute_result"
    }
   ],
   "source": [
    "data.sample(5)"
   ]
  },
  {
   "cell_type": "code",
   "execution_count": 14,
   "metadata": {
    "execution": {
     "iopub.execute_input": "2021-07-24T17:40:17.829523Z",
     "iopub.status.busy": "2021-07-24T17:40:17.828303Z",
     "iopub.status.idle": "2021-07-24T17:40:17.844075Z",
     "shell.execute_reply": "2021-07-24T17:40:17.843147Z",
     "shell.execute_reply.started": "2021-07-24T17:40:17.829450Z"
    }
   },
   "outputs": [
    {
     "data": {
      "text/plain": [
       "\"[['Very good reviews!', 'Fine dining in Hakaniemi'], ['12/05/2017', '10/29/2017']]\""
      ]
     },
     "execution_count": 14,
     "metadata": {},
     "output_type": "execute_result"
    }
   ],
   "source": [
    "data.Reviews[1]"
   ]
  },
  {
   "cell_type": "markdown",
   "metadata": {},
   "source": [
    "Как видим, большинство признаков у нас требует очистки и предварительной обработки."
   ]
  },
  {
   "cell_type": "markdown",
   "metadata": {},
   "source": [
    "# Cleaning and Prepping Data\n",
    "Обычно данные содержат в себе кучу мусора, который необходимо почистить, для того чтобы привести их в приемлемый формат. Чистка данных — это необходимый этап решения почти любой реальной задачи.   \n",
    "![](https://analyticsindiamag.com/wp-content/uploads/2018/01/data-cleaning.png)"
   ]
  },
  {
   "cell_type": "markdown",
   "metadata": {},
   "source": [
    "## 1. Обработка NAN \n",
    "У наличия пропусков могут быть разные причины, но пропуски нужно либо заполнить, либо исключить из набора полностью. Но с пропусками нужно быть внимательным, **даже отсутствие информации может быть важным признаком!**   \n",
    "По этому перед обработкой NAN лучше вынести информацию о наличии пропуска как отдельный признак "
   ]
  },
  {
   "cell_type": "code",
   "execution_count": 15,
   "metadata": {
    "execution": {
     "iopub.execute_input": "2021-07-24T17:40:17.845893Z",
     "iopub.status.busy": "2021-07-24T17:40:17.845317Z",
     "iopub.status.idle": "2021-07-24T17:40:17.874458Z",
     "shell.execute_reply": "2021-07-24T17:40:17.873730Z",
     "shell.execute_reply.started": "2021-07-24T17:40:17.845851Z"
    }
   },
   "outputs": [
    {
     "data": {
      "text/plain": [
       "Restaurant_id            0\n",
       "City                     0\n",
       "Cuisine Style        11590\n",
       "Ranking                  0\n",
       "Price Range          17361\n",
       "Number of Reviews     3200\n",
       "Reviews                  2\n",
       "URL_TA                   0\n",
       "ID_TA                    0\n",
       "sample                   0\n",
       "Rating                   0\n",
       "dtype: int64"
      ]
     },
     "execution_count": 15,
     "metadata": {},
     "output_type": "execute_result"
    }
   ],
   "source": [
    "#Посмотрим количество пропусков в колонках.\n",
    "data.isnull().sum()"
   ]
  },
  {
   "cell_type": "markdown",
   "metadata": {},
   "source": [
    "1.1 Number of Reviews"
   ]
  },
  {
   "cell_type": "code",
   "execution_count": 16,
   "metadata": {
    "execution": {
     "iopub.execute_input": "2021-07-24T17:40:17.875829Z",
     "iopub.status.busy": "2021-07-24T17:40:17.875459Z",
     "iopub.status.idle": "2021-07-24T17:40:17.880677Z",
     "shell.execute_reply": "2021-07-24T17:40:17.879796Z",
     "shell.execute_reply.started": "2021-07-24T17:40:17.875785Z"
    }
   },
   "outputs": [],
   "source": [
    "def fill_number_of_reviews(data):\n",
    "    data['Number_of_Reviews_isNAN'] = pd.isna(data['Number of Reviews']).astype('uint8')\n",
    "    #Заменяем пропуски в Number of Reviews на среднее.\n",
    "    data['Number of Reviews'] = data['Number of Reviews'].fillna(round(data.groupby('City')['Number of Reviews'].transform('mean')))\n",
    "    "
   ]
  },
  {
   "cell_type": "markdown",
   "metadata": {},
   "source": [
    "1.2 Price Range"
   ]
  },
  {
   "cell_type": "code",
   "execution_count": 17,
   "metadata": {
    "execution": {
     "iopub.execute_input": "2021-07-24T17:40:17.882568Z",
     "iopub.status.busy": "2021-07-24T17:40:17.882217Z",
     "iopub.status.idle": "2021-07-24T17:40:17.893461Z",
     "shell.execute_reply": "2021-07-24T17:40:17.892405Z",
     "shell.execute_reply.started": "2021-07-24T17:40:17.882489Z"
    }
   },
   "outputs": [],
   "source": [
    "def fill_price_range(data):\n",
    "    # Сохраняем информацию о пропусках\n",
    "    data['Price_Range_isNAN'] = pd.isna(data['Price Range']).astype('uint8')\n",
    "    # Заменяем пропуски в колонке Price Range на моду:\n",
    "    mode = data['Price Range'].value_counts().index[0]\n",
    "    data['Price Range'] = data['Price Range'].fillna(mode)"
   ]
  },
  {
   "cell_type": "markdown",
   "metadata": {},
   "source": [
    "1.3 Cuisine Style"
   ]
  },
  {
   "cell_type": "code",
   "execution_count": 18,
   "metadata": {
    "execution": {
     "iopub.execute_input": "2021-07-24T17:40:17.895382Z",
     "iopub.status.busy": "2021-07-24T17:40:17.894973Z",
     "iopub.status.idle": "2021-07-24T17:40:17.906518Z",
     "shell.execute_reply": "2021-07-24T17:40:17.905683Z",
     "shell.execute_reply.started": "2021-07-24T17:40:17.895272Z"
    }
   },
   "outputs": [],
   "source": [
    "def fill_cuisine_style(data):\n",
    "    data['Cuisine_Style_isNAN'] = pd.isna(data['Cuisine Style']).astype('uint8')\n",
    "    #Заполняем пропуски значением Else\n",
    "    data['Cuisine Style'] = data['Cuisine Style'].fillna(\"['Else']\")"
   ]
  },
  {
   "cell_type": "markdown",
   "metadata": {},
   "source": [
    "1.4 Reviews"
   ]
  },
  {
   "cell_type": "code",
   "execution_count": 19,
   "metadata": {
    "execution": {
     "iopub.execute_input": "2021-07-24T17:40:17.912310Z",
     "iopub.status.busy": "2021-07-24T17:40:17.911896Z",
     "iopub.status.idle": "2021-07-24T17:40:17.920304Z",
     "shell.execute_reply": "2021-07-24T17:40:17.919410Z",
     "shell.execute_reply.started": "2021-07-24T17:40:17.912264Z"
    }
   },
   "outputs": [],
   "source": [
    "def fill_reviews(data):\n",
    "    data['Reviews'] = data['Reviews'].fillna('[[], []]')\n",
    "    data['Reviews_isNaN'] = data['Reviews'].apply(lambda x: 1 if x == '[[], []]' else 0)"
   ]
  },
  {
   "cell_type": "code",
   "execution_count": 20,
   "metadata": {
    "execution": {
     "iopub.execute_input": "2021-07-24T17:40:17.922164Z",
     "iopub.status.busy": "2021-07-24T17:40:17.921887Z",
     "iopub.status.idle": "2021-07-24T17:40:17.955496Z",
     "shell.execute_reply": "2021-07-24T17:40:17.954374Z",
     "shell.execute_reply.started": "2021-07-24T17:40:17.922116Z"
    }
   },
   "outputs": [
    {
     "name": "stdout",
     "output_type": "stream",
     "text": [
      "<class 'pandas.core.frame.DataFrame'>\n",
      "RangeIndex: 50000 entries, 0 to 49999\n",
      "Data columns (total 11 columns):\n",
      "Restaurant_id        50000 non-null object\n",
      "City                 50000 non-null object\n",
      "Cuisine Style        38410 non-null object\n",
      "Ranking              50000 non-null float64\n",
      "Price Range          32639 non-null object\n",
      "Number of Reviews    46800 non-null float64\n",
      "Reviews              49998 non-null object\n",
      "URL_TA               50000 non-null object\n",
      "ID_TA                50000 non-null object\n",
      "sample               50000 non-null int64\n",
      "Rating               50000 non-null float64\n",
      "dtypes: float64(3), int64(1), object(7)\n",
      "memory usage: 4.2+ MB\n"
     ]
    }
   ],
   "source": [
    "data.info()"
   ]
  },
  {
   "cell_type": "markdown",
   "metadata": {},
   "source": [
    "### 2. Обработка признаков\n",
    "Для начала посмотрим какие признаки у нас могут быть категориальными."
   ]
  },
  {
   "cell_type": "code",
   "execution_count": 21,
   "metadata": {
    "execution": {
     "iopub.execute_input": "2021-07-24T17:40:17.957658Z",
     "iopub.status.busy": "2021-07-24T17:40:17.956947Z",
     "iopub.status.idle": "2021-07-24T17:40:18.052385Z",
     "shell.execute_reply": "2021-07-24T17:40:18.051688Z",
     "shell.execute_reply.started": "2021-07-24T17:40:17.957601Z"
    }
   },
   "outputs": [
    {
     "data": {
      "text/plain": [
       "Restaurant_id        13094\n",
       "City                    31\n",
       "Cuisine Style        10732\n",
       "Ranking              12975\n",
       "Price Range              4\n",
       "Number of Reviews     1574\n",
       "Reviews              41858\n",
       "URL_TA               49963\n",
       "ID_TA                49963\n",
       "sample                   2\n",
       "Rating                  10\n",
       "dtype: int64"
      ]
     },
     "execution_count": 21,
     "metadata": {},
     "output_type": "execute_result"
    }
   ],
   "source": [
    "data.nunique(dropna=False)"
   ]
  },
  {
   "cell_type": "markdown",
   "metadata": {},
   "source": [
    "Какие признаки можно считать категориальными?"
   ]
  },
  {
   "cell_type": "markdown",
   "metadata": {},
   "source": [
    "Для кодирования категориальных признаков есть множество подходов:\n",
    "* Label Encoding\n",
    "* One-Hot Encoding\n",
    "* Target Encoding\n",
    "* Hashing\n",
    "\n",
    "Выбор кодирования зависит от признака и выбраной модели.\n",
    "Не будем сейчас сильно погружаться в эту тематику, давайте посмотрим лучше пример с One-Hot Encoding:\n",
    "![](https://i.imgur.com/mtimFxh.png)"
   ]
  },
  {
   "cell_type": "markdown",
   "metadata": {},
   "source": [
    "* 2.1 Price Range"
   ]
  },
  {
   "cell_type": "code",
   "execution_count": 22,
   "metadata": {
    "execution": {
     "iopub.execute_input": "2021-07-24T17:40:18.053684Z",
     "iopub.status.busy": "2021-07-24T17:40:18.053340Z",
     "iopub.status.idle": "2021-07-24T17:40:18.057230Z",
     "shell.execute_reply": "2021-07-24T17:40:18.056649Z",
     "shell.execute_reply.started": "2021-07-24T17:40:18.053649Z"
    }
   },
   "outputs": [],
   "source": [
    "def en_price_range(data):\n",
    "    le = LabelEncoder()\n",
    "    le.fit(data['Price Range'])\n",
    "    data['Price Range LE'] = le.transform(data['Price Range'])"
   ]
  },
  {
   "cell_type": "markdown",
   "metadata": {},
   "source": [
    "* 2.2 City"
   ]
  },
  {
   "cell_type": "code",
   "execution_count": 23,
   "metadata": {
    "execution": {
     "iopub.execute_input": "2021-07-24T17:40:18.058768Z",
     "iopub.status.busy": "2021-07-24T17:40:18.058411Z",
     "iopub.status.idle": "2021-07-24T17:40:18.073737Z",
     "shell.execute_reply": "2021-07-24T17:40:18.072792Z",
     "shell.execute_reply.started": "2021-07-24T17:40:18.058731Z"
    }
   },
   "outputs": [],
   "source": [
    "def en_city(data):\n",
    "    # применяем One-Hot Encoding\n",
    "    data = pd.get_dummies(data, columns=[ 'City',], dummy_na=True)"
   ]
  },
  {
   "cell_type": "markdown",
   "metadata": {},
   "source": [
    "* 2.3 Cuisine Style"
   ]
  },
  {
   "cell_type": "code",
   "execution_count": 24,
   "metadata": {
    "execution": {
     "iopub.execute_input": "2021-07-24T17:40:18.075205Z",
     "iopub.status.busy": "2021-07-24T17:40:18.074846Z",
     "iopub.status.idle": "2021-07-24T17:40:18.088657Z",
     "shell.execute_reply": "2021-07-24T17:40:18.087717Z",
     "shell.execute_reply.started": "2021-07-24T17:40:18.075169Z"
    }
   },
   "outputs": [],
   "source": [
    "def en_cuisine_style(data): \n",
    "    # Приведём значения к корректному списку\n",
    "    data['Cuisine Style'] = data['Cuisine Style'].str.replace('[', '')\n",
    "    data['Cuisine Style'] = data['Cuisine Style'].str.replace(']', '')\n",
    "    data['Cuisine Style'] = data['Cuisine Style'].str.replace(' ', '')\n",
    "    data['Cuisine Style'] = data['Cuisine Style'].str.split(',')\n",
    "    \n",
    "    # Формируем список, значение Else исключаем\n",
    "    cuisines = list(data[data['Cuisine_Style_isNAN'] == 0].explode('Cuisine Style')['Cuisine Style'].value_counts()[0:10].index[0:10])\n",
    "    \n",
    "    # Добавляем dummy-переменные для ресторанов из топ-10\n",
    "    for cuisine in cuisines:\n",
    "        data[cuisine] = data['Cuisine Style'].apply(lambda x: 1 if cuisine in x else 0)"
   ]
  },
  {
   "cell_type": "markdown",
   "metadata": {},
   "source": [
    "![](https://cs10.pikabu.ru/post_img/2018/09/06/11/1536261023140110012.jpg)"
   ]
  },
  {
   "cell_type": "markdown",
   "metadata": {},
   "source": [
    "# 3. EDA \n",
    "[Exploratory Data Analysis](https://ru.wikipedia.org/wiki/Разведочный_анализ_данных) - Анализ данных\n",
    "На этом этапе мы строим графики, ищем закономерности, аномалии, выбросы или связи между признаками.\n",
    "В общем цель этого этапа понять, что эти данные могут нам дать и как признаки могут быть взаимосвязаны между собой.\n",
    "Понимание изначальных признаков позволит сгенерировать новые, более сильные и, тем самым, сделать нашу модель лучше.\n",
    "![](https://miro.medium.com/max/2598/1*RXdMb7Uk6mGqWqPguHULaQ.png)"
   ]
  },
  {
   "cell_type": "markdown",
   "metadata": {},
   "source": [
    "### Посмотрим распределение признака"
   ]
  },
  {
   "cell_type": "code",
   "execution_count": 25,
   "metadata": {
    "execution": {
     "iopub.execute_input": "2021-07-24T17:40:18.090104Z",
     "iopub.status.busy": "2021-07-24T17:40:18.089732Z",
     "iopub.status.idle": "2021-07-24T17:40:18.550275Z",
     "shell.execute_reply": "2021-07-24T17:40:18.549094Z",
     "shell.execute_reply.started": "2021-07-24T17:40:18.090066Z"
    }
   },
   "outputs": [
    {
     "data": {
      "text/plain": [
       "<matplotlib.axes._subplots.AxesSubplot at 0x7f366d8235f8>"
      ]
     },
     "execution_count": 25,
     "metadata": {},
     "output_type": "execute_result"
    },
    {
     "data": {
      "image/png": "[encoded data removed]",
      "text/plain": [
       "<Figure size 720x504 with 1 Axes>"
      ]
     },
     "metadata": {
      "needs_background": "light"
     },
     "output_type": "display_data"
    }
   ],
   "source": [
    "plt.rcParams['figure.figsize'] = (10,7)\n",
    "df_train['Ranking'].hist(bins=100)"
   ]
  },
  {
   "cell_type": "markdown",
   "metadata": {},
   "source": [
    "У нас много ресторанов, которые не дотягивают и до 2500 места в своем городе, а что там по городам?"
   ]
  },
  {
   "cell_type": "code",
   "execution_count": 26,
   "metadata": {
    "execution": {
     "iopub.execute_input": "2021-07-24T17:40:18.551822Z",
     "iopub.status.busy": "2021-07-24T17:40:18.551458Z",
     "iopub.status.idle": "2021-07-24T17:40:18.886419Z",
     "shell.execute_reply": "2021-07-24T17:40:18.885407Z",
     "shell.execute_reply.started": "2021-07-24T17:40:18.551761Z"
    }
   },
   "outputs": [
    {
     "data": {
      "text/plain": [
       "<matplotlib.axes._subplots.AxesSubplot at 0x7f366d6c6320>"
      ]
     },
     "execution_count": 26,
     "metadata": {},
     "output_type": "execute_result"
    },
    {
     "data": {
      "image/png": "[encoded data removed]",
      "text/plain": [
       "<Figure size 720x504 with 1 Axes>"
      ]
     },
     "metadata": {
      "needs_background": "light"
     },
     "output_type": "display_data"
    }
   ],
   "source": [
    "df_train['City'].value_counts(ascending=True).plot(kind='barh')"
   ]
  },
  {
   "cell_type": "markdown",
   "metadata": {},
   "source": [
    "А кто-то говорил, что французы любят поесть=) Посмотрим, как изменится распределение в большом городе:"
   ]
  },
  {
   "cell_type": "code",
   "execution_count": 27,
   "metadata": {
    "execution": {
     "iopub.execute_input": "2021-07-24T17:40:18.888958Z",
     "iopub.status.busy": "2021-07-24T17:40:18.888259Z",
     "iopub.status.idle": "2021-07-24T17:40:19.370752Z",
     "shell.execute_reply": "2021-07-24T17:40:19.369561Z",
     "shell.execute_reply.started": "2021-07-24T17:40:18.888881Z"
    }
   },
   "outputs": [
    {
     "data": {
      "text/plain": [
       "<matplotlib.axes._subplots.AxesSubplot at 0x7f366d591630>"
      ]
     },
     "execution_count": 27,
     "metadata": {},
     "output_type": "execute_result"
    },
    {
     "data": {
      "image/png": "[encoded data removed]",
      "text/plain": [
       "<Figure size 720x504 with 1 Axes>"
      ]
     },
     "metadata": {
      "needs_background": "light"
     },
     "output_type": "display_data"
    }
   ],
   "source": [
    "df_train['Ranking'][df_train['City'] =='London'].hist(bins=100)"
   ]
  },
  {
   "cell_type": "code",
   "execution_count": 28,
   "metadata": {
    "execution": {
     "iopub.execute_input": "2021-07-24T17:40:19.373238Z",
     "iopub.status.busy": "2021-07-24T17:40:19.372654Z",
     "iopub.status.idle": "2021-07-24T17:40:21.812225Z",
     "shell.execute_reply": "2021-07-24T17:40:21.810833Z",
     "shell.execute_reply.started": "2021-07-24T17:40:19.372987Z"
    }
   },
   "outputs": [
    {
     "data": {
      "image/png": "[encoded data removed]",
      "text/plain": [
       "<Figure size 720x504 with 1 Axes>"
      ]
     },
     "metadata": {
      "needs_background": "light"
     },
     "output_type": "display_data"
    }
   ],
   "source": [
    "# посмотрим на топ 10 городов\n",
    "for x in (df_train['City'].value_counts())[0:10].index:\n",
    "    df_train['Ranking'][df_train['City'] == x].hist(bins=100)\n",
    "plt.show()"
   ]
  },
  {
   "cell_type": "markdown",
   "metadata": {},
   "source": [
    "Получается, что Ranking имеет нормальное распределение, просто в больших городах больше ресторанов, из-за мы этого имеем смещение.\n",
    "\n",
    ">Подумайте как из этого можно сделать признак для вашей модели. Я покажу вам пример, как визуализация помогает находить взаимосвязи. А далее действуйте без подсказок =) \n"
   ]
  },
  {
   "cell_type": "markdown",
   "metadata": {},
   "source": [
    "### Посмотрим распределение целевой переменной"
   ]
  },
  {
   "cell_type": "code",
   "execution_count": 29,
   "metadata": {
    "execution": {
     "iopub.execute_input": "2021-07-24T17:40:21.814815Z",
     "iopub.status.busy": "2021-07-24T17:40:21.814191Z",
     "iopub.status.idle": "2021-07-24T17:40:22.082427Z",
     "shell.execute_reply": "2021-07-24T17:40:22.080907Z",
     "shell.execute_reply.started": "2021-07-24T17:40:21.814537Z"
    }
   },
   "outputs": [
    {
     "data": {
      "text/plain": [
       "<matplotlib.axes._subplots.AxesSubplot at 0x7f366d3d6390>"
      ]
     },
     "execution_count": 29,
     "metadata": {},
     "output_type": "execute_result"
    },
    {
     "data": {
      "image/png": "[encoded data removed]",
      "text/plain": [
       "<Figure size 720x504 with 1 Axes>"
      ]
     },
     "metadata": {
      "needs_background": "light"
     },
     "output_type": "display_data"
    }
   ],
   "source": [
    "df_train['Rating'].value_counts(ascending=True).plot(kind='barh')"
   ]
  },
  {
   "cell_type": "markdown",
   "metadata": {},
   "source": [
    "### Посмотрим распределение целевой переменной относительно признака"
   ]
  },
  {
   "cell_type": "code",
   "execution_count": 30,
   "metadata": {
    "execution": {
     "iopub.execute_input": "2021-07-24T17:40:22.085121Z",
     "iopub.status.busy": "2021-07-24T17:40:22.084482Z",
     "iopub.status.idle": "2021-07-24T17:40:22.545654Z",
     "shell.execute_reply": "2021-07-24T17:40:22.544255Z",
     "shell.execute_reply.started": "2021-07-24T17:40:22.084853Z"
    }
   },
   "outputs": [
    {
     "data": {
      "text/plain": [
       "<matplotlib.axes._subplots.AxesSubplot at 0x7f365b3ce588>"
      ]
     },
     "execution_count": 30,
     "metadata": {},
     "output_type": "execute_result"
    },
    {
     "data": {
      "image/png": "[encoded data removed]",
      "text/plain": [
       "<Figure size 720x504 with 1 Axes>"
      ]
     },
     "metadata": {
      "needs_background": "light"
     },
     "output_type": "display_data"
    }
   ],
   "source": [
    "df_train['Ranking'][df_train['Rating'] == 5].hist(bins=100)"
   ]
  },
  {
   "cell_type": "code",
   "execution_count": 31,
   "metadata": {
    "execution": {
     "iopub.execute_input": "2021-07-24T17:40:22.548071Z",
     "iopub.status.busy": "2021-07-24T17:40:22.547505Z",
     "iopub.status.idle": "2021-07-24T17:40:23.002551Z",
     "shell.execute_reply": "2021-07-24T17:40:23.001350Z",
     "shell.execute_reply.started": "2021-07-24T17:40:22.547826Z"
    }
   },
   "outputs": [
    {
     "data": {
      "text/plain": [
       "<matplotlib.axes._subplots.AxesSubplot at 0x7f365b3292b0>"
      ]
     },
     "execution_count": 31,
     "metadata": {},
     "output_type": "execute_result"
    },
    {
     "data": {
      "image/png": "[encoded data removed]",
      "text/plain": [
       "<Figure size 720x504 with 1 Axes>"
      ]
     },
     "metadata": {
      "needs_background": "light"
     },
     "output_type": "display_data"
    }
   ],
   "source": [
    "df_train['Ranking'][df_train['Rating'] < 4].hist(bins=100)"
   ]
  },
  {
   "cell_type": "markdown",
   "metadata": {},
   "source": [
    "### И один из моих любимых - корреляция признаков\n",
    "\n",
    "На этом графике уже сейчас вы сможете заметить, как признаки связаны между собой и с целевой переменной."
   ]
  },
  {
   "cell_type": "code",
   "execution_count": 32,
   "metadata": {
    "execution": {
     "iopub.execute_input": "2021-07-24T17:40:23.005564Z",
     "iopub.status.busy": "2021-07-24T17:40:23.004705Z",
     "iopub.status.idle": "2021-07-24T17:40:23.380638Z",
     "shell.execute_reply": "2021-07-24T17:40:23.379631Z",
     "shell.execute_reply.started": "2021-07-24T17:40:23.005449Z"
    }
   },
   "outputs": [
    {
     "data": {
      "text/plain": [
       "<matplotlib.axes._subplots.AxesSubplot at 0x7f36590afd30>"
      ]
     },
     "execution_count": 32,
     "metadata": {},
     "output_type": "execute_result"
    },
    {
     "data": {
      "image/png": "[encoded data removed]",
      "text/plain": [
       "<Figure size 1080x720 with 2 Axes>"
      ]
     },
     "metadata": {
      "needs_background": "light"
     },
     "output_type": "display_data"
    }
   ],
   "source": [
    "plt.rcParams['figure.figsize'] = (15,10)\n",
    "sns.heatmap(data.drop(['sample'], axis=1).corr(),annot=True)"
   ]
  },
  {
   "cell_type": "markdown",
   "metadata": {},
   "source": [
    "Видим, что имеющиеся на текущий момент признаки слабо скоррелированны, за исключением Cuisine_Stile_isNaN и Price_Range_isNaN. Можем сделать вывод, что у ресторанов, у которых не указана кухня, часто не указан и ценовой сегмент. На основе матрицы корреляции принимаю решение оставить все признаки."
   ]
  },
  {
   "cell_type": "markdown",
   "metadata": {},
   "source": [
    "# 4. Создание новых признаков"
   ]
  },
  {
   "cell_type": "markdown",
   "metadata": {},
   "source": [
    "* 4.1 Численность населения города"
   ]
  },
  {
   "cell_type": "code",
   "execution_count": 33,
   "metadata": {
    "execution": {
     "iopub.execute_input": "2021-07-24T17:40:23.383195Z",
     "iopub.status.busy": "2021-07-24T17:40:23.382535Z",
     "iopub.status.idle": "2021-07-24T17:40:23.394386Z",
     "shell.execute_reply": "2021-07-24T17:40:23.393340Z",
     "shell.execute_reply.started": "2021-07-24T17:40:23.383132Z"
    }
   },
   "outputs": [],
   "source": [
    "def city_population(data):\n",
    "    # Словарь с численностью населения городов\n",
    "    city_population_dict = {'Paris': 2161028, 'Stockholm': 975551, 'London': 8982256, 'Berlin': 3645123, 'Munich': 1472105, 'Oporto': 214349,\n",
    "       'Milan': 1352260, 'Bratislava': 424428, 'Vienna': 1897491, 'Rome': 2873494, 'Barcelona': 1622762, 'Madrid': 3223334,\n",
    "       'Dublin': 544107, 'Brussels': 174383, 'Zurich': 402762, 'Warsaw': 1764615, 'Budapest': 1756243, 'Copenhagen': 602481,\n",
    "       'Amsterdam': 821752, 'Lyon': 513275, 'Hamburg': 1841179, 'Lisbon': 504718, 'Prague': 1309032, 'Oslo': 634293,\n",
    "       'Helsinki': 631695, 'Edinburgh': 482005, 'Geneva': 198979, 'Ljubljana': 279631, 'Athens': 664046,\n",
    "       'Luxembourg': 613894, 'Krakow': 766683}\n",
    "    # Добавляем колонку с численностью населения в датафрейм\n",
    "    data['Population'] = data.City.map(city_population_dict)"
   ]
  },
  {
   "cell_type": "markdown",
   "metadata": {},
   "source": [
    "* 4.2 Признак \"Столица\""
   ]
  },
  {
   "cell_type": "code",
   "execution_count": 34,
   "metadata": {
    "execution": {
     "iopub.execute_input": "2021-07-24T17:40:23.397086Z",
     "iopub.status.busy": "2021-07-24T17:40:23.396335Z",
     "iopub.status.idle": "2021-07-24T17:40:23.414522Z",
     "shell.execute_reply": "2021-07-24T17:40:23.413382Z",
     "shell.execute_reply.started": "2021-07-24T17:40:23.397018Z"
    }
   },
   "outputs": [],
   "source": [
    "def capital(data):\n",
    "    # Словарь со справочником столиц\n",
    "    city_capital_dict = {'Paris': 1, 'Stockholm': 1, 'London': 1, 'Berlin': 1, 'Munich': 0, 'Oporto': 0,\n",
    "       'Milan': 0, 'Bratislava': 1, 'Vienna': 1, 'Rome': 1, 'Barcelona': 0, 'Madrid': 1,\n",
    "       'Dublin': 1, 'Brussels': 1, 'Zurich': 0, 'Warsaw': 1, 'Budapest': 1, 'Copenhagen': 1,\n",
    "       'Amsterdam': 1, 'Lyon': 0, 'Hamburg': 0, 'Lisbon': 1, 'Prague': 1, 'Oslo': 1,\n",
    "       'Helsinki': 1, 'Edinburgh': 1, 'Geneva': 0, 'Ljubljana': 1, 'Athens': 1,\n",
    "       'Luxembourg': 1, 'Krakow': 0}\n",
    "    # Добавляем колонку с признаком \"Столица\"\n",
    "    data['Capital'] = data.City.map(city_capital_dict)"
   ]
  },
  {
   "cell_type": "markdown",
   "metadata": {},
   "source": [
    "* 4.3 Положительные отзывы"
   ]
  },
  {
   "cell_type": "code",
   "execution_count": 35,
   "metadata": {
    "execution": {
     "iopub.execute_input": "2021-07-24T17:40:23.416799Z",
     "iopub.status.busy": "2021-07-24T17:40:23.416185Z",
     "iopub.status.idle": "2021-07-24T17:40:25.328276Z",
     "shell.execute_reply": "2021-07-24T17:40:25.327561Z",
     "shell.execute_reply.started": "2021-07-24T17:40:23.416738Z"
    }
   },
   "outputs": [],
   "source": [
    "good_words = ['good', 'nice', 'kind', 'beautiful', 'excellent', 'delicious', 'friendly',\n",
    "        'open', 'amazing', 'tasty', 'fantastic', 'perfect', 'lovely',\n",
    "        'super', 'awesome', 'wonderful', 'clean', 'pretty', 'interesting',\n",
    "        'yummy', 'best', 'favourite', 'careful', 'useful', 'brilliant',\n",
    "        'comfortable']\n",
    "\n",
    "data['words'] = data.Reviews.str.findall(r\"(\\w+)\")\n",
    "def good_reviews(review):\n",
    "    i = 0\n",
    "    for x in review:\n",
    "        for j in good_words:\n",
    "            if j == x.lower():\n",
    "                i += 1\n",
    "    return i\n",
    "data['reviews'] = data.words.dropna().apply(good_reviews)\n",
    "data.reviews.fillna(0, inplace=True)"
   ]
  },
  {
   "cell_type": "markdown",
   "metadata": {},
   "source": [
    "# Data Preprocessing"
   ]
  },
  {
   "cell_type": "markdown",
   "metadata": {},
   "source": [
    "Теперь, для удобства и воспроизводимости кода, завернем всю обработку в одну большую функцию."
   ]
  },
  {
   "cell_type": "code",
   "execution_count": 36,
   "metadata": {
    "execution": {
     "iopub.execute_input": "2021-07-24T17:40:25.329756Z",
     "iopub.status.busy": "2021-07-24T17:40:25.329456Z",
     "iopub.status.idle": "2021-07-24T17:40:25.665152Z",
     "shell.execute_reply": "2021-07-24T17:40:25.663883Z",
     "shell.execute_reply.started": "2021-07-24T17:40:25.329705Z"
    }
   },
   "outputs": [
    {
     "name": "stdout",
     "output_type": "stream",
     "text": [
      "<class 'pandas.core.frame.DataFrame'>\n",
      "RangeIndex: 50000 entries, 0 to 49999\n",
      "Data columns (total 11 columns):\n",
      "Restaurant_id        50000 non-null object\n",
      "City                 50000 non-null object\n",
      "Cuisine Style        38410 non-null object\n",
      "Ranking              50000 non-null float64\n",
      "Price Range          32639 non-null object\n",
      "Number of Reviews    46800 non-null float64\n",
      "Reviews              49998 non-null object\n",
      "URL_TA               50000 non-null object\n",
      "ID_TA                50000 non-null object\n",
      "sample               50000 non-null int64\n",
      "Rating               50000 non-null float64\n",
      "dtypes: float64(3), int64(1), object(7)\n",
      "memory usage: 4.2+ MB\n"
     ]
    }
   ],
   "source": [
    "# на всякий случай, заново подгружаем данные\n",
    "df_train = pd.read_csv(DATA_DIR+'/main_task.csv')\n",
    "df_test = pd.read_csv(DATA_DIR+'/kaggle_task.csv')\n",
    "df_train['sample'] = 1 # помечаем где у нас трейн\n",
    "df_test['sample'] = 0 # помечаем где у нас тест\n",
    "df_test['Rating'] = 0 # в тесте у нас нет значения Rating, мы его должны предсказать, по этому пока просто заполняем нулями\n",
    "\n",
    "data = df_test.append(df_train, sort=False).reset_index(drop=True) # объединяем\n",
    "data.info()"
   ]
  },
  {
   "cell_type": "code",
   "execution_count": 37,
   "metadata": {
    "execution": {
     "iopub.execute_input": "2021-07-24T17:40:25.667213Z",
     "iopub.status.busy": "2021-07-24T17:40:25.666839Z",
     "iopub.status.idle": "2021-07-24T17:40:25.675426Z",
     "shell.execute_reply": "2021-07-24T17:40:25.674587Z",
     "shell.execute_reply.started": "2021-07-24T17:40:25.667142Z"
    }
   },
   "outputs": [],
   "source": [
    "def preproc_data(df_input):\n",
    "    '''includes several functions to pre-process the predictor data.'''\n",
    "    \n",
    "    df_output = df_input.copy()\n",
    "    \n",
    "    # ################### 1. Предобработка ############################################################## \n",
    "    # убираем не нужные для модели признаки\n",
    "    df_output.drop(['Restaurant_id','ID_TA',], axis = 1, inplace=True)\n",
    "    \n",
    "    \n",
    "    # ################### 2. NAN ############################################################## \n",
    "    # Далее заполняем пропуски\n",
    "    fill_number_of_reviews(df_output) # количество отзывов\n",
    "    fill_price_range(df_output) # ценовая категория\n",
    "    fill_cuisine_style(df_output) # тип кухни    \n",
    "    fill_reviews(df_output) # отзывы\n",
    "    \n",
    "    # ################### 3. Encoding ############################################################## \n",
    "    en_price_range(df_output) # ценовая категория\n",
    "    en_city(df_output) # город\n",
    "    en_cuisine_style(df_output) # тип кухни (берём только топ-10)\n",
    "    \n",
    "    \n",
    "    # ################### 4. Feature Engineering ####################################################\n",
    "    city_population(df_output) # численноссть населения города\n",
    "    capital(df_output) # признак \"Столица\"\n",
    "    good_reviews(df_output) #Положительные отзывы\n",
    "    \n",
    "    # ################### 5. Clean #################################################### \n",
    "    # убираем признаки которые еще не успели обработать, \n",
    "    # модель на признаках с dtypes \"object\" обучаться не будет, просто выберим их и удалим\n",
    "    object_columns = [s for s in df_output.columns if df_output[s].dtypes == 'object']\n",
    "    df_output.drop(object_columns, axis = 1, inplace=True)\n",
    "    \n",
    "    return df_output"
   ]
  },
  {
   "cell_type": "markdown",
   "metadata": {},
   "source": [
    "По хорошему, можно было бы перевести эту большую функцию в класс и разбить на подфункции (согласно ООП)."
   ]
  },
  {
   "cell_type": "markdown",
   "metadata": {},
   "source": [
    "> Запускаем и проверяем что получилось"
   ]
  },
  {
   "cell_type": "code",
   "execution_count": 38,
   "metadata": {
    "execution": {
     "iopub.execute_input": "2021-07-24T17:40:25.677161Z",
     "iopub.status.busy": "2021-07-24T17:40:25.676896Z",
     "iopub.status.idle": "2021-07-24T17:40:26.460898Z",
     "shell.execute_reply": "2021-07-24T17:40:26.459860Z",
     "shell.execute_reply.started": "2021-07-24T17:40:25.677113Z"
    }
   },
   "outputs": [
    {
     "data": {
      "text/html": [
       "<div>\n",
       "<style scoped>\n",
       "    .dataframe tbody tr th:only-of-type {\n",
       "        vertical-align: middle;\n",
       "    }\n",
       "\n",
       "    .dataframe tbody tr th {\n",
       "        vertical-align: top;\n",
       "    }\n",
       "\n",
       "    .dataframe thead th {\n",
       "        text-align: right;\n",
       "    }\n",
       "</style>\n",
       "<table border=\"1\" class=\"dataframe\">\n",
       "  <thead>\n",
       "    <tr style=\"text-align: right;\">\n",
       "      <th></th>\n",
       "      <th>Ranking</th>\n",
       "      <th>Number of Reviews</th>\n",
       "      <th>sample</th>\n",
       "      <th>Rating</th>\n",
       "      <th>Number_of_Reviews_isNAN</th>\n",
       "      <th>Price_Range_isNAN</th>\n",
       "      <th>Cuisine_Style_isNAN</th>\n",
       "      <th>Reviews_isNaN</th>\n",
       "      <th>Price Range LE</th>\n",
       "      <th>'VegetarianFriendly'</th>\n",
       "      <th>...</th>\n",
       "      <th>'Mediterranean'</th>\n",
       "      <th>'Italian'</th>\n",
       "      <th>'VeganOptions'</th>\n",
       "      <th>'GlutenFreeOptions'</th>\n",
       "      <th>'Bar'</th>\n",
       "      <th>'French'</th>\n",
       "      <th>'Asian'</th>\n",
       "      <th>'Pizza'</th>\n",
       "      <th>Population</th>\n",
       "      <th>Capital</th>\n",
       "    </tr>\n",
       "  </thead>\n",
       "  <tbody>\n",
       "    <tr>\n",
       "      <th>46248</th>\n",
       "      <td>2292.0</td>\n",
       "      <td>7.0</td>\n",
       "      <td>1</td>\n",
       "      <td>4.0</td>\n",
       "      <td>0</td>\n",
       "      <td>0</td>\n",
       "      <td>0</td>\n",
       "      <td>0</td>\n",
       "      <td>0</td>\n",
       "      <td>0</td>\n",
       "      <td>...</td>\n",
       "      <td>0</td>\n",
       "      <td>0</td>\n",
       "      <td>0</td>\n",
       "      <td>0</td>\n",
       "      <td>0</td>\n",
       "      <td>0</td>\n",
       "      <td>0</td>\n",
       "      <td>0</td>\n",
       "      <td>174383</td>\n",
       "      <td>1</td>\n",
       "    </tr>\n",
       "    <tr>\n",
       "      <th>7209</th>\n",
       "      <td>220.0</td>\n",
       "      <td>313.0</td>\n",
       "      <td>0</td>\n",
       "      <td>0.0</td>\n",
       "      <td>0</td>\n",
       "      <td>0</td>\n",
       "      <td>0</td>\n",
       "      <td>0</td>\n",
       "      <td>1</td>\n",
       "      <td>0</td>\n",
       "      <td>...</td>\n",
       "      <td>0</td>\n",
       "      <td>1</td>\n",
       "      <td>0</td>\n",
       "      <td>1</td>\n",
       "      <td>0</td>\n",
       "      <td>0</td>\n",
       "      <td>0</td>\n",
       "      <td>0</td>\n",
       "      <td>1352260</td>\n",
       "      <td>0</td>\n",
       "    </tr>\n",
       "    <tr>\n",
       "      <th>2986</th>\n",
       "      <td>3644.0</td>\n",
       "      <td>4.0</td>\n",
       "      <td>0</td>\n",
       "      <td>0.0</td>\n",
       "      <td>0</td>\n",
       "      <td>0</td>\n",
       "      <td>0</td>\n",
       "      <td>0</td>\n",
       "      <td>0</td>\n",
       "      <td>0</td>\n",
       "      <td>...</td>\n",
       "      <td>1</td>\n",
       "      <td>0</td>\n",
       "      <td>0</td>\n",
       "      <td>0</td>\n",
       "      <td>0</td>\n",
       "      <td>0</td>\n",
       "      <td>0</td>\n",
       "      <td>0</td>\n",
       "      <td>1622762</td>\n",
       "      <td>0</td>\n",
       "    </tr>\n",
       "    <tr>\n",
       "      <th>5475</th>\n",
       "      <td>2457.0</td>\n",
       "      <td>59.0</td>\n",
       "      <td>0</td>\n",
       "      <td>0.0</td>\n",
       "      <td>0</td>\n",
       "      <td>0</td>\n",
       "      <td>0</td>\n",
       "      <td>0</td>\n",
       "      <td>1</td>\n",
       "      <td>0</td>\n",
       "      <td>...</td>\n",
       "      <td>0</td>\n",
       "      <td>0</td>\n",
       "      <td>0</td>\n",
       "      <td>0</td>\n",
       "      <td>0</td>\n",
       "      <td>1</td>\n",
       "      <td>0</td>\n",
       "      <td>0</td>\n",
       "      <td>2161028</td>\n",
       "      <td>1</td>\n",
       "    </tr>\n",
       "    <tr>\n",
       "      <th>29385</th>\n",
       "      <td>2723.0</td>\n",
       "      <td>78.0</td>\n",
       "      <td>1</td>\n",
       "      <td>2.0</td>\n",
       "      <td>1</td>\n",
       "      <td>1</td>\n",
       "      <td>1</td>\n",
       "      <td>1</td>\n",
       "      <td>1</td>\n",
       "      <td>0</td>\n",
       "      <td>...</td>\n",
       "      <td>0</td>\n",
       "      <td>0</td>\n",
       "      <td>0</td>\n",
       "      <td>0</td>\n",
       "      <td>0</td>\n",
       "      <td>0</td>\n",
       "      <td>0</td>\n",
       "      <td>0</td>\n",
       "      <td>1472105</td>\n",
       "      <td>0</td>\n",
       "    </tr>\n",
       "    <tr>\n",
       "      <th>699</th>\n",
       "      <td>1013.0</td>\n",
       "      <td>23.0</td>\n",
       "      <td>0</td>\n",
       "      <td>0.0</td>\n",
       "      <td>0</td>\n",
       "      <td>0</td>\n",
       "      <td>0</td>\n",
       "      <td>0</td>\n",
       "      <td>0</td>\n",
       "      <td>0</td>\n",
       "      <td>...</td>\n",
       "      <td>0</td>\n",
       "      <td>0</td>\n",
       "      <td>0</td>\n",
       "      <td>0</td>\n",
       "      <td>0</td>\n",
       "      <td>0</td>\n",
       "      <td>0</td>\n",
       "      <td>0</td>\n",
       "      <td>821752</td>\n",
       "      <td>1</td>\n",
       "    </tr>\n",
       "    <tr>\n",
       "      <th>35664</th>\n",
       "      <td>5863.0</td>\n",
       "      <td>2.0</td>\n",
       "      <td>1</td>\n",
       "      <td>4.0</td>\n",
       "      <td>0</td>\n",
       "      <td>1</td>\n",
       "      <td>1</td>\n",
       "      <td>1</td>\n",
       "      <td>1</td>\n",
       "      <td>0</td>\n",
       "      <td>...</td>\n",
       "      <td>0</td>\n",
       "      <td>0</td>\n",
       "      <td>0</td>\n",
       "      <td>0</td>\n",
       "      <td>0</td>\n",
       "      <td>0</td>\n",
       "      <td>0</td>\n",
       "      <td>0</td>\n",
       "      <td>3223334</td>\n",
       "      <td>1</td>\n",
       "    </tr>\n",
       "    <tr>\n",
       "      <th>12238</th>\n",
       "      <td>151.0</td>\n",
       "      <td>418.0</td>\n",
       "      <td>1</td>\n",
       "      <td>4.5</td>\n",
       "      <td>0</td>\n",
       "      <td>0</td>\n",
       "      <td>0</td>\n",
       "      <td>0</td>\n",
       "      <td>1</td>\n",
       "      <td>1</td>\n",
       "      <td>...</td>\n",
       "      <td>0</td>\n",
       "      <td>1</td>\n",
       "      <td>1</td>\n",
       "      <td>0</td>\n",
       "      <td>0</td>\n",
       "      <td>0</td>\n",
       "      <td>0</td>\n",
       "      <td>1</td>\n",
       "      <td>2161028</td>\n",
       "      <td>1</td>\n",
       "    </tr>\n",
       "    <tr>\n",
       "      <th>8370</th>\n",
       "      <td>1066.0</td>\n",
       "      <td>4.0</td>\n",
       "      <td>0</td>\n",
       "      <td>0.0</td>\n",
       "      <td>0</td>\n",
       "      <td>1</td>\n",
       "      <td>0</td>\n",
       "      <td>0</td>\n",
       "      <td>1</td>\n",
       "      <td>0</td>\n",
       "      <td>...</td>\n",
       "      <td>1</td>\n",
       "      <td>0</td>\n",
       "      <td>0</td>\n",
       "      <td>0</td>\n",
       "      <td>0</td>\n",
       "      <td>1</td>\n",
       "      <td>0</td>\n",
       "      <td>0</td>\n",
       "      <td>198979</td>\n",
       "      <td>0</td>\n",
       "    </tr>\n",
       "    <tr>\n",
       "      <th>32712</th>\n",
       "      <td>921.0</td>\n",
       "      <td>48.0</td>\n",
       "      <td>1</td>\n",
       "      <td>4.0</td>\n",
       "      <td>0</td>\n",
       "      <td>0</td>\n",
       "      <td>0</td>\n",
       "      <td>0</td>\n",
       "      <td>0</td>\n",
       "      <td>0</td>\n",
       "      <td>...</td>\n",
       "      <td>0</td>\n",
       "      <td>0</td>\n",
       "      <td>0</td>\n",
       "      <td>0</td>\n",
       "      <td>0</td>\n",
       "      <td>0</td>\n",
       "      <td>0</td>\n",
       "      <td>0</td>\n",
       "      <td>513275</td>\n",
       "      <td>0</td>\n",
       "    </tr>\n",
       "  </tbody>\n",
       "</table>\n",
       "<p>10 rows × 21 columns</p>\n",
       "</div>"
      ],
      "text/plain": [
       "       Ranking  Number of Reviews  sample  Rating  Number_of_Reviews_isNAN  \\\n",
       "46248   2292.0                7.0       1     4.0                        0   \n",
       "7209     220.0              313.0       0     0.0                        0   \n",
       "2986    3644.0                4.0       0     0.0                        0   \n",
       "5475    2457.0               59.0       0     0.0                        0   \n",
       "29385   2723.0               78.0       1     2.0                        1   \n",
       "699     1013.0               23.0       0     0.0                        0   \n",
       "35664   5863.0                2.0       1     4.0                        0   \n",
       "12238    151.0              418.0       1     4.5                        0   \n",
       "8370    1066.0                4.0       0     0.0                        0   \n",
       "32712    921.0               48.0       1     4.0                        0   \n",
       "\n",
       "       Price_Range_isNAN  Cuisine_Style_isNAN  Reviews_isNaN  Price Range LE  \\\n",
       "46248                  0                    0              0               0   \n",
       "7209                   0                    0              0               1   \n",
       "2986                   0                    0              0               0   \n",
       "5475                   0                    0              0               1   \n",
       "29385                  1                    1              1               1   \n",
       "699                    0                    0              0               0   \n",
       "35664                  1                    1              1               1   \n",
       "12238                  0                    0              0               1   \n",
       "8370                   1                    0              0               1   \n",
       "32712                  0                    0              0               0   \n",
       "\n",
       "       'VegetarianFriendly'  ...  'Mediterranean'  'Italian'  'VeganOptions'  \\\n",
       "46248                     0  ...                0          0               0   \n",
       "7209                      0  ...                0          1               0   \n",
       "2986                      0  ...                1          0               0   \n",
       "5475                      0  ...                0          0               0   \n",
       "29385                     0  ...                0          0               0   \n",
       "699                       0  ...                0          0               0   \n",
       "35664                     0  ...                0          0               0   \n",
       "12238                     1  ...                0          1               1   \n",
       "8370                      0  ...                1          0               0   \n",
       "32712                     0  ...                0          0               0   \n",
       "\n",
       "       'GlutenFreeOptions'  'Bar'  'French'  'Asian'  'Pizza'  Population  \\\n",
       "46248                    0      0         0        0        0      174383   \n",
       "7209                     1      0         0        0        0     1352260   \n",
       "2986                     0      0         0        0        0     1622762   \n",
       "5475                     0      0         1        0        0     2161028   \n",
       "29385                    0      0         0        0        0     1472105   \n",
       "699                      0      0         0        0        0      821752   \n",
       "35664                    0      0         0        0        0     3223334   \n",
       "12238                    0      0         0        0        1     2161028   \n",
       "8370                     0      0         1        0        0      198979   \n",
       "32712                    0      0         0        0        0      513275   \n",
       "\n",
       "       Capital  \n",
       "46248        1  \n",
       "7209         0  \n",
       "2986         0  \n",
       "5475         1  \n",
       "29385        0  \n",
       "699          1  \n",
       "35664        1  \n",
       "12238        1  \n",
       "8370         0  \n",
       "32712        0  \n",
       "\n",
       "[10 rows x 21 columns]"
      ]
     },
     "execution_count": 38,
     "metadata": {},
     "output_type": "execute_result"
    }
   ],
   "source": [
    "df_preproc = preproc_data(data)\n",
    "df_preproc.sample(10)"
   ]
  },
  {
   "cell_type": "code",
   "execution_count": 39,
   "metadata": {
    "execution": {
     "iopub.execute_input": "2021-07-24T17:40:26.462565Z",
     "iopub.status.busy": "2021-07-24T17:40:26.462257Z",
     "iopub.status.idle": "2021-07-24T17:40:26.502005Z",
     "shell.execute_reply": "2021-07-24T17:40:26.500930Z",
     "shell.execute_reply.started": "2021-07-24T17:40:26.462508Z"
    }
   },
   "outputs": [
    {
     "data": {
      "text/html": [
       "<div>\n",
       "<style scoped>\n",
       "    .dataframe tbody tr th:only-of-type {\n",
       "        vertical-align: middle;\n",
       "    }\n",
       "\n",
       "    .dataframe tbody tr th {\n",
       "        vertical-align: top;\n",
       "    }\n",
       "\n",
       "    .dataframe thead th {\n",
       "        text-align: right;\n",
       "    }\n",
       "</style>\n",
       "<table border=\"1\" class=\"dataframe\">\n",
       "  <thead>\n",
       "    <tr style=\"text-align: right;\">\n",
       "      <th></th>\n",
       "      <th>Ranking</th>\n",
       "      <th>Number of Reviews</th>\n",
       "      <th>sample</th>\n",
       "      <th>Rating</th>\n",
       "      <th>Number_of_Reviews_isNAN</th>\n",
       "      <th>Price_Range_isNAN</th>\n",
       "      <th>Cuisine_Style_isNAN</th>\n",
       "      <th>Reviews_isNaN</th>\n",
       "      <th>Price Range LE</th>\n",
       "      <th>'VegetarianFriendly'</th>\n",
       "      <th>...</th>\n",
       "      <th>'Mediterranean'</th>\n",
       "      <th>'Italian'</th>\n",
       "      <th>'VeganOptions'</th>\n",
       "      <th>'GlutenFreeOptions'</th>\n",
       "      <th>'Bar'</th>\n",
       "      <th>'French'</th>\n",
       "      <th>'Asian'</th>\n",
       "      <th>'Pizza'</th>\n",
       "      <th>Population</th>\n",
       "      <th>Capital</th>\n",
       "    </tr>\n",
       "  </thead>\n",
       "  <tbody>\n",
       "    <tr>\n",
       "      <th>0</th>\n",
       "      <td>12963.0</td>\n",
       "      <td>4.0</td>\n",
       "      <td>0</td>\n",
       "      <td>0.0</td>\n",
       "      <td>0</td>\n",
       "      <td>0</td>\n",
       "      <td>0</td>\n",
       "      <td>1</td>\n",
       "      <td>1</td>\n",
       "      <td>0</td>\n",
       "      <td>...</td>\n",
       "      <td>0</td>\n",
       "      <td>0</td>\n",
       "      <td>0</td>\n",
       "      <td>0</td>\n",
       "      <td>1</td>\n",
       "      <td>0</td>\n",
       "      <td>0</td>\n",
       "      <td>0</td>\n",
       "      <td>2161028</td>\n",
       "      <td>1</td>\n",
       "    </tr>\n",
       "    <tr>\n",
       "      <th>1</th>\n",
       "      <td>106.0</td>\n",
       "      <td>97.0</td>\n",
       "      <td>0</td>\n",
       "      <td>0.0</td>\n",
       "      <td>0</td>\n",
       "      <td>0</td>\n",
       "      <td>0</td>\n",
       "      <td>0</td>\n",
       "      <td>1</td>\n",
       "      <td>1</td>\n",
       "      <td>...</td>\n",
       "      <td>0</td>\n",
       "      <td>0</td>\n",
       "      <td>1</td>\n",
       "      <td>1</td>\n",
       "      <td>0</td>\n",
       "      <td>0</td>\n",
       "      <td>0</td>\n",
       "      <td>0</td>\n",
       "      <td>631695</td>\n",
       "      <td>1</td>\n",
       "    </tr>\n",
       "    <tr>\n",
       "      <th>2</th>\n",
       "      <td>810.0</td>\n",
       "      <td>28.0</td>\n",
       "      <td>0</td>\n",
       "      <td>0.0</td>\n",
       "      <td>0</td>\n",
       "      <td>0</td>\n",
       "      <td>0</td>\n",
       "      <td>0</td>\n",
       "      <td>1</td>\n",
       "      <td>1</td>\n",
       "      <td>...</td>\n",
       "      <td>0</td>\n",
       "      <td>0</td>\n",
       "      <td>0</td>\n",
       "      <td>0</td>\n",
       "      <td>0</td>\n",
       "      <td>0</td>\n",
       "      <td>0</td>\n",
       "      <td>0</td>\n",
       "      <td>482005</td>\n",
       "      <td>1</td>\n",
       "    </tr>\n",
       "    <tr>\n",
       "      <th>3</th>\n",
       "      <td>1669.0</td>\n",
       "      <td>202.0</td>\n",
       "      <td>0</td>\n",
       "      <td>0.0</td>\n",
       "      <td>0</td>\n",
       "      <td>0</td>\n",
       "      <td>0</td>\n",
       "      <td>0</td>\n",
       "      <td>2</td>\n",
       "      <td>1</td>\n",
       "      <td>...</td>\n",
       "      <td>1</td>\n",
       "      <td>1</td>\n",
       "      <td>0</td>\n",
       "      <td>1</td>\n",
       "      <td>0</td>\n",
       "      <td>0</td>\n",
       "      <td>0</td>\n",
       "      <td>0</td>\n",
       "      <td>8982256</td>\n",
       "      <td>1</td>\n",
       "    </tr>\n",
       "    <tr>\n",
       "      <th>4</th>\n",
       "      <td>37.0</td>\n",
       "      <td>162.0</td>\n",
       "      <td>0</td>\n",
       "      <td>0.0</td>\n",
       "      <td>0</td>\n",
       "      <td>0</td>\n",
       "      <td>0</td>\n",
       "      <td>0</td>\n",
       "      <td>2</td>\n",
       "      <td>1</td>\n",
       "      <td>...</td>\n",
       "      <td>1</td>\n",
       "      <td>1</td>\n",
       "      <td>0</td>\n",
       "      <td>1</td>\n",
       "      <td>0</td>\n",
       "      <td>0</td>\n",
       "      <td>0</td>\n",
       "      <td>0</td>\n",
       "      <td>424428</td>\n",
       "      <td>1</td>\n",
       "    </tr>\n",
       "    <tr>\n",
       "      <th>...</th>\n",
       "      <td>...</td>\n",
       "      <td>...</td>\n",
       "      <td>...</td>\n",
       "      <td>...</td>\n",
       "      <td>...</td>\n",
       "      <td>...</td>\n",
       "      <td>...</td>\n",
       "      <td>...</td>\n",
       "      <td>...</td>\n",
       "      <td>...</td>\n",
       "      <td>...</td>\n",
       "      <td>...</td>\n",
       "      <td>...</td>\n",
       "      <td>...</td>\n",
       "      <td>...</td>\n",
       "      <td>...</td>\n",
       "      <td>...</td>\n",
       "      <td>...</td>\n",
       "      <td>...</td>\n",
       "      <td>...</td>\n",
       "      <td>...</td>\n",
       "    </tr>\n",
       "    <tr>\n",
       "      <th>49995</th>\n",
       "      <td>500.0</td>\n",
       "      <td>79.0</td>\n",
       "      <td>1</td>\n",
       "      <td>4.5</td>\n",
       "      <td>0</td>\n",
       "      <td>0</td>\n",
       "      <td>0</td>\n",
       "      <td>0</td>\n",
       "      <td>1</td>\n",
       "      <td>1</td>\n",
       "      <td>...</td>\n",
       "      <td>0</td>\n",
       "      <td>1</td>\n",
       "      <td>1</td>\n",
       "      <td>1</td>\n",
       "      <td>0</td>\n",
       "      <td>0</td>\n",
       "      <td>0</td>\n",
       "      <td>0</td>\n",
       "      <td>1352260</td>\n",
       "      <td>0</td>\n",
       "    </tr>\n",
       "    <tr>\n",
       "      <th>49996</th>\n",
       "      <td>6341.0</td>\n",
       "      <td>542.0</td>\n",
       "      <td>1</td>\n",
       "      <td>3.5</td>\n",
       "      <td>0</td>\n",
       "      <td>0</td>\n",
       "      <td>0</td>\n",
       "      <td>0</td>\n",
       "      <td>1</td>\n",
       "      <td>1</td>\n",
       "      <td>...</td>\n",
       "      <td>0</td>\n",
       "      <td>0</td>\n",
       "      <td>0</td>\n",
       "      <td>0</td>\n",
       "      <td>1</td>\n",
       "      <td>1</td>\n",
       "      <td>0</td>\n",
       "      <td>0</td>\n",
       "      <td>2161028</td>\n",
       "      <td>1</td>\n",
       "    </tr>\n",
       "    <tr>\n",
       "      <th>49997</th>\n",
       "      <td>1652.0</td>\n",
       "      <td>4.0</td>\n",
       "      <td>1</td>\n",
       "      <td>4.5</td>\n",
       "      <td>0</td>\n",
       "      <td>1</td>\n",
       "      <td>0</td>\n",
       "      <td>0</td>\n",
       "      <td>1</td>\n",
       "      <td>0</td>\n",
       "      <td>...</td>\n",
       "      <td>0</td>\n",
       "      <td>0</td>\n",
       "      <td>0</td>\n",
       "      <td>0</td>\n",
       "      <td>0</td>\n",
       "      <td>0</td>\n",
       "      <td>0</td>\n",
       "      <td>0</td>\n",
       "      <td>975551</td>\n",
       "      <td>1</td>\n",
       "    </tr>\n",
       "    <tr>\n",
       "      <th>49998</th>\n",
       "      <td>641.0</td>\n",
       "      <td>70.0</td>\n",
       "      <td>1</td>\n",
       "      <td>4.0</td>\n",
       "      <td>0</td>\n",
       "      <td>0</td>\n",
       "      <td>0</td>\n",
       "      <td>0</td>\n",
       "      <td>1</td>\n",
       "      <td>1</td>\n",
       "      <td>...</td>\n",
       "      <td>0</td>\n",
       "      <td>0</td>\n",
       "      <td>0</td>\n",
       "      <td>0</td>\n",
       "      <td>0</td>\n",
       "      <td>0</td>\n",
       "      <td>0</td>\n",
       "      <td>0</td>\n",
       "      <td>1764615</td>\n",
       "      <td>1</td>\n",
       "    </tr>\n",
       "    <tr>\n",
       "      <th>49999</th>\n",
       "      <td>4827.0</td>\n",
       "      <td>260.0</td>\n",
       "      <td>1</td>\n",
       "      <td>3.0</td>\n",
       "      <td>0</td>\n",
       "      <td>0</td>\n",
       "      <td>0</td>\n",
       "      <td>0</td>\n",
       "      <td>1</td>\n",
       "      <td>0</td>\n",
       "      <td>...</td>\n",
       "      <td>0</td>\n",
       "      <td>0</td>\n",
       "      <td>0</td>\n",
       "      <td>0</td>\n",
       "      <td>0</td>\n",
       "      <td>0</td>\n",
       "      <td>0</td>\n",
       "      <td>0</td>\n",
       "      <td>1352260</td>\n",
       "      <td>0</td>\n",
       "    </tr>\n",
       "  </tbody>\n",
       "</table>\n",
       "<p>50000 rows × 21 columns</p>\n",
       "</div>"
      ],
      "text/plain": [
       "       Ranking  Number of Reviews  sample  Rating  Number_of_Reviews_isNAN  \\\n",
       "0      12963.0                4.0       0     0.0                        0   \n",
       "1        106.0               97.0       0     0.0                        0   \n",
       "2        810.0               28.0       0     0.0                        0   \n",
       "3       1669.0              202.0       0     0.0                        0   \n",
       "4         37.0              162.0       0     0.0                        0   \n",
       "...        ...                ...     ...     ...                      ...   \n",
       "49995    500.0               79.0       1     4.5                        0   \n",
       "49996   6341.0              542.0       1     3.5                        0   \n",
       "49997   1652.0                4.0       1     4.5                        0   \n",
       "49998    641.0               70.0       1     4.0                        0   \n",
       "49999   4827.0              260.0       1     3.0                        0   \n",
       "\n",
       "       Price_Range_isNAN  Cuisine_Style_isNAN  Reviews_isNaN  Price Range LE  \\\n",
       "0                      0                    0              1               1   \n",
       "1                      0                    0              0               1   \n",
       "2                      0                    0              0               1   \n",
       "3                      0                    0              0               2   \n",
       "4                      0                    0              0               2   \n",
       "...                  ...                  ...            ...             ...   \n",
       "49995                  0                    0              0               1   \n",
       "49996                  0                    0              0               1   \n",
       "49997                  1                    0              0               1   \n",
       "49998                  0                    0              0               1   \n",
       "49999                  0                    0              0               1   \n",
       "\n",
       "       'VegetarianFriendly'  ...  'Mediterranean'  'Italian'  'VeganOptions'  \\\n",
       "0                         0  ...                0          0               0   \n",
       "1                         1  ...                0          0               1   \n",
       "2                         1  ...                0          0               0   \n",
       "3                         1  ...                1          1               0   \n",
       "4                         1  ...                1          1               0   \n",
       "...                     ...  ...              ...        ...             ...   \n",
       "49995                     1  ...                0          1               1   \n",
       "49996                     1  ...                0          0               0   \n",
       "49997                     0  ...                0          0               0   \n",
       "49998                     1  ...                0          0               0   \n",
       "49999                     0  ...                0          0               0   \n",
       "\n",
       "       'GlutenFreeOptions'  'Bar'  'French'  'Asian'  'Pizza'  Population  \\\n",
       "0                        0      1         0        0        0     2161028   \n",
       "1                        1      0         0        0        0      631695   \n",
       "2                        0      0         0        0        0      482005   \n",
       "3                        1      0         0        0        0     8982256   \n",
       "4                        1      0         0        0        0      424428   \n",
       "...                    ...    ...       ...      ...      ...         ...   \n",
       "49995                    1      0         0        0        0     1352260   \n",
       "49996                    0      1         1        0        0     2161028   \n",
       "49997                    0      0         0        0        0      975551   \n",
       "49998                    0      0         0        0        0     1764615   \n",
       "49999                    0      0         0        0        0     1352260   \n",
       "\n",
       "       Capital  \n",
       "0            1  \n",
       "1            1  \n",
       "2            1  \n",
       "3            1  \n",
       "4            1  \n",
       "...        ...  \n",
       "49995        0  \n",
       "49996        1  \n",
       "49997        1  \n",
       "49998        1  \n",
       "49999        0  \n",
       "\n",
       "[50000 rows x 21 columns]"
      ]
     },
     "execution_count": 39,
     "metadata": {},
     "output_type": "execute_result"
    }
   ],
   "source": [
    "df_preproc"
   ]
  },
  {
   "cell_type": "code",
   "execution_count": 40,
   "metadata": {
    "execution": {
     "iopub.execute_input": "2021-07-24T17:40:26.503542Z",
     "iopub.status.busy": "2021-07-24T17:40:26.503253Z",
     "iopub.status.idle": "2021-07-24T17:40:26.526751Z",
     "shell.execute_reply": "2021-07-24T17:40:26.525927Z",
     "shell.execute_reply.started": "2021-07-24T17:40:26.503491Z"
    }
   },
   "outputs": [],
   "source": [
    "# Теперь выделим тестовую часть\n",
    "train_data = df_preproc.query('sample == 1').drop(['sample'], axis=1)\n",
    "test_data = df_preproc.query('sample == 0').drop(['sample'], axis=1)\n",
    "\n",
    "y = train_data.Rating.values            # наш таргет\n",
    "X = train_data.drop(['Rating'], axis=1)"
   ]
  },
  {
   "cell_type": "markdown",
   "metadata": {},
   "source": [
    "> Перед тем как отправлять наши данные на обучение, разделим данные на еще один тест и трейн, для валидации. Это поможет нам проверить, как хорошо наша модель работает, до отправки submissiona на kaggle."
   ]
  },
  {
   "cell_type": "code",
   "execution_count": 41,
   "metadata": {
    "execution": {
     "iopub.execute_input": "2021-07-24T17:40:26.528782Z",
     "iopub.status.busy": "2021-07-24T17:40:26.528330Z",
     "iopub.status.idle": "2021-07-24T17:40:26.541278Z",
     "shell.execute_reply": "2021-07-24T17:40:26.540316Z",
     "shell.execute_reply.started": "2021-07-24T17:40:26.528728Z"
    }
   },
   "outputs": [],
   "source": [
    "# Воспользуемся специальной функцие train_test_split для разбивки тестовых данных\n",
    "# выделим 20% данных на валидацию (параметр test_size)\n",
    "X_train, X_test, y_train, y_test = train_test_split(X, y, test_size=0.2, random_state=RANDOM_SEED)"
   ]
  },
  {
   "cell_type": "code",
   "execution_count": 42,
   "metadata": {
    "execution": {
     "iopub.execute_input": "2021-07-24T17:40:26.543367Z",
     "iopub.status.busy": "2021-07-24T17:40:26.542881Z",
     "iopub.status.idle": "2021-07-24T17:40:26.550821Z",
     "shell.execute_reply": "2021-07-24T17:40:26.549888Z",
     "shell.execute_reply.started": "2021-07-24T17:40:26.543161Z"
    }
   },
   "outputs": [
    {
     "data": {
      "text/plain": [
       "((10000, 20), (40000, 20), (40000, 19), (32000, 19), (8000, 19))"
      ]
     },
     "execution_count": 42,
     "metadata": {},
     "output_type": "execute_result"
    }
   ],
   "source": [
    "# проверяем\n",
    "test_data.shape, train_data.shape, X.shape, X_train.shape, X_test.shape"
   ]
  },
  {
   "cell_type": "code",
   "execution_count": 43,
   "metadata": {
    "execution": {
     "iopub.execute_input": "2021-07-24T17:40:26.552949Z",
     "iopub.status.busy": "2021-07-24T17:40:26.552378Z",
     "iopub.status.idle": "2021-07-24T17:40:26.571253Z",
     "shell.execute_reply": "2021-07-24T17:40:26.570261Z",
     "shell.execute_reply.started": "2021-07-24T17:40:26.552848Z"
    }
   },
   "outputs": [
    {
     "name": "stdout",
     "output_type": "stream",
     "text": [
      "<class 'pandas.core.frame.DataFrame'>\n",
      "Int64Index: 8000 entries, 42823 to 47682\n",
      "Data columns (total 19 columns):\n",
      "Ranking                    8000 non-null float64\n",
      "Number of Reviews          8000 non-null float64\n",
      "Number_of_Reviews_isNAN    8000 non-null uint8\n",
      "Price_Range_isNAN          8000 non-null uint8\n",
      "Cuisine_Style_isNAN        8000 non-null uint8\n",
      "Reviews_isNaN              8000 non-null int64\n",
      "Price Range LE             8000 non-null int64\n",
      "'VegetarianFriendly'       8000 non-null int64\n",
      "'European'                 8000 non-null int64\n",
      "'Mediterranean'            8000 non-null int64\n",
      "'Italian'                  8000 non-null int64\n",
      "'VeganOptions'             8000 non-null int64\n",
      "'GlutenFreeOptions'        8000 non-null int64\n",
      "'Bar'                      8000 non-null int64\n",
      "'French'                   8000 non-null int64\n",
      "'Asian'                    8000 non-null int64\n",
      "'Pizza'                    8000 non-null int64\n",
      "Population                 8000 non-null int64\n",
      "Capital                    8000 non-null int64\n",
      "dtypes: float64(2), int64(14), uint8(3)\n",
      "memory usage: 1.1 MB\n"
     ]
    }
   ],
   "source": [
    "X_test.info()"
   ]
  },
  {
   "cell_type": "markdown",
   "metadata": {},
   "source": [
    "# Model"
   ]
  },
  {
   "cell_type": "markdown",
   "metadata": {},
   "source": [
    "Сам ML"
   ]
  },
  {
   "cell_type": "code",
   "execution_count": 44,
   "metadata": {
    "execution": {
     "iopub.execute_input": "2021-07-24T17:40:26.572854Z",
     "iopub.status.busy": "2021-07-24T17:40:26.572606Z",
     "iopub.status.idle": "2021-07-24T17:40:26.577781Z",
     "shell.execute_reply": "2021-07-24T17:40:26.576926Z",
     "shell.execute_reply.started": "2021-07-24T17:40:26.572811Z"
    }
   },
   "outputs": [],
   "source": [
    "# Импортируем необходимые библиотеки:\n",
    "from sklearn.ensemble import RandomForestRegressor # инструмент для создания и обучения модели\n",
    "from sklearn import metrics # инструменты для оценки точности модели"
   ]
  },
  {
   "cell_type": "code",
   "execution_count": 45,
   "metadata": {
    "execution": {
     "iopub.execute_input": "2021-07-24T17:40:26.579724Z",
     "iopub.status.busy": "2021-07-24T17:40:26.579227Z",
     "iopub.status.idle": "2021-07-24T17:40:26.594159Z",
     "shell.execute_reply": "2021-07-24T17:40:26.593372Z",
     "shell.execute_reply.started": "2021-07-24T17:40:26.579533Z"
    }
   },
   "outputs": [],
   "source": [
    "# Создаём модель (НАСТРОЙКИ НЕ ТРОГАЕМ)\n",
    "model = RandomForestRegressor(n_estimators=100, verbose=1, n_jobs=-1, random_state=RANDOM_SEED)"
   ]
  },
  {
   "cell_type": "code",
   "execution_count": 46,
   "metadata": {
    "execution": {
     "iopub.execute_input": "2021-07-24T17:40:26.595668Z",
     "iopub.status.busy": "2021-07-24T17:40:26.595284Z",
     "iopub.status.idle": "2021-07-24T17:40:30.974765Z",
     "shell.execute_reply": "2021-07-24T17:40:30.973664Z",
     "shell.execute_reply.started": "2021-07-24T17:40:26.595629Z"
    }
   },
   "outputs": [
    {
     "name": "stderr",
     "output_type": "stream",
     "text": [
      "[Parallel(n_jobs=-1)]: Using backend ThreadingBackend with 4 concurrent workers.\n",
      "[Parallel(n_jobs=-1)]: Done  42 tasks      | elapsed:    1.9s\n",
      "[Parallel(n_jobs=-1)]: Done 100 out of 100 | elapsed:    4.3s finished\n",
      "[Parallel(n_jobs=4)]: Using backend ThreadingBackend with 4 concurrent workers.\n",
      "[Parallel(n_jobs=4)]: Done  42 tasks      | elapsed:    0.0s\n",
      "[Parallel(n_jobs=4)]: Done 100 out of 100 | elapsed:    0.1s finished\n"
     ]
    }
   ],
   "source": [
    "# Обучаем модель на тестовом наборе данных\n",
    "model.fit(X_train, y_train)\n",
    "\n",
    "# Используем обученную модель для предсказания рейтинга ресторанов в тестовой выборке.\n",
    "# Предсказанные значения записываем в переменную y_pred\n",
    "y_pred = model.predict(X_test)\n",
    "y_pred = np.round(y_pred * 2) / 2"
   ]
  },
  {
   "cell_type": "code",
   "execution_count": 47,
   "metadata": {
    "execution": {
     "iopub.execute_input": "2021-07-24T17:40:30.976351Z",
     "iopub.status.busy": "2021-07-24T17:40:30.976099Z",
     "iopub.status.idle": "2021-07-24T17:40:30.982054Z",
     "shell.execute_reply": "2021-07-24T17:40:30.980804Z",
     "shell.execute_reply.started": "2021-07-24T17:40:30.976316Z"
    }
   },
   "outputs": [
    {
     "name": "stdout",
     "output_type": "stream",
     "text": [
      "MAE: 0.18175\n"
     ]
    }
   ],
   "source": [
    "# Сравниваем предсказанные значения (y_pred) с реальными (y_test), и смотрим насколько они в среднем отличаются\n",
    "# Метрика называется Mean Absolute Error (MAE) и показывает среднее отклонение предсказанных значений от фактических.\n",
    "print('MAE:', metrics.mean_absolute_error(y_test, y_pred))"
   ]
  },
  {
   "cell_type": "code",
   "execution_count": 48,
   "metadata": {
    "execution": {
     "iopub.execute_input": "2021-07-24T17:40:30.984245Z",
     "iopub.status.busy": "2021-07-24T17:40:30.983887Z",
     "iopub.status.idle": "2021-07-24T17:40:31.430432Z",
     "shell.execute_reply": "2021-07-24T17:40:31.429341Z",
     "shell.execute_reply.started": "2021-07-24T17:40:30.984180Z"
    }
   },
   "outputs": [
    {
     "data": {
      "text/plain": [
       "<matplotlib.axes._subplots.AxesSubplot at 0x7f366d3ba6a0>"
      ]
     },
     "execution_count": 48,
     "metadata": {},
     "output_type": "execute_result"
    },
    {
     "data": {
      "image/png": "[encoded data removed]",
      "text/plain": [
       "<Figure size 720x720 with 1 Axes>"
      ]
     },
     "metadata": {
      "needs_background": "light"
     },
     "output_type": "display_data"
    }
   ],
   "source": [
    "# в RandomForestRegressor есть возможность вывести самые важные признаки для модели\n",
    "plt.rcParams['figure.figsize'] = (10,10)\n",
    "feat_importances = pd.Series(model.feature_importances_, index=X.columns)\n",
    "feat_importances.nlargest(15).plot(kind='barh')"
   ]
  },
  {
   "cell_type": "markdown",
   "metadata": {},
   "source": [
    "# Submission\n",
    "\n",
    "Если все устраевает - готовим Submission на кагл"
   ]
  },
  {
   "cell_type": "code",
   "execution_count": 49,
   "metadata": {
    "execution": {
     "iopub.execute_input": "2021-07-24T17:40:31.432512Z",
     "iopub.status.busy": "2021-07-24T17:40:31.432147Z",
     "iopub.status.idle": "2021-07-24T17:40:31.459203Z",
     "shell.execute_reply": "2021-07-24T17:40:31.458328Z",
     "shell.execute_reply.started": "2021-07-24T17:40:31.432445Z"
    }
   },
   "outputs": [
    {
     "data": {
      "text/html": [
       "<div>\n",
       "<style scoped>\n",
       "    .dataframe tbody tr th:only-of-type {\n",
       "        vertical-align: middle;\n",
       "    }\n",
       "\n",
       "    .dataframe tbody tr th {\n",
       "        vertical-align: top;\n",
       "    }\n",
       "\n",
       "    .dataframe thead th {\n",
       "        text-align: right;\n",
       "    }\n",
       "</style>\n",
       "<table border=\"1\" class=\"dataframe\">\n",
       "  <thead>\n",
       "    <tr style=\"text-align: right;\">\n",
       "      <th></th>\n",
       "      <th>Ranking</th>\n",
       "      <th>Number of Reviews</th>\n",
       "      <th>Rating</th>\n",
       "      <th>Number_of_Reviews_isNAN</th>\n",
       "      <th>Price_Range_isNAN</th>\n",
       "      <th>Cuisine_Style_isNAN</th>\n",
       "      <th>Reviews_isNaN</th>\n",
       "      <th>Price Range LE</th>\n",
       "      <th>'VegetarianFriendly'</th>\n",
       "      <th>'European'</th>\n",
       "      <th>'Mediterranean'</th>\n",
       "      <th>'Italian'</th>\n",
       "      <th>'VeganOptions'</th>\n",
       "      <th>'GlutenFreeOptions'</th>\n",
       "      <th>'Bar'</th>\n",
       "      <th>'French'</th>\n",
       "      <th>'Asian'</th>\n",
       "      <th>'Pizza'</th>\n",
       "      <th>Population</th>\n",
       "      <th>Capital</th>\n",
       "    </tr>\n",
       "  </thead>\n",
       "  <tbody>\n",
       "    <tr>\n",
       "      <th>2026</th>\n",
       "      <td>98.0</td>\n",
       "      <td>637.0</td>\n",
       "      <td>0.0</td>\n",
       "      <td>0</td>\n",
       "      <td>0</td>\n",
       "      <td>0</td>\n",
       "      <td>0</td>\n",
       "      <td>1</td>\n",
       "      <td>1</td>\n",
       "      <td>0</td>\n",
       "      <td>0</td>\n",
       "      <td>0</td>\n",
       "      <td>1</td>\n",
       "      <td>1</td>\n",
       "      <td>0</td>\n",
       "      <td>0</td>\n",
       "      <td>0</td>\n",
       "      <td>0</td>\n",
       "      <td>821752</td>\n",
       "      <td>1</td>\n",
       "    </tr>\n",
       "    <tr>\n",
       "      <th>2027</th>\n",
       "      <td>7403.0</td>\n",
       "      <td>20.0</td>\n",
       "      <td>0.0</td>\n",
       "      <td>0</td>\n",
       "      <td>1</td>\n",
       "      <td>1</td>\n",
       "      <td>1</td>\n",
       "      <td>1</td>\n",
       "      <td>0</td>\n",
       "      <td>0</td>\n",
       "      <td>0</td>\n",
       "      <td>0</td>\n",
       "      <td>0</td>\n",
       "      <td>0</td>\n",
       "      <td>0</td>\n",
       "      <td>0</td>\n",
       "      <td>0</td>\n",
       "      <td>0</td>\n",
       "      <td>1622762</td>\n",
       "      <td>0</td>\n",
       "    </tr>\n",
       "    <tr>\n",
       "      <th>9459</th>\n",
       "      <td>403.0</td>\n",
       "      <td>48.0</td>\n",
       "      <td>0.0</td>\n",
       "      <td>0</td>\n",
       "      <td>0</td>\n",
       "      <td>0</td>\n",
       "      <td>0</td>\n",
       "      <td>1</td>\n",
       "      <td>1</td>\n",
       "      <td>1</td>\n",
       "      <td>0</td>\n",
       "      <td>1</td>\n",
       "      <td>0</td>\n",
       "      <td>0</td>\n",
       "      <td>0</td>\n",
       "      <td>0</td>\n",
       "      <td>0</td>\n",
       "      <td>1</td>\n",
       "      <td>975551</td>\n",
       "      <td>1</td>\n",
       "    </tr>\n",
       "    <tr>\n",
       "      <th>2954</th>\n",
       "      <td>15164.0</td>\n",
       "      <td>6.0</td>\n",
       "      <td>0.0</td>\n",
       "      <td>0</td>\n",
       "      <td>0</td>\n",
       "      <td>0</td>\n",
       "      <td>0</td>\n",
       "      <td>0</td>\n",
       "      <td>0</td>\n",
       "      <td>0</td>\n",
       "      <td>0</td>\n",
       "      <td>0</td>\n",
       "      <td>0</td>\n",
       "      <td>0</td>\n",
       "      <td>0</td>\n",
       "      <td>0</td>\n",
       "      <td>0</td>\n",
       "      <td>0</td>\n",
       "      <td>8982256</td>\n",
       "      <td>1</td>\n",
       "    </tr>\n",
       "    <tr>\n",
       "      <th>2139</th>\n",
       "      <td>656.0</td>\n",
       "      <td>19.0</td>\n",
       "      <td>0.0</td>\n",
       "      <td>0</td>\n",
       "      <td>0</td>\n",
       "      <td>0</td>\n",
       "      <td>0</td>\n",
       "      <td>0</td>\n",
       "      <td>0</td>\n",
       "      <td>1</td>\n",
       "      <td>0</td>\n",
       "      <td>0</td>\n",
       "      <td>0</td>\n",
       "      <td>0</td>\n",
       "      <td>0</td>\n",
       "      <td>0</td>\n",
       "      <td>0</td>\n",
       "      <td>0</td>\n",
       "      <td>214349</td>\n",
       "      <td>0</td>\n",
       "    </tr>\n",
       "    <tr>\n",
       "      <th>2613</th>\n",
       "      <td>335.0</td>\n",
       "      <td>311.0</td>\n",
       "      <td>0.0</td>\n",
       "      <td>0</td>\n",
       "      <td>0</td>\n",
       "      <td>0</td>\n",
       "      <td>0</td>\n",
       "      <td>1</td>\n",
       "      <td>1</td>\n",
       "      <td>1</td>\n",
       "      <td>0</td>\n",
       "      <td>0</td>\n",
       "      <td>1</td>\n",
       "      <td>1</td>\n",
       "      <td>0</td>\n",
       "      <td>0</td>\n",
       "      <td>0</td>\n",
       "      <td>0</td>\n",
       "      <td>544107</td>\n",
       "      <td>1</td>\n",
       "    </tr>\n",
       "    <tr>\n",
       "      <th>398</th>\n",
       "      <td>140.0</td>\n",
       "      <td>533.0</td>\n",
       "      <td>0.0</td>\n",
       "      <td>0</td>\n",
       "      <td>0</td>\n",
       "      <td>0</td>\n",
       "      <td>0</td>\n",
       "      <td>1</td>\n",
       "      <td>1</td>\n",
       "      <td>1</td>\n",
       "      <td>0</td>\n",
       "      <td>1</td>\n",
       "      <td>1</td>\n",
       "      <td>0</td>\n",
       "      <td>0</td>\n",
       "      <td>0</td>\n",
       "      <td>0</td>\n",
       "      <td>1</td>\n",
       "      <td>504718</td>\n",
       "      <td>1</td>\n",
       "    </tr>\n",
       "    <tr>\n",
       "      <th>3987</th>\n",
       "      <td>1965.0</td>\n",
       "      <td>21.0</td>\n",
       "      <td>0.0</td>\n",
       "      <td>0</td>\n",
       "      <td>0</td>\n",
       "      <td>0</td>\n",
       "      <td>0</td>\n",
       "      <td>0</td>\n",
       "      <td>0</td>\n",
       "      <td>0</td>\n",
       "      <td>0</td>\n",
       "      <td>0</td>\n",
       "      <td>0</td>\n",
       "      <td>0</td>\n",
       "      <td>0</td>\n",
       "      <td>0</td>\n",
       "      <td>0</td>\n",
       "      <td>0</td>\n",
       "      <td>1472105</td>\n",
       "      <td>0</td>\n",
       "    </tr>\n",
       "    <tr>\n",
       "      <th>6393</th>\n",
       "      <td>4800.0</td>\n",
       "      <td>115.0</td>\n",
       "      <td>0.0</td>\n",
       "      <td>0</td>\n",
       "      <td>0</td>\n",
       "      <td>0</td>\n",
       "      <td>0</td>\n",
       "      <td>1</td>\n",
       "      <td>1</td>\n",
       "      <td>0</td>\n",
       "      <td>1</td>\n",
       "      <td>0</td>\n",
       "      <td>0</td>\n",
       "      <td>1</td>\n",
       "      <td>0</td>\n",
       "      <td>0</td>\n",
       "      <td>0</td>\n",
       "      <td>0</td>\n",
       "      <td>8982256</td>\n",
       "      <td>1</td>\n",
       "    </tr>\n",
       "    <tr>\n",
       "      <th>2343</th>\n",
       "      <td>1261.0</td>\n",
       "      <td>46.0</td>\n",
       "      <td>0.0</td>\n",
       "      <td>0</td>\n",
       "      <td>0</td>\n",
       "      <td>0</td>\n",
       "      <td>0</td>\n",
       "      <td>0</td>\n",
       "      <td>0</td>\n",
       "      <td>1</td>\n",
       "      <td>0</td>\n",
       "      <td>0</td>\n",
       "      <td>0</td>\n",
       "      <td>0</td>\n",
       "      <td>1</td>\n",
       "      <td>0</td>\n",
       "      <td>0</td>\n",
       "      <td>0</td>\n",
       "      <td>821752</td>\n",
       "      <td>1</td>\n",
       "    </tr>\n",
       "  </tbody>\n",
       "</table>\n",
       "</div>"
      ],
      "text/plain": [
       "      Ranking  Number of Reviews  Rating  Number_of_Reviews_isNAN  \\\n",
       "2026     98.0              637.0     0.0                        0   \n",
       "2027   7403.0               20.0     0.0                        0   \n",
       "9459    403.0               48.0     0.0                        0   \n",
       "2954  15164.0                6.0     0.0                        0   \n",
       "2139    656.0               19.0     0.0                        0   \n",
       "2613    335.0              311.0     0.0                        0   \n",
       "398     140.0              533.0     0.0                        0   \n",
       "3987   1965.0               21.0     0.0                        0   \n",
       "6393   4800.0              115.0     0.0                        0   \n",
       "2343   1261.0               46.0     0.0                        0   \n",
       "\n",
       "      Price_Range_isNAN  Cuisine_Style_isNAN  Reviews_isNaN  Price Range LE  \\\n",
       "2026                  0                    0              0               1   \n",
       "2027                  1                    1              1               1   \n",
       "9459                  0                    0              0               1   \n",
       "2954                  0                    0              0               0   \n",
       "2139                  0                    0              0               0   \n",
       "2613                  0                    0              0               1   \n",
       "398                   0                    0              0               1   \n",
       "3987                  0                    0              0               0   \n",
       "6393                  0                    0              0               1   \n",
       "2343                  0                    0              0               0   \n",
       "\n",
       "      'VegetarianFriendly'  'European'  'Mediterranean'  'Italian'  \\\n",
       "2026                     1           0                0          0   \n",
       "2027                     0           0                0          0   \n",
       "9459                     1           1                0          1   \n",
       "2954                     0           0                0          0   \n",
       "2139                     0           1                0          0   \n",
       "2613                     1           1                0          0   \n",
       "398                      1           1                0          1   \n",
       "3987                     0           0                0          0   \n",
       "6393                     1           0                1          0   \n",
       "2343                     0           1                0          0   \n",
       "\n",
       "      'VeganOptions'  'GlutenFreeOptions'  'Bar'  'French'  'Asian'  'Pizza'  \\\n",
       "2026               1                    1      0         0        0        0   \n",
       "2027               0                    0      0         0        0        0   \n",
       "9459               0                    0      0         0        0        1   \n",
       "2954               0                    0      0         0        0        0   \n",
       "2139               0                    0      0         0        0        0   \n",
       "2613               1                    1      0         0        0        0   \n",
       "398                1                    0      0         0        0        1   \n",
       "3987               0                    0      0         0        0        0   \n",
       "6393               0                    1      0         0        0        0   \n",
       "2343               0                    0      1         0        0        0   \n",
       "\n",
       "      Population  Capital  \n",
       "2026      821752        1  \n",
       "2027     1622762        0  \n",
       "9459      975551        1  \n",
       "2954     8982256        1  \n",
       "2139      214349        0  \n",
       "2613      544107        1  \n",
       "398       504718        1  \n",
       "3987     1472105        0  \n",
       "6393     8982256        1  \n",
       "2343      821752        1  "
      ]
     },
     "execution_count": 49,
     "metadata": {},
     "output_type": "execute_result"
    }
   ],
   "source": [
    "test_data.sample(10)"
   ]
  },
  {
   "cell_type": "code",
   "execution_count": 50,
   "metadata": {
    "execution": {
     "iopub.execute_input": "2021-07-24T17:40:31.460846Z",
     "iopub.status.busy": "2021-07-24T17:40:31.460494Z",
     "iopub.status.idle": "2021-07-24T17:40:31.467322Z",
     "shell.execute_reply": "2021-07-24T17:40:31.466123Z",
     "shell.execute_reply.started": "2021-07-24T17:40:31.460697Z"
    }
   },
   "outputs": [],
   "source": [
    "test_data = test_data.drop(['Rating'], axis=1)"
   ]
  },
  {
   "cell_type": "code",
   "execution_count": 51,
   "metadata": {
    "execution": {
     "iopub.execute_input": "2021-07-24T17:40:31.470916Z",
     "iopub.status.busy": "2021-07-24T17:40:31.470647Z",
     "iopub.status.idle": "2021-07-24T17:40:31.489075Z",
     "shell.execute_reply": "2021-07-24T17:40:31.488131Z",
     "shell.execute_reply.started": "2021-07-24T17:40:31.470867Z"
    }
   },
   "outputs": [
    {
     "data": {
      "text/html": [
       "<div>\n",
       "<style scoped>\n",
       "    .dataframe tbody tr th:only-of-type {\n",
       "        vertical-align: middle;\n",
       "    }\n",
       "\n",
       "    .dataframe tbody tr th {\n",
       "        vertical-align: top;\n",
       "    }\n",
       "\n",
       "    .dataframe thead th {\n",
       "        text-align: right;\n",
       "    }\n",
       "</style>\n",
       "<table border=\"1\" class=\"dataframe\">\n",
       "  <thead>\n",
       "    <tr style=\"text-align: right;\">\n",
       "      <th></th>\n",
       "      <th>Restaurant_id</th>\n",
       "      <th>Rating</th>\n",
       "    </tr>\n",
       "  </thead>\n",
       "  <tbody>\n",
       "    <tr>\n",
       "      <th>0</th>\n",
       "      <td>id_0</td>\n",
       "      <td>2.0</td>\n",
       "    </tr>\n",
       "    <tr>\n",
       "      <th>1</th>\n",
       "      <td>id_1</td>\n",
       "      <td>2.5</td>\n",
       "    </tr>\n",
       "    <tr>\n",
       "      <th>2</th>\n",
       "      <td>id_2</td>\n",
       "      <td>4.0</td>\n",
       "    </tr>\n",
       "    <tr>\n",
       "      <th>3</th>\n",
       "      <td>id_3</td>\n",
       "      <td>1.0</td>\n",
       "    </tr>\n",
       "    <tr>\n",
       "      <th>4</th>\n",
       "      <td>id_4</td>\n",
       "      <td>4.0</td>\n",
       "    </tr>\n",
       "    <tr>\n",
       "      <th>...</th>\n",
       "      <td>...</td>\n",
       "      <td>...</td>\n",
       "    </tr>\n",
       "    <tr>\n",
       "      <th>9995</th>\n",
       "      <td>id_9995</td>\n",
       "      <td>3.0</td>\n",
       "    </tr>\n",
       "    <tr>\n",
       "      <th>9996</th>\n",
       "      <td>id_9996</td>\n",
       "      <td>1.5</td>\n",
       "    </tr>\n",
       "    <tr>\n",
       "      <th>9997</th>\n",
       "      <td>id_9997</td>\n",
       "      <td>4.5</td>\n",
       "    </tr>\n",
       "    <tr>\n",
       "      <th>9998</th>\n",
       "      <td>id_9998</td>\n",
       "      <td>1.0</td>\n",
       "    </tr>\n",
       "    <tr>\n",
       "      <th>9999</th>\n",
       "      <td>id_9999</td>\n",
       "      <td>2.5</td>\n",
       "    </tr>\n",
       "  </tbody>\n",
       "</table>\n",
       "<p>10000 rows × 2 columns</p>\n",
       "</div>"
      ],
      "text/plain": [
       "     Restaurant_id  Rating\n",
       "0             id_0     2.0\n",
       "1             id_1     2.5\n",
       "2             id_2     4.0\n",
       "3             id_3     1.0\n",
       "4             id_4     4.0\n",
       "...            ...     ...\n",
       "9995       id_9995     3.0\n",
       "9996       id_9996     1.5\n",
       "9997       id_9997     4.5\n",
       "9998       id_9998     1.0\n",
       "9999       id_9999     2.5\n",
       "\n",
       "[10000 rows x 2 columns]"
      ]
     },
     "execution_count": 51,
     "metadata": {},
     "output_type": "execute_result"
    }
   ],
   "source": [
    "sample_submission"
   ]
  },
  {
   "cell_type": "code",
   "execution_count": 52,
   "metadata": {
    "execution": {
     "iopub.execute_input": "2021-07-24T17:40:31.491342Z",
     "iopub.status.busy": "2021-07-24T17:40:31.490847Z",
     "iopub.status.idle": "2021-07-24T17:40:31.601403Z",
     "shell.execute_reply": "2021-07-24T17:40:31.600606Z",
     "shell.execute_reply.started": "2021-07-24T17:40:31.491275Z"
    }
   },
   "outputs": [
    {
     "name": "stderr",
     "output_type": "stream",
     "text": [
      "[Parallel(n_jobs=4)]: Using backend ThreadingBackend with 4 concurrent workers.\n",
      "[Parallel(n_jobs=4)]: Done  42 tasks      | elapsed:    0.0s\n",
      "[Parallel(n_jobs=4)]: Done 100 out of 100 | elapsed:    0.1s finished\n"
     ]
    }
   ],
   "source": [
    "predict_submission = model.predict(test_data)"
   ]
  },
  {
   "cell_type": "code",
   "execution_count": 53,
   "metadata": {
    "execution": {
     "iopub.execute_input": "2021-07-24T17:40:31.602751Z",
     "iopub.status.busy": "2021-07-24T17:40:31.602437Z",
     "iopub.status.idle": "2021-07-24T17:40:31.670968Z",
     "shell.execute_reply": "2021-07-24T17:40:31.670146Z",
     "shell.execute_reply.started": "2021-07-24T17:40:31.602707Z"
    }
   },
   "outputs": [],
   "source": [
    "for i in range(predict_submission.size):\n",
    "        predict_submission[i]=np.round(predict_submission[i] * 2) / 2"
   ]
  },
  {
   "cell_type": "code",
   "execution_count": 54,
   "metadata": {
    "execution": {
     "iopub.execute_input": "2021-07-24T17:40:31.672286Z",
     "iopub.status.busy": "2021-07-24T17:40:31.671944Z",
     "iopub.status.idle": "2021-07-24T17:40:31.677031Z",
     "shell.execute_reply": "2021-07-24T17:40:31.676410Z",
     "shell.execute_reply.started": "2021-07-24T17:40:31.672249Z"
    }
   },
   "outputs": [
    {
     "data": {
      "text/plain": [
       "array([3. , 4.5, 4.5, ..., 3. , 4.5, 4.5])"
      ]
     },
     "execution_count": 54,
     "metadata": {},
     "output_type": "execute_result"
    }
   ],
   "source": [
    "predict_submission"
   ]
  },
  {
   "cell_type": "code",
   "execution_count": 55,
   "metadata": {
    "execution": {
     "iopub.execute_input": "2021-07-24T17:40:31.678253Z",
     "iopub.status.busy": "2021-07-24T17:40:31.677933Z",
     "iopub.status.idle": "2021-07-24T17:40:31.695360Z",
     "shell.execute_reply": "2021-07-24T17:40:31.694645Z",
     "shell.execute_reply.started": "2021-07-24T17:40:31.678218Z"
    }
   },
   "outputs": [
    {
     "name": "stdout",
     "output_type": "stream",
     "text": [
      "<class 'pandas.core.frame.DataFrame'>\n",
      "RangeIndex: 10000 entries, 0 to 9999\n",
      "Data columns (total 2 columns):\n",
      "Restaurant_id    10000 non-null object\n",
      "Rating           10000 non-null float64\n",
      "dtypes: float64(1), object(1)\n",
      "memory usage: 156.4+ KB\n"
     ]
    }
   ],
   "source": [
    "sample_submission.info()"
   ]
  },
  {
   "cell_type": "code",
   "execution_count": 56,
   "metadata": {
    "execution": {
     "iopub.execute_input": "2021-07-24T17:40:31.696971Z",
     "iopub.status.busy": "2021-07-24T17:40:31.696455Z",
     "iopub.status.idle": "2021-07-24T17:40:31.733996Z",
     "shell.execute_reply": "2021-07-24T17:40:31.733087Z",
     "shell.execute_reply.started": "2021-07-24T17:40:31.696916Z"
    }
   },
   "outputs": [
    {
     "data": {
      "text/html": [
       "<div>\n",
       "<style scoped>\n",
       "    .dataframe tbody tr th:only-of-type {\n",
       "        vertical-align: middle;\n",
       "    }\n",
       "\n",
       "    .dataframe tbody tr th {\n",
       "        vertical-align: top;\n",
       "    }\n",
       "\n",
       "    .dataframe thead th {\n",
       "        text-align: right;\n",
       "    }\n",
       "</style>\n",
       "<table border=\"1\" class=\"dataframe\">\n",
       "  <thead>\n",
       "    <tr style=\"text-align: right;\">\n",
       "      <th></th>\n",
       "      <th>Restaurant_id</th>\n",
       "      <th>Rating</th>\n",
       "    </tr>\n",
       "  </thead>\n",
       "  <tbody>\n",
       "    <tr>\n",
       "      <th>0</th>\n",
       "      <td>id_0</td>\n",
       "      <td>3.0</td>\n",
       "    </tr>\n",
       "    <tr>\n",
       "      <th>1</th>\n",
       "      <td>id_1</td>\n",
       "      <td>4.5</td>\n",
       "    </tr>\n",
       "    <tr>\n",
       "      <th>2</th>\n",
       "      <td>id_2</td>\n",
       "      <td>4.5</td>\n",
       "    </tr>\n",
       "    <tr>\n",
       "      <th>3</th>\n",
       "      <td>id_3</td>\n",
       "      <td>4.5</td>\n",
       "    </tr>\n",
       "    <tr>\n",
       "      <th>4</th>\n",
       "      <td>id_4</td>\n",
       "      <td>4.5</td>\n",
       "    </tr>\n",
       "    <tr>\n",
       "      <th>5</th>\n",
       "      <td>id_5</td>\n",
       "      <td>4.5</td>\n",
       "    </tr>\n",
       "    <tr>\n",
       "      <th>6</th>\n",
       "      <td>id_6</td>\n",
       "      <td>2.0</td>\n",
       "    </tr>\n",
       "    <tr>\n",
       "      <th>7</th>\n",
       "      <td>id_7</td>\n",
       "      <td>3.0</td>\n",
       "    </tr>\n",
       "    <tr>\n",
       "      <th>8</th>\n",
       "      <td>id_8</td>\n",
       "      <td>4.0</td>\n",
       "    </tr>\n",
       "    <tr>\n",
       "      <th>9</th>\n",
       "      <td>id_9</td>\n",
       "      <td>5.0</td>\n",
       "    </tr>\n",
       "  </tbody>\n",
       "</table>\n",
       "</div>"
      ],
      "text/plain": [
       "  Restaurant_id  Rating\n",
       "0          id_0     3.0\n",
       "1          id_1     4.5\n",
       "2          id_2     4.5\n",
       "3          id_3     4.5\n",
       "4          id_4     4.5\n",
       "5          id_5     4.5\n",
       "6          id_6     2.0\n",
       "7          id_7     3.0\n",
       "8          id_8     4.0\n",
       "9          id_9     5.0"
      ]
     },
     "execution_count": 56,
     "metadata": {},
     "output_type": "execute_result"
    }
   ],
   "source": [
    "sample_submission['Rating'] = predict_submission\n",
    "sample_submission.to_csv('submission.csv', index=False)\n",
    "sample_submission.head(10)"
   ]
  },
  {
   "cell_type": "markdown",
   "metadata": {},
   "source": [
    "# What's next?\n",
    "Или что делать, чтоб улучшить результат:\n",
    "\n",
    "* Обработать оставшиеся признаки в понятный для машины формат\n",
    "* Посмотреть, что еще можно извлечь из признаков\n",
    "* Сгенерировать новые признаки\n",
    "* Подгрузить дополнительные данные, например: по населению или благосостоянию городов\n",
    "* Подобрать состав признаков\n",
    "\n",
    "В общем, процесс творческий и весьма увлекательный! Удачи в соревновании!"
   ]
  }
 ],
 "metadata": {
  "kernelspec": {
   "display_name": "Python 3",
   "language": "python",
   "name": "python3"
  },
  "language_info": {
   "codemirror_mode": {
    "name": "ipython",
    "version": 3
   },
   "file_extension": ".py",
   "mimetype": "text/x-python",
   "name": "python",
   "nbconvert_exporter": "python",
   "pygments_lexer": "ipython3",
   "version": "3.8.5"
  }
 },
 "nbformat": 4,
 "nbformat_minor": 4
}
