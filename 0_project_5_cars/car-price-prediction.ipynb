{
 "cells": [
  {
   "cell_type": "markdown",
   "metadata": {},
   "source": [
    "\n",
    "# Прогнозирование стоимости автомобиля по характеристикам"
   ]
  },
  {
   "cell_type": "markdown",
   "metadata": {},
   "source": [
    "\n",
    "Создадим модель, которая будет предсказывать стоимость автомобиля по его характеристикам. Для оценки будем использовать метрику MAPE\n",
    "Эта модель может быть использована для выбора выгодных объявлений (когда установленная пользователем цена ниже предсказанной моделью).\n"
   ]
  },
  {
   "cell_type": "code",
   "execution_count": 27,
   "metadata": {
    "execution": {
     "iopub.execute_input": "2022-01-25T13:19:01.201233Z",
     "iopub.status.busy": "2022-01-25T13:19:01.200865Z",
     "iopub.status.idle": "2022-01-25T13:19:01.213476Z",
     "shell.execute_reply": "2022-01-25T13:19:01.212394Z",
     "shell.execute_reply.started": "2022-01-25T13:19:01.201202Z"
    }
   },
   "outputs": [],
   "source": [
    "import numpy as np \n",
    "import pandas as pd\n",
    "from pandas import Series\n",
    "import sys\n",
    "import time\n",
    "import datetime\n",
    "import requests as r\n",
    "import json\n",
    "from bs4 import BeautifulSoup\n",
    "import os\n",
    "\n",
    "import pandas_profiling\n",
    "import matplotlib.pyplot as plt\n",
    "import seaborn as sns\n",
    "import warnings\n",
    "warnings.simplefilter('ignore')\n",
    "\n",
    "from sklearn.preprocessing import LabelEncoder\n",
    "from sklearn.preprocessing import PolynomialFeatures\n",
    "from sklearn.model_selection import train_test_split\n",
    "from sklearn.model_selection import KFold\n",
    "from tqdm.notebook import tqdm\n",
    "from catboost import CatBoostRegressor\n",
    "from sklearn.ensemble import RandomForestRegressor\n",
    "import lightgbm as lgb\n",
    "from lightgbm import LGBMRegressor\n",
    "from sklearn.ensemble import StackingRegressor\n",
    "\n",
    "from sklearn.feature_selection import f_classif, mutual_info_classif\n",
    "from sklearn.model_selection import GridSearchCV\n",
    "from sklearn.model_selection import train_test_split\n",
    "from sklearn.linear_model import LinearRegression\n",
    "from sklearn.ensemble import GradientBoostingRegressor  \n",
    "from sklearn.preprocessing import StandardScaler\n",
    "from sklearn.ensemble import ExtraTreesRegressor\n",
    "from sklearn.neighbors import KNeighborsRegressor\n",
    "from sklearn.base import clone"
   ]
  },
  {
   "cell_type": "code",
   "execution_count": 28,
   "metadata": {
    "_kg_hide-input": true,
    "_kg_hide-output": true,
    "execution": {
     "iopub.execute_input": "2022-01-25T13:19:01.220233Z",
     "iopub.status.busy": "2022-01-25T13:19:01.219709Z",
     "iopub.status.idle": "2022-01-25T13:19:03.224760Z",
     "shell.execute_reply": "2022-01-25T13:19:03.223656Z",
     "shell.execute_reply.started": "2022-01-25T13:19:01.220180Z"
    },
    "papermill": {
     "duration": 0.040034,
     "end_time": "2020-10-26T12:46:42.650603",
     "exception": false,
     "start_time": "2020-10-26T12:46:42.610569",
     "status": "completed"
    },
    "tags": []
   },
   "outputs": [],
   "source": [
    "print('Python       :', sys.version.split('\\n')[0])\n",
    "print('Numpy        :', np.__version__)\n",
    "# зафиксируем версию пакетов, чтобы эксперименты были воспроизводимы:\n",
    "!pip freeze > requirements.txt\n",
    "# Фиксируем RANDOM_SEED, чтобы эксперименты были воспроизводимы!\n",
    "RANDOM_SEED = 42"
   ]
  },
  {
   "cell_type": "code",
   "execution_count": 29,
   "metadata": {
    "_kg_hide-input": true,
    "execution": {
     "iopub.execute_input": "2022-01-25T13:19:03.228231Z",
     "iopub.status.busy": "2022-01-25T13:19:03.227837Z",
     "iopub.status.idle": "2022-01-25T13:19:03.243237Z",
     "shell.execute_reply": "2022-01-25T13:19:03.242070Z",
     "shell.execute_reply.started": "2022-01-25T13:19:03.228192Z"
    }
   },
   "outputs": [],
   "source": [
    "def mape(y_true, y_pred):\n",
    "    '''Функция для вычисления итоговой метрики MAPE(Mean Percentage Absolute Error) '''\n",
    "    return np.mean(np.abs((y_pred-y_true)/y_true))\n",
    "\n",
    "def learn_print_MAPE(type_model):\n",
    "    '''Функцию для обучения модели и печати MAPE'''\n",
    "    type_model.fit(X_train, y_train)\n",
    "    predict = type_model.predict(X_test)\n",
    "    print(f\"Точность модели по метрике MAPE: {(mape(y_test, predict))*100:0.2f}%\")\n",
    "    \n",
    "# функция вывода  всех выбросов\n",
    "def count_outlier(df_in, col_name):\n",
    "    '''функция вывода  всех выбросов в список'''\n",
    "    q25, q75 = np.percentile(df_in[col_name], [25, 75])\n",
    "    iqr = q75 - q25\n",
    "    fence_low = q25 - 1.5*iqr\n",
    "    fence_high = q75 + 1.5*iqr\n",
    "    return np.where((df_in[col_name] > fence_high) | (df_in[col_name] < fence_low))[0]\n",
    "\n",
    "\n",
    "def box_and_hist(column, bins, df):\n",
    "    '''горизонтальный Boxplot + гистограма'''\n",
    "    fig, (ax_box, ax_hist) = plt.subplots(2, figsize=(15, 5),\n",
    "                                          sharex=True, gridspec_kw={\"height_ratios\": (.15, .85)})\n",
    "    sns.boxplot(df[column], ax=ax_box)\n",
    "    sns.distplot(df[column], ax=ax_hist, bins=bins)\n",
    "    ax_box.set_title(f'Распределение значений в {column}\\n\\\n",
    "                     Выбросов(iqr*1.5) - {len(count_outlier(df, column))}', fontsize=15)\n"
   ]
  },
  {
   "cell_type": "markdown",
   "metadata": {},
   "source": [
    "## Исходные данные\n",
    "Данные для теста предостовляются по условию задач и  были спарсены осенью 2020 года.  \n",
    "Поначалу я спарсила данные на декабрь 2021 и задалась вопросом, насколько это корректно сравнивать разные цены, ведь инфляцию для каждой марки машины подобрать сложно.\n",
    "Правильнее будет брать  готовые спарсенные данные(avto.ru) на kaggle для обучающей выборки за тот же период. \n",
    "\n",
    "По данным https://cenamashin.ru/statistika/moskva/avg_price?seg=1  \n",
    "Средняя цена б\\у автомобилей в Москве в массовом сегменте выросла на >28%.  \n",
    "**Соответсвенно парсить свежие данные не совсем корректно ввиду значительного изменения целевой переменной (цена автомобиля).**\n",
    "\n",
    "\n",
    "\n"
   ]
  },
  {
   "cell_type": "markdown",
   "metadata": {
    "papermill": {
     "duration": 0.028837,
     "end_time": "2020-10-26T12:46:47.981435",
     "exception": false,
     "start_time": "2020-10-26T12:46:47.952598",
     "status": "completed"
    },
    "tags": []
   },
   "source": [
    "# Setup"
   ]
  },
  {
   "cell_type": "code",
   "execution_count": 30,
   "metadata": {
    "execution": {
     "iopub.execute_input": "2022-01-25T13:19:03.245128Z",
     "iopub.status.busy": "2022-01-25T13:19:03.244727Z",
     "iopub.status.idle": "2022-01-25T13:19:03.254966Z",
     "shell.execute_reply": "2022-01-25T13:19:03.253783Z",
     "shell.execute_reply.started": "2022-01-25T13:19:03.245092Z"
    },
    "papermill": {
     "duration": 0.039969,
     "end_time": "2020-10-26T12:46:48.052728",
     "exception": false,
     "start_time": "2020-10-26T12:46:48.012759",
     "status": "completed"
    },
    "tags": []
   },
   "outputs": [],
   "source": [
    "VERSION    = 16\n",
    "DIR_TRAIN  = '../input/parsing-all-moscow-auto-ru-09-09-2020/' # подключила к ноутбуку внешний датасет\n",
    "DIR_TEST   = '../input/sf-dst-car-price-prediction/'\n",
    "VAL_SIZE   = 0.20   # 20%"
   ]
  },
  {
   "cell_type": "markdown",
   "metadata": {
    "papermill": {
     "duration": 0.030254,
     "end_time": "2020-10-26T12:46:48.112586",
     "exception": false,
     "start_time": "2020-10-26T12:46:48.082332",
     "status": "completed"
    },
    "tags": []
   },
   "source": [
    "# Data"
   ]
  },
  {
   "cell_type": "code",
   "execution_count": 31,
   "metadata": {
    "execution": {
     "iopub.execute_input": "2022-01-25T13:19:03.257425Z",
     "iopub.status.busy": "2022-01-25T13:19:03.256962Z",
     "iopub.status.idle": "2022-01-25T13:19:08.889007Z",
     "shell.execute_reply": "2022-01-25T13:19:08.887962Z",
     "shell.execute_reply.started": "2022-01-25T13:19:03.257378Z"
    },
    "papermill": {
     "duration": 0.783211,
     "end_time": "2020-10-26T12:46:48.925418",
     "exception": false,
     "start_time": "2020-10-26T12:46:48.142207",
     "status": "completed"
    },
    "tags": []
   },
   "outputs": [],
   "source": [
    "!ls '../input'\n",
    "train = pd.read_csv(DIR_TRAIN+'all_auto_ru_09_09_2020.csv') # датасет для обучения модели\n",
    "test = pd.read_csv(DIR_TEST+'test.csv')\n",
    "sample_submission = pd.read_csv(DIR_TEST+'sample_submission.csv')"
   ]
  },
  {
   "cell_type": "code",
   "execution_count": 32,
   "metadata": {
    "execution": {
     "iopub.execute_input": "2022-01-25T13:19:08.894040Z",
     "iopub.status.busy": "2022-01-25T13:19:08.893666Z",
     "iopub.status.idle": "2022-01-25T13:19:08.932776Z",
     "shell.execute_reply": "2022-01-25T13:19:08.931905Z",
     "shell.execute_reply.started": "2022-01-25T13:19:08.894004Z"
    },
    "papermill": {
     "duration": 0.22352,
     "end_time": "2020-10-26T12:47:02.502166",
     "exception": false,
     "start_time": "2020-10-26T12:47:02.278646",
     "status": "completed"
    },
    "tags": []
   },
   "outputs": [],
   "source": [
    "pd.set_option('display.max_columns', 36) # показывать больше колонок\n",
    "train.sample(5)"
   ]
  },
  {
   "cell_type": "code",
   "execution_count": 33,
   "metadata": {
    "execution": {
     "iopub.execute_input": "2022-01-25T13:19:08.936468Z",
     "iopub.status.busy": "2022-01-25T13:19:08.936125Z",
     "iopub.status.idle": "2022-01-25T13:19:08.974561Z",
     "shell.execute_reply": "2022-01-25T13:19:08.973586Z",
     "shell.execute_reply.started": "2022-01-25T13:19:08.936434Z"
    },
    "papermill": {
     "duration": 0.069985,
     "end_time": "2020-10-26T12:47:02.604497",
     "exception": false,
     "start_time": "2020-10-26T12:47:02.534512",
     "status": "completed"
    },
    "tags": []
   },
   "outputs": [],
   "source": [
    "pd.set_option('display.max_columns', 36) # показывать больше колонок\n",
    "test.sample(5)"
   ]
  },
  {
   "cell_type": "code",
   "execution_count": 34,
   "metadata": {
    "execution": {
     "iopub.execute_input": "2022-01-25T13:19:08.976292Z",
     "iopub.status.busy": "2022-01-25T13:19:08.975992Z",
     "iopub.status.idle": "2022-01-25T13:19:08.983204Z",
     "shell.execute_reply": "2022-01-25T13:19:08.982373Z",
     "shell.execute_reply.started": "2022-01-25T13:19:08.976262Z"
    },
    "papermill": {
     "duration": 0.160401,
     "end_time": "2020-10-26T12:47:02.798587",
     "exception": false,
     "start_time": "2020-10-26T12:47:02.638186",
     "status": "completed"
    },
    "tags": []
   },
   "outputs": [],
   "source": [
    "print('Нет признаков в train - ', set(test.columns) - set(train.columns))\n",
    "print('Нет признаков в test - ', set(train.columns) - set(test.columns))"
   ]
  },
  {
   "cell_type": "code",
   "execution_count": 35,
   "metadata": {
    "execution": {
     "iopub.execute_input": "2022-01-25T13:19:08.984645Z",
     "iopub.status.busy": "2022-01-25T13:19:08.984334Z",
     "iopub.status.idle": "2022-01-25T13:19:09.590202Z",
     "shell.execute_reply": "2022-01-25T13:19:09.589415Z",
     "shell.execute_reply.started": "2022-01-25T13:19:08.984614Z"
    }
   },
   "outputs": [],
   "source": [
    "# Переименуем названия колонок в train в соответствии с test\n",
    "dict_columns_rename = {\n",
    "    'Комплектация': 'complectation_dict',\n",
    "    'model': 'model_name',\n",
    "}\n",
    "train.rename(columns=dict_columns_rename, inplace=True)\n",
    "\n",
    "# Удалим лишние столбцы и дубликаты в train\n",
    "train.drop(['start_date', 'hidden', 'Состояние',\n",
    "            'name', 'Таможня'], inplace=True, axis=1)\n",
    "train = train.drop_duplicates()\n",
    "\n",
    "# Удалим строки где цена отсутсвует\n",
    "train = train.dropna(subset=['price'])"
   ]
  },
  {
   "cell_type": "code",
   "execution_count": 36,
   "metadata": {
    "execution": {
     "iopub.execute_input": "2022-01-25T13:19:09.591788Z",
     "iopub.status.busy": "2022-01-25T13:19:09.591378Z",
     "iopub.status.idle": "2022-01-25T13:19:09.889540Z",
     "shell.execute_reply": "2022-01-25T13:19:09.888208Z",
     "shell.execute_reply.started": "2022-01-25T13:19:09.591758Z"
    }
   },
   "outputs": [],
   "source": [
    "# Удалим поля в test не влияющих на оценку целевой переменной\n",
    "test.drop(['priceCurrency', 'image', 'vendor', 'parsing_unixtime', 'sell_id',\n",
    "           'equipment_dict', 'model_info', 'super_gen', 'car_url', 'Состояние', 'name', 'Таможня'], inplace=True, axis=1)\n",
    "# Добавим переменную price в test\n",
    "test['price'] = np.nan\n",
    "# В test 14 дубликатов, удалять их не стала, количество строк в тесте должно быть неизменным.\n",
    "print(f'Дубликаты в test: {test.duplicated().sum()}')\n",
    "# test = test.drop_duplicates()"
   ]
  },
  {
   "cell_type": "code",
   "execution_count": 37,
   "metadata": {
    "execution": {
     "iopub.execute_input": "2022-01-25T13:19:09.891108Z",
     "iopub.status.busy": "2022-01-25T13:19:09.890820Z",
     "iopub.status.idle": "2022-01-25T13:19:10.059444Z",
     "shell.execute_reply": "2022-01-25T13:19:10.058144Z",
     "shell.execute_reply.started": "2022-01-25T13:19:09.891080Z"
    }
   },
   "outputs": [],
   "source": [
    "train['sample'] = 1  # помечаем, где у нас трейн\n",
    "test['sample'] = 0  # помечаем, где у нас тест\n",
    "# Объединяем трейн и тест в один датасет,\n",
    "df = pd.concat([test, train]).reset_index(drop=True)\n",
    "print(f'train - {train.shape},\\ntest - {test.shape},\\ndf - {df.shape}')"
   ]
  },
  {
   "cell_type": "code",
   "execution_count": 38,
   "metadata": {
    "execution": {
     "iopub.execute_input": "2022-01-25T13:19:10.068227Z",
     "iopub.status.busy": "2022-01-25T13:19:10.067880Z",
     "iopub.status.idle": "2022-01-25T13:19:10.172162Z",
     "shell.execute_reply": "2022-01-25T13:19:10.171268Z",
     "shell.execute_reply.started": "2022-01-25T13:19:10.068196Z"
    }
   },
   "outputs": [],
   "source": [
    "# Приведём названия всех столбцов к общему типу:\n",
    "df.rename(columns={'bodyType': 'body_type',\n",
    "                   'engineDisplacement': 'engine_volume',\n",
    "                   'enginePower': 'engine_power',\n",
    "                   'fuelType': 'fuel_type',\n",
    "                   'modelDate': 'model_date',\n",
    "                   'numberOfDoors': 'number_of_doors',\n",
    "                   'productionDate': 'production_date',\n",
    "                   'vehicleConfiguration': 'vehicle_configuration',\n",
    "                   'vehicleTransmission': 'vehicle_transmission',\n",
    "                   'Владельцы': 'owners_qty',\n",
    "                   'Владение': 'ownership_time',\n",
    "                   'ПТС': 'licence',\n",
    "                   'Привод': 'type_of_drive',\n",
    "                   'Руль': 'steering_wheel',\n",
    "                   }, inplace=True)\n",
    "\n",
    "# Отсортируем столбцы для удобства просмотра таблицы с  важным признаками вначале:\n",
    "sequence = ['price', 'brand', 'model_name', 'production_date', 'mileage', 'vehicle_transmission',\n",
    "            'fuel_type', 'owners_qty', 'description', 'complectation_dict',\n",
    "            'body_type',  'color',  'model_date', 'engine_power', 'number_of_doors', 'vehicle_configuration',\n",
    "            'engine_volume', 'type_of_drive', 'steering_wheel', 'licence', 'ownership_time', 'sample']\n",
    "\n",
    "df = df.reindex(columns=sequence)"
   ]
  },
  {
   "cell_type": "markdown",
   "metadata": {},
   "source": [
    "**При  объединении трейна и теста были удалены следующие параметры:**  \n",
    "\n",
    "+ **car_url, image** - это ссылки, не предоставляют ценности.  \n",
    "+ **'equipment_dict', super_gen, model_info** - это словари бесполезных данных, с большим количеством пропусков.  \n",
    "+ **parsing_unixtime** - интервал времени парсинга данных, не представляет интереса.   \n",
    "+ **priceCurrency, Состояние, Таможня** - обозначение валюты продажи, формулировки \"не требует ремонта\" и \"растаможен\" для всех одинакова.\n",
    "+ **vendor** - продавец, 2 параметра - европейский и японский, по моему мнению ни на что не влияет\n",
    "+ **name** - повторяет другие признаки\n",
    "+ **'sell_id'** - отсутствует данные в трэйне  \n",
    "\n",
    "**Признаки датасета**\n",
    "* price - цена автомобиля, целевой параметр,\n",
    "* brand - марка автомобиля,\n",
    "* model_name - модель машины,\n",
    "* production_date - дата производства автомобиля,\n",
    "* mileage - пробег,\n",
    "* vehicle_transmission - конфигурация трансмиссии транспортного средства\n",
    "* fuel_typee - тип топлива,\n",
    "* owners_qty - количество владельцев,\n",
    "* description - описание в объявлении,\n",
    "* complectation_dict - комплектация машины\n",
    "* body_type - тип кузова,\n",
    "* color - цвет автомобиля,\n",
    "* model_date - дата релиза модели,\n",
    "* engine_power - мощность двигателя, трансмиссия,\n",
    "* number_of_doors - количество дверей,\n",
    "* vehicle_configuration - конфигурация транспортного средства (ТС),\n",
    "* type_of_drive - тип привода,\n",
    "* steering_wheel - сторона руля,\n",
    "* licence - паспорт ТС,\n",
    "* customs - этап растаможки,\n",
    "* ownership_time - период владения ТС,\n",
    "* sample - индикатор принадлежности данных к тесту (0) и трейну (1)."
   ]
  },
  {
   "cell_type": "markdown",
   "metadata": {},
   "source": [
    "# EDA"
   ]
  },
  {
   "cell_type": "code",
   "execution_count": 39,
   "metadata": {
    "execution": {
     "iopub.execute_input": "2022-01-25T13:19:10.173839Z",
     "iopub.status.busy": "2022-01-25T13:19:10.173546Z",
     "iopub.status.idle": "2022-01-25T13:19:10.178742Z",
     "shell.execute_reply": "2022-01-25T13:19:10.177669Z",
     "shell.execute_reply.started": "2022-01-25T13:19:10.173810Z"
    }
   },
   "outputs": [],
   "source": [
    "# С помощь ию ProfileReport создадим статистический отчет по всем признакам. \n",
    "# Отчет позволит выявить ошибки, пропуски, дубликаты, высокую корреляцию признаков.\n",
    "# pandas_profiling.ProfileReport(df)"
   ]
  },
  {
   "cell_type": "markdown",
   "metadata": {
    "execution": {
     "iopub.execute_input": "2020-10-26T12:47:02.941177Z",
     "iopub.status.busy": "2020-10-26T12:47:02.94004Z",
     "iopub.status.idle": "2020-10-26T12:47:02.94372Z",
     "shell.execute_reply": "2020-10-26T12:47:02.943059Z"
    },
    "papermill": {
     "duration": 0.042812,
     "end_time": "2020-10-26T12:47:02.943868",
     "exception": false,
     "start_time": "2020-10-26T12:47:02.901056",
     "status": "completed"
    },
    "tags": []
   },
   "source": [
    "## Итоги отчета:\n",
    "* имеем 23 признака, 15 из которых категориальные\n",
    "* присутствуют большое количество  пропусков в полях ownership_time(66%) и complectation_dict(23%), owners_qty(8%)\n",
    "* большинство признаков содержит пропуски менее 0,1% отдельные до 4%, отсутствующие данные в которых можно заполнить медианными значениями:\n",
    "* дубликаты отсутствуют\n",
    "* production_date имеет высокую корреляцию с  model_date\n",
    "* Поле milege говорит нам что около 10% машин практически не ездили \n",
    "* значения в полях: body_type, vehicle_transmission, color, licence, steering_wheel, engine_volume следует привести к единому формату из-за разности значений в test и train.\n",
    "* неподдерживаемые признаки owners_qty, engine_volum также требуют приведения  к единому числовому формату.\n",
    "\n",
    "**Приведем далее признаки к единому формату**"
   ]
  },
  {
   "cell_type": "code",
   "execution_count": 40,
   "metadata": {
    "execution": {
     "iopub.execute_input": "2022-01-25T13:19:10.181019Z",
     "iopub.status.busy": "2022-01-25T13:19:10.180556Z",
     "iopub.status.idle": "2022-01-25T13:19:17.949497Z",
     "shell.execute_reply": "2022-01-25T13:19:17.948568Z",
     "shell.execute_reply.started": "2022-01-25T13:19:10.180974Z"
    }
   },
   "outputs": [],
   "source": [
    "# Составил словарь под замену неугодных значений\n",
    "rename_item = {'Оригинал': 'ORIGINAL',\n",
    "               'Дубликат': 'DUPLICATE',\n",
    "               'автоматическая': 'AUTOMATIC',\n",
    "               'механическая': 'MECHANICAL',\n",
    "               'вариатор': 'VARIATOR',\n",
    "               'роботизированная': 'ROBOT',\n",
    "               'Левый': 'LEFT',\n",
    "               'Правый': 'RIGHT',\n",
    "               '040001': 'чёрный',\n",
    "               'FAFBFB': 'белый',\n",
    "               'CACECB': 'серебристый',\n",
    "               '97948F': 'серый',\n",
    "               '0000CC': 'синий',\n",
    "               '200204': 'коричневый',\n",
    "               'EE1D19': 'красный',\n",
    "               '007F00': 'зеленый',\n",
    "               'C49648': 'бежевый',\n",
    "               '22A0F8': 'голубой',\n",
    "               '660099': 'пурпурный',\n",
    "               'DEA522': 'золотой',\n",
    "               '4A2197': 'фиолетовый',\n",
    "               'FFD600': 'желтый',\n",
    "               'FF8649': 'оранжевый',\n",
    "               'FFC0CB': 'розовый',\n",
    "               }\n",
    "# Проведем замену слов, так чтобы  набор значений в train не отличался от test\n",
    "for column in ['body_type', 'vehicle_transmission', 'color', 'licence', 'steering_wheel']:\n",
    "    df = df.replace({column: rename_item})  # заменим\n",
    "    df[column] = df[column].apply(lambda x: None if pd.isnull(\n",
    "        x) else x.lower())  # приведем все к нижнему регистру\n",
    "\n",
    "# Оставим только первое число в полях 'owners_qty','engine_power' и переведем их в числовой формат\n",
    "for column in ['owners_qty', 'engine_power', ]:\n",
    "    df[column] = df[column].astype(str).apply(lambda x: x.split()[0])\n",
    "    df[column] = df[column].astype(float)\n",
    "\n",
    "# Приведём признак engine_volume к строковому типу и  оставим только числовые данные.\n",
    "df['engine_volume'] = df['engine_volume'].astype(str)\n",
    "df['engine_volume'] = df['engine_volume'].str.extract(\n",
    "    '(\\d.\\d)', expand=False).str.strip()\n",
    "# Заменим все некорректные числа(объём двигателя в литрах) более 10 на None\n",
    "df['engine_volume'] = df['engine_volume'].apply(\n",
    "    lambda x: None if float(x) > 10 else x).astype(float)\n",
    "# Признаки повторяют друг друга, поэтому преобразуем в дальнейшем мощность двигателя в систему транспортного налогообложения в РФ.\n",
    "sns.jointplot(x='engine_power', y='engine_volume',\n",
    "              data=df, kind='reg')"
   ]
  },
  {
   "cell_type": "markdown",
   "metadata": {
    "execution": {
     "iopub.execute_input": "2021-08-25T11:53:16.777181Z",
     "iopub.status.busy": "2021-08-25T11:53:16.776813Z",
     "iopub.status.idle": "2021-08-25T11:53:16.784018Z",
     "shell.execute_reply": "2021-08-25T11:53:16.782856Z",
     "shell.execute_reply.started": "2021-08-25T11:53:16.777153Z"
    }
   },
   "source": [
    "## Заполним пустые значения"
   ]
  },
  {
   "cell_type": "code",
   "execution_count": 41,
   "metadata": {
    "execution": {
     "iopub.execute_input": "2022-01-25T13:19:17.951525Z",
     "iopub.status.busy": "2022-01-25T13:19:17.951174Z",
     "iopub.status.idle": "2022-01-25T13:19:18.785667Z",
     "shell.execute_reply": "2022-01-25T13:19:18.784652Z",
     "shell.execute_reply.started": "2022-01-25T13:19:17.951491Z"
    }
   },
   "outputs": [],
   "source": [
    "# Удалим одну строку c множеством пропусков\n",
    "df = df[~df.body_type.isna()]\n",
    "\n",
    "# посмотрим, где у нас пропуски\n",
    "print(df.isna().sum())\n",
    "fig, ax = plt.subplots(figsize=(10, 8))  # посмотрим корреляционные связи\n",
    "sns.heatmap(df.corr(), cmap='terrain', annot=True, fmt='.1g', center=0, ax=ax)"
   ]
  },
  {
   "cell_type": "markdown",
   "metadata": {},
   "source": [
    "**Числовые признаки**"
   ]
  },
  {
   "cell_type": "code",
   "execution_count": 42,
   "metadata": {
    "execution": {
     "iopub.execute_input": "2022-01-25T13:19:18.787573Z",
     "iopub.status.busy": "2022-01-25T13:19:18.787240Z",
     "iopub.status.idle": "2022-01-25T13:19:18.802816Z",
     "shell.execute_reply": "2022-01-25T13:19:18.801427Z",
     "shell.execute_reply.started": "2022-01-25T13:19:18.787540Z"
    }
   },
   "outputs": [],
   "source": [
    "# заполним пустые значениями объема двигателя(engine_volume) медианой с учетом мощности двигателя в л.с.(engine_power). Хорошая корреляция\n",
    "df['engine_volume'].fillna(df.groupby(['engine_power'])[\n",
    "                           'engine_volume'].transform('median'), inplace=True)\n",
    "# оставшимся 77 спортивным машинам поставим 5 литров.\n",
    "df['engine_volume'].fillna(5.0, inplace=True)"
   ]
  },
  {
   "cell_type": "code",
   "execution_count": 43,
   "metadata": {
    "execution": {
     "iopub.execute_input": "2022-01-25T13:19:18.805977Z",
     "iopub.status.busy": "2022-01-25T13:19:18.805615Z",
     "iopub.status.idle": "2022-01-25T13:19:18.835888Z",
     "shell.execute_reply": "2022-01-25T13:19:18.834666Z",
     "shell.execute_reply.started": "2022-01-25T13:19:18.805930Z"
    }
   },
   "outputs": [],
   "source": [
    "# Учитывая хорошую корреляционную связь пробега и количество владельцев,\n",
    "# посчитала среднее значение владельцев в зависимости от пробега.\n",
    "# Отсюда можно выделить 3 переломных цифры,когда в среднем владелец меняется.\n",
    "bins = np.arange(0, 170000, 10000)\n",
    "df.groupby(pd.cut(df.mileage, bins)).owners_qty.median()\n"
   ]
  },
  {
   "cell_type": "code",
   "execution_count": 44,
   "metadata": {
    "execution": {
     "iopub.execute_input": "2022-01-25T13:19:18.837862Z",
     "iopub.status.busy": "2022-01-25T13:19:18.837406Z",
     "iopub.status.idle": "2022-01-25T13:19:18.926655Z",
     "shell.execute_reply": "2022-01-25T13:19:18.925698Z",
     "shell.execute_reply.started": "2022-01-25T13:19:18.837785Z"
    }
   },
   "outputs": [],
   "source": [
    "change_owners = [0, 65000, 145000, 1e6]  # список км смены владельца\n",
    "labels = [1, 2, 3]\n",
    "df['mileage_owners'] = pd.cut(df['mileage'], bins=change_owners,\n",
    "                              labels=labels, include_lowest=True)  # добавим вспомогательное поле\n",
    "df['owners_qty'] = df['owners_qty'].fillna(\n",
    "    df['mileage_owners'])  # заполним пропуски\n",
    "df = df.drop('mileage_owners', axis=1)  # удалим вспомогательное поле"
   ]
  },
  {
   "cell_type": "markdown",
   "metadata": {},
   "source": [
    "**Категориальные признаки**"
   ]
  },
  {
   "cell_type": "code",
   "execution_count": 45,
   "metadata": {
    "execution": {
     "iopub.execute_input": "2022-01-25T13:19:18.929179Z",
     "iopub.status.busy": "2022-01-25T13:19:18.928710Z",
     "iopub.status.idle": "2022-01-25T13:19:18.984112Z",
     "shell.execute_reply": "2022-01-25T13:19:18.983117Z",
     "shell.execute_reply.started": "2022-01-25T13:19:18.929133Z"
    }
   },
   "outputs": [],
   "source": [
    "# Заменим модой пропуски в ПТС на \"дубликат\".\n",
    "df['licence'] = df['licence'].fillna('duplicate')\n",
    "# Дубликат ПТС выдается автовладельцу  когда нет свободного места для внесения новой информации (закончились графы) или он утерян.\n",
    "# В оригинальном ПТС документе есть 6 полей соответственно 3- 5 владельцев было прежде.\n",
    "\n",
    "# Заменим пропуски в описании(description) на \"без комментариев\".\n",
    "df['description'] = df['description'].fillna('без комментариев')"
   ]
  },
  {
   "cell_type": "code",
   "execution_count": 46,
   "metadata": {
    "execution": {
     "iopub.execute_input": "2022-01-25T13:19:18.985943Z",
     "iopub.status.busy": "2022-01-25T13:19:18.985480Z",
     "iopub.status.idle": "2022-01-25T13:19:21.948116Z",
     "shell.execute_reply": "2022-01-25T13:19:21.947111Z",
     "shell.execute_reply.started": "2022-01-25T13:19:18.985901Z"
    }
   },
   "outputs": [],
   "source": [
    "colors = ['w', 'k']\n",
    "sns.heatmap(df.isna(), cmap=sns.color_palette(colors))"
   ]
  },
  {
   "cell_type": "markdown",
   "metadata": {},
   "source": [
    "После заполнения пропусков остались два поля:  \n",
    "compectation_dict - очень полезный признак влияющий на цену но к сожалению из-за большого числа пропусков в особенности на тесте прийдется удалить.  \n",
    "ownership_time - также удаляется из-за большого числа пропусков."
   ]
  },
  {
   "cell_type": "code",
   "execution_count": 47,
   "metadata": {
    "execution": {
     "iopub.execute_input": "2022-01-25T13:19:21.950105Z",
     "iopub.status.busy": "2022-01-25T13:19:21.949751Z",
     "iopub.status.idle": "2022-01-25T13:19:21.980220Z",
     "shell.execute_reply": "2022-01-25T13:19:21.979305Z",
     "shell.execute_reply.started": "2022-01-25T13:19:21.950073Z"
    }
   },
   "outputs": [],
   "source": [
    "df.drop(['complectation_dict', 'ownership_time'], axis=1, inplace=True)"
   ]
  },
  {
   "cell_type": "code",
   "execution_count": 48,
   "metadata": {
    "execution": {
     "iopub.execute_input": "2022-01-25T13:19:21.982272Z",
     "iopub.status.busy": "2022-01-25T13:19:21.981947Z",
     "iopub.status.idle": "2022-01-25T13:19:21.986663Z",
     "shell.execute_reply": "2022-01-25T13:19:21.985436Z",
     "shell.execute_reply.started": "2022-01-25T13:19:21.982238Z"
    }
   },
   "outputs": [],
   "source": [
    "# pandas_profiling.ProfileReport(df)"
   ]
  },
  {
   "cell_type": "markdown",
   "metadata": {},
   "source": [
    "# **Анализ наиболее важных признаков**"
   ]
  },
  {
   "cell_type": "code",
   "execution_count": 49,
   "metadata": {
    "execution": {
     "iopub.execute_input": "2022-01-25T13:19:21.989336Z",
     "iopub.status.busy": "2022-01-25T13:19:21.988831Z",
     "iopub.status.idle": "2022-01-25T13:19:26.180745Z",
     "shell.execute_reply": "2022-01-25T13:19:26.179672Z",
     "shell.execute_reply.started": "2022-01-25T13:19:21.989289Z"
    }
   },
   "outputs": [],
   "source": [
    "num_cols = ['price',\n",
    "            'production_date',\n",
    "            'mileage',\n",
    "            'model_date',\n",
    "            'engine_power',\n",
    "            'number_of_doors',\n",
    "            'engine_volume']\n",
    "\n",
    "for i in num_cols:\n",
    "    box_and_hist(i, bins=30, df=df)"
   ]
  },
  {
   "cell_type": "markdown",
   "metadata": {},
   "source": [
    "Распределения у признаков близки к нормальным, справа или слева имеются длинные хвосты.  \n",
    "Выбросов очень много и требует ограничения. Однако это ухудшило оценку и в дальнейшем не использовалось."
   ]
  },
  {
   "cell_type": "markdown",
   "metadata": {},
   "source": [
    "# Feature Engineering"
   ]
  },
  {
   "cell_type": "markdown",
   "metadata": {},
   "source": [
    "Создадим несколько  бинарных признаков исходя из модели, которые на практике сильно влияют на стоимость автомобиля:\n",
    "* **luxary** - дорогие автомобили\n",
    "* **collector** - коллекционные автомобили\n",
    "* **sport** - спортивные автомобили\n",
    "\n",
    "\n"
   ]
  },
  {
   "cell_type": "code",
   "execution_count": 50,
   "metadata": {
    "execution": {
     "iopub.execute_input": "2022-01-25T13:19:26.183256Z",
     "iopub.status.busy": "2022-01-25T13:19:26.182788Z",
     "iopub.status.idle": "2022-01-25T13:19:26.260165Z",
     "shell.execute_reply": "2022-01-25T13:19:26.258962Z",
     "shell.execute_reply.started": "2022-01-25T13:19:26.183210Z"
    }
   },
   "outputs": [],
   "source": [
    "# список дорогих марок, любая из которых продается сейчас выше 3 млн.\n",
    "luxary = list(df.query('price>3e6').model_name.value_counts().keys())\n",
    "# список коллекционных марок (из машин произведеных до 1960 года )\n",
    "collector = list(df.query('production_date<1960').model_name.value_counts().keys())\n",
    "# список спортивных марок(из моделей которые в среднем имеют мощность более 500 л.с.)\n",
    "sport = list(df.groupby('model_name').engine_power.mean(\n",
    ").sort_values(ascending=False)[:40].keys())\n",
    "# закодируем\n",
    "for value, models in {'luxary': luxary, 'collector': collector, 'sport': sport}.items():\n",
    "    mask = df['model_name'].isin(models)\n",
    "    df[value] = mask*1"
   ]
  },
  {
   "cell_type": "markdown",
   "metadata": {},
   "source": [
    "Из числовых, сделаем:  \n",
    "* **model_recency** - новизна модели на момент производства  \n",
    "* **mileage_year** - cтепень эксплуатации(пробег/год)  "
   ]
  },
  {
   "cell_type": "code",
   "execution_count": 51,
   "metadata": {
    "execution": {
     "iopub.execute_input": "2022-01-25T13:19:26.261962Z",
     "iopub.status.busy": "2022-01-25T13:19:26.261596Z",
     "iopub.status.idle": "2022-01-25T13:19:26.331543Z",
     "shell.execute_reply": "2022-01-25T13:19:26.330676Z",
     "shell.execute_reply.started": "2022-01-25T13:19:26.261928Z"
    }
   },
   "outputs": [],
   "source": [
    "df['model_recency'] = df['production_date'] - df['model_date']\n",
    "df['model_recency'] = df['model_recency'].apply(lambda x: 0 if x < 0 else x)\n",
    "df['mileage_year'] = (df['mileage']/(2020.01 - df['production_date']))"
   ]
  },
  {
   "cell_type": "markdown",
   "metadata": {},
   "source": [
    " Создадим из описания(description) несколько числовых признаков:  \n",
    "*  количество символов из описания(**description_length**)\n",
    "* повторяемость объявлений(**repeat_description**)"
   ]
  },
  {
   "cell_type": "code",
   "execution_count": 52,
   "metadata": {
    "execution": {
     "iopub.execute_input": "2022-01-25T13:19:26.333848Z",
     "iopub.status.busy": "2022-01-25T13:19:26.333179Z",
     "iopub.status.idle": "2022-01-25T13:19:26.653326Z",
     "shell.execute_reply": "2022-01-25T13:19:26.652260Z",
     "shell.execute_reply.started": "2022-01-25T13:19:26.333779Z"
    }
   },
   "outputs": [],
   "source": [
    "df['description_length'] = df['description'].map(lambda x: len(x))\n",
    "\n",
    "dict_count_description = df['description'].value_counts().loc[lambda x: x > 2].to_dict()\n",
    "df['repeat_description'] = df['description'].map(dict_count_description)\n",
    "df['repeat_description'].fillna(1, inplace=True)"
   ]
  },
  {
   "cell_type": "markdown",
   "metadata": {},
   "source": [
    "Из описания насколько это возможно выделим:\n",
    "* **auto_dealer** - кто продает машину, автосалон или частное лицо(перекуп).\n",
    "* **auto_repair** - машина продается под восстановление, на запчасти"
   ]
  },
  {
   "cell_type": "code",
   "execution_count": 53,
   "metadata": {
    "execution": {
     "iopub.execute_input": "2022-01-25T13:19:26.655316Z",
     "iopub.status.busy": "2022-01-25T13:19:26.654903Z",
     "iopub.status.idle": "2022-01-25T13:19:31.625670Z",
     "shell.execute_reply": "2022-01-25T13:19:31.624840Z",
     "shell.execute_reply.started": "2022-01-25T13:19:26.655275Z"
    }
   },
   "outputs": [],
   "source": [
    "auto_dealer = 'тест-драйв|менеджер|клиент|Мы|МЫ|НАШЕМ|мегамолл|АВТОКРЕДИТ|КРЕДИТ|АО|\" – официальный дилер\"|\"- ОФИЦИАЛЬНЫЙ ДИЛЕР\"'\n",
    "df['auto_dealer'] = df.description.str.contains(auto_dealer)*1\n",
    "df.query('(description_length>300) & (repeat_description>3)').auto_dealer = 1\n",
    "\n",
    "auto_repair = 'ашина под восстановление|под запчасти|не на ходу'\n",
    "df['auto_repair'] = df.description.str.contains(auto_repair)*1"
   ]
  },
  {
   "cell_type": "code",
   "execution_count": 54,
   "metadata": {
    "execution": {
     "iopub.execute_input": "2022-01-25T13:19:31.627380Z",
     "iopub.status.busy": "2022-01-25T13:19:31.627077Z",
     "iopub.status.idle": "2022-01-25T13:19:31.649817Z",
     "shell.execute_reply": "2022-01-25T13:19:31.648763Z",
     "shell.execute_reply.started": "2022-01-25T13:19:31.627349Z"
    }
   },
   "outputs": [],
   "source": [
    "#удалим description\n",
    "df.drop('description', inplace=True, axis=1)"
   ]
  },
  {
   "cell_type": "markdown",
   "metadata": {},
   "source": [
    "**Посмотрим какие признаки наиболее значимы для прогноза цены автомобиля**"
   ]
  },
  {
   "cell_type": "code",
   "execution_count": 55,
   "metadata": {
    "execution": {
     "iopub.execute_input": "2022-01-25T13:19:31.651737Z",
     "iopub.status.busy": "2022-01-25T13:19:31.651343Z",
     "iopub.status.idle": "2022-01-25T13:19:34.496328Z",
     "shell.execute_reply": "2022-01-25T13:19:34.495397Z",
     "shell.execute_reply.started": "2022-01-25T13:19:31.651695Z"
    }
   },
   "outputs": [],
   "source": [
    "df_train = df.query('sample == 1')\n",
    "num_cols = list(df_train.select_dtypes(include='number').columns)\n",
    "\n",
    "imp_num = pd.Series(f_classif(df_train[num_cols], df_train['price'])[\n",
    "                    0], index=num_cols)\n",
    "imp_num.sort_values(inplace=True)\n",
    "imp_num.plot(kind='barh', title='Значимость числовых переменных по ANOVA F test')"
   ]
  },
  {
   "cell_type": "code",
   "execution_count": 56,
   "metadata": {
    "execution": {
     "iopub.execute_input": "2022-01-25T13:19:34.498420Z",
     "iopub.status.busy": "2022-01-25T13:19:34.498099Z",
     "iopub.status.idle": "2022-01-25T13:19:34.878228Z",
     "shell.execute_reply": "2022-01-25T13:19:34.877330Z",
     "shell.execute_reply.started": "2022-01-25T13:19:34.498390Z"
    }
   },
   "outputs": [],
   "source": [
    "# Посмотрим наибольшие корреляционные связи с  переменной price\n",
    "all_cols = set(df.columns) - set(['price', 'sample'])\n",
    "correlations = df_train[all_cols]\\\n",
    "    .corrwith(df_train['price']).sort_values(ascending=False)\n",
    "plot = sns.barplot(y=correlations.index, x=correlations)"
   ]
  },
  {
   "cell_type": "markdown",
   "metadata": {},
   "source": [
    "# Итоги:  \n",
    "**В  результате EDA:**\n",
    "* Привели признаки для теста и трейна к единой системе кодировок\n",
    "* Перевели отдельные признаки к числовому формату\n",
    "* Заполнили пустые значения для 4 признаков\n",
    "* Удалили 2 признака с большим числом пропусков\n",
    "* Выбросы не удалялись \n",
    "\n",
    "**После Feature Engineering добавлены:** \n",
    "* Добавили из описания 5 бинарных признака\n",
    "* Добавили 4 числовых признака из описания, пробега, года выпуска\n",
    "   \n",
    "**Датасет содержит**:\n",
    "* 12 числовых признаков \n",
    "* 8 категориальных признаков\n",
    "* 7 бинарных признаков\n",
    "\n",
    " \n",
    " "
   ]
  },
  {
   "cell_type": "markdown",
   "metadata": {},
   "source": [
    "Переведем категориальные признаки **fuel_type, type_of_drive** с помощю OneHotLabels , так как они имеют влияние на цену не являясь при этом числовыми характеристиками.   \n",
    "По сути своей это бинарные признаки так как основные 2 значения (бензин-дизель или передний полный) занимают 99%.  \n",
    "Остальные категориальные признаки влияют на цену меньше, и проводить OneHotLabels это увеличивать количество признаков в десятки раз."
   ]
  },
  {
   "cell_type": "markdown",
   "metadata": {},
   "source": [
    "## OneHotLabels"
   ]
  },
  {
   "cell_type": "code",
   "execution_count": 57,
   "metadata": {
    "execution": {
     "iopub.execute_input": "2022-01-25T13:19:34.880354Z",
     "iopub.status.busy": "2022-01-25T13:19:34.879948Z",
     "iopub.status.idle": "2022-01-25T13:19:35.027646Z",
     "shell.execute_reply": "2022-01-25T13:19:35.025752Z",
     "shell.execute_reply.started": "2022-01-25T13:19:34.880319Z"
    }
   },
   "outputs": [],
   "source": [
    "# Сначала приведем кодировки на английский\n",
    "fuel_type_dict = {'бензин': 'petrol',\n",
    "                  'дизель': 'diesel',\n",
    "                  'гибрид': 'hybrid',\n",
    "                  'электро': 'electro',\n",
    "                  'газ': 'gas'\n",
    "                  }\n",
    "type_of_drive_dict = {'полный': 'four_wheel',\n",
    "                      'передний': 'front_wheel',\n",
    "                      'задний': 'rear'\n",
    "                      }\n",
    "df['fuel_type'] = df['fuel_type'].map(fuel_type_dict)\n",
    "df['type_of_drive'] = df['type_of_drive'].map(type_of_drive_dict)\n",
    "\n",
    "# реализуем метод OneHotLabels\n",
    "onehot_cols = ['fuel_type', 'type_of_drive']\n",
    "df = pd.get_dummies(df, prefix=onehot_cols, columns=onehot_cols)\n",
    "df.shape"
   ]
  },
  {
   "cell_type": "markdown",
   "metadata": {},
   "source": [
    "## Label Encoding"
   ]
  },
  {
   "cell_type": "code",
   "execution_count": 58,
   "metadata": {
    "execution": {
     "iopub.execute_input": "2022-01-25T13:19:35.029612Z",
     "iopub.status.busy": "2022-01-25T13:19:35.029286Z",
     "iopub.status.idle": "2022-01-25T13:19:35.244486Z",
     "shell.execute_reply": "2022-01-25T13:19:35.243195Z",
     "shell.execute_reply.started": "2022-01-25T13:19:35.029580Z"
    }
   },
   "outputs": [],
   "source": [
    "df_cars = df.copy()  # Cоздадим копию DataFrame\n",
    "\n",
    "# Кодируем категориальные признаки\n",
    "cat_cols = list(df.select_dtypes(exclude='number').columns)\n",
    "for column in cat_cols:\n",
    "    df_cars[column] = df_cars[column].astype('category').cat.codes"
   ]
  },
  {
   "cell_type": "code",
   "execution_count": 59,
   "metadata": {
    "execution": {
     "iopub.execute_input": "2022-01-25T13:19:35.250954Z",
     "iopub.status.busy": "2022-01-25T13:19:35.250570Z",
     "iopub.status.idle": "2022-01-25T13:19:39.908470Z",
     "shell.execute_reply": "2022-01-25T13:19:39.907339Z",
     "shell.execute_reply.started": "2022-01-25T13:19:35.250918Z"
    }
   },
   "outputs": [],
   "source": [
    "# посмотрим корреляционные связи между признаками\n",
    "fig, ax = plt.subplots(figsize=(25, 17))\n",
    "sns.heatmap(df_cars.corr(), cmap='terrain',\n",
    "            annot=True, fmt='.1g', center=0, ax=ax)"
   ]
  },
  {
   "cell_type": "markdown",
   "metadata": {},
   "source": [
    "**Видим высокую корреляцию между признаками:**\n",
    "* production_date и model_date (1)\n",
    "* engine_volume и engine_power (0,9)\n",
    "* body_type и vehicle_configuration (0,8)\n",
    "* mileage и production_date (-0,7)\n",
    "* mileage и model_date (-0,7)\n",
    "\n",
    "**Удалим поля:**\n",
    "* model_date\n",
    "* engine_volume\n",
    "* vehicle_configuration\n",
    "\n"
   ]
  },
  {
   "cell_type": "code",
   "execution_count": 60,
   "metadata": {
    "execution": {
     "iopub.execute_input": "2022-01-25T13:19:39.910912Z",
     "iopub.status.busy": "2022-01-25T13:19:39.910476Z",
     "iopub.status.idle": "2022-01-25T13:19:39.934277Z",
     "shell.execute_reply": "2022-01-25T13:19:39.933133Z",
     "shell.execute_reply.started": "2022-01-25T13:19:39.910869Z"
    }
   },
   "outputs": [],
   "source": [
    "df_cars = df_cars.drop(['model_date', 'engine_volume',\n",
    "                        'vehicle_configuration'], axis=1)\n",
    "#Выгрузим датасет для работы на локальной машине \n",
    "# df_cars.to_csv(\"/kaggle/working/df_cars.csv\")"
   ]
  },
  {
   "cell_type": "code",
   "execution_count": 61,
   "metadata": {
    "execution": {
     "iopub.execute_input": "2022-01-25T13:19:39.936274Z",
     "iopub.status.busy": "2022-01-25T13:19:39.935728Z",
     "iopub.status.idle": "2022-01-25T13:19:39.961983Z",
     "shell.execute_reply": "2022-01-25T13:19:39.961176Z",
     "shell.execute_reply.started": "2022-01-25T13:19:39.936241Z"
    }
   },
   "outputs": [],
   "source": [
    "df_cars.info()"
   ]
  },
  {
   "cell_type": "code",
   "execution_count": 62,
   "metadata": {
    "execution": {
     "iopub.execute_input": "2022-01-25T13:19:39.963820Z",
     "iopub.status.busy": "2022-01-25T13:19:39.963278Z",
     "iopub.status.idle": "2022-01-25T13:19:40.033162Z",
     "shell.execute_reply": "2022-01-25T13:19:40.032099Z",
     "shell.execute_reply.started": "2022-01-25T13:19:39.963756Z"
    }
   },
   "outputs": [],
   "source": [
    "# Разделяем обратно train и test\n",
    "train = df_cars.query('sample == 1').drop(['sample'], axis=1)\n",
    "test = df_cars.query('sample == 0').drop(['sample', 'price'], axis=1)\n"
   ]
  },
  {
   "cell_type": "markdown",
   "metadata": {
    "papermill": {
     "duration": 0.035737,
     "end_time": "2020-10-26T12:47:03.826552",
     "exception": false,
     "start_time": "2020-10-26T12:47:03.790815",
     "status": "completed"
    },
    "tags": []
   },
   "source": [
    "## Train Split"
   ]
  },
  {
   "cell_type": "code",
   "execution_count": 63,
   "metadata": {
    "execution": {
     "iopub.execute_input": "2022-01-25T13:19:40.049155Z",
     "iopub.status.busy": "2022-01-25T13:19:40.048744Z",
     "iopub.status.idle": "2022-01-25T13:19:40.076772Z",
     "shell.execute_reply": "2022-01-25T13:19:40.075916Z",
     "shell.execute_reply.started": "2022-01-25T13:19:40.049119Z"
    },
    "papermill": {
     "duration": 0.059208,
     "end_time": "2020-10-26T12:47:03.923564",
     "exception": false,
     "start_time": "2020-10-26T12:47:03.864356",
     "status": "completed"
    },
    "tags": []
   },
   "outputs": [],
   "source": [
    "RANDOM_SEED = 42\n",
    "y = train['price'].values\n",
    "X = train.drop(['price'], axis=1) \n",
    "\n",
    "X_train, X_test, y_train, y_test = train_test_split(\n",
    "    X, y, test_size=0.2, shuffle=True, random_state=RANDOM_SEED)"
   ]
  },
  {
   "cell_type": "markdown",
   "metadata": {},
   "source": [
    "## Model 1: Создадим \"наивную\" модель \n",
    "Эта модель будет предсказывать среднюю цену по модели двигателя (engineDisplacement). \n",
    "C ней будем сравнивать другие модели.\n",
    "\n",
    "\n"
   ]
  },
  {
   "cell_type": "code",
   "execution_count": 64,
   "metadata": {
    "execution": {
     "iopub.execute_input": "2022-01-25T13:19:40.078444Z",
     "iopub.status.busy": "2022-01-25T13:19:40.078027Z",
     "iopub.status.idle": "2022-01-25T13:19:40.085773Z",
     "shell.execute_reply": "2022-01-25T13:19:40.084475Z",
     "shell.execute_reply.started": "2022-01-25T13:19:40.078413Z"
    }
   },
   "outputs": [],
   "source": [
    "tmp_train = X_train.copy()\n",
    "tmp_train['price'] = y_train"
   ]
  },
  {
   "cell_type": "code",
   "execution_count": 65,
   "metadata": {
    "execution": {
     "iopub.execute_input": "2022-01-25T13:19:40.088590Z",
     "iopub.status.busy": "2022-01-25T13:19:40.087675Z",
     "iopub.status.idle": "2022-01-25T13:19:40.111489Z",
     "shell.execute_reply": "2022-01-25T13:19:40.109948Z",
     "shell.execute_reply.started": "2022-01-25T13:19:40.088544Z"
    }
   },
   "outputs": [],
   "source": [
    "# Находим median по экземплярам engine_power в трейне и размечаем тест\n",
    "predict = X_test['engine_power'].map(\n",
    "    tmp_train.groupby('engine_power')['price'].median())\n",
    "# не все уникальные значения engine_power были в test и train, заполним пропуски медианой\n",
    "predict.fillna(predict.median(), inplace=True)\n",
    "# оцениваем точность\n",
    "print(f\"Точность наивной модели по метрике MAPE: {(mape(y_test, predict.values))*100:0.2f}%\")\n",
    "# Точность наивной модели по метрике MAPE: 61.08%"
   ]
  },
  {
   "cell_type": "markdown",
   "metadata": {
    "papermill": {
     "duration": 0.035833,
     "end_time": "2020-10-26T12:47:04.149539",
     "exception": false,
     "start_time": "2020-10-26T12:47:04.113706",
     "status": "completed"
    },
    "tags": []
   },
   "source": [
    "## Model 2: CatBoost"
   ]
  },
  {
   "cell_type": "code",
   "execution_count": 66,
   "metadata": {
    "execution": {
     "iopub.execute_input": "2022-01-25T13:19:40.114496Z",
     "iopub.status.busy": "2022-01-25T13:19:40.113698Z",
     "iopub.status.idle": "2022-01-25T13:25:13.299884Z",
     "shell.execute_reply": "2022-01-25T13:25:13.298631Z",
     "shell.execute_reply.started": "2022-01-25T13:19:40.114446Z"
    },
    "papermill": {
     "duration": 67.991521,
     "end_time": "2020-10-26T12:48:12.178488",
     "exception": false,
     "start_time": "2020-10-26T12:47:04.186967",
     "status": "completed"
    },
    "tags": []
   },
   "outputs": [],
   "source": [
    "#Подбор гиперпараметров производился на локальной машине\n",
    "# parameters_grid ={'depth':[4,6,8,10],\n",
    "#                   'iterations':[100,300,600,1000,10000,20000],\n",
    "#                   'learning_rate':[0.01,0.05,0.1,0.15,0.2]\n",
    "#                  }\n",
    "# \"cb = CatBoostRegressor()\n",
    "# grid_search_result = cb.grid_search(parameters_grid, \n",
    "#                                        X=X_train, \n",
    "#                                        y=y_train, \n",
    "#                                        plot=True)\"\n",
    "\n",
    "\n",
    "# В CatBoost удалось подобрать оптимальные параметры для depth = 8, learning_rate=0.15 при кол-ве итераций 20000. \n",
    "DEPTH = 8\n",
    "ITERATIONS = 20000\n",
    "LR = 0.15\n",
    "cb = CatBoostRegressor(iterations=ITERATIONS,\n",
    "                       learning_rate=LR,\n",
    "                       depth=DEPTH,\n",
    "                       random_seed=RANDOM_SEED,\n",
    "                       eval_metric='MAPE',\n",
    "                       custom_metric=['R2', 'MAE']\n",
    "                       )\n",
    "cb.fit(X_train, y_train,\n",
    "       eval_set=(X_test, y_test),\n",
    "       verbose_eval=0,\n",
    "       use_best_model=True,\n",
    "       )\n",
    "\n",
    "cb.save_model('catboost_single_model_baseline.model')\n",
    "\n",
    "# оцениваем точность\n",
    "predict = cb.predict(X_test)\n",
    "print(f\"Точность модели по метрике MAPE: {(mape(y_test, predict))*100:0.2f}%\")\n",
    "# Точность модели по метрике MAPE: 13.85%"
   ]
  },
  {
   "cell_type": "markdown",
   "metadata": {},
   "source": [
    "## Model 3: RandomForest"
   ]
  },
  {
   "cell_type": "code",
   "execution_count": 67,
   "metadata": {
    "execution": {
     "iopub.execute_input": "2022-01-25T13:25:13.302348Z",
     "iopub.status.busy": "2022-01-25T13:25:13.301916Z",
     "iopub.status.idle": "2022-01-25T13:25:13.308179Z",
     "shell.execute_reply": "2022-01-25T13:25:13.307192Z",
     "shell.execute_reply.started": "2022-01-25T13:25:13.302296Z"
    }
   },
   "outputs": [],
   "source": [
    "rf = RandomForestRegressor(n_estimators=1000,\n",
    "                           n_jobs=-1,\n",
    "                           max_depth=15,\n",
    "                           max_features='log2',\n",
    "                           random_state=RANDOM_SEED,\n",
    "                           oob_score=True)\n",
    "\n",
    "#learn_print_MAPE(rf)\n",
    "\n",
    "# Точность модели по метрике MAPE: 21.69%"
   ]
  },
  {
   "cell_type": "markdown",
   "metadata": {},
   "source": [
    "## Model 4: LinerRegression"
   ]
  },
  {
   "cell_type": "code",
   "execution_count": 68,
   "metadata": {
    "execution": {
     "iopub.execute_input": "2022-01-25T13:25:13.310184Z",
     "iopub.status.busy": "2022-01-25T13:25:13.309767Z",
     "iopub.status.idle": "2022-01-25T13:25:13.383886Z",
     "shell.execute_reply": "2022-01-25T13:25:13.382889Z",
     "shell.execute_reply.started": "2022-01-25T13:25:13.310143Z"
    }
   },
   "outputs": [],
   "source": [
    "lr = LinearRegression()\n",
    "learn_print_MAPE(lr)\n",
    "#Точность модели по метрике MAPE: 106.71%"
   ]
  },
  {
   "cell_type": "markdown",
   "metadata": {},
   "source": [
    "## Model 5: GradientBoosting"
   ]
  },
  {
   "cell_type": "code",
   "execution_count": 69,
   "metadata": {
    "execution": {
     "iopub.execute_input": "2022-01-25T13:25:13.385639Z",
     "iopub.status.busy": "2022-01-25T13:25:13.385335Z",
     "iopub.status.idle": "2022-01-25T13:25:13.391484Z",
     "shell.execute_reply": "2022-01-25T13:25:13.390476Z",
     "shell.execute_reply.started": "2022-01-25T13:25:13.385609Z"
    }
   },
   "outputs": [],
   "source": [
    "#Подбор гиперпараметров производился на локальной машине\n",
    "# param_grid = {'learning_rate':[0.005, 0.01, 0.03], \n",
    "#               'n_estimators':[1250, 1500, 1750],\n",
    "#              'max_depth':[5,10]}\n",
    "# searcher = GridSearchCV(estimator=gb, param_grid=param_grid, scoring='neg_mean_squared_error', n_jobs=-1, cv=5)\n",
    "# searcher.fit(X_train,y_train)\n",
    "# best_ = searcher.best_params_\n",
    "# print(best_)\n",
    "\n",
    "gb = GradientBoostingRegressor(min_samples_split=2,\n",
    "                               learning_rate=0.03,\n",
    "                               max_depth=10,\n",
    "                               n_estimators=1000)\n",
    "# learn_print_MAPE(gb)\n",
    "\n",
    "# Tочность модели по метрике MAPE: 13.70"
   ]
  },
  {
   "cell_type": "markdown",
   "metadata": {},
   "source": [
    "## Model 6: LGBMRegressor"
   ]
  },
  {
   "cell_type": "code",
   "execution_count": 70,
   "metadata": {
    "execution": {
     "iopub.execute_input": "2022-01-25T13:25:13.393373Z",
     "iopub.status.busy": "2022-01-25T13:25:13.392687Z",
     "iopub.status.idle": "2022-01-25T13:25:13.408287Z",
     "shell.execute_reply": "2022-01-25T13:25:13.407263Z",
     "shell.execute_reply.started": "2022-01-25T13:25:13.393337Z"
    }
   },
   "outputs": [],
   "source": [
    "lgbmr = LGBMRegressor(objective='regression', max_depth=12, num_leaves=1000,\n",
    "                      learning_rate=0.02, n_estimators=22000, metric='mape',\n",
    "                      feature_fraction=0.6,\n",
    "                      )\n",
    "# learn_print_MAPE(lgbmr)\n",
    "\n",
    "# Точность модели по метрике MAPE: 16.91%"
   ]
  },
  {
   "cell_type": "markdown",
   "metadata": {},
   "source": [
    "## Model 7: Stacking"
   ]
  },
  {
   "cell_type": "code",
   "execution_count": 71,
   "metadata": {
    "execution": {
     "iopub.execute_input": "2022-01-25T13:25:13.410467Z",
     "iopub.status.busy": "2022-01-25T13:25:13.410053Z",
     "iopub.status.idle": "2022-01-25T13:29:31.943085Z",
     "shell.execute_reply": "2022-01-25T13:29:31.941858Z",
     "shell.execute_reply.started": "2022-01-25T13:25:13.410429Z"
    }
   },
   "outputs": [],
   "source": [
    "# По причине долгих вычислений на kaggle, пришлось ограничить число деревьев в каждом методе до 100.\n",
    "estimators = [\n",
    "              ('lgbmr', LGBMRegressor(objective='regression', max_depth=12, num_leaves=1000,\n",
    "                                      learning_rate=0.02, n_estimators=100, metric='mape',\n",
    "                                      feature_fraction=0.6,)),\n",
    "              ('gbr', GradientBoostingRegressor(min_samples_split=2,\n",
    "                                                learning_rate=0.03,\n",
    "                                                max_depth=10,\n",
    "                                                n_estimators=100))]\n",
    "\n",
    "st_ensemble = StackingRegressor(estimators=estimators,\n",
    "                                final_estimator=LinearRegression())\n",
    "\n",
    "# оцениваем точность\n",
    "st_ensemble.fit(X_train, np.log(y_train))\n",
    "predict_e = np.exp(st_ensemble.predict(X_test))\n",
    "print(f\"Точность модели по метрике MAPE: {(mape(y_test, predict_e))*100:0.2f}%\")\n",
    "# Точность модели по метрике MAPE: 13.13%\n"
   ]
  },
  {
   "cell_type": "markdown",
   "metadata": {},
   "source": [
    "Итоги.\n",
    "Протестировано 6 типов алгоритмов с регрессорами и 1 'наивный' для наглядности  \n",
    "Лучший результат точности показал стекинг на базе LGBMRegressor, GradientBoostingRegressor c  meta-LinearRegression().  \n",
    "В итоге, мы создали модель, которая показывает MAPE 13%, что неплохо, но можно еще улучшать модель.\n",
    "\n",
    "Основные признаки, которые влияют на цену автомобиля:\n",
    "* мощность двигателя\n",
    "* год выпуска\n",
    "* пробег  "
   ]
  },
  {
   "cell_type": "markdown",
   "metadata": {
    "papermill": {
     "duration": 0.085876,
     "end_time": "2020-10-26T12:48:12.734207",
     "exception": false,
     "start_time": "2020-10-26T12:48:12.648331",
     "status": "completed"
    },
    "tags": []
   },
   "source": [
    "# Submission"
   ]
  },
  {
   "cell_type": "code",
   "execution_count": 72,
   "metadata": {
    "execution": {
     "iopub.execute_input": "2022-01-25T13:29:31.945420Z",
     "iopub.status.busy": "2022-01-25T13:29:31.944987Z",
     "iopub.status.idle": "2022-01-25T13:29:32.553401Z",
     "shell.execute_reply": "2022-01-25T13:29:32.552380Z",
     "shell.execute_reply.started": "2022-01-25T13:29:31.945365Z"
    }
   },
   "outputs": [],
   "source": [
    "predict_submission = np.round(np.exp(st_ensemble.predict(test)),-3).astype('int')\n",
    "predict_submission "
   ]
  },
  {
   "cell_type": "code",
   "execution_count": 73,
   "metadata": {
    "execution": {
     "iopub.execute_input": "2022-01-25T13:29:32.555402Z",
     "iopub.status.busy": "2022-01-25T13:29:32.554997Z",
     "iopub.status.idle": "2022-01-25T13:29:33.207781Z",
     "shell.execute_reply": "2022-01-25T13:29:33.207043Z",
     "shell.execute_reply.started": "2022-01-25T13:29:32.555358Z"
    },
    "papermill": {
     "duration": 0.628302,
     "end_time": "2020-10-26T12:48:13.763488",
     "exception": false,
     "start_time": "2020-10-26T12:48:13.135186",
     "status": "completed"
    },
    "tags": []
   },
   "outputs": [],
   "source": [
    "sample_submission['price'] = predict_submission\n",
    "sample_submission.to_csv('submission.csv', index=False)\n",
    "sample_submission.head(3)"
   ]
  }
 ],
 "metadata": {
  "kernelspec": {
   "display_name": "Python 3",
   "language": "python",
   "name": "python3"
  },
  "language_info": {
   "codemirror_mode": {
    "name": "ipython",
    "version": 3
   },
   "file_extension": ".py",
   "mimetype": "text/x-python",
   "name": "python",
   "nbconvert_exporter": "python",
   "pygments_lexer": "ipython3",
   "version": "3.8.5"
  }
 },
 "nbformat": 4,
 "nbformat_minor": 4
}
