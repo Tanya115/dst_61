{
 "cells": [
  {
   "cell_type": "markdown",
   "metadata": {},
   "source": [
    "Вопрос 1. У какого фильма из списка самый большой бюджет?"
   ]
  },
  {
   "cell_type": "code",
   "execution_count": 3,
   "metadata": {},
   "outputs": [
    {
     "data": {
      "text/plain": [
       "original_title\n",
       "Pirates of the Caribbean: On Stranger Tides    380000000\n",
       "Name: budget, dtype: int64"
      ]
     },
     "execution_count": 3,
     "metadata": {},
     "output_type": "execute_result"
    }
   ],
   "source": [
    "import pandas as pd\n",
    "data = pd.read_csv('/Users/tatiana/Downloads/movie_bd_v5.csv')\n",
    "data_1 = data.groupby(['original_title'])['budget'].max().sort_values(ascending=False)\n",
    "data_1.head(1)"
   ]
  },
  {
   "cell_type": "markdown",
   "metadata": {},
   "source": [
    "Вопрос 2. Какой из фильмов самый длительный (в минутах)?"
   ]
  },
  {
   "cell_type": "code",
   "execution_count": 4,
   "metadata": {},
   "outputs": [
    {
     "data": {
      "text/plain": [
       "original_title\n",
       "Gods and Generals    214\n",
       "Name: runtime, dtype: int64"
      ]
     },
     "execution_count": 4,
     "metadata": {},
     "output_type": "execute_result"
    }
   ],
   "source": [
    "data_2 = data.groupby(['original_title'])['runtime'].max().sort_values(ascending=False)\n",
    "data_2.head(1)"
   ]
  },
  {
   "cell_type": "markdown",
   "metadata": {},
   "source": [
    "Вопрос 3. Какой из фильмов самый короткий (в минутах)?"
   ]
  },
  {
   "cell_type": "code",
   "execution_count": 14,
   "metadata": {},
   "outputs": [
    {
     "data": {
      "text/plain": [
       "original_title\n",
       "Winnie the Pooh    63\n",
       "Name: runtime, dtype: int64"
      ]
     },
     "execution_count": 14,
     "metadata": {},
     "output_type": "execute_result"
    }
   ],
   "source": [
    "data_3 = data.groupby(['original_title'])['runtime'].max().sort_values(ascending=False)\n",
    "data_3.tail(1)"
   ]
  },
  {
   "cell_type": "markdown",
   "metadata": {},
   "source": [
    "Вопрос 4. Какова средняя длительность фильмов?"
   ]
  },
  {
   "cell_type": "code",
   "execution_count": 18,
   "metadata": {},
   "outputs": [
    {
     "data": {
      "text/plain": [
       "110"
      ]
     },
     "execution_count": 18,
     "metadata": {},
     "output_type": "execute_result"
    }
   ],
   "source": [
    "data_4 = data.runtime.mean()\n",
    "round(data_4)"
   ]
  },
  {
   "cell_type": "markdown",
   "metadata": {},
   "source": [
    "Вопрос 5. Каково медианное значение длительности фильмов?"
   ]
  },
  {
   "cell_type": "code",
   "execution_count": 19,
   "metadata": {},
   "outputs": [
    {
     "data": {
      "text/plain": [
       "107"
      ]
     },
     "execution_count": 19,
     "metadata": {},
     "output_type": "execute_result"
    }
   ],
   "source": [
    "data_5 = data.runtime.median()\n",
    "round(data_5)"
   ]
  },
  {
   "cell_type": "markdown",
   "metadata": {},
   "source": [
    "Вопрос 6. Какой фильм самый прибыльный?"
   ]
  },
  {
   "cell_type": "code",
   "execution_count": 24,
   "metadata": {},
   "outputs": [
    {
     "data": {
      "text/plain": [
       "239    Avatar\n",
       "Name: original_title, dtype: object"
      ]
     },
     "execution_count": 24,
     "metadata": {},
     "output_type": "execute_result"
    }
   ],
   "source": [
    "data['profit'] = data['revenue'] - data['budget']\n",
    "data[data.profit==data.profit.max()].original_title"
   ]
  },
  {
   "cell_type": "markdown",
   "metadata": {},
   "source": [
    "Вопрос 7. Какой фильм самый убыточный?"
   ]
  },
  {
   "cell_type": "code",
   "execution_count": 25,
   "metadata": {},
   "outputs": [
    {
     "data": {
      "text/plain": [
       "1245    The Lone Ranger\n",
       "Name: original_title, dtype: object"
      ]
     },
     "execution_count": 25,
     "metadata": {},
     "output_type": "execute_result"
    }
   ],
   "source": [
    "data['profit'] = data['revenue'] - data['budget']\n",
    "data[data.profit==data.profit.min()].original_title"
   ]
  },
  {
   "cell_type": "markdown",
   "metadata": {},
   "source": [
    "Вопрос 8. У скольких фильмов из датасета объем сборов оказался выше бюджета?"
   ]
  },
  {
   "cell_type": "code",
   "execution_count": 27,
   "metadata": {},
   "outputs": [
    {
     "data": {
      "text/plain": [
       "True     1478\n",
       "False     411\n",
       "Name: profit, dtype: int64"
      ]
     },
     "execution_count": 27,
     "metadata": {},
     "output_type": "execute_result"
    }
   ],
   "source": [
    "data['profit'] = data['revenue'] > data['budget']\n",
    "data['profit'].value_counts()"
   ]
  },
  {
   "cell_type": "markdown",
   "metadata": {},
   "source": [
    "Вопрос 9. Какой фильм оказался самым кассовым в 2008 году?"
   ]
  },
  {
   "cell_type": "code",
   "execution_count": 28,
   "metadata": {},
   "outputs": [
    {
     "data": {
      "text/plain": [
       "599    The Dark Knight\n",
       "Name: original_title, dtype: object"
      ]
     },
     "execution_count": 28,
     "metadata": {},
     "output_type": "execute_result"
    }
   ],
   "source": [
    "data['profit'] = data['revenue'] - data['budget']\n",
    "film_2008 = data[data.release_year==2008]\n",
    "film_2008[(film_2008.profit==film_2008.profit.max())].original_title"
   ]
  },
  {
   "cell_type": "markdown",
   "metadata": {},
   "source": [
    "Вопрос 10. Самый убыточный фильм за период с 2012 по 2014 годы (включительно)?"
   ]
  },
  {
   "cell_type": "code",
   "execution_count": 29,
   "metadata": {},
   "outputs": [
    {
     "data": {
      "text/plain": [
       "1245    The Lone Ranger\n",
       "Name: original_title, dtype: object"
      ]
     },
     "execution_count": 29,
     "metadata": {},
     "output_type": "execute_result"
    }
   ],
   "source": [
    "data['profit'] = data['revenue'] - data['budget']\n",
    "films_2012_2014 = data[data.release_year.between(2012,2014)]\n",
    "films_2012_2014[(films_2012_2014.profit==films_2012_2014.profit.min())].original_title"
   ]
  },
  {
   "cell_type": "markdown",
   "metadata": {},
   "source": [
    "Вопрос 11. Какого жанра фильмов больше всего?"
   ]
  },
  {
   "cell_type": "code",
   "execution_count": 31,
   "metadata": {},
   "outputs": [
    {
     "data": {
      "text/plain": [
       "Drama              782\n",
       "Comedy             683\n",
       "Thriller           596\n",
       "Action             582\n",
       "Adventure          415\n",
       "Crime              315\n",
       "Romance            308\n",
       "Family             260\n",
       "Science Fiction    248\n",
       "Fantasy            222\n",
       "Horror             176\n",
       "Mystery            168\n",
       "Animation          139\n",
       "Music               64\n",
       "History             62\n",
       "War                 58\n",
       "Western             19\n",
       "Documentary          8\n",
       "Foreign              2\n",
       "Name: genres, dtype: int64"
      ]
     },
     "execution_count": 31,
     "metadata": {},
     "output_type": "execute_result"
    }
   ],
   "source": [
    "data_11=data.copy()\n",
    "data_11['genres'] = data_11['genres'].apply(lambda x: x.split('|'))\n",
    "data_11 = data_11.explode('genres')\n",
    "data_11['genres'].value_counts()"
   ]
  },
  {
   "cell_type": "markdown",
   "metadata": {},
   "source": [
    "Вопрос 12. Фильмы какого жанра чаще всего становятся прибыльными?"
   ]
  },
  {
   "cell_type": "code",
   "execution_count": 32,
   "metadata": {},
   "outputs": [
    {
     "data": {
      "text/plain": [
       "Drama              560\n",
       "Comedy             551\n",
       "Thriller           446\n",
       "Action             444\n",
       "Adventure          337\n",
       "Romance            242\n",
       "Crime              231\n",
       "Family             226\n",
       "Science Fiction    195\n",
       "Fantasy            188\n",
       "Horror             150\n",
       "Animation          120\n",
       "Mystery            119\n",
       "Music               47\n",
       "History             46\n",
       "War                 41\n",
       "Western             12\n",
       "Documentary          7\n",
       "Name: genres, dtype: int64"
      ]
     },
     "execution_count": 32,
     "metadata": {},
     "output_type": "execute_result"
    }
   ],
   "source": [
    "data['profit'] = data['revenue']-data['budget']\n",
    "profit_film = data[data.profit > 0].copy() \n",
    "profit_film.genres = profit_film.genres.str.split('|')\n",
    "profit_genres = profit_film.explode('genres').genres "
   ]
  },
  {
   "cell_type": "markdown",
   "metadata": {},
   "source": [
    "Вопрос 13. У какого режиссёра самые большие суммарные кассовые сборы?"
   ]
  },
  {
   "cell_type": "code",
   "execution_count": 35,
   "metadata": {},
   "outputs": [
    {
     "data": {
      "text/plain": [
       "'Peter Jackson'"
      ]
     },
     "execution_count": 35,
     "metadata": {},
     "output_type": "execute_result"
    }
   ],
   "source": [
    "data_by_director = data.copy()\n",
    "data_by_director.director = data_by_director\\\n",
    "    .director.apply(lambda s: str(s).split(\"|\"))\n",
    "data_by_director = data_by_director.explode(\"director\")\n",
    "data_by_director = data_by_director\\\n",
    "    .groupby(\"director\").revenue.sum()\\\n",
    "    .sort_values(ascending=False)\\\n",
    "    .index[0]\n",
    "data_by_director"
   ]
  },
  {
   "cell_type": "markdown",
   "metadata": {},
   "source": [
    "Вопрос 14. Какой режиссер снял больше всего фильмов в стиле Action?"
   ]
  },
  {
   "cell_type": "code",
   "execution_count": 36,
   "metadata": {},
   "outputs": [
    {
     "data": {
      "text/plain": [
       "Robert Rodriguez      9\n",
       "Michael Bay           7\n",
       "Paul W.S. Anderson    7\n",
       "Ridley Scott          6\n",
       "Antoine Fuqua         6\n",
       "                     ..\n",
       "Ron Shelton           1\n",
       "John Luessenhop       1\n",
       "Jan de Bont           1\n",
       "Adam Wingard          1\n",
       "Eli Roth              1\n",
       "Name: director, Length: 364, dtype: int64"
      ]
     },
     "execution_count": 36,
     "metadata": {},
     "output_type": "execute_result"
    }
   ],
   "source": [
    "data_14 = data.copy()\n",
    "data_14['director'] = data_14['director'].str.split('|')\n",
    "data_14 = data_14.explode('director')\n",
    "data_14['genres'] = data_14['genres'].str.split('|')\n",
    "data_14 = data_14.explode('genres')\n",
    "data_14[data_14['genres'] == 'Action'].director.value_counts().sort_values(ascending=False)"
   ]
  },
  {
   "cell_type": "markdown",
   "metadata": {},
   "source": [
    "Вопрос 15. Фильмы с каким актером принесли самые высокие кассовые сборы в 2012 году?"
   ]
  },
  {
   "cell_type": "code",
   "execution_count": 37,
   "metadata": {},
   "outputs": [
    {
     "data": {
      "text/html": [
       "<div>\n",
       "<style scoped>\n",
       "    .dataframe tbody tr th:only-of-type {\n",
       "        vertical-align: middle;\n",
       "    }\n",
       "\n",
       "    .dataframe tbody tr th {\n",
       "        vertical-align: top;\n",
       "    }\n",
       "\n",
       "    .dataframe thead th {\n",
       "        text-align: right;\n",
       "    }\n",
       "</style>\n",
       "<table border=\"1\" class=\"dataframe\">\n",
       "  <thead>\n",
       "    <tr style=\"text-align: right;\">\n",
       "      <th></th>\n",
       "      <th>budget</th>\n",
       "      <th>revenue</th>\n",
       "      <th>runtime</th>\n",
       "      <th>vote_average</th>\n",
       "      <th>release_year</th>\n",
       "      <th>profit</th>\n",
       "    </tr>\n",
       "    <tr>\n",
       "      <th>cast</th>\n",
       "      <th></th>\n",
       "      <th></th>\n",
       "      <th></th>\n",
       "      <th></th>\n",
       "      <th></th>\n",
       "      <th></th>\n",
       "    </tr>\n",
       "  </thead>\n",
       "  <tbody>\n",
       "    <tr>\n",
       "      <th>Robert Downey Jr.|Chris Evans|Mark Ruffalo|Chris Hemsworth|Scarlett Johansson</th>\n",
       "      <td>220000000</td>\n",
       "      <td>1519557910</td>\n",
       "      <td>143</td>\n",
       "      <td>7.3</td>\n",
       "      <td>2012</td>\n",
       "      <td>1299557910</td>\n",
       "    </tr>\n",
       "    <tr>\n",
       "      <th>Daniel Craig|Judi Dench|Javier Bardem|Ralph Fiennes|Naomie Harris</th>\n",
       "      <td>200000000</td>\n",
       "      <td>1108561013</td>\n",
       "      <td>143</td>\n",
       "      <td>6.8</td>\n",
       "      <td>2012</td>\n",
       "      <td>908561013</td>\n",
       "    </tr>\n",
       "    <tr>\n",
       "      <th>Christian Bale|Michael Caine|Gary Oldman|Anne Hathaway|Tom Hardy</th>\n",
       "      <td>250000000</td>\n",
       "      <td>1081041287</td>\n",
       "      <td>165</td>\n",
       "      <td>7.5</td>\n",
       "      <td>2012</td>\n",
       "      <td>831041287</td>\n",
       "    </tr>\n",
       "    <tr>\n",
       "      <th>Ian McKellen|Martin Freeman|Richard Armitage|Andy Serkis|Cate Blanchett</th>\n",
       "      <td>250000000</td>\n",
       "      <td>1017003568</td>\n",
       "      <td>169</td>\n",
       "      <td>6.9</td>\n",
       "      <td>2012</td>\n",
       "      <td>767003568</td>\n",
       "    </tr>\n",
       "    <tr>\n",
       "      <th>John Leguizamo|Ray Romano|Chris Wedge|Denis Leary|Seann William Scott</th>\n",
       "      <td>95000000</td>\n",
       "      <td>877244782</td>\n",
       "      <td>88</td>\n",
       "      <td>6.2</td>\n",
       "      <td>2012</td>\n",
       "      <td>782244782</td>\n",
       "    </tr>\n",
       "    <tr>\n",
       "      <th>...</th>\n",
       "      <td>...</td>\n",
       "      <td>...</td>\n",
       "      <td>...</td>\n",
       "      <td>...</td>\n",
       "      <td>...</td>\n",
       "      <td>...</td>\n",
       "    </tr>\n",
       "    <tr>\n",
       "      <th>Kirsten Dunst|Jim Sturgess|Timothy Spall|James Kidnie|Heidi Hawkins</th>\n",
       "      <td>60000000</td>\n",
       "      <td>8106475</td>\n",
       "      <td>104</td>\n",
       "      <td>6.1</td>\n",
       "      <td>2012</td>\n",
       "      <td>-51893525</td>\n",
       "    </tr>\n",
       "    <tr>\n",
       "      <th>Robert Pattinson|Sarah Gadon|Juliette Binoche|Paul Giamatti|Samantha Morton</th>\n",
       "      <td>20500000</td>\n",
       "      <td>6063556</td>\n",
       "      <td>109</td>\n",
       "      <td>4.8</td>\n",
       "      <td>2012</td>\n",
       "      <td>-14436444</td>\n",
       "    </tr>\n",
       "    <tr>\n",
       "      <th>Bruce Willis|Josh Duhamel|Rosario Dawson|Vincent D'Onofrio|50 Cent</th>\n",
       "      <td>20000000</td>\n",
       "      <td>4636169</td>\n",
       "      <td>97</td>\n",
       "      <td>5.7</td>\n",
       "      <td>2012</td>\n",
       "      <td>-15363831</td>\n",
       "    </tr>\n",
       "    <tr>\n",
       "      <th>Jason Bateman|Hope Davis|Frank Grillo|Paula Patton|Michael Nyqvist</th>\n",
       "      <td>10000000</td>\n",
       "      <td>3428048</td>\n",
       "      <td>115</td>\n",
       "      <td>6.7</td>\n",
       "      <td>2012</td>\n",
       "      <td>-6571952</td>\n",
       "    </tr>\n",
       "    <tr>\n",
       "      <th>Nicolas Cage|Malin Ã…kerman|Josh Lucas|Sami Gayle|Danny Huston</th>\n",
       "      <td>35000000</td>\n",
       "      <td>2106557</td>\n",
       "      <td>96</td>\n",
       "      <td>5.1</td>\n",
       "      <td>2012</td>\n",
       "      <td>-32893443</td>\n",
       "    </tr>\n",
       "  </tbody>\n",
       "</table>\n",
       "<p>111 rows × 6 columns</p>\n",
       "</div>"
      ],
      "text/plain": [
       "                                                       budget     revenue  \\\n",
       "cast                                                                        \n",
       "Robert Downey Jr.|Chris Evans|Mark Ruffalo|Chri...  220000000  1519557910   \n",
       "Daniel Craig|Judi Dench|Javier Bardem|Ralph Fie...  200000000  1108561013   \n",
       "Christian Bale|Michael Caine|Gary Oldman|Anne H...  250000000  1081041287   \n",
       "Ian McKellen|Martin Freeman|Richard Armitage|An...  250000000  1017003568   \n",
       "John Leguizamo|Ray Romano|Chris Wedge|Denis Lea...   95000000   877244782   \n",
       "...                                                       ...         ...   \n",
       "Kirsten Dunst|Jim Sturgess|Timothy Spall|James ...   60000000     8106475   \n",
       "Robert Pattinson|Sarah Gadon|Juliette Binoche|P...   20500000     6063556   \n",
       "Bruce Willis|Josh Duhamel|Rosario Dawson|Vincen...   20000000     4636169   \n",
       "Jason Bateman|Hope Davis|Frank Grillo|Paula Pat...   10000000     3428048   \n",
       "Nicolas Cage|Malin Ã…kerman|Josh Lucas|Sami Gay...   35000000     2106557   \n",
       "\n",
       "                                                    runtime  vote_average  \\\n",
       "cast                                                                        \n",
       "Robert Downey Jr.|Chris Evans|Mark Ruffalo|Chri...      143           7.3   \n",
       "Daniel Craig|Judi Dench|Javier Bardem|Ralph Fie...      143           6.8   \n",
       "Christian Bale|Michael Caine|Gary Oldman|Anne H...      165           7.5   \n",
       "Ian McKellen|Martin Freeman|Richard Armitage|An...      169           6.9   \n",
       "John Leguizamo|Ray Romano|Chris Wedge|Denis Lea...       88           6.2   \n",
       "...                                                     ...           ...   \n",
       "Kirsten Dunst|Jim Sturgess|Timothy Spall|James ...      104           6.1   \n",
       "Robert Pattinson|Sarah Gadon|Juliette Binoche|P...      109           4.8   \n",
       "Bruce Willis|Josh Duhamel|Rosario Dawson|Vincen...       97           5.7   \n",
       "Jason Bateman|Hope Davis|Frank Grillo|Paula Pat...      115           6.7   \n",
       "Nicolas Cage|Malin Ã…kerman|Josh Lucas|Sami Gay...       96           5.1   \n",
       "\n",
       "                                                    release_year      profit  \n",
       "cast                                                                          \n",
       "Robert Downey Jr.|Chris Evans|Mark Ruffalo|Chri...          2012  1299557910  \n",
       "Daniel Craig|Judi Dench|Javier Bardem|Ralph Fie...          2012   908561013  \n",
       "Christian Bale|Michael Caine|Gary Oldman|Anne H...          2012   831041287  \n",
       "Ian McKellen|Martin Freeman|Richard Armitage|An...          2012   767003568  \n",
       "John Leguizamo|Ray Romano|Chris Wedge|Denis Lea...          2012   782244782  \n",
       "...                                                          ...         ...  \n",
       "Kirsten Dunst|Jim Sturgess|Timothy Spall|James ...          2012   -51893525  \n",
       "Robert Pattinson|Sarah Gadon|Juliette Binoche|P...          2012   -14436444  \n",
       "Bruce Willis|Josh Duhamel|Rosario Dawson|Vincen...          2012   -15363831  \n",
       "Jason Bateman|Hope Davis|Frank Grillo|Paula Pat...          2012    -6571952  \n",
       "Nicolas Cage|Malin Ã…kerman|Josh Lucas|Sami Gay...          2012   -32893443  \n",
       "\n",
       "[111 rows x 6 columns]"
      ]
     },
     "execution_count": 37,
     "metadata": {},
     "output_type": "execute_result"
    }
   ],
   "source": [
    "data_15 = data[data['release_year'] == 2012]\n",
    "data_15.explode('cast').groupby(by='cast').sum().sort_values(by='revenue', ascending=False)"
   ]
  },
  {
   "cell_type": "markdown",
   "metadata": {},
   "source": [
    "Вопрос 16. Какой актер снялся в большем количестве высокобюджетных фильмов? Примечание: в фильмах, где бюджет выше среднего по данной выборке."
   ]
  },
  {
   "cell_type": "code",
   "execution_count": 54,
   "metadata": {},
   "outputs": [
    {
     "data": {
      "text/html": [
       "<div>\n",
       "<style scoped>\n",
       "    .dataframe tbody tr th:only-of-type {\n",
       "        vertical-align: middle;\n",
       "    }\n",
       "\n",
       "    .dataframe tbody tr th {\n",
       "        vertical-align: top;\n",
       "    }\n",
       "\n",
       "    .dataframe thead th {\n",
       "        text-align: right;\n",
       "    }\n",
       "</style>\n",
       "<table border=\"1\" class=\"dataframe\">\n",
       "  <thead>\n",
       "    <tr style=\"text-align: right;\">\n",
       "      <th></th>\n",
       "      <th>original_title</th>\n",
       "    </tr>\n",
       "    <tr>\n",
       "      <th>cast</th>\n",
       "      <th></th>\n",
       "    </tr>\n",
       "  </thead>\n",
       "  <tbody>\n",
       "    <tr>\n",
       "      <th>Matt Damon</th>\n",
       "      <td>18</td>\n",
       "    </tr>\n",
       "    <tr>\n",
       "      <th>Adam Sandler</th>\n",
       "      <td>17</td>\n",
       "    </tr>\n",
       "    <tr>\n",
       "      <th>Angelina Jolie</th>\n",
       "      <td>16</td>\n",
       "    </tr>\n",
       "    <tr>\n",
       "      <th>Tom Cruise</th>\n",
       "      <td>15</td>\n",
       "    </tr>\n",
       "    <tr>\n",
       "      <th>Eddie Murphy</th>\n",
       "      <td>15</td>\n",
       "    </tr>\n",
       "    <tr>\n",
       "      <th>...</th>\n",
       "      <td>...</td>\n",
       "    </tr>\n",
       "    <tr>\n",
       "      <th>Jennifer Hudson</th>\n",
       "      <td>1</td>\n",
       "    </tr>\n",
       "    <tr>\n",
       "      <th>Jennifer Jason Leigh</th>\n",
       "      <td>1</td>\n",
       "    </tr>\n",
       "    <tr>\n",
       "      <th>Jennifer Saunders</th>\n",
       "      <td>1</td>\n",
       "    </tr>\n",
       "    <tr>\n",
       "      <th>Jennifer Tilly</th>\n",
       "      <td>1</td>\n",
       "    </tr>\n",
       "    <tr>\n",
       "      <th>Ã“lafur Darri Ã“lafsson</th>\n",
       "      <td>1</td>\n",
       "    </tr>\n",
       "  </tbody>\n",
       "</table>\n",
       "<p>1505 rows × 1 columns</p>\n",
       "</div>"
      ],
      "text/plain": [
       "                         original_title\n",
       "cast                                   \n",
       "Matt Damon                           18\n",
       "Adam Sandler                         17\n",
       "Angelina Jolie                       16\n",
       "Tom Cruise                           15\n",
       "Eddie Murphy                         15\n",
       "...                                 ...\n",
       "Jennifer Hudson                       1\n",
       "Jennifer Jason Leigh                  1\n",
       "Jennifer Saunders                     1\n",
       "Jennifer Tilly                        1\n",
       "Ã“lafur Darri Ã“lafsson               1\n",
       "\n",
       "[1505 rows x 1 columns]"
      ]
     },
     "execution_count": 54,
     "metadata": {},
     "output_type": "execute_result"
    }
   ],
   "source": [
    "data_16 = pd.read_csv('/Users/tatiana/Downloads/movie_bd_v5.csv')\n",
    "data_16['cast']=data_16.cast.map(lambda x: x.split('|'))\n",
    "data_16=data_16.explode('cast')\n",
    "data_16[data_16['budget']>data_16['budget'].mean()].groupby('cast')[['original_title']].count(\n",
    ").sort_values(by='original_title', ascending=False)"
   ]
  },
  {
   "cell_type": "markdown",
   "metadata": {},
   "source": [
    "Вопрос 17. В фильмах какого жанра больше всего снимался Nicolas Cage?"
   ]
  },
  {
   "cell_type": "code",
   "execution_count": 59,
   "metadata": {},
   "outputs": [
    {
     "data": {
      "text/html": [
       "<div>\n",
       "<style scoped>\n",
       "    .dataframe tbody tr th:only-of-type {\n",
       "        vertical-align: middle;\n",
       "    }\n",
       "\n",
       "    .dataframe tbody tr th {\n",
       "        vertical-align: top;\n",
       "    }\n",
       "\n",
       "    .dataframe thead th {\n",
       "        text-align: right;\n",
       "    }\n",
       "</style>\n",
       "<table border=\"1\" class=\"dataframe\">\n",
       "  <thead>\n",
       "    <tr style=\"text-align: right;\">\n",
       "      <th></th>\n",
       "      <th>imdb_id</th>\n",
       "      <th>budget</th>\n",
       "      <th>revenue</th>\n",
       "      <th>original_title</th>\n",
       "      <th>cast</th>\n",
       "      <th>director</th>\n",
       "      <th>tagline</th>\n",
       "      <th>overview</th>\n",
       "      <th>runtime</th>\n",
       "      <th>genres</th>\n",
       "      <th>production_companies</th>\n",
       "      <th>release_date</th>\n",
       "      <th>vote_average</th>\n",
       "      <th>release_year</th>\n",
       "      <th>profit</th>\n",
       "    </tr>\n",
       "  </thead>\n",
       "  <tbody>\n",
       "    <tr>\n",
       "      <th>22</th>\n",
       "      <td>tt2126355</td>\n",
       "      <td>110000000</td>\n",
       "      <td>470490832</td>\n",
       "      <td>San Andreas</td>\n",
       "      <td>['Nicolas Cage', 'Kristen Bell', 'Bill Nighy',...</td>\n",
       "      <td>Brad Peyton</td>\n",
       "      <td>A rescue pilot survived an earthquake, this is...</td>\n",
       "      <td>In the aftermath of a massive earthquake in Ca...</td>\n",
       "      <td>114</td>\n",
       "      <td>Action|Drama|Thriller</td>\n",
       "      <td>New Line Cinema|Village Roadshow Pictures|Warn...</td>\n",
       "      <td>5/27/2015</td>\n",
       "      <td>6.1</td>\n",
       "      <td>2015</td>\n",
       "      <td>360490832</td>\n",
       "    </tr>\n",
       "  </tbody>\n",
       "</table>\n",
       "</div>"
      ],
      "text/plain": [
       "      imdb_id     budget    revenue original_title  \\\n",
       "22  tt2126355  110000000  470490832    San Andreas   \n",
       "\n",
       "                                                 cast     director  \\\n",
       "22  ['Nicolas Cage', 'Kristen Bell', 'Bill Nighy',...  Brad Peyton   \n",
       "\n",
       "                                              tagline  \\\n",
       "22  A rescue pilot survived an earthquake, this is...   \n",
       "\n",
       "                                             overview  runtime  \\\n",
       "22  In the aftermath of a massive earthquake in Ca...      114   \n",
       "\n",
       "                   genres                               production_companies  \\\n",
       "22  Action|Drama|Thriller  New Line Cinema|Village Roadshow Pictures|Warn...   \n",
       "\n",
       "   release_date  vote_average  release_year     profit  \n",
       "22    5/27/2015           6.1          2015  360490832  "
      ]
     },
     "execution_count": 59,
     "metadata": {},
     "output_type": "execute_result"
    }
   ],
   "source": [
    "data_17 = data.copy()\n",
    "data_17[data_17.cast.str.contains('Nicolas Cage', na=False)]"
   ]
  },
  {
   "cell_type": "markdown",
   "metadata": {},
   "source": [
    "Вопрос 18. Самый убыточный фильм от Paramount Pictures?"
   ]
  },
  {
   "cell_type": "code",
   "execution_count": 63,
   "metadata": {},
   "outputs": [
    {
     "data": {
      "text/plain": [
       "original_title\n",
       "Transformers: Dark of the Moon                        928746996\n",
       "Transformers: Revenge of the Fallen                   686297228\n",
       "Indiana Jones and the Kingdom of the Crystal Skull    601636033\n",
       "Transformers                                          559709780\n",
       "Mission: Impossible - Ghost Protocol                  549713380\n",
       "                                                        ...    \n",
       "Twisted                                               -24805000\n",
       "Alfie                                                 -46604061\n",
       "Next                                                  -51788987\n",
       "Timeline                                              -60519261\n",
       "K-19: The Widowmaker                                  -64831034\n",
       "Name: profit, Length: 122, dtype: int64"
      ]
     },
     "execution_count": 63,
     "metadata": {},
     "output_type": "execute_result"
    }
   ],
   "source": [
    "data_18 = data.copy()\n",
    "data_18['profit'] = data['revenue'] - data['budget']\n",
    "data_18= data[data['production_companies'].str.contains('Paramount Pictures')]\n",
    "data_18.groupby('original_title').profit.sum().sort_values(ascending=False)"
   ]
  },
  {
   "cell_type": "markdown",
   "metadata": {},
   "source": [
    "Вопрос 19. Какой год стал самым успешным по суммарным кассовым сборам?"
   ]
  },
  {
   "cell_type": "code",
   "execution_count": 66,
   "metadata": {},
   "outputs": [
    {
     "data": {
      "text/plain": [
       "2015"
      ]
     },
     "execution_count": 66,
     "metadata": {},
     "output_type": "execute_result"
    }
   ],
   "source": [
    "data_19 = pd.read_csv('/Users/tatiana/Downloads/movie_bd_v5.csv')\n",
    "data_19 = data_19.groupby(['release_year']).revenue.sum().sort_values(ascending=False).index[0]\n",
    "data_19"
   ]
  },
  {
   "cell_type": "markdown",
   "metadata": {},
   "source": [
    "Вопрос 20. Какой самый прибыльный год для студии Warner Bros?"
   ]
  },
  {
   "cell_type": "code",
   "execution_count": 69,
   "metadata": {},
   "outputs": [
    {
     "data": {
      "text/plain": [
       "release_year\n",
       "2014    2295464519\n",
       "2007    2201675217\n",
       "2008    2134595031\n",
       "2010    1974712985\n",
       "2011    1871393682\n",
       "2003    1855493377\n",
       "2009    1822454136\n",
       "2013    1636453400\n",
       "2004    1631933725\n",
       "2005    1551980298\n",
       "2001    1343545668\n",
       "2012    1258020056\n",
       "2002    1022709901\n",
       "2015     870368348\n",
       "2006     620170743\n",
       "2000     452631386\n",
       "Name: profit, dtype: int64"
      ]
     },
     "execution_count": 69,
     "metadata": {},
     "output_type": "execute_result"
    }
   ],
   "source": [
    "data['profit'] = data['revenue'] - data['budget']\n",
    "data_20 = data[data['production_companies'].str.contains('Warner Bros')]\n",
    "data_20.groupby('release_year').profit.sum().sort_values(ascending=False)"
   ]
  },
  {
   "cell_type": "markdown",
   "metadata": {},
   "source": [
    "Вопрос 21. В каком месяце за все годы суммарно вышло больше всего фильмов?"
   ]
  },
  {
   "cell_type": "code",
   "execution_count": 71,
   "metadata": {},
   "outputs": [
    {
     "data": {
      "text/plain": [
       "227"
      ]
     },
     "execution_count": 71,
     "metadata": {},
     "output_type": "execute_result"
    }
   ],
   "source": [
    "data = pd.read_csv('/Users/tatiana/Downloads/movie_bd_v5.csv')\n",
    "data.release_date = pd.to_datetime(data.release_date)\n",
    "data[data.release_date.dt.month.isin([9])].shape[0]"
   ]
  },
  {
   "cell_type": "markdown",
   "metadata": {},
   "source": [
    "Вопрос 22. Сколько суммарно вышло фильмов летом (за июнь, июль, август)?"
   ]
  },
  {
   "cell_type": "code",
   "execution_count": 73,
   "metadata": {},
   "outputs": [
    {
     "data": {
      "text/plain": [
       "450"
      ]
     },
     "execution_count": 73,
     "metadata": {},
     "output_type": "execute_result"
    }
   ],
   "source": [
    "data.release_date = pd.to_datetime(data.release_date)\n",
    "data[data.release_date.dt.month.isin([6,7,8])].shape[0]"
   ]
  },
  {
   "cell_type": "markdown",
   "metadata": {},
   "source": [
    "Вопрос 23. Для какого режиссера зима — самое продуктивное время года?"
   ]
  },
  {
   "cell_type": "code",
   "execution_count": 77,
   "metadata": {},
   "outputs": [
    {
     "data": {
      "text/plain": [
       "Series([], Name: director, dtype: int64)"
      ]
     },
     "execution_count": 77,
     "metadata": {},
     "output_type": "execute_result"
    }
   ],
   "source": [
    "data = pd.read_csv('/Users/tatiana/Downloads/movie_bd_v5.csv')\n",
    "data['director'] = data['director'].apply(lambda x:x.split('|'))\n",
    "data.release_date = data.release_date.apply(lambda x:x.split('/'))\n",
    "data['month'] = data['release_date'].apply(lambda x:x[0])\n",
    "pivot = data.loc[data['month'].isin([12, 1, 2])]\n",
    "pivot['director'].value_counts().head(1)"
   ]
  },
  {
   "cell_type": "markdown",
   "metadata": {},
   "source": [
    "Вопрос 24. Какая студия даёт самые длинные названия своим фильмам по количеству символов?"
   ]
  },
  {
   "cell_type": "code",
   "execution_count": 78,
   "metadata": {},
   "outputs": [
    {
     "data": {
      "text/plain": [
       "'Twentieth Century Fox Film Corporation|Four By Two Productions'"
      ]
     },
     "execution_count": 78,
     "metadata": {},
     "output_type": "execute_result"
    }
   ],
   "source": [
    "data['char_title_count'] = data['original_title'].apply(lambda x: len(x.replace(\" \", \" \")))\n",
    "data.groupby('production_companies').char_title_count.mean().idxmax()"
   ]
  },
  {
   "cell_type": "markdown",
   "metadata": {},
   "source": [
    "Вопрос 25. Описания фильмов какой студии в среднем самые длинные по количеству слов?"
   ]
  },
  {
   "cell_type": "code",
   "execution_count": 80,
   "metadata": {},
   "outputs": [
    {
     "data": {
      "text/plain": [
       "'Midnight Picture Show'"
      ]
     },
     "execution_count": 80,
     "metadata": {},
     "output_type": "execute_result"
    }
   ],
   "source": [
    "data_25 = data.copy()\n",
    "data_25['overview_words_length'] = data_25.overview.map(lambda x: len(x.split(' ')))\n",
    "data_25['production_companies'] = data_25['production_companies'].str.split('|')\n",
    "data_25 = data_25.explode('production_companies')\n",
    "data_25.groupby('production_companies')['overview_words_length'].mean(\n",
    ").sort_values(ascending=False).index[0]"
   ]
  },
  {
   "cell_type": "markdown",
   "metadata": {},
   "source": [
    "Вопрос 26. Какие фильмы входят в один процент лучших по рейтингу?"
   ]
  },
  {
   "cell_type": "code",
   "execution_count": 81,
   "metadata": {},
   "outputs": [
    {
     "data": {
      "text/plain": [
       "9                                          Inside Out\n",
       "34                                               Room\n",
       "118                                      Interstellar\n",
       "119                           Guardians of the Galaxy\n",
       "125                                The Imitation Game\n",
       "128                                         Gone Girl\n",
       "138                          The Grand Budapest Hotel\n",
       "370                                         Inception\n",
       "599                                   The Dark Knight\n",
       "872                                       The Pianist\n",
       "1081    The Lord of the Rings: The Return of the King\n",
       "1183                          The Wolf of Wall Street\n",
       "1191                                 12 Years a Slave\n",
       "1800                                          Memento\n",
       "Name: original_title, dtype: object"
      ]
     },
     "execution_count": 81,
     "metadata": {},
     "output_type": "execute_result"
    }
   ],
   "source": [
    "data.original_title[data.vote_average.quantile(.99) < data.vote_average]"
   ]
  },
  {
   "cell_type": "markdown",
   "metadata": {},
   "source": [
    "Вопрос 27. Какие актеры чаще всего снимаются в одном фильме вместе?"
   ]
  },
  {
   "cell_type": "code",
   "execution_count": 86,
   "metadata": {},
   "outputs": [
    {
     "name": "stdout",
     "output_type": "stream",
     "text": [
      "размерность data до explode (1889, 15) \n",
      "\n",
      "размерность data после explode (18869, 15) \n",
      "\n"
     ]
    },
    {
     "data": {
      "text/plain": [
       "(Daniel Radcliffe, Emma Watson)        8\n",
       "(Daniel Radcliffe, Rupert Grint)       8\n",
       "(Emma Watson, Rupert Grint)            8\n",
       "(Ben Stiller, Owen Wilson)             6\n",
       "(Helena Bonham Carter, Johnny Depp)    6\n",
       "                                      ..\n",
       "(Damian Lewis, Morgan Freeman)         1\n",
       "(Malcolm McDowell, Mark Walton)        1\n",
       "(Ethan Hawke, Paul Freeman)            1\n",
       "(Donnie Wahlberg, Tyrese Gibson)       1\n",
       "(Rihanna, Tadanobu Asano)              1\n",
       "Name: cast_comb, Length: 17943, dtype: int64"
      ]
     },
     "execution_count": 86,
     "metadata": {},
     "output_type": "execute_result"
    }
   ],
   "source": [
    "import itertools as it\n",
    "import pandas as pd\n",
    "data = pd.read_csv('/Users/tatiana/Downloads/movie_bd_v5.csv')\n",
    "data['cast_comb'] = data.cast.str.split('|').apply(lambda x: tuple(it.combinations(sorted(x),2)))\n",
    "print('размерность data до explode',data.shape,'\\n')\n",
    "data = data.explode('cast_comb')\n",
    "print('размерность data после explode',data.shape,'\\n')\n",
    "data.cast_comb.value_counts()"
   ]
  },
  {
   "cell_type": "code",
   "execution_count": null,
   "metadata": {},
   "outputs": [],
   "source": []
  }
 ],
 "metadata": {
  "kernelspec": {
   "display_name": "Python 3",
   "language": "python",
   "name": "python3"
  },
  "language_info": {
   "codemirror_mode": {
    "name": "ipython",
    "version": 3
   },
   "file_extension": ".py",
   "mimetype": "text/x-python",
   "name": "python",
   "nbconvert_exporter": "python",
   "pygments_lexer": "ipython3",
   "version": "3.8.5"
  }
 },
 "nbformat": 4,
 "nbformat_minor": 4
}
